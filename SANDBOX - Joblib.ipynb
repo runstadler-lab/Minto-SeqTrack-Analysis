{
 "metadata": {
  "name": "",
  "signature": "sha256:a548cd2f60aa86b0ff22456fda3d982fdd7f219a6f5db7c4df2acf93fcf38bbc"
 },
 "nbformat": 3,
 "nbformat_minor": 0,
 "worksheets": [
  {
   "cells": [
    {
     "cell_type": "code",
     "collapsed": false,
     "input": [
      "from joblib import Parallel, delayed"
     ],
     "language": "python",
     "metadata": {},
     "outputs": [],
     "prompt_number": 10
    },
    {
     "cell_type": "code",
     "collapsed": false,
     "input": [
      "x = [[0, 1, {'a': 1}],\n",
      "     [1, 3, {'a': 2}]]\n",
      "\n",
      "def additive_a(edge):\n",
      "    edge[2]['a'] = edge[0] + edge[1]\n",
      "    \n",
      "def subtractive_a(edge):\n",
      "    edge[2]['a'] = edge[0] - edge[1]"
     ],
     "language": "python",
     "metadata": {},
     "outputs": [],
     "prompt_number": 42
    },
    {
     "cell_type": "code",
     "collapsed": false,
     "input": [
      "for edge in x:\n",
      "    subtractive_a(edge)\n",
      "    \n",
      "x"
     ],
     "language": "python",
     "metadata": {},
     "outputs": [
      {
       "metadata": {},
       "output_type": "pyout",
       "prompt_number": 37,
       "text": [
        "[[0, 1, {'a': -1}], [1, 3, {'a': -2}]]"
       ]
      }
     ],
     "prompt_number": 37
    },
    {
     "cell_type": "code",
     "collapsed": false,
     "input": [
      "Parallel(n_jobs=8)(delayed(subtractive_a)(edge) for edge in x)"
     ],
     "language": "python",
     "metadata": {},
     "outputs": [
      {
       "metadata": {},
       "output_type": "pyout",
       "prompt_number": 45,
       "text": [
        "[None, None]"
       ]
      }
     ],
     "prompt_number": 45
    },
    {
     "cell_type": "code",
     "collapsed": false,
     "input": [
      "x"
     ],
     "language": "python",
     "metadata": {},
     "outputs": [
      {
       "metadata": {},
       "output_type": "pyout",
       "prompt_number": 46,
       "text": [
        "[[0, 1, {'a': 1}], [1, 3, {'a': 2}]]"
       ]
      }
     ],
     "prompt_number": 46
    },
    {
     "cell_type": "code",
     "collapsed": false,
     "input": [],
     "language": "python",
     "metadata": {},
     "outputs": []
    }
   ],
   "metadata": {}
  }
 ]
}