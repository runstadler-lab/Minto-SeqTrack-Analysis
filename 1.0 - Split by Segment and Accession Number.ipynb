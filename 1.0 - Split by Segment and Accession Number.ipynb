{
 "metadata": {
  "name": ""
 },
 "nbformat": 3,
 "nbformat_minor": 0,
 "worksheets": [
  {
   "cells": [
    {
     "cell_type": "code",
     "collapsed": false,
     "input": [
      "import pandas as pd\n",
      "from Bio import SeqIO"
     ],
     "language": "python",
     "metadata": {},
     "outputs": [],
     "prompt_number": 1
    },
    {
     "cell_type": "code",
     "collapsed": false,
     "input": [
      "data = pd.read_csv('20140211 Minto and North America Combined.csv', index_col=0).reindex()\n",
      "data.head()"
     ],
     "language": "python",
     "metadata": {},
     "outputs": [
      {
       "html": [
        "<div style=\"max-height:1000px;max-width:1500px;overflow:auto;\">\n",
        "<table border=\"1\" class=\"dataframe\">\n",
        "  <thead>\n",
        "    <tr style=\"text-align: right;\">\n",
        "      <th></th>\n",
        "      <th>Collection Date</th>\n",
        "      <th>Complete Genome</th>\n",
        "      <th>Country</th>\n",
        "      <th>Host Species</th>\n",
        "      <th>Sequence Accession</th>\n",
        "      <th>Sequence Accession2</th>\n",
        "      <th>Sequence Accession3</th>\n",
        "      <th>Sequence Accession4</th>\n",
        "      <th>Sequence Accession5</th>\n",
        "      <th>Sequence Accession6</th>\n",
        "      <th>Sequence Accession7</th>\n",
        "      <th>Sequence Accession8</th>\n",
        "      <th>State/Province</th>\n",
        "      <th>Strain Name</th>\n",
        "      <th>Subtype</th>\n",
        "    </tr>\n",
        "  </thead>\n",
        "  <tbody>\n",
        "    <tr>\n",
        "      <th>0</th>\n",
        "      <td>  1/4/2010</td>\n",
        "      <td> Yes</td>\n",
        "      <td> USA</td>\n",
        "      <td> IRD:Human</td>\n",
        "      <td> KC781898</td>\n",
        "      <td> KC781897</td>\n",
        "      <td> KC781900</td>\n",
        "      <td> KC781903</td>\n",
        "      <td> KC781899</td>\n",
        "      <td> KC780619</td>\n",
        "      <td> KC781902</td>\n",
        "      <td> KC781896</td>\n",
        "      <td> Alabama</td>\n",
        "      <td> A/Alabama/01/2010</td>\n",
        "      <td> H1N1</td>\n",
        "    </tr>\n",
        "    <tr>\n",
        "      <th>1</th>\n",
        "      <td> 4/27/2009</td>\n",
        "      <td> Yes</td>\n",
        "      <td> USA</td>\n",
        "      <td> IRD:Human</td>\n",
        "      <td> GQ200229</td>\n",
        "      <td> GQ894930</td>\n",
        "      <td> GQ200230</td>\n",
        "      <td> GQ894929</td>\n",
        "      <td> GQ894931</td>\n",
        "      <td> GQ323480</td>\n",
        "      <td> GQ457474</td>\n",
        "      <td> GQ168624</td>\n",
        "      <td> Alabama</td>\n",
        "      <td> A/Alabama/02/2009</td>\n",
        "      <td> H1N1</td>\n",
        "    </tr>\n",
        "    <tr>\n",
        "      <th>2</th>\n",
        "      <td>  3/1/2010</td>\n",
        "      <td> Yes</td>\n",
        "      <td> USA</td>\n",
        "      <td> IRD:Human</td>\n",
        "      <td> KC781165</td>\n",
        "      <td> KC781164</td>\n",
        "      <td> KC781166</td>\n",
        "      <td> KC781169</td>\n",
        "      <td> KC781167</td>\n",
        "      <td> KC781168</td>\n",
        "      <td> KC781170</td>\n",
        "      <td> KC781171</td>\n",
        "      <td> Alabama</td>\n",
        "      <td> A/Alabama/03/2010</td>\n",
        "      <td> H1N1</td>\n",
        "    </tr>\n",
        "    <tr>\n",
        "      <th>3</th>\n",
        "      <td>  2/7/2010</td>\n",
        "      <td> Yes</td>\n",
        "      <td> USA</td>\n",
        "      <td> IRD:Human</td>\n",
        "      <td> KC781391</td>\n",
        "      <td> KC781385</td>\n",
        "      <td> KC781392</td>\n",
        "      <td> KC781389</td>\n",
        "      <td> KC781386</td>\n",
        "      <td> KC781387</td>\n",
        "      <td> KC781388</td>\n",
        "      <td> KC781390</td>\n",
        "      <td>  Alaska</td>\n",
        "      <td>  A/Alaska/01/2010</td>\n",
        "      <td> H1N1</td>\n",
        "    </tr>\n",
        "    <tr>\n",
        "      <th>4</th>\n",
        "      <td>  3/1/2011</td>\n",
        "      <td> Yes</td>\n",
        "      <td> USA</td>\n",
        "      <td> IRD:Human</td>\n",
        "      <td> KC883400</td>\n",
        "      <td> KC883401</td>\n",
        "      <td> KC883404</td>\n",
        "      <td> KC883402</td>\n",
        "      <td> KC883403</td>\n",
        "      <td> KC883397</td>\n",
        "      <td> KC883398</td>\n",
        "      <td> KC883399</td>\n",
        "      <td>  Alaska</td>\n",
        "      <td>  A/Alaska/15/2011</td>\n",
        "      <td> H3N2</td>\n",
        "    </tr>\n",
        "  </tbody>\n",
        "</table>\n",
        "<p>5 rows \u00d7 15 columns</p>\n",
        "</div>"
       ],
       "metadata": {},
       "output_type": "pyout",
       "prompt_number": 2,
       "text": [
        "  Collection Date Complete Genome Country Host Species Sequence Accession  \\\n",
        "0        1/4/2010             Yes     USA    IRD:Human           KC781898   \n",
        "1       4/27/2009             Yes     USA    IRD:Human           GQ200229   \n",
        "2        3/1/2010             Yes     USA    IRD:Human           KC781165   \n",
        "3        2/7/2010             Yes     USA    IRD:Human           KC781391   \n",
        "4        3/1/2011             Yes     USA    IRD:Human           KC883400   \n",
        "\n",
        "  Sequence Accession2 Sequence Accession3 Sequence Accession4  \\\n",
        "0            KC781897            KC781900            KC781903   \n",
        "1            GQ894930            GQ200230            GQ894929   \n",
        "2            KC781164            KC781166            KC781169   \n",
        "3            KC781385            KC781392            KC781389   \n",
        "4            KC883401            KC883404            KC883402   \n",
        "\n",
        "  Sequence Accession5 Sequence Accession6 Sequence Accession7  \\\n",
        "0            KC781899            KC780619            KC781902   \n",
        "1            GQ894931            GQ323480            GQ457474   \n",
        "2            KC781167            KC781168            KC781170   \n",
        "3            KC781386            KC781387            KC781388   \n",
        "4            KC883403            KC883397            KC883398   \n",
        "\n",
        "  Sequence Accession8 State/Province        Strain Name Subtype  \n",
        "0            KC781896        Alabama  A/Alabama/01/2010    H1N1  \n",
        "1            GQ168624        Alabama  A/Alabama/02/2009    H1N1  \n",
        "2            KC781171        Alabama  A/Alabama/03/2010    H1N1  \n",
        "3            KC781390         Alaska   A/Alaska/01/2010    H1N1  \n",
        "4            KC883399         Alaska   A/Alaska/15/2011    H3N2  \n",
        "\n",
        "[5 rows x 15 columns]"
       ]
      }
     ],
     "prompt_number": 2
    },
    {
     "cell_type": "code",
     "collapsed": false,
     "input": [
      "sequences = SeqIO.to_dict(SeqIO.parse('20140211 Minto Plus America Combined.fasta', 'fasta'))\n",
      "len(sequences)"
     ],
     "language": "python",
     "metadata": {},
     "outputs": [
      {
       "metadata": {},
       "output_type": "pyout",
       "prompt_number": 3,
       "text": [
        "31403"
       ]
      }
     ],
     "prompt_number": 3
    },
    {
     "cell_type": "code",
     "collapsed": false,
     "input": [
      "segment1 = []\n",
      "segment2 = []\n",
      "segment3 = []\n",
      "segment4 = []\n",
      "segment5 = []\n",
      "segment6 = []\n",
      "segment7 = []\n",
      "segment8 = []\n",
      "\n",
      "for row in data.iterrows():\n",
      "    accession1 = row[1]['Sequence Accession']\n",
      "    accession2 = row[1]['Sequence Accession2']\n",
      "    accession3 = row[1]['Sequence Accession3']\n",
      "    accession4 = row[1]['Sequence Accession4']\n",
      "    accession5 = row[1]['Sequence Accession5']\n",
      "    accession6 = row[1]['Sequence Accession6']\n",
      "    accession7 = row[1]['Sequence Accession7']\n",
      "    accession8 = row[1]['Sequence Accession8']\n",
      "    \n",
      "    segment1.append(sequences[accession1])\n",
      "    segment2.append(sequences[accession2])\n",
      "    segment3.append(sequences[accession3])\n",
      "    segment4.append(sequences[accession4])\n",
      "    segment5.append(sequences[accession5])\n",
      "    segment6.append(sequences[accession6])\n",
      "    segment7.append(sequences[accession7])\n",
      "    segment8.append(sequences[accession8])"
     ],
     "language": "python",
     "metadata": {},
     "outputs": [],
     "prompt_number": 14
    },
    {
     "cell_type": "code",
     "collapsed": false,
     "input": [
      "print len(segment1)\n",
      "print len(segment2)\n",
      "print len(segment3)\n",
      "print len(segment4)\n",
      "print len(segment5)\n",
      "print len(segment6)\n",
      "print len(segment7)\n",
      "print len(segment8)"
     ],
     "language": "python",
     "metadata": {},
     "outputs": [
      {
       "output_type": "stream",
       "stream": "stdout",
       "text": [
        "3484\n",
        "3484\n",
        "3484\n",
        "3484\n",
        "3484\n",
        "3484\n",
        "3484\n",
        "3484\n"
       ]
      }
     ],
     "prompt_number": 15
    },
    {
     "cell_type": "code",
     "collapsed": false,
     "input": [
      "SeqIO.write(segment8, '1.0 - Split FASTA Files/Segment 8.fasta', 'fasta')"
     ],
     "language": "python",
     "metadata": {},
     "outputs": [
      {
       "metadata": {},
       "output_type": "pyout",
       "prompt_number": 16,
       "text": [
        "3484"
       ]
      }
     ],
     "prompt_number": 16
    },
    {
     "cell_type": "code",
     "collapsed": false,
     "input": [],
     "language": "python",
     "metadata": {},
     "outputs": []
    }
   ],
   "metadata": {}
  }
 ]
}