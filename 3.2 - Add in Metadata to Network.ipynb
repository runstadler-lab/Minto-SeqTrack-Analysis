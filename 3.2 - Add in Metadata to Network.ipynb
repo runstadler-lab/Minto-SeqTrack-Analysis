{
 "cells": [
  {
   "cell_type": "code",
   "execution_count": 1,
   "metadata": {
    "collapsed": false
   },
   "outputs": [],
   "source": [
    "import networkx as nx\n",
    "import pandas as pd\n",
    "import numpy as np\n",
    "import math"
   ]
  },
  {
   "cell_type": "code",
   "execution_count": 2,
   "metadata": {
    "collapsed": false
   },
   "outputs": [
    {
     "name": "stdout",
     "output_type": "stream",
     "text": [
      "1787\n"
     ]
    }
   ],
   "source": [
    "G = nx.read_gpickle('Minto_Flats Final Graph.pkl')\n",
    "print(len(G.nodes()))"
   ]
  },
  {
   "cell_type": "code",
   "execution_count": 3,
   "metadata": {
    "collapsed": false
   },
   "outputs": [
    {
     "name": "stdout",
     "output_type": "stream",
     "text": [
      "Collected_by\n",
      "Collection_date\n",
      "Month\n",
      "Day\n",
      "Year\n",
      "Collection_time\n",
      "Age_detail\n",
      "Age_3G\n",
      "Age\n",
      "Sex\n",
      "Mass\n",
      "Head_BM\n",
      "Culmen_BM\n",
      "Total_tarsus_BM\n",
      "Wing_length_ESF\n",
      "Primaries_moult_BTO\n",
      "Location\n",
      "Sub_location\n",
      "Common_name\n",
      "Foraging trait\n",
      "Band\n",
      "Parent_band\n",
      "Species_code\n",
      "Host_code\n",
      "Recap\n",
      "Sample_material\n",
      "RTPCR_2_SampleID\n",
      "RTPCR_2_CT\n",
      "RTPCR_2_result\n",
      "RRTPCR_2_protocol\n",
      "Health_ird\n",
      "Behavior_ird\n",
      "Habitat_ird\n",
      "Capture_status_ird\n",
      "ModifiedBy\n",
      "ModifiedBy.1\n",
      "ModifiedDate\n",
      "ModifiedDate.1\n",
      "Notes\n",
      "sample_id_initial__c\n"
     ]
    }
   ],
   "source": [
    "peggy_data = pd.read_csv('Raw Data/MintoExcel_Peggy_20141204.csv', parse_dates=['Collection_date'], index_col='SampleID')\n",
    "for c in peggy_data.columns:\n",
    "    print(c)"
   ]
  },
  {
   "cell_type": "code",
   "execution_count": 4,
   "metadata": {
    "collapsed": false
   },
   "outputs": [
    {
     "data": {
      "text/plain": [
       "Collected_by                                    10\n",
       "Collection_date                2009-07-23 00:00:00\n",
       "Month                                            7\n",
       "Day                                             23\n",
       "Year                                          2009\n",
       "Collection_time                            8:59 PM\n",
       "Age_detail                                     AHY\n",
       "Age_3G                                         AHY\n",
       "Age                                              A\n",
       "Sex                                              M\n",
       "Mass                                           317\n",
       "Head_BM                                         79\n",
       "Culmen_BM                                      NaN\n",
       "Total_tarsus_BM                                 34\n",
       "Wing_length_ESF                                NaN\n",
       "Primaries_moult_BTO                            NaN\n",
       "Location                    Minto Lakes, Y Lakes W\n",
       "Sub_location                             Y Lakes W\n",
       "Common_name             American Green-winged Teal\n",
       "Foraging trait                             Dabbler\n",
       "Band                                     934-93185\n",
       "Parent_band                                    NaN\n",
       "Species_code                                 10069\n",
       "Host_code                                     3921\n",
       "Recap                                            0\n",
       "Sample_material                                  1\n",
       "RTPCR_2_SampleID                           9BM3611\n",
       "RTPCR_2_CT                                     NaN\n",
       "RTPCR_2_result                                 neg\n",
       "RRTPCR_2_protocol                                4\n",
       "Health_ird                                 healthy\n",
       "Behavior_ird                                  wild\n",
       "Habitat_ird                              migratory\n",
       "Capture_status_ird             active surveillance\n",
       "ModifiedBy                                cgi_read\n",
       "ModifiedBy.1                              cgi_read\n",
       "ModifiedDate                            10/28/2010\n",
       "ModifiedDate.1                          10/28/2010\n",
       "Notes                                          NaN\n",
       "sample_id_initial__c                            M3\n",
       "Name: 9BM3611, dtype: object"
      ]
     },
     "execution_count": 4,
     "metadata": {},
     "output_type": "execute_result"
    }
   ],
   "source": [
    "peggy_data.loc['9BM3611']"
   ]
  },
  {
   "cell_type": "code",
   "execution_count": 5,
   "metadata": {
    "collapsed": false
   },
   "outputs": [
    {
     "name": "stdout",
     "output_type": "stream",
     "text": [
      "Time Class\n",
      "Time Delta\n",
      "Weighting\n",
      "SpeciesTransmission\n",
      "ForagingTransmission\n",
      "FamilyTransmission\n",
      "OrderTransmissionType\n",
      "Subtype\n",
      "Weight\n",
      "5SeasonTransmissions\n",
      "Strain_source\n",
      "Species_Source\n",
      "Foraging_Source\n",
      "Family_Source\n",
      "Order_Source\n",
      "Location_Source\n",
      "State_Source\n",
      "Latitude_Source\n",
      "Longitude_Source\n",
      "SampleID_Source\n",
      "Age_Source\n",
      "CollectionDate_Source\n",
      "Year_Source\n",
      "Day_Source\n",
      "Month_Source\n",
      "JulianDate1900_Source\n",
      "JulianDate365_Source\n",
      "4Season_Source\n",
      "5Season_Source\n",
      "Strain_Sink\n",
      "Species_Sink\n",
      "Foraging_Sink\n",
      "Family_Sink\n",
      "Order_Sink\n",
      "Location_Sink\n",
      "State_Sink\n",
      "Latitude_Sink\n",
      "Longitude_Sink\n",
      "SampleID_Sink\n",
      "Age_sink\n",
      "CollectionDate_Sink\n",
      "JulianDate1900_Sink\n",
      "JulianDate365_Sink\n",
      "Day_Sink\n",
      "Month_Sink\n",
      "Year_Source.1\n",
      "4Season_Sink\n",
      "5Season_Sink\n"
     ]
    }
   ],
   "source": [
    "nichola_data = pd.read_csv('Raw Data/Full Transmissions_20141203.csv', index_col='#')\n",
    "for c in nichola_data.columns:\n",
    "    print(c)"
   ]
  },
  {
   "cell_type": "code",
   "execution_count": 6,
   "metadata": {
    "collapsed": false
   },
   "outputs": [
    {
     "name": "stdout",
     "output_type": "stream",
     "text": [
      "Common Name\n",
      "Band #\n",
      "Web Tag #\n",
      "Nest ID\n",
      "HS Bird ID\n",
      "Species\n",
      "Species1\n",
      "Sex\n",
      "Capture\n",
      "Health\n",
      "Age\n",
      "Age simple\n",
      "Wild or Dom.\n",
      "Habitat\n",
      "Sample Type\n",
      "GPS N\n",
      "GPS W\n",
      "Time\n",
      "Date\n",
      "Month\n",
      "Year\n",
      "Name\n",
      "Location\n",
      "Data Sheet\n",
      "Capture #\n",
      "Banding Date\n",
      "Recap?\n",
      "Ours or Foreign?\n",
      "Category\n",
      "Mass\n",
      "Head\n",
      "Total Tarsus\n",
      "Wing Chord\n",
      "Culmen\n",
      "Grain Index\n",
      "Blood Vial\n",
      "Serum Vial\n",
      "Whole Blood\n",
      "Specific Location\n",
      "Capture Method\n",
      "Vial Notes\n",
      "Marker Notes\n",
      "Notes\n",
      "Paired?\n",
      "Date Shot\n",
      "Time Shot\n",
      "Fecal Quality\n",
      "Fecal Loc\n",
      "Brood ID\n",
      "Hen Band #\n",
      "Wet, Dry, Pipping?\n",
      "Brood Size\n",
      "HEN STATUS?\n",
      "decoy band\n",
      "Cloacal Sample ID\n",
      "Oral Sample ID\n",
      "Notes.1\n"
     ]
    }
   ],
   "source": [
    "brandt_data = pd.read_csv('Raw Data/Minto Flats 520 Sequences.csv', index_col = 'Sample ID')\n",
    "brandt_data['Common Name'] = brandt_data['Common Name'].str.split('(').str[0]\n",
    "for c in brandt_data.columns:\n",
    "    print(c)"
   ]
  },
  {
   "cell_type": "code",
   "execution_count": 7,
   "metadata": {
    "collapsed": false
   },
   "outputs": [
    {
     "data": {
      "text/plain": [
       "'A/mallard/Interior Alaska/9BM3379R0/2009'"
      ]
     },
     "execution_count": 7,
     "metadata": {},
     "output_type": "execute_result"
    }
   ],
   "source": [
    "def get_node(G, name_subset):\n",
    "    for node in G.nodes():\n",
    "        if name_subset in node:\n",
    "            return node\n",
    "        \n",
    "get_node(G, '9BM3379R0')"
   ]
  },
  {
   "cell_type": "code",
   "execution_count": 8,
   "metadata": {
    "collapsed": false
   },
   "outputs": [],
   "source": [
    "# Firstly, we add stuff from Brandt's data.\n",
    "for node in G.nodes():\n",
    "    unique_id = node.split('/')[3]\n",
    "    if 'R' in unique_id:\n",
    "        unique_id = unique_id.split('R')[0]\n",
    "    data_to_add = {'Band #':'band_num', 'Web Tag #':'web_tag', 'Cloacal Sample ID':'cloacal_id', 'Oral Sample ID':'oral_id'}\n",
    "    if unique_id in brandt_data.index:\n",
    "        row = brandt_data.loc[unique_id]\n",
    "        for col, field in data_to_add.items():\n",
    "            if str(row[col]) == 'nan':\n",
    "                G.node[node][field] = None\n",
    "            else:\n",
    "                G.node[node][field] = row[col]\n",
    "    else:\n",
    "        for col, field in data_to_add.items():\n",
    "            G.node[node][field] = None"
   ]
  },
  {
   "cell_type": "code",
   "execution_count": 9,
   "metadata": {
    "collapsed": false
   },
   "outputs": [],
   "source": [
    "# Next, we add stuff from Peggy's data.\n",
    "for node in G.nodes():\n",
    "    unique_id = node.split('/')[3]\n",
    "    data_to_add = {'Band':('band_num', 'web_tag')}\n",
    "    if unique_id in peggy_data.index:\n",
    "        row = peggy_data.loc[unique_id]\n",
    "        for col, field in data_to_add.items():\n",
    "            if str(row[col]) == 'nan':\n",
    "                G.node[node][field[0]] = None\n",
    "                G.node[node][field[1]] = None\n",
    "            else:\n",
    "                if '-' in row[col] and col == 'Band':\n",
    "                    G.node[node][field[0]] = row[col]\n",
    "                if '-' not in row[col] and col == 'Band':\n",
    "                    G.node[node][field[1]] = row[col]"
   ]
  },
  {
   "cell_type": "code",
   "execution_count": 10,
   "metadata": {
    "collapsed": false
   },
   "outputs": [
    {
     "data": {
      "text/plain": [
       "[('A/mallard/Interior Alaska/10BM02980R0/2010',\n",
       "  {'4season': 'Breeding',\n",
       "   '5season': 'Nesting',\n",
       "   'age': 'Nest',\n",
       "   'band_num': None,\n",
       "   'cloacal_id': '10BM02980',\n",
       "   'collection_date': Timestamp('2010-07-02 00:00:00'),\n",
       "   'family': 'Anatidae',\n",
       "   'foraging_type': 'Dabbling',\n",
       "   'host': 'IRD:Avian',\n",
       "   'isolation_date': Timestamp('2010-07-02 00:00:00'),\n",
       "   'julian_1900': 38899.0,\n",
       "   'julian_365': 183,\n",
       "   'latitude': 64.926599999999993,\n",
       "   'longitude': -148.74922000000001,\n",
       "   'oral_id': '10BM02981',\n",
       "   'order': 'Anseriformes',\n",
       "   'sample_id': '10BM02980',\n",
       "   'species': 'mallard',\n",
       "   'state': 'Interior Alaska',\n",
       "   'subtype': 'H9N2',\n",
       "   'web_tag': 2118.0})]"
      ]
     },
     "execution_count": 10,
     "metadata": {},
     "output_type": "execute_result"
    }
   ],
   "source": [
    "[(n, d) for n, d in G.nodes(data=True) if d['web_tag'] == 2118]"
   ]
  },
  {
   "cell_type": "code",
   "execution_count": 11,
   "metadata": {
    "collapsed": false
   },
   "outputs": [],
   "source": [
    "# Finally, add in Nichola's data\n",
    "node_data_to_add = {'Species_Source':'species',\n",
    "                    'Foraging_Source':'foraging_type',\n",
    "                    'Family_Source':'family',\n",
    "                    'Order_Source':'order',\n",
    "                    'Location_Source':'state',\n",
    "                    'Latitude_Source':'latitude',\n",
    "                    'Longitude_Source':'longitude',\n",
    "                    'Age_Source':'age',\n",
    "                    'SampleID_Source':'sample_id',\n",
    "                    'JulianDate1900_Source':'julian_1900',\n",
    "                    'JulianDate365_Source':'julian_365',\n",
    "                    '4Season_Source':'4season',\n",
    "                    '5Season_Source':'5season',\n",
    "                    \n",
    "                    'Species_Sink':'species',\n",
    "                    'Foraging_Sink':'foraging_type',\n",
    "                    'Family_Sink':'family',\n",
    "                    'Order_Sink':'order',\n",
    "                    'Location_Sink':'state',\n",
    "                    'Latitude_Sink':'latitude',\n",
    "                    'Longitude_Sink':'longitude',\n",
    "                    'Age_sink':'age',\n",
    "                    'SampleID_Sink':'sample_id',\n",
    "                    'JulianDate1900_Sink':'julian_1900',\n",
    "                    'JulianDate365_Sink':'julian_365',\n",
    "                    '4Season_Sink':'4season',\n",
    "                    '5Season_Sink':'5season',}\n",
    "\n",
    "# for node in G.nodes():\n",
    "#     row = "
   ]
  },
  {
   "cell_type": "code",
   "execution_count": 12,
   "metadata": {
    "collapsed": false
   },
   "outputs": [
    {
     "name": "stderr",
     "output_type": "stream",
     "text": [
      "/Users/ericmjl/anaconda/envs/py27/lib/python2.7/site-packages/numpy/lib/arraysetops.py:198: FutureWarning: numpy not_equal will not check object identity in the future. The comparison did not return the same result as suggested by the identity (`is`)) and will change.\n",
      "  flag = np.concatenate(([True], aux[1:] != aux[:-1]))\n"
     ]
    },
    {
     "data": {
      "text/plain": [
       "{'4season': 'Breeding',\n",
       " '5season': 'Nesting',\n",
       " 'age': 'Nest',\n",
       " 'band_num': None,\n",
       " 'cloacal_id': '10BM02980',\n",
       " 'collection_date': Timestamp('2010-07-02 00:00:00'),\n",
       " 'family': 'Anatidae',\n",
       " 'foraging_type': 'Dabbling',\n",
       " 'host': 'IRD:Avian',\n",
       " 'isolation_date': Timestamp('2010-07-02 00:00:00'),\n",
       " 'julian_1900': 38899.0,\n",
       " 'julian_365': 183,\n",
       " 'latitude': 64.926599999999993,\n",
       " 'longitude': -148.74922000000001,\n",
       " 'oral_id': '10BM02981',\n",
       " 'order': 'Anseriformes',\n",
       " 'sample_id': '10BM02980',\n",
       " 'species': 'mallard',\n",
       " 'state': 'Interior Alaska',\n",
       " 'subtype': 'H9N2',\n",
       " 'web_tag': 2118.0}"
      ]
     },
     "execution_count": 12,
     "metadata": {},
     "output_type": "execute_result"
    }
   ],
   "source": [
    "for strain, data in nichola_data.groupby('Strain_source'):\n",
    "    for col in data.columns:\n",
    "        if '_Source' in col and col in node_data_to_add.keys():\n",
    "            G.node[strain][node_data_to_add[col]] = np.unique(data[col].values)[0]\n",
    "for strain, data in nichola_data.groupby('Strain_Sink'):\n",
    "    for col in data.columns:\n",
    "        if '_Sink' in col and col in node_data_to_add.keys():\n",
    "            G.node[strain][node_data_to_add[col]] = np.unique(data[col].values)[0]\n",
    "\n",
    "\n",
    "G.node[get_node(G, '10BM02980R0')]"
   ]
  },
  {
   "cell_type": "code",
   "execution_count": 14,
   "metadata": {
    "collapsed": false
   },
   "outputs": [],
   "source": [
    "edge_data = {'SpeciesTransmission':'species_transmission',\n",
    "             'ForagingTransmission': 'foraging_transmission',\n",
    "             'FamilyTransmission':'family_transmission',\n",
    "             'OrderTransmissionType':'order_transmission',\n",
    "             '5SeasonTransmissions':'5season_transmission',\n",
    "             'Weighting':'weighting_timedelta'}\n",
    "\n",
    "for (source, sink), data in nichola_data.groupby(['Strain_source', 'Strain_Sink']):\n",
    "    for col in data.columns:\n",
    "        if col in edge_data.keys() and sink in G.edge[source].keys():\n",
    "            G.edge[source][sink][edge_data[col]] = np.unique(data[col].values)[0]"
   ]
  },
  {
   "cell_type": "code",
   "execution_count": 15,
   "metadata": {
    "collapsed": false
   },
   "outputs": [
    {
     "ename": "KeyError",
     "evalue": "('A/shorebird/Delaware Bay/331/2008', 'A/northern pintail/Interior Alaska/10BM02561R0/2010')",
     "output_type": "error",
     "traceback": [
      "\u001b[0;31m---------------------------------------------------------------------------\u001b[0m",
      "\u001b[0;31mKeyError\u001b[0m                                  Traceback (most recent call last)",
      "\u001b[0;32m<ipython-input-15-8a39036b45e0>\u001b[0m in \u001b[0;36m<module>\u001b[0;34m()\u001b[0m\n\u001b[1;32m      2\u001b[0m \u001b[0;32mfor\u001b[0m \u001b[0msc\u001b[0m\u001b[0;34m,\u001b[0m \u001b[0msk\u001b[0m\u001b[0;34m,\u001b[0m \u001b[0md\u001b[0m \u001b[0;32min\u001b[0m \u001b[0mG\u001b[0m\u001b[0;34m.\u001b[0m\u001b[0medges\u001b[0m\u001b[0;34m(\u001b[0m\u001b[0mdata\u001b[0m\u001b[0;34m=\u001b[0m\u001b[0mTrue\u001b[0m\u001b[0;34m)\u001b[0m\u001b[0;34m:\u001b[0m\u001b[0;34m\u001b[0m\u001b[0m\n\u001b[1;32m      3\u001b[0m     \u001b[0;32mfor\u001b[0m \u001b[0mcol\u001b[0m\u001b[0;34m,\u001b[0m \u001b[0mfield\u001b[0m \u001b[0;32min\u001b[0m \u001b[0medge_data\u001b[0m\u001b[0;34m.\u001b[0m\u001b[0mitems\u001b[0m\u001b[0;34m(\u001b[0m\u001b[0;34m)\u001b[0m\u001b[0;34m:\u001b[0m\u001b[0;34m\u001b[0m\u001b[0m\n\u001b[0;32m----> 4\u001b[0;31m         \u001b[0mG\u001b[0m\u001b[0;34m.\u001b[0m\u001b[0medge\u001b[0m\u001b[0;34m[\u001b[0m\u001b[0msc\u001b[0m\u001b[0;34m]\u001b[0m\u001b[0;34m[\u001b[0m\u001b[0msk\u001b[0m\u001b[0;34m]\u001b[0m\u001b[0;34m[\u001b[0m\u001b[0mfield\u001b[0m\u001b[0;34m]\u001b[0m \u001b[0;34m=\u001b[0m \u001b[0mnichola_data\u001b[0m\u001b[0;34m.\u001b[0m\u001b[0mset_index\u001b[0m\u001b[0;34m(\u001b[0m\u001b[0;34m[\u001b[0m\u001b[0;34m'Strain_source'\u001b[0m\u001b[0;34m,\u001b[0m \u001b[0;34m'Strain_Sink'\u001b[0m\u001b[0;34m]\u001b[0m\u001b[0;34m)\u001b[0m\u001b[0;34m.\u001b[0m\u001b[0mloc\u001b[0m\u001b[0;34m[\u001b[0m\u001b[0;34m(\u001b[0m\u001b[0msc\u001b[0m\u001b[0;34m,\u001b[0m \u001b[0msk\u001b[0m\u001b[0;34m)\u001b[0m\u001b[0;34m]\u001b[0m\u001b[0;34m[\u001b[0m\u001b[0mcol\u001b[0m\u001b[0;34m]\u001b[0m\u001b[0;34m\u001b[0m\u001b[0m\n\u001b[0m",
      "\u001b[0;32m/Users/ericmjl/anaconda/envs/py27/lib/python2.7/site-packages/pandas/core/indexing.pyc\u001b[0m in \u001b[0;36m__getitem__\u001b[0;34m(self, key)\u001b[0m\n\u001b[1;32m   1213\u001b[0m     \u001b[0;32mdef\u001b[0m \u001b[0m__getitem__\u001b[0m\u001b[0;34m(\u001b[0m\u001b[0mself\u001b[0m\u001b[0;34m,\u001b[0m \u001b[0mkey\u001b[0m\u001b[0;34m)\u001b[0m\u001b[0;34m:\u001b[0m\u001b[0;34m\u001b[0m\u001b[0m\n\u001b[1;32m   1214\u001b[0m         \u001b[0;32mif\u001b[0m \u001b[0mtype\u001b[0m\u001b[0;34m(\u001b[0m\u001b[0mkey\u001b[0m\u001b[0;34m)\u001b[0m \u001b[0;32mis\u001b[0m \u001b[0mtuple\u001b[0m\u001b[0;34m:\u001b[0m\u001b[0;34m\u001b[0m\u001b[0m\n\u001b[0;32m-> 1215\u001b[0;31m             \u001b[0;32mreturn\u001b[0m \u001b[0mself\u001b[0m\u001b[0;34m.\u001b[0m\u001b[0m_getitem_tuple\u001b[0m\u001b[0;34m(\u001b[0m\u001b[0mkey\u001b[0m\u001b[0;34m)\u001b[0m\u001b[0;34m\u001b[0m\u001b[0m\n\u001b[0m\u001b[1;32m   1216\u001b[0m         \u001b[0;32melse\u001b[0m\u001b[0;34m:\u001b[0m\u001b[0;34m\u001b[0m\u001b[0m\n\u001b[1;32m   1217\u001b[0m             \u001b[0;32mreturn\u001b[0m \u001b[0mself\u001b[0m\u001b[0;34m.\u001b[0m\u001b[0m_getitem_axis\u001b[0m\u001b[0;34m(\u001b[0m\u001b[0mkey\u001b[0m\u001b[0;34m,\u001b[0m \u001b[0maxis\u001b[0m\u001b[0;34m=\u001b[0m\u001b[0;36m0\u001b[0m\u001b[0;34m)\u001b[0m\u001b[0;34m\u001b[0m\u001b[0m\n",
      "\u001b[0;32m/Users/ericmjl/anaconda/envs/py27/lib/python2.7/site-packages/pandas/core/indexing.pyc\u001b[0m in \u001b[0;36m_getitem_tuple\u001b[0;34m(self, tup)\u001b[0m\n\u001b[1;32m    693\u001b[0m     \u001b[0;32mdef\u001b[0m \u001b[0m_getitem_tuple\u001b[0m\u001b[0;34m(\u001b[0m\u001b[0mself\u001b[0m\u001b[0;34m,\u001b[0m \u001b[0mtup\u001b[0m\u001b[0;34m)\u001b[0m\u001b[0;34m:\u001b[0m\u001b[0;34m\u001b[0m\u001b[0m\n\u001b[1;32m    694\u001b[0m         \u001b[0;32mtry\u001b[0m\u001b[0;34m:\u001b[0m\u001b[0;34m\u001b[0m\u001b[0m\n\u001b[0;32m--> 695\u001b[0;31m             \u001b[0;32mreturn\u001b[0m \u001b[0mself\u001b[0m\u001b[0;34m.\u001b[0m\u001b[0m_getitem_lowerdim\u001b[0m\u001b[0;34m(\u001b[0m\u001b[0mtup\u001b[0m\u001b[0;34m)\u001b[0m\u001b[0;34m\u001b[0m\u001b[0m\n\u001b[0m\u001b[1;32m    696\u001b[0m         \u001b[0;32mexcept\u001b[0m \u001b[0mIndexingError\u001b[0m\u001b[0;34m:\u001b[0m\u001b[0;34m\u001b[0m\u001b[0m\n\u001b[1;32m    697\u001b[0m             \u001b[0;32mpass\u001b[0m\u001b[0;34m\u001b[0m\u001b[0m\n",
      "\u001b[0;32m/Users/ericmjl/anaconda/envs/py27/lib/python2.7/site-packages/pandas/core/indexing.pyc\u001b[0m in \u001b[0;36m_getitem_lowerdim\u001b[0;34m(self, tup)\u001b[0m\n\u001b[1;32m    806\u001b[0m         \u001b[0max0\u001b[0m \u001b[0;34m=\u001b[0m \u001b[0mself\u001b[0m\u001b[0;34m.\u001b[0m\u001b[0mobj\u001b[0m\u001b[0;34m.\u001b[0m\u001b[0m_get_axis\u001b[0m\u001b[0;34m(\u001b[0m\u001b[0;36m0\u001b[0m\u001b[0;34m)\u001b[0m\u001b[0;34m\u001b[0m\u001b[0m\n\u001b[1;32m    807\u001b[0m         \u001b[0;32mif\u001b[0m \u001b[0misinstance\u001b[0m\u001b[0;34m(\u001b[0m\u001b[0max0\u001b[0m\u001b[0;34m,\u001b[0m \u001b[0mMultiIndex\u001b[0m\u001b[0;34m)\u001b[0m\u001b[0;34m:\u001b[0m\u001b[0;34m\u001b[0m\u001b[0m\n\u001b[0;32m--> 808\u001b[0;31m             \u001b[0mresult\u001b[0m \u001b[0;34m=\u001b[0m \u001b[0mself\u001b[0m\u001b[0;34m.\u001b[0m\u001b[0m_handle_lowerdim_multi_index_axis0\u001b[0m\u001b[0;34m(\u001b[0m\u001b[0mtup\u001b[0m\u001b[0;34m)\u001b[0m\u001b[0;34m\u001b[0m\u001b[0m\n\u001b[0m\u001b[1;32m    809\u001b[0m             \u001b[0;32mif\u001b[0m \u001b[0mresult\u001b[0m \u001b[0;32mis\u001b[0m \u001b[0;32mnot\u001b[0m \u001b[0mNone\u001b[0m\u001b[0;34m:\u001b[0m\u001b[0;34m\u001b[0m\u001b[0m\n\u001b[1;32m    810\u001b[0m                 \u001b[0;32mreturn\u001b[0m \u001b[0mresult\u001b[0m\u001b[0;34m\u001b[0m\u001b[0m\n",
      "\u001b[0;32m/Users/ericmjl/anaconda/envs/py27/lib/python2.7/site-packages/pandas/core/indexing.pyc\u001b[0m in \u001b[0;36m_handle_lowerdim_multi_index_axis0\u001b[0;34m(self, tup)\u001b[0m\n\u001b[1;32m    788\u001b[0m             \u001b[0max0\u001b[0m \u001b[0;34m=\u001b[0m \u001b[0mself\u001b[0m\u001b[0;34m.\u001b[0m\u001b[0mobj\u001b[0m\u001b[0;34m.\u001b[0m\u001b[0m_get_axis\u001b[0m\u001b[0;34m(\u001b[0m\u001b[0;36m0\u001b[0m\u001b[0;34m)\u001b[0m\u001b[0;34m\u001b[0m\u001b[0m\n\u001b[1;32m    789\u001b[0m             \u001b[0;32mif\u001b[0m \u001b[0;32mnot\u001b[0m \u001b[0max0\u001b[0m\u001b[0;34m.\u001b[0m\u001b[0mis_lexsorted_for_tuple\u001b[0m\u001b[0;34m(\u001b[0m\u001b[0mtup\u001b[0m\u001b[0;34m)\u001b[0m\u001b[0;34m:\u001b[0m\u001b[0;34m\u001b[0m\u001b[0m\n\u001b[0;32m--> 790\u001b[0;31m                 \u001b[0;32mraise\u001b[0m \u001b[0me1\u001b[0m\u001b[0;34m\u001b[0m\u001b[0m\n\u001b[0m\u001b[1;32m    791\u001b[0m \u001b[0;34m\u001b[0m\u001b[0m\n\u001b[1;32m    792\u001b[0m         \u001b[0;32mreturn\u001b[0m \u001b[0mNone\u001b[0m\u001b[0;34m\u001b[0m\u001b[0m\n",
      "\u001b[0;31mKeyError\u001b[0m: ('A/shorebird/Delaware Bay/331/2008', 'A/northern pintail/Interior Alaska/10BM02561R0/2010')"
     ]
    }
   ],
   "source": [
    "# Add in edge data\n",
    "for sc, sk, d in G.edges(data=True):\n",
    "    for col, field in edge_data.items():\n",
    "        G.edge[sc][sk][field] = nichola_data.set_index(['Strain_source', 'Strain_Sink']).loc[(sc, sk)][col]"
   ]
  },
  {
   "cell_type": "code",
   "execution_count": 147,
   "metadata": {
    "collapsed": false
   },
   "outputs": [
    {
     "data": {
      "text/plain": [
       "{'5season_transmission': 'Nesting-Fledge',\n",
       " 'family_transmission': 'Intrafamily',\n",
       " 'foraging_transmission': 'Intraforaging',\n",
       " 'order_transmission': 'Intra-Order',\n",
       " 'species_transmission': 'Intraspecies',\n",
       " 'time_delta': datetime.timedelta(3),\n",
       " 'tr_timeclass': 'Direct Transmission',\n",
       " 'trtype': 'Inter-Species',\n",
       " 'weight': 7.999414999999999,\n",
       " 'weighting_timedelta': 0.5}"
      ]
     },
     "execution_count": 147,
     "metadata": {},
     "output_type": "execute_result"
    }
   ],
   "source": [
    "G.edge['A/American green-winged teal/Interior Alaska/10BM07000R0/2010']['A/American green-winged teal/Interior Alaska/10BM07863R0/2010']"
   ]
  },
  {
   "cell_type": "code",
   "execution_count": 148,
   "metadata": {
    "collapsed": false
   },
   "outputs": [],
   "source": [
    "nx.write_gpickle(G, 'Minto Flats Network with Metadata.pkl')"
   ]
  },
  {
   "cell_type": "code",
   "execution_count": 66,
   "metadata": {
    "collapsed": false
   },
   "outputs": [],
   "source": []
  },
  {
   "cell_type": "code",
   "execution_count": null,
   "metadata": {
    "collapsed": false
   },
   "outputs": [],
   "source": []
  }
 ],
 "metadata": {
  "kernelspec": {
   "display_name": "Python 2",
   "language": "python",
   "name": "python2"
  },
  "language_info": {
   "codemirror_mode": {
    "name": "ipython",
    "version": 2
   },
   "file_extension": ".py",
   "mimetype": "text/x-python",
   "name": "python",
   "nbconvert_exporter": "python",
   "pygments_lexer": "ipython2",
   "version": "2.7.9"
  }
 },
 "nbformat": 4,
 "nbformat_minor": 0
}
