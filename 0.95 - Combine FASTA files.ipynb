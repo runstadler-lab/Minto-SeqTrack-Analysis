{
 "metadata": {
  "name": ""
 },
 "nbformat": 3,
 "nbformat_minor": 0,
 "worksheets": [
  {
   "cells": [
    {
     "cell_type": "code",
     "collapsed": false,
     "input": [
      "from Bio import SeqIO"
     ],
     "language": "python",
     "metadata": {},
     "outputs": [],
     "prompt_number": 1
    },
    {
     "cell_type": "code",
     "collapsed": false,
     "input": [
      "america = SeqIO.to_dict(SeqIO.parse('Raw Data/20140206 Minto Plus America.fasta', 'fasta'))\n",
      "print len(america)\n",
      "minto1 = SeqIO.to_dict(SeqIO.parse('Raw Data/20140206 Minto Flats IRD Isolates.fasta', 'fasta'))\n",
      "minto2 = SeqIO.to_dict(SeqIO.parse('Raw Data/20140206 Minto Flats IRD Leftover Sequences.fasta', 'fasta'))"
     ],
     "language": "python",
     "metadata": {},
     "outputs": [
      {
       "output_type": "stream",
       "stream": "stdout",
       "text": [
        "30048\n"
       ]
      }
     ],
     "prompt_number": 7
    },
    {
     "cell_type": "code",
     "collapsed": false,
     "input": [
      "for key in minto1:\n",
      "    if key not in america.keys():\n",
      "        america[key] = minto1[key]\n",
      "        \n",
      "for key in minto2:\n",
      "    if key not in america.keys():\n",
      "        america[key] = minto2[key]"
     ],
     "language": "python",
     "metadata": {},
     "outputs": [],
     "prompt_number": 8
    },
    {
     "cell_type": "code",
     "collapsed": false,
     "input": [
      "len(america)"
     ],
     "language": "python",
     "metadata": {},
     "outputs": [
      {
       "metadata": {},
       "output_type": "pyout",
       "prompt_number": 9,
       "text": [
        "31403"
       ]
      }
     ],
     "prompt_number": 9
    },
    {
     "cell_type": "code",
     "collapsed": false,
     "input": [
      "americalist = [america[key] for key in america]\n",
      "len(americalist)"
     ],
     "language": "python",
     "metadata": {},
     "outputs": [
      {
       "metadata": {},
       "output_type": "pyout",
       "prompt_number": 11,
       "text": [
        "31403"
       ]
      }
     ],
     "prompt_number": 11
    },
    {
     "cell_type": "code",
     "collapsed": false,
     "input": [
      "SeqIO.write(americalist, '20140211 Minto Plus America Combined.fasta', 'fasta')"
     ],
     "language": "python",
     "metadata": {},
     "outputs": [
      {
       "metadata": {},
       "output_type": "pyout",
       "prompt_number": 12,
       "text": [
        "31403"
       ]
      }
     ],
     "prompt_number": 12
    },
    {
     "cell_type": "code",
     "collapsed": false,
     "input": [],
     "language": "python",
     "metadata": {},
     "outputs": []
    }
   ],
   "metadata": {}
  }
 ]
}