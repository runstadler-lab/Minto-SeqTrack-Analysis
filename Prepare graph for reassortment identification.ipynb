{
 "cells": [
  {
   "cell_type": "code",
   "execution_count": 1,
   "metadata": {
    "collapsed": true
   },
   "outputs": [],
   "source": [
    "import networkx as nx"
   ]
  },
  {
   "cell_type": "code",
   "execution_count": 2,
   "metadata": {
    "collapsed": false
   },
   "outputs": [
    {
     "data": {
      "text/plain": [
       "('A/shorebird/Delaware Bay/331/2008',\n",
       " {'band_num': None,\n",
       "  'cloacal_id': None,\n",
       "  'host': 'IRD:Shorebird/Avian',\n",
       "  'isolation_date': Timestamp('2008-05-17 00:00:00'),\n",
       "  'oral_id': None,\n",
       "  'state': 'Delaware',\n",
       "  'subtype': '(N6)',\n",
       "  'web_tag': None})"
      ]
     },
     "execution_count": 2,
     "metadata": {},
     "output_type": "execute_result"
    }
   ],
   "source": [
    "G = nx.read_gpickle('Minto Flats Network with Metadata.pkl')\n",
    "G.nodes(data=True)[0]"
   ]
  },
  {
   "cell_type": "code",
   "execution_count": 3,
   "metadata": {
    "collapsed": false
   },
   "outputs": [
    {
     "data": {
      "text/plain": [
       "('A/American black duck/Wisconsin/11OS3191/2011',\n",
       " 'A/mallard/Wisconsin/11OS3170/2011',\n",
       " {'5season_transmission': 'Fall-Fall',\n",
       "  'family_transmission': 'Intrafamily',\n",
       "  'foraging_transmission': 'Intraforaging',\n",
       "  'order_transmission': 'Intra-Order',\n",
       "  'species_transmission': 'Interspecies',\n",
       "  'time_delta': datetime.timedelta(0),\n",
       "  'tr_timeclass': 'Direct Transmission',\n",
       "  'trtype': 'Inter-Species',\n",
       "  'weight': 7.962964,\n",
       "  'weighting_timedelta': 0.5})"
      ]
     },
     "execution_count": 3,
     "metadata": {},
     "output_type": "execute_result"
    }
   ],
   "source": [
    "G.edges(data=True)[0]"
   ]
  },
  {
   "cell_type": "code",
   "execution_count": 32,
   "metadata": {
    "collapsed": false
   },
   "outputs": [],
   "source": [
    "# Modifications to the fields begin here.\n",
    "# The \"weight\" field should be \"pwi\" field. \n",
    "for sc, sk, d in G.edges(data=True):\n",
    "    G.edge[sc][sk]['pwi'] = d['weight']\n",
    "\n",
    "for n, d in G.nodes(data=True):\n",
    "    G.node[n]['collection_date'] = d['isolation_date']"
   ]
  },
  {
   "cell_type": "code",
   "execution_count": 33,
   "metadata": {
    "collapsed": false
   },
   "outputs": [],
   "source": [
    "nx.write_gpickle(G, 'Minto_Flats Full Complement Graph.pkl')"
   ]
  },
  {
   "cell_type": "code",
   "execution_count": 34,
   "metadata": {
    "collapsed": true
   },
   "outputs": [],
   "source": [
    "# Create a version of the graph that is \"initialized\" - that is, without edges.\n",
    "cleanedG = G.copy()\n",
    "cleanedG.remove_edges_from(G.edges())\n",
    "nx.write_gpickle(cleanedG, 'Minto_Flats Initialized Graph.pkl')"
   ]
  },
  {
   "cell_type": "code",
   "execution_count": 31,
   "metadata": {
    "collapsed": false
   },
   "outputs": [
    {
     "data": {
      "text/plain": [
       "('A/shorebird/Delaware Bay/331/2008',\n",
       " {'band_num': None,\n",
       "  'cloacal_id': None,\n",
       "  'host': 'IRD:Shorebird/Avian',\n",
       "  'isolation_date': Timestamp('2008-05-17 00:00:00'),\n",
       "  'oral_id': None,\n",
       "  'state': 'Delaware',\n",
       "  'subtype': '(N6)',\n",
       "  'web_tag': None})"
      ]
     },
     "execution_count": 31,
     "metadata": {},
     "output_type": "execute_result"
    }
   ],
   "source": [
    "cleanedG.nodes(data=True)[0]"
   ]
  },
  {
   "cell_type": "code",
   "execution_count": 36,
   "metadata": {
    "collapsed": false
   },
   "outputs": [],
   "source": [
    "# Need to convert segment affmats into a single .h5 store. Also need to convert accession numbers into strain names.\n",
    "import pandas as pd\n",
    "data = pd.read_csv('Raw Data/20140211 Minto and North America Combined Dates Cleaned.csv', index_col=0, parse_dates=['Collection Date']).reindex()\n",
    "\n",
    "# Create a dictionary of accession to strain name.\n",
    "for i in range(1,9):\n",
    "    df = pd.read_csv('2.1 - Segment Transmission/Segment {0} Transmissions.csv'.format(i), index_col='Strain Name')\n",
    "#     if i == 1:\n",
    "#         accession_strain = dict(zip(data['Sequence Accession'], data['Strain Name']))\n",
    "#     else:\n",
    "#         accession_strain = dict(zip(data['Sequence Accession{0}'.format(i)], data['Strain Name']))\n",
    "#     /df['0'] = df['0'].apply(lambda x: accession_strain[x])\n",
    "#     df.set_index('0', inplace=True)\n",
    "#     df.columns = df.index\n",
    "    \n",
    "    df.to_hdf('Minto_Flats Segment Affmats.h5', mode='a', key='segment{0}'.format(i))\n",
    "    "
   ]
  },
  {
   "cell_type": "code",
   "execution_count": null,
   "metadata": {
    "collapsed": true
   },
   "outputs": [],
   "source": []
  }
 ],
 "metadata": {
  "kernelspec": {
   "display_name": "Python 2",
   "language": "python",
   "name": "python2"
  },
  "language_info": {
   "codemirror_mode": {
    "name": "ipython",
    "version": 2
   },
   "file_extension": ".py",
   "mimetype": "text/x-python",
   "name": "python",
   "nbconvert_exporter": "python",
   "pygments_lexer": "ipython2",
   "version": "2.7.9"
  }
 },
 "nbformat": 4,
 "nbformat_minor": 0
}
