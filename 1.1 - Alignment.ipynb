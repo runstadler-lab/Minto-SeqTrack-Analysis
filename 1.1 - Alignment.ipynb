{
 "metadata": {
  "name": "",
  "signature": "sha256:3154d40e0dee762eb71f8a097d79fd8af1d45eb6417f0df36f006fc6fddb2432"
 },
 "nbformat": 3,
 "nbformat_minor": 0,
 "worksheets": [
  {
   "cells": [
    {
     "cell_type": "code",
     "collapsed": false,
     "input": [
      "from Bio.Align.Applications import ClustalOmegaCommandline\n",
      "from joblib import Parallel, delayed"
     ],
     "language": "python",
     "metadata": {},
     "outputs": [],
     "prompt_number": 1
    },
    {
     "cell_type": "code",
     "collapsed": false,
     "input": [
      "segments = range(1, 9)\n",
      "segments.reverse()\n",
      "segments"
     ],
     "language": "python",
     "metadata": {},
     "outputs": [
      {
       "metadata": {},
       "output_type": "pyout",
       "prompt_number": 2,
       "text": [
        "[8, 7, 6, 5, 4, 3, 2, 1]"
       ]
      }
     ],
     "prompt_number": 2
    },
    {
     "cell_type": "code",
     "collapsed": false,
     "input": [
      "def align(segment):\n",
      "    in_file = '1.0 - Split FASTA Files/Segment %d.fasta' % segment\n",
      "    out_file = '1.1 - Aligned FASTA Files/Segment %d Aligned.fasta' % segment\n",
      "    distmat = '1.1 - Distmats/Segment %d Distmat.fasta' % segment\n",
      "    \n",
      "    cline = ClustalOmegaCommandline(infile=in_file, \n",
      "                                    outfile=out_file, \n",
      "                                    distmat_out=distmat, \n",
      "                                    distmat_full=True, \n",
      "                                    verbose=True,\n",
      "                                    force=True)\n",
      "    print cline\n",
      "    cline()"
     ],
     "language": "python",
     "metadata": {},
     "outputs": [],
     "prompt_number": 5
    },
    {
     "cell_type": "code",
     "collapsed": false,
     "input": [
      "results = Parallel(n_jobs=4)(delayed(align)(segment) for segment in segments)"
     ],
     "language": "python",
     "metadata": {},
     "outputs": [
      {
       "output_type": "stream",
       "stream": "stdout",
       "text": [
        "clustalo -i \"1.0 - Split FASTA Files/Segment 8.fasta\" --distmat-out \"1.1 - Distmats/Segment 8 Distmat.fasta\" --full -o \"1.1 - Aligned FASTA Files/Segment 8 Aligned.fasta\" -v --force\n",
        "clustalo -i \"1.0 - Split FASTA Files/Segment 6.fasta\" --distmat-out \"1.1 - Distmats/Segment 6 Distmat.fasta\" --full -o \"1.1 - Aligned FASTA Files/Segment 6 Aligned.fasta\" -v --force\n",
        "clustalo -i \"1.0 - Split FASTA Files/Segment 7.fasta\" --distmat-out \"1.1 - Distmats/Segment 7 Distmat.fasta\" --full -o \"1.1 - Aligned FASTA Files/Segment 7 Aligned.fasta\" -v --force\n",
        "clustalo -i \"1.0 - Split FASTA Files/Segment 5.fasta\" --distmat-out \"1.1 - Distmats/Segment 5 Distmat.fasta\" --full -o \"1.1 - Aligned FASTA Files/Segment 5 Aligned.fasta\" -v --force\n",
        "clustalo -i \"1.0 - Split FASTA Files/Segment 4.fasta\" --distmat-out \"1.1 - Distmats/Segment 4 Distmat.fasta\" --full -o \"1.1 - Aligned FASTA Files/Segment 4 Aligned.fasta\" -v --forceclustalo -i \"1.0 - Split FASTA Files/Segment 2.fasta\" --distmat-out \"1.1 - Distmats/Segment 2 Distmat.fasta\" --full -o \"1.1 - Aligned FASTA Files/Segment 2 Aligned.fasta\" -v --forceclustalo -i \"1.0 - Split FASTA Files/Segment 3.fasta\" --distmat-out \"1.1 - Distmats/Segment 3 Distmat.fasta\" --full -o \"1.1 - Aligned FASTA Files/Segment 3 Aligned.fasta\" -v --forceclustalo -i \"1.0 - Split FASTA Files/Segment 1.fasta\" --distmat-out \"1.1 - Distmats/Segment 1 Distmat.fasta\" --full -o \"1.1 - Aligned FASTA Files/Segment 1 Aligned.fasta\" -v --force\n",
        "\n",
        "\n",
        "\n"
       ]
      }
     ],
     "prompt_number": 6
    },
    {
     "cell_type": "code",
     "collapsed": false,
     "input": [],
     "language": "python",
     "metadata": {},
     "outputs": []
    }
   ],
   "metadata": {}
  }
 ]
}