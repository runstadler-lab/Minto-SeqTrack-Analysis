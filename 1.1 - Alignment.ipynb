{
 "metadata": {
  "name": "",
  "signature": "sha256:bbb8105e836d968c94092de3e00d49cf76d705bb723de6046972ba07263aced6"
 },
 "nbformat": 3,
 "nbformat_minor": 0,
 "worksheets": [
  {
   "cells": [
    {
     "cell_type": "code",
     "collapsed": false,
     "input": [
      "from Bio.Align.Applications import ClustalOmegaCommandline\n",
      "from joblib import Parallel, delayed"
     ],
     "language": "python",
     "metadata": {},
     "outputs": [],
     "prompt_number": 1
    },
    {
     "cell_type": "code",
     "collapsed": false,
     "input": [
      "segments = range(1, 9)\n",
      "segments.reverse()\n",
      "segments"
     ],
     "language": "python",
     "metadata": {},
     "outputs": [
      {
       "metadata": {},
       "output_type": "pyout",
       "prompt_number": 2,
       "text": [
        "[8, 7, 6, 5, 4, 3, 2, 1]"
       ]
      }
     ],
     "prompt_number": 2
    },
    {
     "cell_type": "code",
     "collapsed": false,
     "input": [
      "def align(segment):\n",
      "    in_file = '1.0 - Split FASTA Files/Segment %s.fasta' % segment\n",
      "    out_file = '1.1 - Aligned FASTA Files/Segment %s Aligned.fasta' % segment\n",
      "    distmat = '1.1 - Distmats/Segment %d Distmat.txt' % segment\n",
      "    \n",
      "    cline = ClustalOmegaCommandline(infile=in_file, \n",
      "                                    outfile=out_file, \n",
      "                                    distmat_out=distmat, \n",
      "                                    distmat_full=True, \n",
      "                                    verbose=True,\n",
      "                                    force=True)\n",
      "    print cline\n",
      "    cline()"
     ],
     "language": "python",
     "metadata": {},
     "outputs": [],
     "prompt_number": 3
    },
    {
     "cell_type": "code",
     "collapsed": false,
     "input": [
      "for segment in segments:\n",
      "    align(segment)"
     ],
     "language": "python",
     "metadata": {},
     "outputs": [
      {
       "output_type": "stream",
       "stream": "stdout",
       "text": [
        "clustalo -i \"1.0 - Split FASTA Files/Segment 8.fasta\" --distmat-out \"1.1 - Distmats/Segment 8 Distmat.txt\" --full -o \"1.1 - Aligned FASTA Files/Segment 8 Aligned.fasta\" -v --force\n",
        "clustalo -i \"1.0 - Split FASTA Files/Segment 7.fasta\" --distmat-out \"1.1 - Distmats/Segment 7 Distmat.txt\" --full -o \"1.1 - Aligned FASTA Files/Segment 7 Aligned.fasta\" -v --force"
       ]
      },
      {
       "output_type": "stream",
       "stream": "stdout",
       "text": [
        "\n",
        "clustalo -i \"1.0 - Split FASTA Files/Segment 6.fasta\" --distmat-out \"1.1 - Distmats/Segment 6 Distmat.txt\" --full -o \"1.1 - Aligned FASTA Files/Segment 6 Aligned.fasta\" -v --force"
       ]
      },
      {
       "output_type": "stream",
       "stream": "stdout",
       "text": [
        "\n",
        "clustalo -i \"1.0 - Split FASTA Files/Segment 5.fasta\" --distmat-out \"1.1 - Distmats/Segment 5 Distmat.txt\" --full -o \"1.1 - Aligned FASTA Files/Segment 5 Aligned.fasta\" -v --force"
       ]
      },
      {
       "output_type": "stream",
       "stream": "stdout",
       "text": [
        "\n",
        "clustalo -i \"1.0 - Split FASTA Files/Segment 4.fasta\" --distmat-out \"1.1 - Distmats/Segment 4 Distmat.txt\" --full -o \"1.1 - Aligned FASTA Files/Segment 4 Aligned.fasta\" -v --force"
       ]
      },
      {
       "output_type": "stream",
       "stream": "stdout",
       "text": [
        "\n",
        "clustalo -i \"1.0 - Split FASTA Files/Segment 3.fasta\" --distmat-out \"1.1 - Distmats/Segment 3 Distmat.txt\" --full -o \"1.1 - Aligned FASTA Files/Segment 3 Aligned.fasta\" -v --force"
       ]
      },
      {
       "output_type": "stream",
       "stream": "stdout",
       "text": [
        "\n",
        "clustalo -i \"1.0 - Split FASTA Files/Segment 2.fasta\" --distmat-out \"1.1 - Distmats/Segment 2 Distmat.txt\" --full -o \"1.1 - Aligned FASTA Files/Segment 2 Aligned.fasta\" -v --force"
       ]
      },
      {
       "output_type": "stream",
       "stream": "stdout",
       "text": [
        "\n",
        "clustalo -i \"1.0 - Split FASTA Files/Segment 1.fasta\" --distmat-out \"1.1 - Distmats/Segment 1 Distmat.txt\" --full -o \"1.1 - Aligned FASTA Files/Segment 1 Aligned.fasta\" -v --force"
       ]
      },
      {
       "output_type": "stream",
       "stream": "stdout",
       "text": [
        "\n"
       ]
      }
     ],
     "prompt_number": 4
    },
    {
     "cell_type": "code",
     "collapsed": false,
     "input": [],
     "language": "python",
     "metadata": {},
     "outputs": []
    }
   ],
   "metadata": {}
  }
 ]
}