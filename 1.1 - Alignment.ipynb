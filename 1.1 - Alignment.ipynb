{
 "metadata": {
  "name": ""
 },
 "nbformat": 3,
 "nbformat_minor": 0,
 "worksheets": [
  {
   "cells": [
    {
     "cell_type": "code",
     "collapsed": false,
     "input": [
      "from Bio.Align.Applications import ClustalOmegaCommandline"
     ],
     "language": "python",
     "metadata": {},
     "outputs": [],
     "prompt_number": 9
    },
    {
     "cell_type": "code",
     "collapsed": false,
     "input": [
      "segments = range(1, 9)\n",
      "segments.reverse()\n",
      "segments"
     ],
     "language": "python",
     "metadata": {},
     "outputs": [
      {
       "metadata": {},
       "output_type": "pyout",
       "prompt_number": 10,
       "text": [
        "[8, 7, 6, 5, 4, 3, 2, 1]"
       ]
      }
     ],
     "prompt_number": 10
    },
    {
     "cell_type": "code",
     "collapsed": false,
     "input": [
      "for segment in segments:\n",
      "    in_file = '1.0 - Split FASTA Files/Segment %d.fasta' % segment\n",
      "    out_file = '1.1 - Aligned FASTA Files/Segment %d Aligned.fasta' % segment\n",
      "    distmat = '1.1 - Distmats/Segment %d Distmat.fasta' % segment\n",
      "    \n",
      "    cline = ClustalOmegaCommandline(infile=in_file, \n",
      "                                    outfile=out_file, \n",
      "                                    distmat_out=distmat, \n",
      "                                    distmat_full=True, \n",
      "                                    verbose=True,\n",
      "                                    force=True)\n",
      "    print cline\n",
      "    #cline()"
     ],
     "language": "python",
     "metadata": {},
     "outputs": [
      {
       "output_type": "stream",
       "stream": "stdout",
       "text": [
        "clustalo -i \"1.0 - Split FASTA Files/Segment 8.fasta\" --distmat-out \"1.1 - Distmats/Segment 8 Distmat.fasta\" --full -o \"1.1 - Aligned FASTA Files/Segment 8 Aligned.fasta\" -v --force\n",
        "clustalo -i \"1.0 - Split FASTA Files/Segment 7.fasta\" --distmat-out \"1.1 - Distmats/Segment 7 Distmat.fasta\" --full -o \"1.1 - Aligned FASTA Files/Segment 7 Aligned.fasta\" -v --force\n",
        "clustalo -i \"1.0 - Split FASTA Files/Segment 6.fasta\" --distmat-out \"1.1 - Distmats/Segment 6 Distmat.fasta\" --full -o \"1.1 - Aligned FASTA Files/Segment 6 Aligned.fasta\" -v --force\n",
        "clustalo -i \"1.0 - Split FASTA Files/Segment 5.fasta\" --distmat-out \"1.1 - Distmats/Segment 5 Distmat.fasta\" --full -o \"1.1 - Aligned FASTA Files/Segment 5 Aligned.fasta\" -v --force\n",
        "clustalo -i \"1.0 - Split FASTA Files/Segment 4.fasta\" --distmat-out \"1.1 - Distmats/Segment 4 Distmat.fasta\" --full -o \"1.1 - Aligned FASTA Files/Segment 4 Aligned.fasta\" -v --force\n",
        "clustalo -i \"1.0 - Split FASTA Files/Segment 3.fasta\" --distmat-out \"1.1 - Distmats/Segment 3 Distmat.fasta\" --full -o \"1.1 - Aligned FASTA Files/Segment 3 Aligned.fasta\" -v --force\n",
        "clustalo -i \"1.0 - Split FASTA Files/Segment 2.fasta\" --distmat-out \"1.1 - Distmats/Segment 2 Distmat.fasta\" --full -o \"1.1 - Aligned FASTA Files/Segment 2 Aligned.fasta\" -v --force\n",
        "clustalo -i \"1.0 - Split FASTA Files/Segment 1.fasta\" --distmat-out \"1.1 - Distmats/Segment 1 Distmat.fasta\" --full -o \"1.1 - Aligned FASTA Files/Segment 1 Aligned.fasta\" -v --force\n"
       ]
      }
     ],
     "prompt_number": 11
    },
    {
     "cell_type": "markdown",
     "metadata": {},
     "source": [
      "12 Feb 2014: In order to brute force the alignments to finish faster, I aligned 4 segments on the lab Mac Mini, and 4 segments on the lab iMac.\n",
      "\n",
      "Segments on the lab Mac Mini: 1, 2, 3, 4\n",
      "\n",
      "Segments on the lab iMac: 5, 6, 7, 8"
     ]
    },
    {
     "cell_type": "code",
     "collapsed": false,
     "input": [],
     "language": "python",
     "metadata": {},
     "outputs": []
    }
   ],
   "metadata": {}
  }
 ]
}