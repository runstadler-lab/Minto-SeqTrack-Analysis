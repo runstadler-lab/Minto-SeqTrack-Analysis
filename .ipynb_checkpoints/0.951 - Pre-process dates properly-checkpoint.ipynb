{
 "metadata": {
  "name": "",
  "signature": "sha256:fd6116367affca4690ebff74b3f229b34518d5717beae46a5cf023d874f2b2d5"
 },
 "nbformat": 3,
 "nbformat_minor": 0,
 "worksheets": [
  {
   "cells": [
    {
     "cell_type": "code",
     "collapsed": false,
     "input": [
      "import pandas as pd"
     ],
     "language": "python",
     "metadata": {},
     "outputs": [],
     "prompt_number": 1
    },
    {
     "cell_type": "code",
     "collapsed": false,
     "input": [
      "data = pd.read_csv('Raw Data/20140211 Minto and North America Combined.csv', index_col=0)"
     ],
     "language": "python",
     "metadata": {},
     "outputs": [],
     "prompt_number": 2
    },
    {
     "cell_type": "code",
     "collapsed": false,
     "input": [
      "data2 = pd.DataFrame()\n",
      "for row in data.iterrows():\n",
      "    if len(row[1]['Collection Date'].split('/')) == 3:\n",
      "        data2 = data2.append(row[1])\n",
      "        \n",
      "    if len(row[1]['Collection Date'].split('-')) == 3:\n",
      "        data2 = data2.append(row[1])"
     ],
     "language": "python",
     "metadata": {},
     "outputs": []
    },
    {
     "cell_type": "code",
     "collapsed": false,
     "input": [
      "data2.to_csv('Raw Data/20140211 Minto and North America Combined Dates Cleaned.csv')"
     ],
     "language": "python",
     "metadata": {},
     "outputs": []
    },
    {
     "cell_type": "code",
     "collapsed": false,
     "input": [
      "data2 = pd.read_csv('Raw Data/temp.csv', index_col=0, parse_dates=['Collection Date'])\n",
      "data2"
     ],
     "language": "python",
     "metadata": {},
     "outputs": []
    },
    {
     "cell_type": "code",
     "collapsed": false,
     "input": [],
     "language": "python",
     "metadata": {},
     "outputs": []
    },
    {
     "cell_type": "code",
     "collapsed": false,
     "input": [],
     "language": "python",
     "metadata": {},
     "outputs": []
    }
   ],
   "metadata": {}
  }
 ]
}