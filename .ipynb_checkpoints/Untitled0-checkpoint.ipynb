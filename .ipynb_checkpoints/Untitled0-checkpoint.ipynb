{
 "metadata": {
  "name": "",
  "signature": "sha256:c90e8bee5363dfe3959cc9369f731529552ce5116d47e71de9bcf8a5ed17ed57"
 },
 "nbformat": 3,
 "nbformat_minor": 0,
 "worksheets": []
}