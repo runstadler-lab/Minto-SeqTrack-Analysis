{
 "cells": [
  {
   "cell_type": "code",
   "execution_count": 13,
   "metadata": {
    "collapsed": true
   },
   "outputs": [],
   "source": [
    "import networkx as nx"
   ]
  },
  {
   "cell_type": "code",
   "execution_count": 54,
   "metadata": {
    "collapsed": false
   },
   "outputs": [
    {
     "data": {
      "text/plain": [
       "('A/shorebird/Delaware Bay/331/2008',\n",
       " {'band_num': None,\n",
       "  'cloacal_id': None,\n",
       "  'collection_date': Timestamp('2008-05-17 00:00:00'),\n",
       "  'host': 'IRD:Shorebird/Avian',\n",
       "  'isolation_date': Timestamp('2008-05-17 00:00:00'),\n",
       "  'oral_id': None,\n",
       "  'reassortant': True,\n",
       "  'state': 'Delaware',\n",
       "  'subtype': '(N6)',\n",
       "  'web_tag': None})"
      ]
     },
     "execution_count": 54,
     "metadata": {},
     "output_type": "execute_result"
    }
   ],
   "source": [
    "G = nx.read_gpickle('Minto_Flats Final Graph.pkl')\n",
    "G.nodes(data=True)[0]"
   ]
  },
  {
   "cell_type": "code",
   "execution_count": 55,
   "metadata": {
    "collapsed": false
   },
   "outputs": [
    {
     "data": {
      "text/plain": [
       "('A/American black duck/Wisconsin/11OS3191/2011',\n",
       " 'A/mallard/Wisconsin/11OS3098/2011',\n",
       " {'edge_type': 'reassortant',\n",
       "  'keep': True,\n",
       "  'pwi': 7.9405219999999996,\n",
       "  'segments': {2: 0.97409299999999999,\n",
       "   3: 0.99682999999999999,\n",
       "   4: 0.99592800000000004,\n",
       "   6: 0.99720900000000001,\n",
       "   8: 0.99768800000000002}})"
      ]
     },
     "execution_count": 55,
     "metadata": {},
     "output_type": "execute_result"
    }
   ],
   "source": [
    "G.edges(data=True)[0]"
   ]
  },
  {
   "cell_type": "code",
   "execution_count": 56,
   "metadata": {
    "collapsed": false
   },
   "outputs": [],
   "source": [
    "# Add in timedelta information.\n",
    "for sc, sk, d in G.edges(data=True):\n",
    "    sc_time = G.node[sc]['isolation_date']\n",
    "    sk_time = G.node[sk]['isolation_date']\n",
    "    d['timedelta'] = (sk_time - sc_time).days"
   ]
  },
  {
   "cell_type": "code",
   "execution_count": 57,
   "metadata": {
    "collapsed": false
   },
   "outputs": [
    {
     "data": {
      "text/plain": [
       "622"
      ]
     },
     "execution_count": 57,
     "metadata": {},
     "output_type": "execute_result"
    }
   ],
   "source": [
    "# Clean up the \"reassortant\" status \n",
    "for n, d in G.nodes(data=True):\n",
    "    G.node[n]['reassortant'] = False\n",
    "\n",
    "reassortants_by_edges = set()\n",
    "for sc, sk, d in G.edges(data=True):\n",
    "    if d['edge_type'] == 'reassortant':\n",
    "        reassortants_by_edges.add(sk)\n",
    "        G.node[sk]['reassortant'] = True\n",
    "len(reassortants_by_edges)"
   ]
  },
  {
   "cell_type": "code",
   "execution_count": 58,
   "metadata": {
    "collapsed": false
   },
   "outputs": [
    {
     "data": {
      "text/plain": [
       "('A/American black duck/Wisconsin/11OS3191/2011',\n",
       " 'A/mallard/Wisconsin/11OS3098/2011',\n",
       " {'edge_type': 'reassortant',\n",
       "  'keep': True,\n",
       "  'pwi': 7.9405219999999996,\n",
       "  'segments': {2: 0.97409299999999999,\n",
       "   3: 0.99682999999999999,\n",
       "   4: 0.99592800000000004,\n",
       "   6: 0.99720900000000001,\n",
       "   8: 0.99768800000000002},\n",
       "  'timedelta': 1})"
      ]
     },
     "execution_count": 58,
     "metadata": {},
     "output_type": "execute_result"
    }
   ],
   "source": [
    "G.edges(data=True)[0]"
   ]
  },
  {
   "cell_type": "code",
   "execution_count": 59,
   "metadata": {
    "collapsed": false
   },
   "outputs": [],
   "source": [
    "# Add in a weighting for the reassortant edges, called \"reassortant weighting\".\n",
    "from itertools import combinations\n",
    "\n",
    "for n, d in G.nodes(data=True):\n",
    "    if G.node[n]['reassortant'] == True:\n",
    "        in_edges = G.in_edges(n, data=True)\n",
    "        \n",
    "        for (sc1, sk1, d1), (sc2, sk2, d2) in combinations(in_edges, 2):\n",
    "            if 'reassortment_involvement' not in d1.keys():\n",
    "                G.edge[sc1][sk1]['reassortment_involvement'] = 0\n",
    "                G.edge[sc1][sk1]['reassortment_weighting'] = 0\n",
    "            if 'reassortment_involvement' not in d2.keys():\n",
    "                G.edge[sc2][sk2]['reassortment_involvement'] = 0\n",
    "                G.edge[sc2][sk2]['reassortment_weighting'] = 0\n",
    "            if set(d1['segments'].keys()).union(d2['segments'].keys()) == set(range(1,9)):\n",
    "                G.edge[sc1][sk1]['reassortment_involvement'] += 1\n",
    "                G.edge[sc2][sk2]['reassortment_involvement'] += 1\n",
    "                \n",
    "        in_edges = G.in_edges(n, data=True)\n",
    "        total = sum([d['reassortment_involvement'] for sc, sk, d in in_edges])\n",
    "        for (sc, sk, d) in in_edges:\n",
    "            G.edge[sc][sk]['reassortment_weighting'] = 2 * d['reassortment_involvement']/float(total)"
   ]
  },
  {
   "cell_type": "code",
   "execution_count": 60,
   "metadata": {
    "collapsed": true
   },
   "outputs": [],
   "source": [
    "# Add in a weighting for the non-reassortant edges, called \"full complement downweighting\"\n",
    "\n",
    "for n, d in G.nodes(data=True):\n",
    "    if G.node[n]['reassortant'] == False:\n",
    "        in_edges = G.in_edges(n, data=True)\n",
    "        num_edges = len(in_edges)\n",
    "        \n",
    "        for sc, sk, d in in_edges:\n",
    "            if 'full_complement_weighting' not in d.keys():\n",
    "                G.edge[sc][sk]['full_complement_weighting'] = 1 / float(num_edges)\n",
    "                \n",
    "        "
   ]
  },
  {
   "cell_type": "code",
   "execution_count": 61,
   "metadata": {
    "collapsed": false
   },
   "outputs": [
    {
     "data": {
      "text/plain": [
       "('A/mallard/Interior Alaska/10BM12374R0/2010',\n",
       " 'A/mallard/Interior Alaska/10BM12350R0/2010',\n",
       " {'5season_transmission': 'Fledge-Fledge',\n",
       "  'edge_type': 'full_complement',\n",
       "  'family_transmission': 'Intrafamily',\n",
       "  'foraging_transmission': 'Intraforaging',\n",
       "  'full_complement_weighting': 0.2,\n",
       "  'order_transmission': 'Intra-Order',\n",
       "  'pwi': 8.0,\n",
       "  'segments': {1: 1.0, 2: 1.0, 3: 1.0, 4: 1.0, 5: 1.0, 6: 1.0, 7: 1.0, 8: 1.0},\n",
       "  'species_transmission': 'Intraspecies',\n",
       "  'time_delta': datetime.timedelta(0),\n",
       "  'timedelta': 0,\n",
       "  'tr_timeclass': 'Direct Transmission',\n",
       "  'trtype': 'Intra-Species',\n",
       "  'weight': 8.0,\n",
       "  'weighting_timedelta': 0.5})"
      ]
     },
     "execution_count": 61,
     "metadata": {},
     "output_type": "execute_result"
    }
   ],
   "source": [
    "G.edges(data=True)[6]"
   ]
  },
  {
   "cell_type": "code",
   "execution_count": 62,
   "metadata": {
    "collapsed": false
   },
   "outputs": [],
   "source": [
    "import pandas as pd\n",
    "node_data = []\n",
    "for n, d in G.nodes(data=True):\n",
    "    data = d\n",
    "    data['isolate_name'] = n\n",
    "    \n",
    "    node_data.append(data)\n",
    "    \n",
    "pd.DataFrame(node_data).to_csv('20150511 Minto Flats Nodelist.csv')"
   ]
  },
  {
   "cell_type": "code",
   "execution_count": 63,
   "metadata": {
    "collapsed": false
   },
   "outputs": [],
   "source": [
    "edge_data = []\n",
    "for sc, sk, d in G.edges(data=True):\n",
    "    data = dict()\n",
    "    data['source'] = sc\n",
    "    data['sink'] = sk\n",
    "    \n",
    "    for k, v in d.items():\n",
    "        if isinstance(v, dict):\n",
    "            for k2, v2 in v.items():\n",
    "                data[k2] = v2\n",
    "        else:\n",
    "            data[k] = v\n",
    "            \n",
    "    edge_data.append(data)\n",
    "    \n",
    "pd.DataFrame(edge_data).to_csv('20150511 Minto Flats Edgelist.csv')"
   ]
  },
  {
   "cell_type": "code",
   "execution_count": 64,
   "metadata": {
    "collapsed": false
   },
   "outputs": [
    {
     "data": {
      "text/plain": [
       "622"
      ]
     },
     "execution_count": 64,
     "metadata": {},
     "output_type": "execute_result"
    }
   ],
   "source": [
    "reassortants_by_nodes = set()\n",
    "for n, d in G.nodes(data=True):\n",
    "    if d['reassortant'] == True:\n",
    "        reassortants_by_nodes.add(n)\n",
    "        \n",
    "len(reassortants_by_nodes)"
   ]
  },
  {
   "cell_type": "code",
   "execution_count": null,
   "metadata": {
    "collapsed": true
   },
   "outputs": [],
   "source": []
  },
  {
   "cell_type": "code",
   "execution_count": null,
   "metadata": {
    "collapsed": true
   },
   "outputs": [],
   "source": []
  }
 ],
 "metadata": {
  "kernelspec": {
   "display_name": "Python 2",
   "language": "python",
   "name": "python2"
  },
  "language_info": {
   "codemirror_mode": {
    "name": "ipython",
    "version": 2
   },
   "file_extension": ".py",
   "mimetype": "text/x-python",
   "name": "python",
   "nbconvert_exporter": "python",
   "pygments_lexer": "ipython2",
   "version": "2.7.9"
  }
 },
 "nbformat": 4,
 "nbformat_minor": 0
}
