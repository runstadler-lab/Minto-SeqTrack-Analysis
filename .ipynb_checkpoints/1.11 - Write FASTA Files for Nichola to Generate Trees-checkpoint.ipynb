{
 "cells": [
  {
   "cell_type": "markdown",
   "metadata": {},
   "source": [
    "# Nichola's Specifications\n",
    "\n",
    "Nichola would like FASTA files split by segment, where the identifier is:\n",
    "\n",
    "    Strain Name(Subtype)|MM/DD/YYYY\n",
    "    \n"
   ]
  },
  {
   "cell_type": "code",
   "execution_count": 1,
   "metadata": {
    "collapsed": false
   },
   "outputs": [],
   "source": [
    "import pandas as pd\n",
    "from Bio import SeqIO, AlignIO"
   ]
  },
  {
   "cell_type": "code",
   "execution_count": 2,
   "metadata": {
    "collapsed": false
   },
   "outputs": [
    {
     "name": "stdout",
     "output_type": "stream",
     "text": [
      "1787\n",
      "1787\n",
      "1787\n",
      "1787\n",
      "1787\n",
      "1787\n",
      "1787\n",
      "1787\n"
     ]
    }
   ],
   "source": [
    "seg_num = {1:'', 2:'2', 3:'3', 4:'4', 5:'5', 6:'6', 7:'7', 8:'8'}\n",
    "\n",
    "for segment in seg_num:\n",
    "    # segment = i\n",
    "    data = pd.read_csv('Raw Data/20140211 Minto and North America Combined Dates Cleaned.csv', index_col=0, parse_dates=['Collection Date'])\n",
    "    # data\n",
    "#     print len(data)\n",
    "    seg = SeqIO.to_dict(AlignIO.read('1.1 - Aligned FASTA Files/Segment %s Aligned.fasta' % segment, 'fasta'))\n",
    "    # seg\n",
    "    # len(seg)\n",
    "    for row in data.iterrows():\n",
    "        accession = row[1]['Sequence Accession%s' % seg_num[segment]]\n",
    "\n",
    "#         if accession not in seg.keys():\n",
    "# #             print \"accession %s not found in seg.keys()\" % accession\n",
    "#             pass\n",
    "\n",
    "        if row[1]['Host Species'] in ['IRD:Human', 'IRD:Swine']:\n",
    "            seg.pop(accession)\n",
    "\n",
    "        else:\n",
    "            strain_name = row[1]['Strain Name'].replace(' ', '_')\n",
    "            subtype = row[1]['Subtype']\n",
    "            collection_date = str(row[1]['Collection Date']).split(' ')[0].replace('-', '/')\n",
    "            new_identifier = '%s|%s|%s' % (strain_name, subtype, collection_date)\n",
    "#             print new_identifier\n",
    "\n",
    "            seg[new_identifier] = seg.pop(accession)\n",
    "            seg[new_identifier].id = new_identifier\n",
    "            seg[new_identifier].name = ''\n",
    "            seg[new_identifier].description = ''\n",
    "    # seg\n",
    "    segs_to_write = [seg[key] for key, value in seg.iteritems()]\n",
    "    # segs_to_write\n",
    "    print SeqIO.write(segs_to_write, '1.11 - Aligned Sequences for Nichola/Segment %s Aligned.fasta' % segment, 'fasta')"
   ]
  },
  {
   "cell_type": "code",
   "execution_count": 2,
   "metadata": {
    "collapsed": false
   },
   "outputs": [],
   "source": []
  }
 ],
 "metadata": {
  "kernelspec": {
   "display_name": "Python 2",
   "language": "python",
   "name": "python2"
  },
  "language_info": {
   "codemirror_mode": {
    "name": "ipython",
    "version": 2
   },
   "file_extension": ".py",
   "mimetype": "text/x-python",
   "name": "python",
   "nbconvert_exporter": "python",
   "pygments_lexer": "ipython2",
   "version": "2.7.9"
  }
 },
 "nbformat": 4,
 "nbformat_minor": 0
}
