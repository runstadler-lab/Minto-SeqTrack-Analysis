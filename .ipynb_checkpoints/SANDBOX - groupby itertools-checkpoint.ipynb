{
 "metadata": {
  "name": "",
  "signature": "sha256:01a05739b33b7ac5b090ca4e28ea1db67f0ab8001c68ba10734357e19b0a83bb"
 },
 "nbformat": 3,
 "nbformat_minor": 0,
 "worksheets": [
  {
   "cells": [
    {
     "cell_type": "code",
     "collapsed": false,
     "input": [
      "from itertools import groupby\n",
      "from datetime import datetime, timedelta"
     ],
     "language": "python",
     "metadata": {},
     "outputs": [],
     "prompt_number": 2
    },
    {
     "cell_type": "code",
     "collapsed": false,
     "input": [
      "nodes = [('b', {'date':datetime(2009, 1, 1)}),\n",
      "         ('d', {'date':datetime(2010, 4, 12)}),\n",
      "         ('c', {'date':datetime(2009, 1, 1)}),\n",
      "         ('a', {'date':datetime(2008, 5, 17)}),]\n",
      "\n",
      "sorted_nodes = sorted(nodes, key=lambda x: x[1]['date'])\n",
      "sorted_nodes"
     ],
     "language": "python",
     "metadata": {},
     "outputs": [
      {
       "metadata": {},
       "output_type": "pyout",
       "prompt_number": 31,
       "text": [
        "[('a', {'date': datetime.datetime(2008, 5, 17, 0, 0)}),\n",
        " ('b', {'date': datetime.datetime(2009, 1, 1, 0, 0)}),\n",
        " ('c', {'date': datetime.datetime(2009, 1, 1, 0, 0)}),\n",
        " ('d', {'date': datetime.datetime(2010, 4, 12, 0, 0)})]"
       ]
      }
     ],
     "prompt_number": 31
    },
    {
     "cell_type": "code",
     "collapsed": false,
     "input": [
      "items = []\n",
      "for key, group in groupby(sorted_nodes, lambda x: x[1]['date']):\n",
      "    print(key)\n",
      "#     print(len()))\n",
      "    for item in group:\n",
      "        items.append(item)\n",
      "items"
     ],
     "language": "python",
     "metadata": {},
     "outputs": [
      {
       "output_type": "stream",
       "stream": "stdout",
       "text": [
        "2008-05-17 00:00:00\n",
        "2009-01-01 00:00:00\n",
        "2010-04-12 00:00:00\n"
       ]
      },
      {
       "metadata": {},
       "output_type": "pyout",
       "prompt_number": 34,
       "text": [
        "[('a', {'date': datetime.datetime(2008, 5, 17, 0, 0)}),\n",
        " ('b', {'date': datetime.datetime(2009, 1, 1, 0, 0)}),\n",
        " ('c', {'date': datetime.datetime(2009, 1, 1, 0, 0)}),\n",
        " ('d', {'date': datetime.datetime(2010, 4, 12, 0, 0)})]"
       ]
      }
     ],
     "prompt_number": 34
    },
    {
     "cell_type": "code",
     "collapsed": false,
     "input": [],
     "language": "python",
     "metadata": {},
     "outputs": []
    }
   ],
   "metadata": {}
  }
 ]
}