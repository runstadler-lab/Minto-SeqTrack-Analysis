{
 "cells": [
  {
   "cell_type": "code",
   "execution_count": 2,
   "metadata": {
    "collapsed": false
   },
   "outputs": [],
   "source": [
    "from itertools import groupby\n",
    "from datetime import datetime, timedelta"
   ]
  },
  {
   "cell_type": "code",
   "execution_count": 31,
   "metadata": {
    "collapsed": false
   },
   "outputs": [
    {
     "data": {
      "text/plain": [
       "[('a', {'date': datetime.datetime(2008, 5, 17, 0, 0)}),\n",
       " ('b', {'date': datetime.datetime(2009, 1, 1, 0, 0)}),\n",
       " ('c', {'date': datetime.datetime(2009, 1, 1, 0, 0)}),\n",
       " ('d', {'date': datetime.datetime(2010, 4, 12, 0, 0)})]"
      ]
     },
     "execution_count": 31,
     "metadata": {},
     "output_type": "execute_result"
    }
   ],
   "source": [
    "nodes = [('b', {'date':datetime(2009, 1, 1)}),\n",
    "         ('d', {'date':datetime(2010, 4, 12)}),\n",
    "         ('c', {'date':datetime(2009, 1, 1)}),\n",
    "         ('a', {'date':datetime(2008, 5, 17)}),]\n",
    "\n",
    "sorted_nodes = sorted(nodes, key=lambda x: x[1]['date'])\n",
    "sorted_nodes"
   ]
  },
  {
   "cell_type": "code",
   "execution_count": 34,
   "metadata": {
    "collapsed": false
   },
   "outputs": [
    {
     "name": "stdout",
     "output_type": "stream",
     "text": [
      "2008-05-17 00:00:00\n",
      "2009-01-01 00:00:00\n",
      "2010-04-12 00:00:00\n"
     ]
    },
    {
     "data": {
      "text/plain": [
       "[('a', {'date': datetime.datetime(2008, 5, 17, 0, 0)}),\n",
       " ('b', {'date': datetime.datetime(2009, 1, 1, 0, 0)}),\n",
       " ('c', {'date': datetime.datetime(2009, 1, 1, 0, 0)}),\n",
       " ('d', {'date': datetime.datetime(2010, 4, 12, 0, 0)})]"
      ]
     },
     "execution_count": 34,
     "metadata": {},
     "output_type": "execute_result"
    }
   ],
   "source": [
    "items = []\n",
    "for key, group in groupby(sorted_nodes, lambda x: x[1]['date']):\n",
    "    print(key)\n",
    "#     print(len()))\n",
    "    for item in group:\n",
    "        items.append(item)\n",
    "items"
   ]
  },
  {
   "cell_type": "code",
   "execution_count": null,
   "metadata": {
    "collapsed": false
   },
   "outputs": [],
   "source": []
  }
 ],
 "metadata": {
  "kernelspec": {
   "display_name": "Python 2",
   "language": "python",
   "name": "python2"
  },
  "language_info": {
   "codemirror_mode": {
    "name": "ipython",
    "version": 2
   },
   "file_extension": ".py",
   "mimetype": "text/x-python",
   "name": "python",
   "nbconvert_exporter": "python",
   "pygments_lexer": "ipython2",
   "version": "2.7.9"
  }
 },
 "nbformat": 4,
 "nbformat_minor": 0
}
