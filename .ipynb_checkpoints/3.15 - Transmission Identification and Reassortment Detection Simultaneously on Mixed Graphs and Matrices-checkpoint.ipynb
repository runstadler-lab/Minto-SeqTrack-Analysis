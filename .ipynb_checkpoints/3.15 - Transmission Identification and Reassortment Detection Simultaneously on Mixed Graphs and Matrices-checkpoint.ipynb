{
 "metadata": {
  "name": "",
  "signature": "sha256:0e4657c92e565932d80a7e9b8c49c462bb8e36dce5017767a1b704d6e3651aa9"
 },
 "nbformat": 3,
 "nbformat_minor": 0,
 "worksheets": [
  {
   "cells": [
    {
     "cell_type": "code",
     "collapsed": false,
     "input": [
      "import networkx as nx\n",
      "import numpy as np\n",
      "import pandas as pd\n",
      "import json\n",
      "import datetime\n",
      "import matplotlib.pyplot as plt\n",
      "import math\n",
      "import pprint\n",
      "import seaborn\n",
      "\n",
      "from datetime import timedelta, datetime\n",
      "from copy import deepcopy, copy\n",
      "from __future__ import division\n",
      "from time import time\n",
      "from networkx.readwrite import json_graph\n",
      "from IPython.display import clear_output \n",
      "from itertools import permutations, combinations\n",
      "from custom_funcs import *\n",
      "from collections import Counter\n",
      "\n",
      "%matplotlib inline"
     ],
     "language": "python",
     "metadata": {},
     "outputs": [],
     "prompt_number": 1
    },
    {
     "cell_type": "code",
     "collapsed": false,
     "input": [
      "# Read raw data\n",
      "starttime = time()\n",
      "data = pd.read_csv('Raw Data/20140211 Minto and North America Combined Dates Cleaned.csv', index_col=0, parse_dates=['Collection Date'])\n",
      "\n",
      "# Create a dictionary of accession number to strain names:\n",
      "accession_to_name = dict()\n",
      "for row in data.iterrows():\n",
      "    accession1 = row[1]['Sequence Accession']\n",
      "    accession2 = row[1]['Sequence Accession2']\n",
      "    accession3 = row[1]['Sequence Accession3']\n",
      "    accession4 = row[1]['Sequence Accession4']\n",
      "    accession5 = row[1]['Sequence Accession5']\n",
      "    accession6 = row[1]['Sequence Accession6']\n",
      "    accession7 = row[1]['Sequence Accession7']\n",
      "    accession8 = row[1]['Sequence Accession8']\n",
      "    \n",
      "    strain_name = row[1]['Strain Name']\n",
      "    \n",
      "    accessions = [accession1, accession2, accession3, accession4, accession5, accession6, accession7, accession8]\n",
      "    \n",
      "    for accession in accessions:\n",
      "        accession_to_name[accession] = strain_name\n",
      "endtime = time()\n",
      "print('Total Time: %s seconds' % (endtime - starttime))\n",
      "# Longest recorded time = 1.4 seconds"
     ],
     "language": "python",
     "metadata": {},
     "outputs": [
      {
       "output_type": "stream",
       "stream": "stdout",
       "text": [
        "Total Time: 1.09323000908 seconds\n"
       ]
      }
     ],
     "prompt_number": 2
    },
    {
     "cell_type": "code",
     "collapsed": false,
     "input": [
      "# For each segment, load in the PWI data, make sure the PWIs are above threshold value, and add them to a \n",
      "# dictionary of segment-specific transmission matrices.\n",
      "starttime = time()\n",
      "\n",
      "segment_affmats = dict()\n",
      "segments = range(1,9)\n",
      "segment_thresholds = dict()\n",
      "# segment = 1\n",
      "\n",
      "for segment in segments:\n",
      "    segment_affmats[segment] = pd.read_csv('2.1 - Segment Transmission/Segment %s Transmissions.csv' % segment, index_col=['Strain Name'])\n",
      "    with open('2.0 - Minimum PWI/Segment %d Minimum PWI.txt' % segment) as f:\n",
      "        segment_thresholds[segment] = float(f.readlines()[0])\n",
      "    segment_affmats[segment] = (segment_affmats[segment] > segment_thresholds[segment]) * segment_affmats[segment]\n",
      "    columns = segment_affmats[segment].columns\n",
      "#     segment_affmats[segment].columns = rename_col_or_index(columns, accession_to_name)\n",
      "#     segment_affmats[segment].index = rename_col_or_index(columns, accession_to_name)\n",
      "\n",
      "endtime = time()\n",
      "\n",
      "print('Total Time: %s seconds' % (endtime - starttime))\n",
      "# Longest recorded time = 8.0 seconds"
     ],
     "language": "python",
     "metadata": {},
     "outputs": [
      {
       "output_type": "stream",
       "stream": "stdout",
       "text": [
        "Total Time: 5.53040504456 seconds\n"
       ]
      }
     ],
     "prompt_number": 3
    },
    {
     "cell_type": "code",
     "collapsed": false,
     "input": [
      "for segment in segments:\n",
      "    print(\"Segment %s threshold: %s\" % (segment, segment_thresholds[segment]))"
     ],
     "language": "python",
     "metadata": {},
     "outputs": [
      {
       "output_type": "stream",
       "stream": "stdout",
       "text": [
        "Segment 1 threshold: 0.927632\n",
        "Segment 2 threshold: 0.954231\n",
        "Segment 3 threshold: 0.921125\n",
        "Segment 4 threshold: 0.713063\n",
        "Segment 5 threshold: 0.939615\n",
        "Segment 6 threshold: 0.761308\n",
        "Segment 7 threshold: 0.967066\n",
        "Segment 8 threshold: 0.957303\n"
       ]
      }
     ],
     "prompt_number": 4
    },
    {
     "cell_type": "code",
     "collapsed": false,
     "input": [
      "# Create a dictionary of segment-specific graphs.\n",
      "# segment_graphs = dict()\n",
      "# for segment in segments:\n",
      "#     segment_graphs[segment] = nx.DiGraph()\n",
      "    \n",
      "starttime = time()\n",
      "all_segment_transmissions = nx.DiGraph()\n",
      "\n",
      "# First, we add in the nodes. Node data are provided in masterlist:\n",
      "masterlist = pd.read_csv('Raw Data/20140211 Minto and North America Combined Dates Cleaned.csv', index_col=0, parse_dates = ['Collection Date'])\n",
      "masterlist\n",
      "\n",
      "# Add in the node data to each segment's graphs.\n",
      "for row in masterlist.iterrows():\n",
      "    all_segment_transmissions.add_node(row[1]['Strain Name'],\n",
      "                                       subtype=row[1]['Subtype'],\n",
      "                                       state=row[1]['Strain Name'].split(\"/\")[2],\n",
      "                                       host=row[1]['Host Species'],\n",
      "                                       isolation_date=row[1]['Collection Date'])\n",
      "\n",
      "endtime = time()\n",
      "print('Total Time: %s seconds' % (endtime - starttime))\n",
      "# Longest recorded time = 1.16900491714 seconds."
     ],
     "language": "python",
     "metadata": {},
     "outputs": [
      {
       "output_type": "stream",
       "stream": "stdout",
       "text": [
        "Total Time: 0.890763998032 seconds\n"
       ]
      }
     ],
     "prompt_number": 5
    },
    {
     "cell_type": "code",
     "collapsed": false,
     "input": [
      "[edge for edge in all_segment_transmissions.edges() if 'A/mallard/Interior Alaska/10BM05860R0/2010' in edge]"
     ],
     "language": "python",
     "metadata": {},
     "outputs": [
      {
       "metadata": {},
       "output_type": "pyout",
       "prompt_number": 6,
       "text": [
        "[]"
       ]
      }
     ],
     "prompt_number": 6
    },
    {
     "cell_type": "code",
     "collapsed": false,
     "input": [
      "# # Create a dictionary of candidate sources. For every node, it source can occur up to 6 days after itself.\n",
      "\n",
      "# #### NOTE: THIS IS A RULE THAT IS MINTO-FLATS CENTRIC ####\n",
      "# starttime = time()\n",
      "# candidate_sources = dict()\n",
      "# for sink_node in all_segment_transmissions.nodes(data=True):\n",
      "#     candidate_sources[sink_node[0]] = []\n",
      "#     for source_node in all_segment_transmissions.nodes(data=True):\n",
      "#         time_delta = sink_node[1]['collection_date'] - source_node[1]['collection_date']\n",
      "#         if time_delta >= timedelta(-6) and sink_node != source_node: \n",
      "#             candidate_sources[sink_node[0]].append(source_node[0])\n",
      "# endtime = time()\n",
      "\n",
      "# print('Total Time: %s seconds' % (endtime - starttime))\n",
      "# # Longest recorded time = 15 seconds"
     ],
     "language": "python",
     "metadata": {},
     "outputs": [],
     "prompt_number": 7
    },
    {
     "cell_type": "code",
     "collapsed": false,
     "input": [
      "# The computation on a whole graph is taking excruciatingly long.\n",
      "# Instead, we will go back to matrices. In this cell, compute the full transmission matrices.\n",
      "\n",
      "starttime = time()\n",
      "\n",
      "whole_affmat = segment_affmats[1]\n",
      "\n",
      "for segment in segments[1:]:\n",
      "    whole_affmat = whole_affmat + segment_affmats[segment]\n",
      "\n",
      "whole_affmat = whole_affmat[whole_affmat > 7]\n",
      "full_edgelist = whole_affmat.stack().dropna().reset_index()\n",
      "full_edgelist.columns = ['Source', 'Sink', 'PWI']\n",
      "full_edgelist = full_edgelist[full_edgelist['Source'] != full_edgelist['Sink']]\n",
      "\n",
      "endtime = time()\n",
      "\n",
      "print('Total Time: %s seconds' % (endtime - starttime))\n",
      "# whole_affmat\n",
      "# Longest recorded time = 0.336329936981 seconds"
     ],
     "language": "python",
     "metadata": {},
     "outputs": [
      {
       "output_type": "stream",
       "stream": "stdout",
       "text": [
        "Total Time: 0.25732588768 seconds\n"
       ]
      }
     ],
     "prompt_number": 8
    },
    {
     "cell_type": "code",
     "collapsed": false,
     "input": [
      "# In this cell, add in the full transmission edges to the all_segment_transmissions graph. This is the first step.\n",
      "\n",
      "starttime = time()\n",
      "for row in full_edgelist.iterrows():\n",
      "    source = row[1]['Source']\n",
      "    sink = row[1]['Sink']\n",
      "    weight = row[1]['PWI']\n",
      "    segment_info = {1:None, 2:None, 3:None, 4:None, 5:None, 6:None, 7:None, 8:None}\n",
      "    \n",
      "    source_date = all_segment_transmissions.node[source]['isolation_date']\n",
      "    sink_date = all_segment_transmissions.node[sink]['isolation_date']\n",
      "    \n",
      "    time_delta = sink_date - source_date\n",
      "    \n",
      "    all_segment_transmissions.add_edge(source, sink, segments=segment_info, weight=weight, time_delta=time_delta)\n",
      "endtime = time()\n",
      "print('%s seconds' % (endtime - starttime))\n",
      "\n",
      "# Longest recorded time: 4 seconds."
     ],
     "language": "python",
     "metadata": {},
     "outputs": [
      {
       "output_type": "stream",
       "stream": "stdout",
       "text": [
        "3.43779301643 seconds\n"
       ]
      }
     ],
     "prompt_number": 9
    },
    {
     "cell_type": "code",
     "collapsed": false,
     "input": [
      "len(all_segment_transmissions.edges(data=True))"
     ],
     "language": "python",
     "metadata": {},
     "outputs": [
      {
       "metadata": {},
       "output_type": "pyout",
       "prompt_number": 10,
       "text": [
        "24826"
       ]
      }
     ],
     "prompt_number": 10
    },
    {
     "cell_type": "code",
     "collapsed": false,
     "input": [
      "len([edge for edge in all_segment_transmissions.edges() if 'A/mallard/Interior Alaska/10BM05860R0/2010' in edge])"
     ],
     "language": "python",
     "metadata": {},
     "outputs": [
      {
       "metadata": {},
       "output_type": "pyout",
       "prompt_number": 11,
       "text": [
        "126"
       ]
      }
     ],
     "prompt_number": 11
    },
    {
     "cell_type": "code",
     "collapsed": false,
     "input": [
      "# Let's now remove edges that are not informative:\n",
      "starttime = time()\n",
      "for edge in all_segment_transmissions.edges(data=True):\n",
      "    source_date = all_segment_transmissions.node[edge[0]]['isolation_date']\n",
      "    sink_date = all_segment_transmissions.node[edge[1]]['isolation_date']\n",
      "    \n",
      "    time_diff = sink_date - source_date\n",
      "    \n",
      "#     # If it is a self-looped edge, remove it.\n",
      "#     if edge[0] == edge[1]:\n",
      "#         all_segment_transmissions.remove_edge(edge[0], edge[1])\n",
      "        \n",
      "#     If it is an edge with an empty 'segments' dictionary, remove it.\n",
      "#     elif len(edge[2]['segments'].keys()) == 0:\n",
      "#         all_segment_transmissions.remove_edge(edge[0], edge[1])\n",
      "\n",
      "    \n",
      "    if time_diff <= timedelta(-7):\n",
      "        all_segment_transmissions.remove_edge(edge[0], edge[1])\n",
      "\n",
      "endtime = time()\n",
      "print('Total Time: %s seconds' % (endtime - starttime))\n",
      "# Longest recorded time: 0.25 seconds."
     ],
     "language": "python",
     "metadata": {},
     "outputs": [
      {
       "output_type": "stream",
       "stream": "stdout",
       "text": [
        "Total Time: 0.121510028839 seconds\n"
       ]
      }
     ],
     "prompt_number": 12
    },
    {
     "cell_type": "code",
     "collapsed": false,
     "input": [
      "len([edge for edge in all_segment_transmissions.edges() if 'A/mallard/Interior Alaska/10BM05860R0/2010' in edge])"
     ],
     "language": "python",
     "metadata": {},
     "outputs": [
      {
       "metadata": {},
       "output_type": "pyout",
       "prompt_number": 13,
       "text": [
        "83"
       ]
      }
     ],
     "prompt_number": 13
    },
    {
     "cell_type": "code",
     "collapsed": false,
     "input": [
      "len(all_segment_transmissions.edges())"
     ],
     "language": "python",
     "metadata": {},
     "outputs": [
      {
       "metadata": {},
       "output_type": "pyout",
       "prompt_number": 14,
       "text": [
        "18701"
       ]
      }
     ],
     "prompt_number": 14
    },
    {
     "cell_type": "code",
     "collapsed": false,
     "input": [
      "# Make a deep copy of the all_segment_transmissions graph and work only on the copy.\n",
      "\n",
      "starttime = time()\n",
      "\n",
      "copystart = time()\n",
      "full_transmissions = all_segment_transmissions.copy()\n",
      "copyend = time()\n",
      "print(\"Prior to pruning non-full transmissions, we have %s edges\" % len(full_transmissions.edges()))\n",
      "print(\"Copying took %s seconds.\" % (copyend - copystart))\n",
      "\n",
      "# Prune away any non-full edges (i.e. they do not involve all 8 segments)\n",
      "for edge in full_transmissions.edges(data=True):\n",
      "    if set(edge[2]['segments'].keys()) != set(segments):\n",
      "        full_transmissions.remove_edge(edge[0], edge[1])\n",
      "print(\"After pruning non-full transmissions, we have %s edges\" % len(full_transmissions.edges()))\n",
      "\n",
      "endtime = time()\n",
      "print('Total Time: %s seconds' % (endtime - starttime))\n",
      "# Longest recorded time: 1.36287879944 seconds."
     ],
     "language": "python",
     "metadata": {},
     "outputs": [
      {
       "output_type": "stream",
       "stream": "stdout",
       "text": [
        "Prior to pruning non-full transmissions, we have 18701 edges\n",
        "Copying took 1.03814101219 seconds.\n",
        "After pruning non-full transmissions, we have 18701 edges"
       ]
      },
      {
       "output_type": "stream",
       "stream": "stdout",
       "text": [
        "\n",
        "Total Time: 1.10254216194 seconds\n"
       ]
      }
     ],
     "prompt_number": 15
    },
    {
     "cell_type": "code",
     "collapsed": false,
     "input": [
      "# Let's work through each node and figure out which is the max in_edge into it, while keeping track of which \n",
      "# edges we discarded\n",
      "\n",
      "starttime = time()\n",
      "discarded_full_transmissions = nx.DiGraph()\n",
      "\n",
      "print('Prior to pruning non-max weight edges, we have %s edges' % len(full_transmissions.edges()))\n",
      "\n",
      "for node in full_transmissions.nodes(data=True):\n",
      "    discarded_full_transmissions.add_node(node[0], attr_dict=node[1])\n",
      "    edges = full_transmissions.in_edges(node[0], data=True)\n",
      "    if len(edges) > 0:\n",
      "        max_weight = max([edge[2]['weight'] for edge in edges])\n",
      "        for edge in edges:\n",
      "            if edge[2]['weight'] < max_weight:\n",
      "                full_transmissions.remove_edge(edge[0], edge[1])\n",
      "                discarded_full_transmissions.add_edge(edge[0], edge[1], attr_dict=edge[2])\n",
      "endtime = time()\n",
      "print(\"After pruning non-max weight edges, we have %s edges\" % len(full_transmissions.edges()))\n",
      "\n",
      "print('Total Time: %s seconds' % (endtime - starttime))\n",
      "# Last recorded time: 0.185292959213  seconds."
     ],
     "language": "python",
     "metadata": {},
     "outputs": [
      {
       "output_type": "stream",
       "stream": "stdout",
       "text": [
        "Prior to pruning non-max weight edges, we have 18701 edges\n",
        "After pruning non-max weight edges, we have 1922 edges"
       ]
      },
      {
       "output_type": "stream",
       "stream": "stdout",
       "text": [
        "\n",
        "Total Time: 0.180218935013 seconds\n"
       ]
      }
     ],
     "prompt_number": 16
    },
    {
     "cell_type": "code",
     "collapsed": false,
     "input": [
      "starttime = time()\n",
      "# Find all subgraphs of G, and then add in edges that explain the earliest isolate of each subgraph.\n",
      "\n",
      "subgraphs = list(nx.connected_component_subgraphs(full_transmissions.to_undirected()))\n",
      "print(\"Initially, we had %s subgraphs.\" % len(subgraphs))\n",
      "\n",
      "new_edges_to_add = []\n",
      "\n",
      "for i in range(len(subgraphs)):\n",
      "    earliest_nodes = find_earliest_nodes(subgraphs[i]) # Uses the custom function defined\n",
      "    \n",
      "    for earliest_node in earliest_nodes:\n",
      "\n",
      "        new_edges = find_source_node(earliest_node, discarded_full_transmissions) # Uses the custom function defined\n",
      "        if len(new_edges) > 0:\n",
      "            new_edges_to_add.extend(new_edges)\n",
      "            \n",
      "full_transmissions.add_edges_from(new_edges_to_add)\n",
      "\n",
      "print(\"An additional %s edges were added back as a result of finding sources for earliest isolates.\" % len(new_edges_to_add))\n",
      "print(\"We now have %s edges.\" % len(full_transmissions.edges()))\n",
      "endtime = time()\n",
      "print('Total Time: %s seconds' % (endtime - starttime))\n",
      "# Last recorded time: 0.600209951401 seconds."
     ],
     "language": "python",
     "metadata": {},
     "outputs": [
      {
       "output_type": "stream",
       "stream": "stdout",
       "text": [
        "Initially, we had 765 subgraphs.\n",
        "An additional 292 edges were added back as a result of finding sources for earliest isolates.\n",
        "We now have 2214 edges.\n",
        "Total Time: 0.528790950775 seconds\n"
       ]
      }
     ],
     "prompt_number": 17
    },
    {
     "cell_type": "code",
     "collapsed": false,
     "input": [
      "# # This cell was used for diagnostics to compare the graph from 3.15\n",
      "# # to the graph from 3.10. 2 October 2014: Now that the graph has been\n",
      "# # normalized, we don't need it anymore.\n",
      "# # Dump the graph as a JSON node-link file.\n",
      "# # Prior to doing this, serialize all of the node dates to be JSON serializable.\n",
      "# full_transmissions_serialized = full_transmissions.copy()\n",
      "\n",
      "# for node in full_transmissions_serialized.nodes(data=True):\n",
      "#     node[1]['isolation_date'] = serialize_date(node[1]['isolation_date'])\n",
      "\n",
      "# for edge in full_transmissions_serialized.edges(data=True):\n",
      "#     edge[2]['time_delta'] = edge[2]['time_delta'].days\n",
      "# d = json_graph.node_link_data(full_transmissions_serialized) # node-link format to serialize\n",
      "# json.dump(d, open('new_graph.json','w'))"
     ],
     "language": "python",
     "metadata": {},
     "outputs": [],
     "prompt_number": 18
    },
    {
     "cell_type": "code",
     "collapsed": false,
     "input": [
      "# We are now to find the reassortant isolates.\n",
      "starttime = time()\n",
      "for edge in full_transmissions.edges(data=True):\n",
      "    source = edge[0]\n",
      "    sink = edge[1]\n",
      "    \n",
      "    for segment in edge[2]['segments'].keys():\n",
      "        edge[2]['segments'][segment] = segment_affmats[segment].loc[source, sink]\n",
      "        \n",
      "endtime = time()\n",
      "print('Total Time: %s seconds' % (endtime - starttime))\n",
      "\n",
      "# Longest recorded time: 6 seconds."
     ],
     "language": "python",
     "metadata": {},
     "outputs": [
      {
       "output_type": "stream",
       "stream": "stdout",
       "text": [
        "Total Time: 2.9489440918 seconds\n"
       ]
      }
     ],
     "prompt_number": 19
    },
    {
     "cell_type": "code",
     "collapsed": false,
     "input": [
      "# Inspect full_transmissions edges:\n",
      "# full_transmissions.edges(data=True)"
     ],
     "language": "python",
     "metadata": {},
     "outputs": [],
     "prompt_number": 20
    },
    {
     "cell_type": "raw",
     "metadata": {},
     "source": [
      "The next step is to do reassortment finding. To do this, we need to group the isolates by their date, and assign as a \"plausible source\" those isolates which are up to 6 days after the isolation date of any other given isolate."
     ]
    },
    {
     "cell_type": "code",
     "collapsed": false,
     "input": [
      "from itertools import groupby\n",
      "from datetime import datetime, timedelta\n",
      "\n",
      "sorted_nodes = sorted(full_transmissions.nodes(data=True), key=lambda x:x[1]['isolation_date'])\n",
      "items = []\n",
      "for key, group in groupby(sorted_nodes, key=lambda x:x[1]['isolation_date']):\n",
      "#     print(key)\n",
      "    for item in group:\n",
      "        items.append(item)\n",
      "\n",
      "print(\"Sorted nodes is %s items long.\" % len(sorted_nodes))\n",
      "print(\"Recovered nodes is %s items long.\" % len(items))"
     ],
     "language": "python",
     "metadata": {},
     "outputs": [
      {
       "output_type": "stream",
       "stream": "stdout",
       "text": [
        "Sorted nodes is 1787 items long.\n",
        "Recovered nodes is 1787 items long.\n"
       ]
      }
     ],
     "prompt_number": 21
    },
    {
     "cell_type": "code",
     "collapsed": false,
     "input": [
      "# Let's iterate over all nodes, and first pre-compute a dictionary of \n",
      "# nodes that are sink --> plausible_source by collection date time deltas.\n",
      "candidate_sources = dict()\n",
      "starttime = time()\n",
      "\n",
      "for sink_node in all_segment_transmissions.nodes(data=True):\n",
      "    candidate_sources[sink_node[0]] = list()\n",
      "    for source_node in all_segment_transmissions.nodes(data=True):\n",
      "        if sink_node[0] != source_node[0] and sink_node[1]['isolation_date'] - source_node[1]['isolation_date'] >= timedelta(-6):\n",
      "            candidate_sources[sink_node[0]].append(source_node[0])\n",
      "endtime = time()\n",
      "print('Total Time: %s seconds' % (endtime - starttime))\n",
      "# Longest recorded time: 10 seconds."
     ],
     "language": "python",
     "metadata": {},
     "outputs": [
      {
       "output_type": "stream",
       "stream": "stdout",
       "text": [
        "Total Time: 10.1035871506 seconds\n"
       ]
      }
     ],
     "prompt_number": 22
    },
    {
     "cell_type": "code",
     "collapsed": false,
     "input": [
      "# From the dictionary of candidate sources, we can now filter the affinity\n",
      "# matrices for every node.\n",
      "\n",
      "starttime = time()\n",
      "\n",
      "plausible_sources = dict()\n",
      "\n",
      "for sink, sources in candidate_sources.items():\n",
      "    plausible_sources[sink] = dict()\n",
      "    \n",
      "    for segment in segments:\n",
      "        sources_with_pwis = segment_affmats[segment].loc[sink, sources]\n",
      "        plausible_sources[sink][segment] = sources_with_pwis[sources_with_pwis > segment_thresholds[segment]]\n",
      "    \n",
      "endtime = time()\n",
      "print('Total Time: %s seconds' % (endtime - starttime))\n",
      "\n",
      "# Longest recorded time: 24 seconds."
     ],
     "language": "python",
     "metadata": {},
     "outputs": [
      {
       "output_type": "stream",
       "stream": "stdout",
       "text": [
        "Total Time: 21.2947659492 seconds\n"
       ]
      }
     ],
     "prompt_number": 23
    },
    {
     "cell_type": "code",
     "collapsed": false,
     "input": [
      "# Now, we need to flip the plausible_sources dictionary such that we have\n",
      "# sink --> source --> (segments:PWIs).\n",
      "            \n",
      "starttime = time()\n",
      "\n",
      "segment_transmissions = dict()\n",
      "for sink, sources in candidate_sources.items():\n",
      "    segment_transmissions[sink] = dict()\n",
      "    for source in sources:\n",
      "        segment_transmissions[sink][source] = dict()\n",
      "        for segment in segments:\n",
      "            if source in plausible_sources[sink][segment].index:\n",
      "                segment_transmissions[sink][source][segment] = plausible_sources[sink][segment][source]\n",
      "\n",
      "endtime = time()\n",
      "print('Total Time: %s seconds' % (endtime - starttime))\n",
      "\n",
      "# Longest recorded time: 70 seconds."
     ],
     "language": "python",
     "metadata": {},
     "outputs": [
      {
       "output_type": "stream",
       "stream": "stdout",
       "text": [
        "Total Time: 72.2659361362 seconds\n"
       ]
      }
     ],
     "prompt_number": 24
    },
    {
     "cell_type": "code",
     "collapsed": false,
     "input": [
      "# How long does it take to deepcopy a dictionary in memory?\n",
      "# This is purely for curiosity's sake.\n",
      "starttime = time()\n",
      "reassortant_transmissions = deepcopy(segment_transmissions)\n",
      "endtime = time()\n",
      "print('Total Time: %s seconds' % (endtime - starttime))\n",
      "\n",
      "# Longest recorded time: 44 seconds."
     ],
     "language": "python",
     "metadata": {},
     "outputs": [
      {
       "output_type": "stream",
       "stream": "stdout",
       "text": [
        "Total Time: 43.7239699364 seconds\n"
       ]
      }
     ],
     "prompt_number": 25
    },
    {
     "cell_type": "code",
     "collapsed": false,
     "input": [
      "starttime = time()\n",
      "# Now, we are going to add \n",
      "for sink in reassortant_transmissions.keys():\n",
      "    for source in reassortant_transmissions[sink].keys():\n",
      "        if len(reassortant_transmissions[sink][source].keys()) == 8:\n",
      "            del reassortant_transmissions[sink]\n",
      "            break\n",
      "endtime = time()\n",
      "print('Total Time: %s seconds' % (endtime - starttime))\n",
      "print(\"There are %s putative reassortant isolates.\" % len(reassortant_transmissions.keys()))\n",
      "# Longest recorded time: 4 seconds."
     ],
     "language": "python",
     "metadata": {},
     "outputs": [
      {
       "output_type": "stream",
       "stream": "stdout",
       "text": [
        "Total Time: 0.708693027496 seconds\n",
        "There are 507 putative reassortant isolates.\n"
       ]
      }
     ],
     "prompt_number": 26
    },
    {
     "cell_type": "code",
     "collapsed": false,
     "input": [
      "starttime = time()\n",
      "\n",
      "# Finally iterate over every sink-source pair, and identify pairs for \n",
      "# which the set of segments total all 8.\n",
      "reassortant_isolates = dict()\n",
      "for sink in reassortant_transmissions.keys():\n",
      "    print(\"Currently at item %s of %s\" % (reassortant_transmissions.keys().index(sink), len(reassortant_transmissions.keys())))    \n",
      "    reassortant_isolates[sink] = dict()\n",
      "    for source1, source2 in combinations(reassortant_transmissions[sink].keys(), 2):\n",
      "        segs1 = reassortant_transmissions[sink][source1].keys()\n",
      "        segs2 = reassortant_transmissions[sink][source2].keys()\n",
      "        if set(segs1).union(segs2) == set(segments):\n",
      "            source_pair = (source1, source2)\n",
      "            \n",
      "            reassortant_isolates[sink][source_pair] = dict()\n",
      "            \n",
      "            for segment in segments:\n",
      "                # Segment was not donated by Source 1\n",
      "                if segment not in reassortant_transmissions[sink][source1].keys():\n",
      "                    reassortant_isolates[sink][source_pair][segment] = (source2, reassortant_transmissions[sink][source2][segment])\n",
      "\n",
      "                # Segment was not donated by Source 2\n",
      "                if segment not in reassortant_transmissions[sink][source2].keys():\n",
      "                    reassortant_isolates[sink][source_pair][segment] = (source1, reassortant_transmissions[sink][source1][segment])\n",
      "\n",
      "                # Segment could have been donated by Source 1 or Source 2\n",
      "                if segment in reassortant_transmissions[sink][source1].keys() and segment in reassortant_transmissions[sink][source2].keys():\n",
      "\n",
      "                    # Source 1 PWI > Source 2 PWI --> add Source 1\n",
      "                    if reassortant_transmissions[sink][source1][segment] > reassortant_transmissions[sink][source2][segment]:\n",
      "                        reassortant_isolates[sink][source_pair][segment] = (source1, reassortant_transmissions[sink][source1][segment])\n",
      "\n",
      "                    # Source 1 PWI < Source 2 PWI --> add Source 2\n",
      "                    if reassortant_transmissions[sink][source1][segment] < reassortant_transmissions[sink][source2][segment]:\n",
      "                        reassortant_isolates[sink][source_pair][segment] = (source2, reassortant_transmissions[sink][source2][segment])\n",
      "\n",
      "                    # Source 1 PWI == Source 2 PWI --> add source_pair, and pick source2's PWI for convenience sake.\n",
      "                    if reassortant_transmissions[sink][source1][segment] == reassortant_transmissions[sink][source2][segment]:\n",
      "                        reassortant_isolates[sink][source_pair][segment] = ((source_pair), reassortant_transmissions[sink][source2][segment])\n",
      "\n",
      "\n",
      "\n",
      "endtime = time()\n",
      "print('Total Time: %s seconds' % (endtime - starttime))\n",
      "\n",
      "# Longest recorded time: 771 seconds."
     ],
     "language": "python",
     "metadata": {},
     "outputs": [
      {
       "output_type": "stream",
       "stream": "stdout",
       "text": [
        "Currently at item 0 of 507\n",
        "Currently at item 1 of 507"
       ]
      },
      {
       "output_type": "stream",
       "stream": "stdout",
       "text": [
        "\n",
        "Currently at item 2 of 507"
       ]
      },
      {
       "output_type": "stream",
       "stream": "stdout",
       "text": [
        "\n",
        "Currently at item 3 of 507"
       ]
      },
      {
       "output_type": "stream",
       "stream": "stdout",
       "text": [
        "\n",
        "Currently at item 4 of 507"
       ]
      },
      {
       "output_type": "stream",
       "stream": "stdout",
       "text": [
        "\n",
        "Currently at item 5 of 507"
       ]
      },
      {
       "output_type": "stream",
       "stream": "stdout",
       "text": [
        "\n",
        "Currently at item 6 of 507"
       ]
      },
      {
       "output_type": "stream",
       "stream": "stdout",
       "text": [
        "\n",
        "Currently at item 7 of 507"
       ]
      },
      {
       "output_type": "stream",
       "stream": "stdout",
       "text": [
        "\n",
        "Currently at item 8 of 507"
       ]
      },
      {
       "output_type": "stream",
       "stream": "stdout",
       "text": [
        "\n",
        "Currently at item 9 of 507"
       ]
      },
      {
       "output_type": "stream",
       "stream": "stdout",
       "text": [
        "\n",
        "Currently at item 10 of 507"
       ]
      },
      {
       "output_type": "stream",
       "stream": "stdout",
       "text": [
        "\n",
        "Currently at item 11 of 507"
       ]
      },
      {
       "output_type": "stream",
       "stream": "stdout",
       "text": [
        "\n",
        "Currently at item 12 of 507"
       ]
      },
      {
       "output_type": "stream",
       "stream": "stdout",
       "text": [
        "\n",
        "Currently at item 13 of 507"
       ]
      },
      {
       "output_type": "stream",
       "stream": "stdout",
       "text": [
        "\n",
        "Currently at item 14 of 507\n",
        "Currently at item 15 of 507"
       ]
      },
      {
       "output_type": "stream",
       "stream": "stdout",
       "text": [
        "\n",
        "Currently at item 16 of 507"
       ]
      },
      {
       "output_type": "stream",
       "stream": "stdout",
       "text": [
        "\n",
        "Currently at item 17 of 507"
       ]
      },
      {
       "output_type": "stream",
       "stream": "stdout",
       "text": [
        "\n",
        "Currently at item 18 of 507"
       ]
      },
      {
       "output_type": "stream",
       "stream": "stdout",
       "text": [
        "\n",
        "Currently at item 19 of 507"
       ]
      },
      {
       "output_type": "stream",
       "stream": "stdout",
       "text": [
        "\n",
        "Currently at item 20 of 507"
       ]
      },
      {
       "output_type": "stream",
       "stream": "stdout",
       "text": [
        "\n",
        "Currently at item 21 of 507"
       ]
      },
      {
       "output_type": "stream",
       "stream": "stdout",
       "text": [
        "\n",
        "Currently at item 22 of 507"
       ]
      },
      {
       "output_type": "stream",
       "stream": "stdout",
       "text": [
        "\n",
        "Currently at item 23 of 507"
       ]
      },
      {
       "output_type": "stream",
       "stream": "stdout",
       "text": [
        "\n",
        "Currently at item 24 of 507"
       ]
      },
      {
       "output_type": "stream",
       "stream": "stdout",
       "text": [
        "\n",
        "Currently at item 25 of 507"
       ]
      },
      {
       "output_type": "stream",
       "stream": "stdout",
       "text": [
        "\n",
        "Currently at item 26 of 507"
       ]
      },
      {
       "output_type": "stream",
       "stream": "stdout",
       "text": [
        "\n",
        "Currently at item 27 of 507"
       ]
      },
      {
       "output_type": "stream",
       "stream": "stdout",
       "text": [
        "\n",
        "Currently at item 28 of 507"
       ]
      },
      {
       "output_type": "stream",
       "stream": "stdout",
       "text": [
        "\n",
        "Currently at item 29 of 507"
       ]
      },
      {
       "output_type": "stream",
       "stream": "stdout",
       "text": [
        "\n",
        "Currently at item 30 of 507\n",
        "Currently at item 31 of 507"
       ]
      },
      {
       "output_type": "stream",
       "stream": "stdout",
       "text": [
        "\n",
        "Currently at item 32 of 507\n",
        "Currently at item 33 of 507"
       ]
      },
      {
       "output_type": "stream",
       "stream": "stdout",
       "text": [
        "\n",
        "Currently at item 34 of 507"
       ]
      },
      {
       "output_type": "stream",
       "stream": "stdout",
       "text": [
        "\n",
        "Currently at item 35 of 507"
       ]
      },
      {
       "output_type": "stream",
       "stream": "stdout",
       "text": [
        "\n",
        "Currently at item 36 of 507"
       ]
      },
      {
       "output_type": "stream",
       "stream": "stdout",
       "text": [
        "\n",
        "Currently at item 37 of 507"
       ]
      },
      {
       "output_type": "stream",
       "stream": "stdout",
       "text": [
        "\n",
        "Currently at item 38 of 507"
       ]
      },
      {
       "output_type": "stream",
       "stream": "stdout",
       "text": [
        "\n",
        "Currently at item 39 of 507"
       ]
      },
      {
       "output_type": "stream",
       "stream": "stdout",
       "text": [
        "\n",
        "Currently at item 40 of 507\n",
        "Currently at item 41 of 507"
       ]
      },
      {
       "output_type": "stream",
       "stream": "stdout",
       "text": [
        "\n",
        "Currently at item 42 of 507"
       ]
      },
      {
       "output_type": "stream",
       "stream": "stdout",
       "text": [
        "\n",
        "Currently at item 43 of 507"
       ]
      },
      {
       "output_type": "stream",
       "stream": "stdout",
       "text": [
        "\n",
        "Currently at item 44 of 507"
       ]
      },
      {
       "output_type": "stream",
       "stream": "stdout",
       "text": [
        "\n",
        "Currently at item 45 of 507\n",
        "Currently at item 46 of 507"
       ]
      },
      {
       "output_type": "stream",
       "stream": "stdout",
       "text": [
        "\n",
        "Currently at item 47 of 507"
       ]
      },
      {
       "output_type": "stream",
       "stream": "stdout",
       "text": [
        "\n",
        "Currently at item 48 of 507"
       ]
      },
      {
       "output_type": "stream",
       "stream": "stdout",
       "text": [
        "\n",
        "Currently at item 49 of 507\n",
        "Currently at item 50 of 507"
       ]
      },
      {
       "output_type": "stream",
       "stream": "stdout",
       "text": [
        "\n",
        "Currently at item 51 of 507"
       ]
      },
      {
       "output_type": "stream",
       "stream": "stdout",
       "text": [
        "\n",
        "Currently at item 52 of 507"
       ]
      },
      {
       "output_type": "stream",
       "stream": "stdout",
       "text": [
        "\n",
        "Currently at item 53 of 507"
       ]
      },
      {
       "output_type": "stream",
       "stream": "stdout",
       "text": [
        "\n",
        "Currently at item 54 of 507"
       ]
      },
      {
       "output_type": "stream",
       "stream": "stdout",
       "text": [
        "\n",
        "Currently at item 55 of 507"
       ]
      },
      {
       "output_type": "stream",
       "stream": "stdout",
       "text": [
        "\n",
        "Currently at item 56 of 507"
       ]
      },
      {
       "output_type": "stream",
       "stream": "stdout",
       "text": [
        "\n",
        "Currently at item 57 of 507"
       ]
      },
      {
       "output_type": "stream",
       "stream": "stdout",
       "text": [
        "\n",
        "Currently at item 58 of 507"
       ]
      },
      {
       "output_type": "stream",
       "stream": "stdout",
       "text": [
        "\n",
        "Currently at item 59 of 507"
       ]
      },
      {
       "output_type": "stream",
       "stream": "stdout",
       "text": [
        "\n",
        "Currently at item 60 of 507"
       ]
      },
      {
       "output_type": "stream",
       "stream": "stdout",
       "text": [
        "\n",
        "Currently at item 61 of 507"
       ]
      },
      {
       "output_type": "stream",
       "stream": "stdout",
       "text": [
        "\n",
        "Currently at item 62 of 507"
       ]
      },
      {
       "output_type": "stream",
       "stream": "stdout",
       "text": [
        "\n",
        "Currently at item 63 of 507"
       ]
      },
      {
       "output_type": "stream",
       "stream": "stdout",
       "text": [
        "\n",
        "Currently at item 64 of 507"
       ]
      },
      {
       "output_type": "stream",
       "stream": "stdout",
       "text": [
        "\n",
        "Currently at item 65 of 507"
       ]
      },
      {
       "output_type": "stream",
       "stream": "stdout",
       "text": [
        "\n",
        "Currently at item 66 of 507\n",
        "Currently at item 67 of 507"
       ]
      },
      {
       "output_type": "stream",
       "stream": "stdout",
       "text": [
        "\n",
        "Currently at item 68 of 507"
       ]
      },
      {
       "output_type": "stream",
       "stream": "stdout",
       "text": [
        "\n",
        "Currently at item 69 of 507"
       ]
      },
      {
       "output_type": "stream",
       "stream": "stdout",
       "text": [
        "\n",
        "Currently at item 70 of 507"
       ]
      },
      {
       "output_type": "stream",
       "stream": "stdout",
       "text": [
        "\n",
        "Currently at item 71 of 507"
       ]
      },
      {
       "output_type": "stream",
       "stream": "stdout",
       "text": [
        "\n",
        "Currently at item 72 of 507"
       ]
      },
      {
       "output_type": "stream",
       "stream": "stdout",
       "text": [
        "\n",
        "Currently at item 73 of 507"
       ]
      },
      {
       "output_type": "stream",
       "stream": "stdout",
       "text": [
        "\n",
        "Currently at item 74 of 507"
       ]
      },
      {
       "output_type": "stream",
       "stream": "stdout",
       "text": [
        "\n",
        "Currently at item 75 of 507"
       ]
      },
      {
       "output_type": "stream",
       "stream": "stdout",
       "text": [
        "\n",
        "Currently at item 76 of 507"
       ]
      },
      {
       "output_type": "stream",
       "stream": "stdout",
       "text": [
        "\n",
        "Currently at item 77 of 507"
       ]
      },
      {
       "output_type": "stream",
       "stream": "stdout",
       "text": [
        "\n",
        "Currently at item 78 of 507"
       ]
      },
      {
       "output_type": "stream",
       "stream": "stdout",
       "text": [
        "\n",
        "Currently at item 79 of 507"
       ]
      },
      {
       "output_type": "stream",
       "stream": "stdout",
       "text": [
        "\n",
        "Currently at item 80 of 507"
       ]
      },
      {
       "output_type": "stream",
       "stream": "stdout",
       "text": [
        "\n",
        "Currently at item 81 of 507\n",
        "Currently at item 82 of 507"
       ]
      },
      {
       "output_type": "stream",
       "stream": "stdout",
       "text": [
        "\n",
        "Currently at item 83 of 507"
       ]
      },
      {
       "output_type": "stream",
       "stream": "stdout",
       "text": [
        "\n",
        "Currently at item 84 of 507"
       ]
      },
      {
       "output_type": "stream",
       "stream": "stdout",
       "text": [
        "\n",
        "Currently at item 85 of 507"
       ]
      },
      {
       "output_type": "stream",
       "stream": "stdout",
       "text": [
        "\n",
        "Currently at item 86 of 507"
       ]
      },
      {
       "output_type": "stream",
       "stream": "stdout",
       "text": [
        "\n",
        "Currently at item 87 of 507"
       ]
      },
      {
       "output_type": "stream",
       "stream": "stdout",
       "text": [
        "\n",
        "Currently at item 88 of 507"
       ]
      },
      {
       "output_type": "stream",
       "stream": "stdout",
       "text": [
        "\n",
        "Currently at item 89 of 507"
       ]
      },
      {
       "output_type": "stream",
       "stream": "stdout",
       "text": [
        "\n",
        "Currently at item 90 of 507"
       ]
      },
      {
       "output_type": "stream",
       "stream": "stdout",
       "text": [
        "\n",
        "Currently at item 91 of 507"
       ]
      },
      {
       "output_type": "stream",
       "stream": "stdout",
       "text": [
        "\n",
        "Currently at item 92 of 507"
       ]
      },
      {
       "output_type": "stream",
       "stream": "stdout",
       "text": [
        "\n",
        "Currently at item 93 of 507"
       ]
      },
      {
       "output_type": "stream",
       "stream": "stdout",
       "text": [
        "\n",
        "Currently at item 94 of 507"
       ]
      },
      {
       "output_type": "stream",
       "stream": "stdout",
       "text": [
        "\n",
        "Currently at item 95 of 507"
       ]
      },
      {
       "output_type": "stream",
       "stream": "stdout",
       "text": [
        "\n",
        "Currently at item 96 of 507\n",
        "Currently at item 97 of 507"
       ]
      },
      {
       "output_type": "stream",
       "stream": "stdout",
       "text": [
        "\n",
        "Currently at item 98 of 507\n",
        "Currently at item 99 of 507"
       ]
      },
      {
       "output_type": "stream",
       "stream": "stdout",
       "text": [
        "\n",
        "Currently at item 100 of 507"
       ]
      },
      {
       "output_type": "stream",
       "stream": "stdout",
       "text": [
        "\n",
        "Currently at item 101 of 507"
       ]
      },
      {
       "output_type": "stream",
       "stream": "stdout",
       "text": [
        "\n",
        "Currently at item 102 of 507"
       ]
      },
      {
       "output_type": "stream",
       "stream": "stdout",
       "text": [
        "\n",
        "Currently at item 103 of 507"
       ]
      },
      {
       "output_type": "stream",
       "stream": "stdout",
       "text": [
        "\n",
        "Currently at item 104 of 507"
       ]
      },
      {
       "output_type": "stream",
       "stream": "stdout",
       "text": [
        "\n",
        "Currently at item 105 of 507"
       ]
      },
      {
       "output_type": "stream",
       "stream": "stdout",
       "text": [
        "\n",
        "Currently at item 106 of 507"
       ]
      },
      {
       "output_type": "stream",
       "stream": "stdout",
       "text": [
        "\n",
        "Currently at item 107 of 507"
       ]
      },
      {
       "output_type": "stream",
       "stream": "stdout",
       "text": [
        "\n",
        "Currently at item 108 of 507"
       ]
      },
      {
       "output_type": "stream",
       "stream": "stdout",
       "text": [
        "\n",
        "Currently at item 109 of 507\n",
        "Currently at item 110 of 507"
       ]
      },
      {
       "output_type": "stream",
       "stream": "stdout",
       "text": [
        "\n",
        "Currently at item 111 of 507"
       ]
      },
      {
       "output_type": "stream",
       "stream": "stdout",
       "text": [
        "\n",
        "Currently at item 112 of 507"
       ]
      },
      {
       "output_type": "stream",
       "stream": "stdout",
       "text": [
        "\n",
        "Currently at item 113 of 507"
       ]
      },
      {
       "output_type": "stream",
       "stream": "stdout",
       "text": [
        "\n",
        "Currently at item 114 of 507"
       ]
      },
      {
       "output_type": "stream",
       "stream": "stdout",
       "text": [
        "\n",
        "Currently at item 115 of 507"
       ]
      },
      {
       "output_type": "stream",
       "stream": "stdout",
       "text": [
        "\n",
        "Currently at item 116 of 507"
       ]
      },
      {
       "output_type": "stream",
       "stream": "stdout",
       "text": [
        "\n",
        "Currently at item 117 of 507"
       ]
      },
      {
       "output_type": "stream",
       "stream": "stdout",
       "text": [
        "\n",
        "Currently at item 118 of 507"
       ]
      },
      {
       "output_type": "stream",
       "stream": "stdout",
       "text": [
        "\n",
        "Currently at item 119 of 507"
       ]
      },
      {
       "output_type": "stream",
       "stream": "stdout",
       "text": [
        "\n",
        "Currently at item 120 of 507"
       ]
      },
      {
       "output_type": "stream",
       "stream": "stdout",
       "text": [
        "\n",
        "Currently at item 121 of 507"
       ]
      },
      {
       "output_type": "stream",
       "stream": "stdout",
       "text": [
        "\n",
        "Currently at item 122 of 507"
       ]
      },
      {
       "output_type": "stream",
       "stream": "stdout",
       "text": [
        "\n",
        "Currently at item 123 of 507"
       ]
      },
      {
       "output_type": "stream",
       "stream": "stdout",
       "text": [
        "\n",
        "Currently at item 124 of 507"
       ]
      },
      {
       "output_type": "stream",
       "stream": "stdout",
       "text": [
        "\n",
        "Currently at item 125 of 507"
       ]
      },
      {
       "output_type": "stream",
       "stream": "stdout",
       "text": [
        "\n",
        "Currently at item 126 of 507"
       ]
      },
      {
       "output_type": "stream",
       "stream": "stdout",
       "text": [
        "\n",
        "Currently at item 127 of 507"
       ]
      },
      {
       "output_type": "stream",
       "stream": "stdout",
       "text": [
        "\n",
        "Currently at item 128 of 507"
       ]
      },
      {
       "output_type": "stream",
       "stream": "stdout",
       "text": [
        "\n",
        "Currently at item 129 of 507"
       ]
      },
      {
       "output_type": "stream",
       "stream": "stdout",
       "text": [
        "\n",
        "Currently at item 130 of 507\n",
        "Currently at item 131 of 507"
       ]
      },
      {
       "output_type": "stream",
       "stream": "stdout",
       "text": [
        "\n",
        "Currently at item 132 of 507"
       ]
      },
      {
       "output_type": "stream",
       "stream": "stdout",
       "text": [
        "\n",
        "Currently at item 133 of 507"
       ]
      },
      {
       "output_type": "stream",
       "stream": "stdout",
       "text": [
        "\n",
        "Currently at item 134 of 507"
       ]
      },
      {
       "output_type": "stream",
       "stream": "stdout",
       "text": [
        "\n",
        "Currently at item 135 of 507"
       ]
      },
      {
       "output_type": "stream",
       "stream": "stdout",
       "text": [
        "\n",
        "Currently at item 136 of 507"
       ]
      },
      {
       "output_type": "stream",
       "stream": "stdout",
       "text": [
        "\n",
        "Currently at item 137 of 507"
       ]
      },
      {
       "output_type": "stream",
       "stream": "stdout",
       "text": [
        "\n",
        "Currently at item 138 of 507"
       ]
      },
      {
       "output_type": "stream",
       "stream": "stdout",
       "text": [
        "\n",
        "Currently at item 139 of 507"
       ]
      },
      {
       "output_type": "stream",
       "stream": "stdout",
       "text": [
        "\n",
        "Currently at item 140 of 507"
       ]
      },
      {
       "output_type": "stream",
       "stream": "stdout",
       "text": [
        "\n",
        "Currently at item 141 of 507"
       ]
      },
      {
       "output_type": "stream",
       "stream": "stdout",
       "text": [
        "\n",
        "Currently at item 142 of 507"
       ]
      },
      {
       "output_type": "stream",
       "stream": "stdout",
       "text": [
        "\n",
        "Currently at item 143 of 507"
       ]
      },
      {
       "output_type": "stream",
       "stream": "stdout",
       "text": [
        "\n",
        "Currently at item 144 of 507"
       ]
      },
      {
       "output_type": "stream",
       "stream": "stdout",
       "text": [
        "\n",
        "Currently at item 145 of 507"
       ]
      },
      {
       "output_type": "stream",
       "stream": "stdout",
       "text": [
        "\n",
        "Currently at item 146 of 507"
       ]
      },
      {
       "output_type": "stream",
       "stream": "stdout",
       "text": [
        "\n",
        "Currently at item 147 of 507"
       ]
      },
      {
       "output_type": "stream",
       "stream": "stdout",
       "text": [
        "\n",
        "Currently at item 148 of 507"
       ]
      },
      {
       "output_type": "stream",
       "stream": "stdout",
       "text": [
        "\n",
        "Currently at item 149 of 507"
       ]
      },
      {
       "output_type": "stream",
       "stream": "stdout",
       "text": [
        "\n",
        "Currently at item 150 of 507"
       ]
      },
      {
       "output_type": "stream",
       "stream": "stdout",
       "text": [
        "\n",
        "Currently at item 151 of 507"
       ]
      },
      {
       "output_type": "stream",
       "stream": "stdout",
       "text": [
        "\n",
        "Currently at item 152 of 507"
       ]
      },
      {
       "output_type": "stream",
       "stream": "stdout",
       "text": [
        "\n",
        "Currently at item 153 of 507"
       ]
      },
      {
       "output_type": "stream",
       "stream": "stdout",
       "text": [
        "\n",
        "Currently at item 154 of 507\n",
        "Currently at item 155 of 507"
       ]
      },
      {
       "output_type": "stream",
       "stream": "stdout",
       "text": [
        "\n",
        "Currently at item 156 of 507"
       ]
      },
      {
       "output_type": "stream",
       "stream": "stdout",
       "text": [
        "\n",
        "Currently at item 157 of 507"
       ]
      },
      {
       "output_type": "stream",
       "stream": "stdout",
       "text": [
        "\n",
        "Currently at item 158 of 507"
       ]
      },
      {
       "output_type": "stream",
       "stream": "stdout",
       "text": [
        "\n",
        "Currently at item 159 of 507"
       ]
      },
      {
       "output_type": "stream",
       "stream": "stdout",
       "text": [
        "\n",
        "Currently at item 160 of 507"
       ]
      },
      {
       "output_type": "stream",
       "stream": "stdout",
       "text": [
        "\n",
        "Currently at item 161 of 507"
       ]
      },
      {
       "output_type": "stream",
       "stream": "stdout",
       "text": [
        "\n",
        "Currently at item 162 of 507"
       ]
      },
      {
       "output_type": "stream",
       "stream": "stdout",
       "text": [
        "\n",
        "Currently at item 163 of 507"
       ]
      },
      {
       "output_type": "stream",
       "stream": "stdout",
       "text": [
        "\n",
        "Currently at item 164 of 507"
       ]
      },
      {
       "output_type": "stream",
       "stream": "stdout",
       "text": [
        "\n",
        "Currently at item 165 of 507"
       ]
      },
      {
       "output_type": "stream",
       "stream": "stdout",
       "text": [
        "\n",
        "Currently at item 166 of 507"
       ]
      },
      {
       "output_type": "stream",
       "stream": "stdout",
       "text": [
        "\n",
        "Currently at item 167 of 507"
       ]
      },
      {
       "output_type": "stream",
       "stream": "stdout",
       "text": [
        "\n",
        "Currently at item 168 of 507"
       ]
      },
      {
       "output_type": "stream",
       "stream": "stdout",
       "text": [
        "\n",
        "Currently at item 169 of 507"
       ]
      },
      {
       "output_type": "stream",
       "stream": "stdout",
       "text": [
        "\n",
        "Currently at item 170 of 507\n",
        "Currently at item 171 of 507"
       ]
      },
      {
       "output_type": "stream",
       "stream": "stdout",
       "text": [
        "\n",
        "Currently at item 172 of 507"
       ]
      },
      {
       "output_type": "stream",
       "stream": "stdout",
       "text": [
        "\n",
        "Currently at item 173 of 507"
       ]
      },
      {
       "output_type": "stream",
       "stream": "stdout",
       "text": [
        "\n",
        "Currently at item 174 of 507"
       ]
      },
      {
       "output_type": "stream",
       "stream": "stdout",
       "text": [
        "\n",
        "Currently at item 175 of 507"
       ]
      },
      {
       "output_type": "stream",
       "stream": "stdout",
       "text": [
        "\n",
        "Currently at item 176 of 507"
       ]
      },
      {
       "output_type": "stream",
       "stream": "stdout",
       "text": [
        "\n",
        "Currently at item 177 of 507"
       ]
      },
      {
       "output_type": "stream",
       "stream": "stdout",
       "text": [
        "\n",
        "Currently at item 178 of 507"
       ]
      },
      {
       "output_type": "stream",
       "stream": "stdout",
       "text": [
        "\n",
        "Currently at item 179 of 507"
       ]
      },
      {
       "output_type": "stream",
       "stream": "stdout",
       "text": [
        "\n",
        "Currently at item 180 of 507"
       ]
      },
      {
       "output_type": "stream",
       "stream": "stdout",
       "text": [
        "\n",
        "Currently at item 181 of 507"
       ]
      },
      {
       "output_type": "stream",
       "stream": "stdout",
       "text": [
        "\n",
        "Currently at item 182 of 507"
       ]
      },
      {
       "output_type": "stream",
       "stream": "stdout",
       "text": [
        "\n",
        "Currently at item 183 of 507"
       ]
      },
      {
       "output_type": "stream",
       "stream": "stdout",
       "text": [
        "\n",
        "Currently at item 184 of 507"
       ]
      },
      {
       "output_type": "stream",
       "stream": "stdout",
       "text": [
        "\n",
        "Currently at item 185 of 507"
       ]
      },
      {
       "output_type": "stream",
       "stream": "stdout",
       "text": [
        "\n",
        "Currently at item 186 of 507"
       ]
      },
      {
       "output_type": "stream",
       "stream": "stdout",
       "text": [
        "\n",
        "Currently at item 187 of 507"
       ]
      },
      {
       "output_type": "stream",
       "stream": "stdout",
       "text": [
        "\n",
        "Currently at item 188 of 507\n",
        "Currently at item 189 of 507"
       ]
      },
      {
       "output_type": "stream",
       "stream": "stdout",
       "text": [
        "\n",
        "Currently at item 190 of 507"
       ]
      },
      {
       "output_type": "stream",
       "stream": "stdout",
       "text": [
        "\n",
        "Currently at item 191 of 507"
       ]
      },
      {
       "output_type": "stream",
       "stream": "stdout",
       "text": [
        "\n",
        "Currently at item 192 of 507"
       ]
      },
      {
       "output_type": "stream",
       "stream": "stdout",
       "text": [
        "\n",
        "Currently at item 193 of 507"
       ]
      },
      {
       "output_type": "stream",
       "stream": "stdout",
       "text": [
        "\n",
        "Currently at item 194 of 507"
       ]
      },
      {
       "output_type": "stream",
       "stream": "stdout",
       "text": [
        "\n",
        "Currently at item 195 of 507"
       ]
      },
      {
       "output_type": "stream",
       "stream": "stdout",
       "text": [
        "\n",
        "Currently at item 196 of 507"
       ]
      },
      {
       "output_type": "stream",
       "stream": "stdout",
       "text": [
        "\n",
        "Currently at item 197 of 507\n",
        "Currently at item 198 of 507"
       ]
      },
      {
       "output_type": "stream",
       "stream": "stdout",
       "text": [
        "\n",
        "Currently at item 199 of 507"
       ]
      },
      {
       "output_type": "stream",
       "stream": "stdout",
       "text": [
        "\n",
        "Currently at item 200 of 507"
       ]
      },
      {
       "output_type": "stream",
       "stream": "stdout",
       "text": [
        "\n",
        "Currently at item 201 of 507"
       ]
      },
      {
       "output_type": "stream",
       "stream": "stdout",
       "text": [
        "\n",
        "Currently at item 202 of 507"
       ]
      },
      {
       "output_type": "stream",
       "stream": "stdout",
       "text": [
        "\n",
        "Currently at item 203 of 507"
       ]
      },
      {
       "output_type": "stream",
       "stream": "stdout",
       "text": [
        "\n",
        "Currently at item 204 of 507"
       ]
      },
      {
       "output_type": "stream",
       "stream": "stdout",
       "text": [
        "\n",
        "Currently at item 205 of 507"
       ]
      },
      {
       "output_type": "stream",
       "stream": "stdout",
       "text": [
        "\n",
        "Currently at item 206 of 507"
       ]
      },
      {
       "output_type": "stream",
       "stream": "stdout",
       "text": [
        "\n",
        "Currently at item 207 of 507"
       ]
      },
      {
       "output_type": "stream",
       "stream": "stdout",
       "text": [
        "\n",
        "Currently at item 208 of 507"
       ]
      },
      {
       "output_type": "stream",
       "stream": "stdout",
       "text": [
        "\n",
        "Currently at item 209 of 507"
       ]
      },
      {
       "output_type": "stream",
       "stream": "stdout",
       "text": [
        "\n",
        "Currently at item 210 of 507"
       ]
      },
      {
       "output_type": "stream",
       "stream": "stdout",
       "text": [
        "\n",
        "Currently at item 211 of 507"
       ]
      },
      {
       "output_type": "stream",
       "stream": "stdout",
       "text": [
        "\n",
        "Currently at item 212 of 507"
       ]
      },
      {
       "output_type": "stream",
       "stream": "stdout",
       "text": [
        "\n",
        "Currently at item 213 of 507"
       ]
      },
      {
       "output_type": "stream",
       "stream": "stdout",
       "text": [
        "\n",
        "Currently at item 214 of 507"
       ]
      },
      {
       "output_type": "stream",
       "stream": "stdout",
       "text": [
        "\n",
        "Currently at item 215 of 507"
       ]
      },
      {
       "output_type": "stream",
       "stream": "stdout",
       "text": [
        "\n",
        "Currently at item 216 of 507"
       ]
      },
      {
       "output_type": "stream",
       "stream": "stdout",
       "text": [
        "\n",
        "Currently at item 217 of 507"
       ]
      },
      {
       "output_type": "stream",
       "stream": "stdout",
       "text": [
        "\n",
        "Currently at item 218 of 507"
       ]
      },
      {
       "output_type": "stream",
       "stream": "stdout",
       "text": [
        "\n",
        "Currently at item 219 of 507"
       ]
      },
      {
       "output_type": "stream",
       "stream": "stdout",
       "text": [
        "\n",
        "Currently at item 220 of 507"
       ]
      },
      {
       "output_type": "stream",
       "stream": "stdout",
       "text": [
        "\n",
        "Currently at item 221 of 507"
       ]
      },
      {
       "output_type": "stream",
       "stream": "stdout",
       "text": [
        "\n",
        "Currently at item 222 of 507"
       ]
      },
      {
       "output_type": "stream",
       "stream": "stdout",
       "text": [
        "\n",
        "Currently at item 223 of 507"
       ]
      },
      {
       "output_type": "stream",
       "stream": "stdout",
       "text": [
        "\n",
        "Currently at item 224 of 507"
       ]
      },
      {
       "output_type": "stream",
       "stream": "stdout",
       "text": [
        "\n",
        "Currently at item 225 of 507"
       ]
      },
      {
       "output_type": "stream",
       "stream": "stdout",
       "text": [
        "\n",
        "Currently at item 226 of 507"
       ]
      },
      {
       "output_type": "stream",
       "stream": "stdout",
       "text": [
        "\n",
        "Currently at item 227 of 507"
       ]
      },
      {
       "output_type": "stream",
       "stream": "stdout",
       "text": [
        "\n",
        "Currently at item 228 of 507"
       ]
      },
      {
       "output_type": "stream",
       "stream": "stdout",
       "text": [
        "\n",
        "Currently at item 229 of 507"
       ]
      },
      {
       "output_type": "stream",
       "stream": "stdout",
       "text": [
        "\n",
        "Currently at item 230 of 507"
       ]
      },
      {
       "output_type": "stream",
       "stream": "stdout",
       "text": [
        "\n",
        "Currently at item 231 of 507"
       ]
      },
      {
       "output_type": "stream",
       "stream": "stdout",
       "text": [
        "\n",
        "Currently at item 232 of 507"
       ]
      },
      {
       "output_type": "stream",
       "stream": "stdout",
       "text": [
        "\n",
        "Currently at item 233 of 507"
       ]
      },
      {
       "output_type": "stream",
       "stream": "stdout",
       "text": [
        "\n",
        "Currently at item 234 of 507"
       ]
      },
      {
       "output_type": "stream",
       "stream": "stdout",
       "text": [
        "\n",
        "Currently at item 235 of 507"
       ]
      },
      {
       "output_type": "stream",
       "stream": "stdout",
       "text": [
        "\n",
        "Currently at item 236 of 507"
       ]
      },
      {
       "output_type": "stream",
       "stream": "stdout",
       "text": [
        "\n",
        "Currently at item 237 of 507"
       ]
      },
      {
       "output_type": "stream",
       "stream": "stdout",
       "text": [
        "\n",
        "Currently at item 238 of 507"
       ]
      },
      {
       "output_type": "stream",
       "stream": "stdout",
       "text": [
        "\n",
        "Currently at item 239 of 507"
       ]
      },
      {
       "output_type": "stream",
       "stream": "stdout",
       "text": [
        "\n",
        "Currently at item 240 of 507"
       ]
      },
      {
       "output_type": "stream",
       "stream": "stdout",
       "text": [
        "\n",
        "Currently at item 241 of 507"
       ]
      },
      {
       "output_type": "stream",
       "stream": "stdout",
       "text": [
        "\n",
        "Currently at item 242 of 507\n",
        "Currently at item 243 of 507"
       ]
      },
      {
       "output_type": "stream",
       "stream": "stdout",
       "text": [
        "\n",
        "Currently at item 244 of 507"
       ]
      },
      {
       "output_type": "stream",
       "stream": "stdout",
       "text": [
        "\n",
        "Currently at item 245 of 507"
       ]
      },
      {
       "output_type": "stream",
       "stream": "stdout",
       "text": [
        "\n",
        "Currently at item 246 of 507"
       ]
      },
      {
       "output_type": "stream",
       "stream": "stdout",
       "text": [
        "\n",
        "Currently at item 247 of 507"
       ]
      },
      {
       "output_type": "stream",
       "stream": "stdout",
       "text": [
        "\n",
        "Currently at item 248 of 507"
       ]
      },
      {
       "output_type": "stream",
       "stream": "stdout",
       "text": [
        "\n",
        "Currently at item 249 of 507"
       ]
      },
      {
       "output_type": "stream",
       "stream": "stdout",
       "text": [
        "\n",
        "Currently at item 250 of 507"
       ]
      },
      {
       "output_type": "stream",
       "stream": "stdout",
       "text": [
        "\n",
        "Currently at item 251 of 507"
       ]
      },
      {
       "output_type": "stream",
       "stream": "stdout",
       "text": [
        "\n",
        "Currently at item 252 of 507"
       ]
      },
      {
       "output_type": "stream",
       "stream": "stdout",
       "text": [
        "\n",
        "Currently at item 253 of 507"
       ]
      },
      {
       "output_type": "stream",
       "stream": "stdout",
       "text": [
        "\n",
        "Currently at item 254 of 507"
       ]
      },
      {
       "output_type": "stream",
       "stream": "stdout",
       "text": [
        "\n",
        "Currently at item 255 of 507"
       ]
      },
      {
       "output_type": "stream",
       "stream": "stdout",
       "text": [
        "\n",
        "Currently at item 256 of 507"
       ]
      },
      {
       "output_type": "stream",
       "stream": "stdout",
       "text": [
        "\n",
        "Currently at item 257 of 507"
       ]
      },
      {
       "output_type": "stream",
       "stream": "stdout",
       "text": [
        "\n",
        "Currently at item 258 of 507\n",
        "Currently at item 259 of 507"
       ]
      },
      {
       "output_type": "stream",
       "stream": "stdout",
       "text": [
        "\n",
        "Currently at item 260 of 507"
       ]
      },
      {
       "output_type": "stream",
       "stream": "stdout",
       "text": [
        "\n",
        "Currently at item 261 of 507"
       ]
      },
      {
       "output_type": "stream",
       "stream": "stdout",
       "text": [
        "\n",
        "Currently at item 262 of 507"
       ]
      },
      {
       "output_type": "stream",
       "stream": "stdout",
       "text": [
        "\n",
        "Currently at item 263 of 507"
       ]
      },
      {
       "output_type": "stream",
       "stream": "stdout",
       "text": [
        "\n",
        "Currently at item 264 of 507"
       ]
      },
      {
       "output_type": "stream",
       "stream": "stdout",
       "text": [
        "\n",
        "Currently at item 265 of 507"
       ]
      },
      {
       "output_type": "stream",
       "stream": "stdout",
       "text": [
        "\n",
        "Currently at item 266 of 507"
       ]
      },
      {
       "output_type": "stream",
       "stream": "stdout",
       "text": [
        "\n",
        "Currently at item 267 of 507"
       ]
      },
      {
       "output_type": "stream",
       "stream": "stdout",
       "text": [
        "\n",
        "Currently at item 268 of 507"
       ]
      },
      {
       "output_type": "stream",
       "stream": "stdout",
       "text": [
        "\n",
        "Currently at item 269 of 507"
       ]
      },
      {
       "output_type": "stream",
       "stream": "stdout",
       "text": [
        "\n",
        "Currently at item 270 of 507"
       ]
      },
      {
       "output_type": "stream",
       "stream": "stdout",
       "text": [
        "\n",
        "Currently at item 271 of 507"
       ]
      },
      {
       "output_type": "stream",
       "stream": "stdout",
       "text": [
        "\n",
        "Currently at item 272 of 507"
       ]
      },
      {
       "output_type": "stream",
       "stream": "stdout",
       "text": [
        "\n",
        "Currently at item 273 of 507"
       ]
      },
      {
       "output_type": "stream",
       "stream": "stdout",
       "text": [
        "\n",
        "Currently at item 274 of 507"
       ]
      },
      {
       "output_type": "stream",
       "stream": "stdout",
       "text": [
        "\n",
        "Currently at item 275 of 507"
       ]
      },
      {
       "output_type": "stream",
       "stream": "stdout",
       "text": [
        "\n",
        "Currently at item 276 of 507"
       ]
      },
      {
       "output_type": "stream",
       "stream": "stdout",
       "text": [
        "\n",
        "Currently at item 277 of 507"
       ]
      },
      {
       "output_type": "stream",
       "stream": "stdout",
       "text": [
        "\n",
        "Currently at item 278 of 507"
       ]
      },
      {
       "output_type": "stream",
       "stream": "stdout",
       "text": [
        "\n",
        "Currently at item 279 of 507"
       ]
      },
      {
       "output_type": "stream",
       "stream": "stdout",
       "text": [
        "\n",
        "Currently at item 280 of 507"
       ]
      },
      {
       "output_type": "stream",
       "stream": "stdout",
       "text": [
        "\n",
        "Currently at item 281 of 507"
       ]
      },
      {
       "output_type": "stream",
       "stream": "stdout",
       "text": [
        "\n",
        "Currently at item 282 of 507\n",
        "Currently at item 283 of 507"
       ]
      },
      {
       "output_type": "stream",
       "stream": "stdout",
       "text": [
        "\n",
        "Currently at item 284 of 507"
       ]
      },
      {
       "output_type": "stream",
       "stream": "stdout",
       "text": [
        "\n",
        "Currently at item 285 of 507"
       ]
      },
      {
       "output_type": "stream",
       "stream": "stdout",
       "text": [
        "\n",
        "Currently at item 286 of 507"
       ]
      },
      {
       "output_type": "stream",
       "stream": "stdout",
       "text": [
        "\n",
        "Currently at item 287 of 507"
       ]
      },
      {
       "output_type": "stream",
       "stream": "stdout",
       "text": [
        "\n",
        "Currently at item 288 of 507"
       ]
      },
      {
       "output_type": "stream",
       "stream": "stdout",
       "text": [
        "\n",
        "Currently at item 289 of 507"
       ]
      },
      {
       "output_type": "stream",
       "stream": "stdout",
       "text": [
        "\n",
        "Currently at item 290 of 507"
       ]
      },
      {
       "output_type": "stream",
       "stream": "stdout",
       "text": [
        "\n",
        "Currently at item 291 of 507"
       ]
      },
      {
       "output_type": "stream",
       "stream": "stdout",
       "text": [
        "\n",
        "Currently at item 292 of 507"
       ]
      },
      {
       "output_type": "stream",
       "stream": "stdout",
       "text": [
        "\n",
        "Currently at item 293 of 507"
       ]
      },
      {
       "output_type": "stream",
       "stream": "stdout",
       "text": [
        "\n",
        "Currently at item 294 of 507"
       ]
      },
      {
       "output_type": "stream",
       "stream": "stdout",
       "text": [
        "\n",
        "Currently at item 295 of 507"
       ]
      },
      {
       "output_type": "stream",
       "stream": "stdout",
       "text": [
        "\n",
        "Currently at item 296 of 507"
       ]
      },
      {
       "output_type": "stream",
       "stream": "stdout",
       "text": [
        "\n",
        "Currently at item 297 of 507"
       ]
      },
      {
       "output_type": "stream",
       "stream": "stdout",
       "text": [
        "\n",
        "Currently at item 298 of 507"
       ]
      },
      {
       "output_type": "stream",
       "stream": "stdout",
       "text": [
        "\n",
        "Currently at item 299 of 507"
       ]
      },
      {
       "output_type": "stream",
       "stream": "stdout",
       "text": [
        "\n",
        "Currently at item 300 of 507"
       ]
      },
      {
       "output_type": "stream",
       "stream": "stdout",
       "text": [
        "\n",
        "Currently at item 301 of 507"
       ]
      },
      {
       "output_type": "stream",
       "stream": "stdout",
       "text": [
        "\n",
        "Currently at item 302 of 507"
       ]
      },
      {
       "output_type": "stream",
       "stream": "stdout",
       "text": [
        "\n",
        "Currently at item 303 of 507"
       ]
      },
      {
       "output_type": "stream",
       "stream": "stdout",
       "text": [
        "\n",
        "Currently at item 304 of 507"
       ]
      },
      {
       "output_type": "stream",
       "stream": "stdout",
       "text": [
        "\n",
        "Currently at item 305 of 507"
       ]
      },
      {
       "output_type": "stream",
       "stream": "stdout",
       "text": [
        "\n",
        "Currently at item 306 of 507"
       ]
      },
      {
       "output_type": "stream",
       "stream": "stdout",
       "text": [
        "\n",
        "Currently at item 307 of 507"
       ]
      },
      {
       "output_type": "stream",
       "stream": "stdout",
       "text": [
        "\n",
        "Currently at item 308 of 507\n",
        "Currently at item 309 of 507"
       ]
      },
      {
       "output_type": "stream",
       "stream": "stdout",
       "text": [
        "\n",
        "Currently at item 310 of 507"
       ]
      },
      {
       "output_type": "stream",
       "stream": "stdout",
       "text": [
        "\n",
        "Currently at item 311 of 507"
       ]
      },
      {
       "output_type": "stream",
       "stream": "stdout",
       "text": [
        "\n",
        "Currently at item 312 of 507"
       ]
      },
      {
       "output_type": "stream",
       "stream": "stdout",
       "text": [
        "\n",
        "Currently at item 313 of 507"
       ]
      },
      {
       "output_type": "stream",
       "stream": "stdout",
       "text": [
        "\n",
        "Currently at item 314 of 507"
       ]
      },
      {
       "output_type": "stream",
       "stream": "stdout",
       "text": [
        "\n",
        "Currently at item 315 of 507"
       ]
      },
      {
       "output_type": "stream",
       "stream": "stdout",
       "text": [
        "\n",
        "Currently at item 316 of 507"
       ]
      },
      {
       "output_type": "stream",
       "stream": "stdout",
       "text": [
        "\n",
        "Currently at item 317 of 507\n",
        "Currently at item 318 of 507\n",
        "Currently at item 319 of 507"
       ]
      },
      {
       "output_type": "stream",
       "stream": "stdout",
       "text": [
        "\n",
        "Currently at item 320 of 507"
       ]
      },
      {
       "output_type": "stream",
       "stream": "stdout",
       "text": [
        "\n",
        "Currently at item 321 of 507"
       ]
      },
      {
       "output_type": "stream",
       "stream": "stdout",
       "text": [
        "\n",
        "Currently at item 322 of 507"
       ]
      },
      {
       "output_type": "stream",
       "stream": "stdout",
       "text": [
        "\n",
        "Currently at item 323 of 507"
       ]
      },
      {
       "output_type": "stream",
       "stream": "stdout",
       "text": [
        "\n",
        "Currently at item 324 of 507"
       ]
      },
      {
       "output_type": "stream",
       "stream": "stdout",
       "text": [
        "\n",
        "Currently at item 325 of 507"
       ]
      },
      {
       "output_type": "stream",
       "stream": "stdout",
       "text": [
        "\n",
        "Currently at item 326 of 507\n",
        "Currently at item 327 of 507"
       ]
      },
      {
       "output_type": "stream",
       "stream": "stdout",
       "text": [
        "\n",
        "Currently at item 328 of 507"
       ]
      },
      {
       "output_type": "stream",
       "stream": "stdout",
       "text": [
        "\n",
        "Currently at item 329 of 507"
       ]
      },
      {
       "output_type": "stream",
       "stream": "stdout",
       "text": [
        "\n",
        "Currently at item 330 of 507"
       ]
      },
      {
       "output_type": "stream",
       "stream": "stdout",
       "text": [
        "\n",
        "Currently at item 331 of 507"
       ]
      },
      {
       "output_type": "stream",
       "stream": "stdout",
       "text": [
        "\n",
        "Currently at item 332 of 507"
       ]
      },
      {
       "output_type": "stream",
       "stream": "stdout",
       "text": [
        "\n",
        "Currently at item 333 of 507"
       ]
      },
      {
       "output_type": "stream",
       "stream": "stdout",
       "text": [
        "\n",
        "Currently at item 334 of 507"
       ]
      },
      {
       "output_type": "stream",
       "stream": "stdout",
       "text": [
        "\n",
        "Currently at item 335 of 507"
       ]
      },
      {
       "output_type": "stream",
       "stream": "stdout",
       "text": [
        "\n",
        "Currently at item 336 of 507"
       ]
      },
      {
       "output_type": "stream",
       "stream": "stdout",
       "text": [
        "\n",
        "Currently at item 337 of 507"
       ]
      },
      {
       "output_type": "stream",
       "stream": "stdout",
       "text": [
        "\n",
        "Currently at item 338 of 507"
       ]
      },
      {
       "output_type": "stream",
       "stream": "stdout",
       "text": [
        "\n",
        "Currently at item 339 of 507"
       ]
      },
      {
       "output_type": "stream",
       "stream": "stdout",
       "text": [
        "\n",
        "Currently at item 340 of 507\n",
        "Currently at item 341 of 507"
       ]
      },
      {
       "output_type": "stream",
       "stream": "stdout",
       "text": [
        "\n",
        "Currently at item 342 of 507"
       ]
      },
      {
       "output_type": "stream",
       "stream": "stdout",
       "text": [
        "\n",
        "Currently at item 343 of 507\n",
        "Currently at item 344 of 507"
       ]
      },
      {
       "output_type": "stream",
       "stream": "stdout",
       "text": [
        "\n",
        "Currently at item 345 of 507"
       ]
      },
      {
       "output_type": "stream",
       "stream": "stdout",
       "text": [
        "\n",
        "Currently at item 346 of 507"
       ]
      },
      {
       "output_type": "stream",
       "stream": "stdout",
       "text": [
        "\n",
        "Currently at item 347 of 507"
       ]
      },
      {
       "output_type": "stream",
       "stream": "stdout",
       "text": [
        "\n",
        "Currently at item 348 of 507"
       ]
      },
      {
       "output_type": "stream",
       "stream": "stdout",
       "text": [
        "\n",
        "Currently at item 349 of 507"
       ]
      },
      {
       "output_type": "stream",
       "stream": "stdout",
       "text": [
        "\n",
        "Currently at item 350 of 507\n",
        "Currently at item 351 of 507"
       ]
      },
      {
       "output_type": "stream",
       "stream": "stdout",
       "text": [
        "\n",
        "Currently at item 352 of 507"
       ]
      },
      {
       "output_type": "stream",
       "stream": "stdout",
       "text": [
        "\n",
        "Currently at item 353 of 507"
       ]
      },
      {
       "output_type": "stream",
       "stream": "stdout",
       "text": [
        "\n",
        "Currently at item 354 of 507"
       ]
      },
      {
       "output_type": "stream",
       "stream": "stdout",
       "text": [
        "\n",
        "Currently at item 355 of 507"
       ]
      },
      {
       "output_type": "stream",
       "stream": "stdout",
       "text": [
        "\n",
        "Currently at item 356 of 507\n",
        "Currently at item 357 of 507"
       ]
      },
      {
       "output_type": "stream",
       "stream": "stdout",
       "text": [
        "\n",
        "Currently at item 358 of 507"
       ]
      },
      {
       "output_type": "stream",
       "stream": "stdout",
       "text": [
        "\n",
        "Currently at item 359 of 507"
       ]
      },
      {
       "output_type": "stream",
       "stream": "stdout",
       "text": [
        "\n",
        "Currently at item 360 of 507"
       ]
      },
      {
       "output_type": "stream",
       "stream": "stdout",
       "text": [
        "\n",
        "Currently at item 361 of 507"
       ]
      },
      {
       "output_type": "stream",
       "stream": "stdout",
       "text": [
        "\n",
        "Currently at item 362 of 507"
       ]
      },
      {
       "output_type": "stream",
       "stream": "stdout",
       "text": [
        "\n",
        "Currently at item 363 of 507"
       ]
      },
      {
       "output_type": "stream",
       "stream": "stdout",
       "text": [
        "\n",
        "Currently at item 364 of 507"
       ]
      },
      {
       "output_type": "stream",
       "stream": "stdout",
       "text": [
        "\n",
        "Currently at item 365 of 507"
       ]
      },
      {
       "output_type": "stream",
       "stream": "stdout",
       "text": [
        "\n",
        "Currently at item 366 of 507"
       ]
      },
      {
       "output_type": "stream",
       "stream": "stdout",
       "text": [
        "\n",
        "Currently at item 367 of 507"
       ]
      },
      {
       "output_type": "stream",
       "stream": "stdout",
       "text": [
        "\n",
        "Currently at item 368 of 507"
       ]
      },
      {
       "output_type": "stream",
       "stream": "stdout",
       "text": [
        "\n",
        "Currently at item 369 of 507"
       ]
      },
      {
       "output_type": "stream",
       "stream": "stdout",
       "text": [
        "\n",
        "Currently at item 370 of 507\n",
        "Currently at item 371 of 507"
       ]
      },
      {
       "output_type": "stream",
       "stream": "stdout",
       "text": [
        "\n",
        "Currently at item 372 of 507"
       ]
      },
      {
       "output_type": "stream",
       "stream": "stdout",
       "text": [
        "\n",
        "Currently at item 373 of 507"
       ]
      },
      {
       "output_type": "stream",
       "stream": "stdout",
       "text": [
        "\n",
        "Currently at item 374 of 507"
       ]
      },
      {
       "output_type": "stream",
       "stream": "stdout",
       "text": [
        "\n",
        "Currently at item 375 of 507"
       ]
      },
      {
       "output_type": "stream",
       "stream": "stdout",
       "text": [
        "\n",
        "Currently at item 376 of 507"
       ]
      },
      {
       "output_type": "stream",
       "stream": "stdout",
       "text": [
        "\n",
        "Currently at item 377 of 507"
       ]
      },
      {
       "output_type": "stream",
       "stream": "stdout",
       "text": [
        "\n",
        "Currently at item 378 of 507\n",
        "Currently at item 379 of 507"
       ]
      },
      {
       "output_type": "stream",
       "stream": "stdout",
       "text": [
        "\n",
        "Currently at item 380 of 507"
       ]
      },
      {
       "output_type": "stream",
       "stream": "stdout",
       "text": [
        "\n",
        "Currently at item 381 of 507"
       ]
      },
      {
       "output_type": "stream",
       "stream": "stdout",
       "text": [
        "\n",
        "Currently at item 382 of 507"
       ]
      },
      {
       "output_type": "stream",
       "stream": "stdout",
       "text": [
        "\n",
        "Currently at item 383 of 507"
       ]
      },
      {
       "output_type": "stream",
       "stream": "stdout",
       "text": [
        "\n",
        "Currently at item 384 of 507"
       ]
      },
      {
       "output_type": "stream",
       "stream": "stdout",
       "text": [
        "\n",
        "Currently at item 385 of 507"
       ]
      },
      {
       "output_type": "stream",
       "stream": "stdout",
       "text": [
        "\n",
        "Currently at item 386 of 507"
       ]
      },
      {
       "output_type": "stream",
       "stream": "stdout",
       "text": [
        "\n",
        "Currently at item 387 of 507"
       ]
      },
      {
       "output_type": "stream",
       "stream": "stdout",
       "text": [
        "\n",
        "Currently at item 388 of 507"
       ]
      },
      {
       "output_type": "stream",
       "stream": "stdout",
       "text": [
        "\n",
        "Currently at item 389 of 507"
       ]
      },
      {
       "output_type": "stream",
       "stream": "stdout",
       "text": [
        "\n",
        "Currently at item 390 of 507\n",
        "Currently at item 391 of 507"
       ]
      },
      {
       "output_type": "stream",
       "stream": "stdout",
       "text": [
        "\n",
        "Currently at item 392 of 507"
       ]
      },
      {
       "output_type": "stream",
       "stream": "stdout",
       "text": [
        "\n",
        "Currently at item 393 of 507"
       ]
      },
      {
       "output_type": "stream",
       "stream": "stdout",
       "text": [
        "\n",
        "Currently at item 394 of 507\n",
        "Currently at item 395 of 507"
       ]
      },
      {
       "output_type": "stream",
       "stream": "stdout",
       "text": [
        "\n",
        "Currently at item 396 of 507"
       ]
      },
      {
       "output_type": "stream",
       "stream": "stdout",
       "text": [
        "\n",
        "Currently at item 397 of 507"
       ]
      },
      {
       "output_type": "stream",
       "stream": "stdout",
       "text": [
        "\n",
        "Currently at item 398 of 507"
       ]
      },
      {
       "output_type": "stream",
       "stream": "stdout",
       "text": [
        "\n",
        "Currently at item 399 of 507"
       ]
      },
      {
       "output_type": "stream",
       "stream": "stdout",
       "text": [
        "\n",
        "Currently at item 400 of 507"
       ]
      },
      {
       "output_type": "stream",
       "stream": "stdout",
       "text": [
        "\n",
        "Currently at item 401 of 507"
       ]
      },
      {
       "output_type": "stream",
       "stream": "stdout",
       "text": [
        "\n",
        "Currently at item 402 of 507"
       ]
      },
      {
       "output_type": "stream",
       "stream": "stdout",
       "text": [
        "\n",
        "Currently at item 403 of 507"
       ]
      },
      {
       "output_type": "stream",
       "stream": "stdout",
       "text": [
        "\n",
        "Currently at item 404 of 507"
       ]
      },
      {
       "output_type": "stream",
       "stream": "stdout",
       "text": [
        "\n",
        "Currently at item 405 of 507"
       ]
      },
      {
       "output_type": "stream",
       "stream": "stdout",
       "text": [
        "\n",
        "Currently at item 406 of 507"
       ]
      },
      {
       "output_type": "stream",
       "stream": "stdout",
       "text": [
        "\n",
        "Currently at item 407 of 507\n",
        "Currently at item 408 of 507"
       ]
      },
      {
       "output_type": "stream",
       "stream": "stdout",
       "text": [
        "\n",
        "Currently at item 409 of 507"
       ]
      },
      {
       "output_type": "stream",
       "stream": "stdout",
       "text": [
        "\n",
        "Currently at item 410 of 507"
       ]
      },
      {
       "output_type": "stream",
       "stream": "stdout",
       "text": [
        "\n",
        "Currently at item 411 of 507"
       ]
      },
      {
       "output_type": "stream",
       "stream": "stdout",
       "text": [
        "\n",
        "Currently at item 412 of 507"
       ]
      },
      {
       "output_type": "stream",
       "stream": "stdout",
       "text": [
        "\n",
        "Currently at item 413 of 507"
       ]
      },
      {
       "output_type": "stream",
       "stream": "stdout",
       "text": [
        "\n",
        "Currently at item 414 of 507"
       ]
      },
      {
       "output_type": "stream",
       "stream": "stdout",
       "text": [
        "\n",
        "Currently at item 415 of 507"
       ]
      },
      {
       "output_type": "stream",
       "stream": "stdout",
       "text": [
        "\n",
        "Currently at item 416 of 507"
       ]
      },
      {
       "output_type": "stream",
       "stream": "stdout",
       "text": [
        "\n",
        "Currently at item 417 of 507"
       ]
      },
      {
       "output_type": "stream",
       "stream": "stdout",
       "text": [
        "\n",
        "Currently at item 418 of 507"
       ]
      },
      {
       "output_type": "stream",
       "stream": "stdout",
       "text": [
        "\n",
        "Currently at item 419 of 507\n",
        "Currently at item 420 of 507"
       ]
      },
      {
       "output_type": "stream",
       "stream": "stdout",
       "text": [
        "\n",
        "Currently at item 421 of 507"
       ]
      },
      {
       "output_type": "stream",
       "stream": "stdout",
       "text": [
        "\n",
        "Currently at item 422 of 507"
       ]
      },
      {
       "output_type": "stream",
       "stream": "stdout",
       "text": [
        "\n",
        "Currently at item 423 of 507"
       ]
      },
      {
       "output_type": "stream",
       "stream": "stdout",
       "text": [
        "\n",
        "Currently at item 424 of 507"
       ]
      },
      {
       "output_type": "stream",
       "stream": "stdout",
       "text": [
        "\n",
        "Currently at item 425 of 507"
       ]
      },
      {
       "output_type": "stream",
       "stream": "stdout",
       "text": [
        "\n",
        "Currently at item 426 of 507"
       ]
      },
      {
       "output_type": "stream",
       "stream": "stdout",
       "text": [
        "\n",
        "Currently at item 427 of 507"
       ]
      },
      {
       "output_type": "stream",
       "stream": "stdout",
       "text": [
        "\n",
        "Currently at item 428 of 507"
       ]
      },
      {
       "output_type": "stream",
       "stream": "stdout",
       "text": [
        "\n",
        "Currently at item 429 of 507"
       ]
      },
      {
       "output_type": "stream",
       "stream": "stdout",
       "text": [
        "\n",
        "Currently at item 430 of 507"
       ]
      },
      {
       "output_type": "stream",
       "stream": "stdout",
       "text": [
        "\n",
        "Currently at item 431 of 507"
       ]
      },
      {
       "output_type": "stream",
       "stream": "stdout",
       "text": [
        "\n",
        "Currently at item 432 of 507"
       ]
      },
      {
       "output_type": "stream",
       "stream": "stdout",
       "text": [
        "\n",
        "Currently at item 433 of 507"
       ]
      },
      {
       "output_type": "stream",
       "stream": "stdout",
       "text": [
        "\n",
        "Currently at item 434 of 507"
       ]
      },
      {
       "output_type": "stream",
       "stream": "stdout",
       "text": [
        "\n",
        "Currently at item 435 of 507"
       ]
      },
      {
       "output_type": "stream",
       "stream": "stdout",
       "text": [
        "\n",
        "Currently at item 436 of 507\n",
        "Currently at item 437 of 507"
       ]
      },
      {
       "output_type": "stream",
       "stream": "stdout",
       "text": [
        "\n",
        "Currently at item 438 of 507"
       ]
      },
      {
       "output_type": "stream",
       "stream": "stdout",
       "text": [
        "\n",
        "Currently at item 439 of 507"
       ]
      },
      {
       "output_type": "stream",
       "stream": "stdout",
       "text": [
        "\n",
        "Currently at item 440 of 507\n",
        "Currently at item 441 of 507"
       ]
      },
      {
       "output_type": "stream",
       "stream": "stdout",
       "text": [
        "\n",
        "Currently at item 442 of 507"
       ]
      },
      {
       "output_type": "stream",
       "stream": "stdout",
       "text": [
        "\n",
        "Currently at item 443 of 507"
       ]
      },
      {
       "output_type": "stream",
       "stream": "stdout",
       "text": [
        "\n",
        "Currently at item 444 of 507"
       ]
      },
      {
       "output_type": "stream",
       "stream": "stdout",
       "text": [
        "\n",
        "Currently at item 445 of 507"
       ]
      },
      {
       "output_type": "stream",
       "stream": "stdout",
       "text": [
        "\n",
        "Currently at item 446 of 507"
       ]
      },
      {
       "output_type": "stream",
       "stream": "stdout",
       "text": [
        "\n",
        "Currently at item 447 of 507"
       ]
      },
      {
       "output_type": "stream",
       "stream": "stdout",
       "text": [
        "\n",
        "Currently at item 448 of 507"
       ]
      },
      {
       "output_type": "stream",
       "stream": "stdout",
       "text": [
        "\n",
        "Currently at item 449 of 507"
       ]
      },
      {
       "output_type": "stream",
       "stream": "stdout",
       "text": [
        "\n",
        "Currently at item 450 of 507"
       ]
      },
      {
       "output_type": "stream",
       "stream": "stdout",
       "text": [
        "\n",
        "Currently at item 451 of 507"
       ]
      },
      {
       "output_type": "stream",
       "stream": "stdout",
       "text": [
        "\n",
        "Currently at item 452 of 507"
       ]
      },
      {
       "output_type": "stream",
       "stream": "stdout",
       "text": [
        "\n",
        "Currently at item 453 of 507"
       ]
      },
      {
       "output_type": "stream",
       "stream": "stdout",
       "text": [
        "\n",
        "Currently at item 454 of 507"
       ]
      },
      {
       "output_type": "stream",
       "stream": "stdout",
       "text": [
        "\n",
        "Currently at item 455 of 507"
       ]
      },
      {
       "output_type": "stream",
       "stream": "stdout",
       "text": [
        "\n",
        "Currently at item 456 of 507"
       ]
      },
      {
       "output_type": "stream",
       "stream": "stdout",
       "text": [
        "\n",
        "Currently at item 457 of 507"
       ]
      },
      {
       "output_type": "stream",
       "stream": "stdout",
       "text": [
        "\n",
        "Currently at item 458 of 507"
       ]
      },
      {
       "output_type": "stream",
       "stream": "stdout",
       "text": [
        "\n",
        "Currently at item 459 of 507"
       ]
      },
      {
       "output_type": "stream",
       "stream": "stdout",
       "text": [
        "\n",
        "Currently at item 460 of 507"
       ]
      },
      {
       "output_type": "stream",
       "stream": "stdout",
       "text": [
        "\n",
        "Currently at item 461 of 507"
       ]
      },
      {
       "output_type": "stream",
       "stream": "stdout",
       "text": [
        "\n",
        "Currently at item 462 of 507"
       ]
      },
      {
       "output_type": "stream",
       "stream": "stdout",
       "text": [
        "\n",
        "Currently at item 463 of 507"
       ]
      },
      {
       "output_type": "stream",
       "stream": "stdout",
       "text": [
        "\n",
        "Currently at item 464 of 507"
       ]
      },
      {
       "output_type": "stream",
       "stream": "stdout",
       "text": [
        "\n",
        "Currently at item 465 of 507"
       ]
      },
      {
       "output_type": "stream",
       "stream": "stdout",
       "text": [
        "\n",
        "Currently at item 466 of 507"
       ]
      },
      {
       "output_type": "stream",
       "stream": "stdout",
       "text": [
        "\n",
        "Currently at item 467 of 507"
       ]
      },
      {
       "output_type": "stream",
       "stream": "stdout",
       "text": [
        "\n",
        "Currently at item 468 of 507"
       ]
      },
      {
       "output_type": "stream",
       "stream": "stdout",
       "text": [
        "\n",
        "Currently at item 469 of 507"
       ]
      },
      {
       "output_type": "stream",
       "stream": "stdout",
       "text": [
        "\n",
        "Currently at item 470 of 507"
       ]
      },
      {
       "output_type": "stream",
       "stream": "stdout",
       "text": [
        "\n",
        "Currently at item 471 of 507"
       ]
      },
      {
       "output_type": "stream",
       "stream": "stdout",
       "text": [
        "\n",
        "Currently at item 472 of 507"
       ]
      },
      {
       "output_type": "stream",
       "stream": "stdout",
       "text": [
        "\n",
        "Currently at item 473 of 507"
       ]
      },
      {
       "output_type": "stream",
       "stream": "stdout",
       "text": [
        "\n",
        "Currently at item 474 of 507"
       ]
      },
      {
       "output_type": "stream",
       "stream": "stdout",
       "text": [
        "\n",
        "Currently at item 475 of 507"
       ]
      },
      {
       "output_type": "stream",
       "stream": "stdout",
       "text": [
        "\n",
        "Currently at item 476 of 507"
       ]
      },
      {
       "output_type": "stream",
       "stream": "stdout",
       "text": [
        "\n",
        "Currently at item 477 of 507"
       ]
      },
      {
       "output_type": "stream",
       "stream": "stdout",
       "text": [
        "\n",
        "Currently at item 478 of 507"
       ]
      },
      {
       "output_type": "stream",
       "stream": "stdout",
       "text": [
        "\n",
        "Currently at item 479 of 507"
       ]
      },
      {
       "output_type": "stream",
       "stream": "stdout",
       "text": [
        "\n",
        "Currently at item 480 of 507"
       ]
      },
      {
       "output_type": "stream",
       "stream": "stdout",
       "text": [
        "\n",
        "Currently at item 481 of 507"
       ]
      },
      {
       "output_type": "stream",
       "stream": "stdout",
       "text": [
        "\n",
        "Currently at item 482 of 507"
       ]
      },
      {
       "output_type": "stream",
       "stream": "stdout",
       "text": [
        "\n",
        "Currently at item 483 of 507\n",
        "Currently at item 484 of 507"
       ]
      },
      {
       "output_type": "stream",
       "stream": "stdout",
       "text": [
        "\n",
        "Currently at item 485 of 507"
       ]
      },
      {
       "output_type": "stream",
       "stream": "stdout",
       "text": [
        "\n",
        "Currently at item 486 of 507"
       ]
      },
      {
       "output_type": "stream",
       "stream": "stdout",
       "text": [
        "\n",
        "Currently at item 487 of 507"
       ]
      },
      {
       "output_type": "stream",
       "stream": "stdout",
       "text": [
        "\n",
        "Currently at item 488 of 507"
       ]
      },
      {
       "output_type": "stream",
       "stream": "stdout",
       "text": [
        "\n",
        "Currently at item 489 of 507"
       ]
      },
      {
       "output_type": "stream",
       "stream": "stdout",
       "text": [
        "\n",
        "Currently at item 490 of 507"
       ]
      },
      {
       "output_type": "stream",
       "stream": "stdout",
       "text": [
        "\n",
        "Currently at item 491 of 507"
       ]
      },
      {
       "output_type": "stream",
       "stream": "stdout",
       "text": [
        "\n",
        "Currently at item 492 of 507"
       ]
      },
      {
       "output_type": "stream",
       "stream": "stdout",
       "text": [
        "\n",
        "Currently at item 493 of 507"
       ]
      },
      {
       "output_type": "stream",
       "stream": "stdout",
       "text": [
        "\n",
        "Currently at item 494 of 507"
       ]
      },
      {
       "output_type": "stream",
       "stream": "stdout",
       "text": [
        "\n",
        "Currently at item 495 of 507"
       ]
      },
      {
       "output_type": "stream",
       "stream": "stdout",
       "text": [
        "\n",
        "Currently at item 496 of 507"
       ]
      },
      {
       "output_type": "stream",
       "stream": "stdout",
       "text": [
        "\n",
        "Currently at item 497 of 507"
       ]
      },
      {
       "output_type": "stream",
       "stream": "stdout",
       "text": [
        "\n",
        "Currently at item 498 of 507"
       ]
      },
      {
       "output_type": "stream",
       "stream": "stdout",
       "text": [
        "\n",
        "Currently at item 499 of 507"
       ]
      },
      {
       "output_type": "stream",
       "stream": "stdout",
       "text": [
        "\n",
        "Currently at item 500 of 507"
       ]
      },
      {
       "output_type": "stream",
       "stream": "stdout",
       "text": [
        "\n",
        "Currently at item 501 of 507\n",
        "Currently at item 502 of 507"
       ]
      },
      {
       "output_type": "stream",
       "stream": "stdout",
       "text": [
        "\n",
        "Currently at item 503 of 507"
       ]
      },
      {
       "output_type": "stream",
       "stream": "stdout",
       "text": [
        "\n",
        "Currently at item 504 of 507"
       ]
      },
      {
       "output_type": "stream",
       "stream": "stdout",
       "text": [
        "\n",
        "Currently at item 505 of 507"
       ]
      },
      {
       "output_type": "stream",
       "stream": "stdout",
       "text": [
        "\n",
        "Currently at item 506 of 507"
       ]
      },
      {
       "output_type": "stream",
       "stream": "stdout",
       "text": [
        "\n",
        "Total Time: 979.034024954 seconds"
       ]
      },
      {
       "output_type": "stream",
       "stream": "stdout",
       "text": [
        "\n"
       ]
      }
     ],
     "prompt_number": 27
    },
    {
     "cell_type": "code",
     "collapsed": false,
     "input": [
      "starttime = time()\n",
      "for sink in reassortant_isolates.keys():\n",
      "    for source_pair in reassortant_isolates[sink].keys():\n",
      "        sum_weights = 0\n",
      "        for segment in reassortant_isolates[sink][source_pair].keys():\n",
      "            sum_weights += reassortant_isolates[sink][source_pair][segment][1]\n",
      "            \n",
      "        reassortant_isolates[sink][source_pair]['sum'] = sum_weights\n",
      "        \n",
      "endtime = time()\n",
      "print(\"Total Time: %s seconds\" % (endtime - starttime))\n",
      "\n",
      "# Longest recorded time: 20 seconds."
     ],
     "language": "python",
     "metadata": {},
     "outputs": [
      {
       "output_type": "stream",
       "stream": "stdout",
       "text": [
        "Total Time: 22.6697671413 seconds\n"
       ]
      }
     ],
     "prompt_number": 28
    },
    {
     "cell_type": "code",
     "collapsed": false,
     "input": [
      "starttime = time()\n",
      "\n",
      "\n",
      "# Prune down to maximum parsimony - only most similar.\n",
      "for sink in reassortant_isolates.keys():\n",
      "    # First off, find max weight\n",
      "    max_weight = 0\n",
      "    for source_pair in reassortant_isolates[sink].keys():\n",
      "        if reassortant_isolates[sink][source_pair]['sum'] > max_weight: \n",
      "            max_weight = reassortant_isolates[sink][source_pair]['sum']\n",
      "            \n",
      "    # Then, compare every possible source pair, and delete it if sum < max_weight\n",
      "    for source_pair in reassortant_isolates[sink].keys():\n",
      "        if reassortant_isolates[sink][source_pair]['sum'] < max_weight:\n",
      "            del reassortant_isolates[sink][source_pair]\n",
      "                        \n",
      "endtime = time()\n",
      "print(\"Total Time: %s seconds\" % (endtime - starttime))"
     ],
     "language": "python",
     "metadata": {},
     "outputs": [
      {
       "output_type": "stream",
       "stream": "stdout",
       "text": [
        "Total Time: 8.1338160038 seconds\n"
       ]
      }
     ],
     "prompt_number": 29
    },
    {
     "cell_type": "code",
     "collapsed": false,
     "input": [
      "# Write a report of all the reassortant viruses\n",
      "with open('Reassortants Identified.txt', 'w+') as f:\n",
      "    for sink_isolate in reassortant_isolates.keys():\n",
      "        f.write(sink_isolate + '\\n')\n",
      "        for source_pair in reassortant_isolates[sink_isolate].keys():\n",
      "            f.write(str(source_pair) + '\\n')\n",
      "        \n",
      "        f.write(\"\\n\")"
     ],
     "language": "python",
     "metadata": {},
     "outputs": [],
     "prompt_number": 30
    },
    {
     "cell_type": "code",
     "collapsed": false,
     "input": [
      "# Plot a histogram of the number of isolates vs. the number of parental combinations found.\n",
      "length_of_sources_list = []\n",
      "for sink, sources_dict in reassortant_isolates.iteritems():\n",
      "    num_sources = len(sources_dict.keys())\n",
      "    length_of_sources_list.append(num_sources)\n",
      "\n",
      "fig = plt.figure(figsize=(6,6))\n",
      "ax = fig.add_subplot(111)\n",
      "plt.hist(length_of_sources_list, bins=100, color='Red')\n",
      "# plt.ylim(0, 60)\n",
      "plt.xlabel('Number of Parental Combinations', fontsize=20)\n",
      "plt.ylabel('Number of Reassortant Isolates', fontsize=20)\n",
      "plt.title('Distribution of Number \\nof Parental Combinations', fontsize=20)\n",
      "plt.yticks(range(0, 400, 50), fontsize=14)\n",
      "plt.xticks(range(0,100,20), fontsize=14)\n",
      "plt.savefig('Reassortant Identification - Distribution of Number of Parental Combinations.pdf')"
     ],
     "language": "python",
     "metadata": {},
     "outputs": [
      {
       "metadata": {},
       "output_type": "display_data",
       "png": "[encoded data removed]",
       "text": [
        "<matplotlib.figure.Figure at 0x17f237e90>"
       ]
      }
     ],
     "prompt_number": 73
    },
    {
     "cell_type": "code",
     "collapsed": false,
     "input": [
      "# Some properties of the histogram:\n",
      "print(set(Counter(length_of_sources_list).values()))\n",
      "print(sorted(set(Counter(length_of_sources_list).keys())))"
     ],
     "language": "python",
     "metadata": {},
     "outputs": [
      {
       "output_type": "stream",
       "stream": "stdout",
       "text": [
        "set([1, 3, 36, 6, 43, 397, 14])\n",
        "[0, 1, 2, 3, 4, 5, 6, 7, 8, 10, 11, 22, 77, 96]\n"
       ]
      }
     ],
     "prompt_number": 32
    },
    {
     "cell_type": "code",
     "collapsed": false,
     "input": [
      "# Let's interrogate the reassortant_isolates dictionary. What's the strain that has 96 parental combinations?\n",
      "for sink, sources_dict in reassortant_isolates.items():\n",
      "    if len(sources_dict.keys()) == 96:\n",
      "        print(sink, sources_dict.keys())\n",
      "        \n",
      "# Note: This strain is an H3N7 virus."
     ],
     "language": "python",
     "metadata": {},
     "outputs": [
      {
       "output_type": "stream",
       "stream": "stdout",
       "text": [
        "('A/northern pintail/Interior Alaska/9BM11787R0/2009', [('A/northern pintail/Interior Alaska/9BM11151R0/2009', 'A/northern pintail/Interior Alaska/9BM9611R0/2009'), ('A/northern pintail/Interior Alaska/9BM10969R0/2009', 'A/northern pintail/Interior Alaska/9BM10218R0/2009'), ('A/northern pintail/Interior Alaska/9BM11779R0/2009', 'A/northern pintail/Interior Alaska/9BM10969R0/2009'), ('A/mallard/Interior Alaska/9BM3016R0/2009', 'A/northern pintail/Interior Alaska/9BM10969R0/2009'), ('A/northern pintail/Interior Alaska/9BM11179R0/2009', 'A/northern pintail/Interior Alaska/9BM9611R0/2009'), ('A/mallard/Interior Alaska/9BM3361R0/2009', 'A/northern pintail/Interior Alaska/9BM9611R0/2009'), ('A/northern pintail/Interior Alaska/9BM7840R0/2009', 'A/northern pintail/Interior Alaska/9BM10969R0/2009'), ('A/northern pintail/Interior Alaska/9BM11583R0/2009', 'A/northern pintail/Interior Alaska/9BM9611R0/2009'), ('A/northern pintail/Interior Alaska/9BM10969R0/2009', 'A/northern pintail/Interior Alaska/9BM10244R0/2009'), ('A/northern pintail/Interior Alaska/9BM7861R0/2009', 'A/northern pintail/Interior Alaska/9BM10969R0/2009'), ('A/American green-winged teal/Interior Alaska/9BM4407R0/2009', 'A/northern pintail/Interior Alaska/9BM10969R0/2009'), ('A/mallard/Interior Alaska/9BM9201R0/2009', 'A/northern pintail/Interior Alaska/9BM9611R0/2009'), ('A/mallard/Interior Alaska/9BM9201R0/2009', 'A/northern pintail/Interior Alaska/9BM10969R0/2009'), ('A/mallard/Interior Alaska/9BM11065R0/2009', 'A/northern pintail/Interior Alaska/9BM9611R0/2009'), ('A/northern pintail/Interior Alaska/9BM7861R0/2009', 'A/northern pintail/Interior Alaska/9BM9611R0/2009'), ('A/northern pintail/Interior Alaska/9BM10969R0/2009', 'A/northern pintail/Interior Alaska/9BM4989R0/2009'), ('A/mallard/Interior Alaska/9BM3355R0/2009', 'A/northern pintail/Interior Alaska/9BM9611R0/2009'), ('A/mallard/Interior Alaska/9BM8921R0/2009', 'A/northern pintail/Interior Alaska/9BM10969R0/2009'), ('A/northern pintail/Interior Alaska/9BM10969R0/2009', 'A/northern pintail/Interior Alaska/9BM11179R0/2009'), ('A/northern pintail/Interior Alaska/9BM10238R0/2009', 'A/northern pintail/Interior Alaska/9BM10969R0/2009'), ('A/northern pintail/Interior Alaska/9BM10969R0/2009', 'A/northern pintail/Interior Alaska/9BM11358R1/2009'), ('A/mallard/Interior Alaska/9BM3075R2/2009', 'A/northern pintail/Interior Alaska/9BM9611R0/2009'), ('A/mallard/Interior Alaska/9BM3355R0/2009', 'A/northern pintail/Interior Alaska/9BM10969R0/2009'), ('A/northern pintail/Interior Alaska/9BM10969R0/2009', 'A/northern pintail/Interior Alaska/9BM7799R0/2009'), ('A/northern pintail/Interior Alaska/9BM7846R0/2009', 'A/northern pintail/Interior Alaska/9BM9611R0/2009'), ('A/northern pintail/Interior Alaska/9BM11783R0/2009', 'A/northern pintail/Interior Alaska/9BM10969R0/2009'), ('A/northern pintail/Interior Alaska/9BM4991R0/2009', 'A/northern pintail/Interior Alaska/9BM9611R0/2009'), ('A/northern pintail/Interior Alaska/9BM10222R0/2009', 'A/northern pintail/Interior Alaska/9BM9611R0/2009'), ('A/northern pintail/Interior Alaska/9BM9383R0/2009', 'A/northern pintail/Interior Alaska/9BM9611R0/2009'), ('A/northern pintail/Interior Alaska/9BM3859R1/2009', 'A/northern pintail/Interior Alaska/9BM9611R0/2009'), ('A/mallard/Interior Alaska/9BM3379R0/2009', 'A/northern pintail/Interior Alaska/9BM9611R0/2009'), ('A/mallard/Interior Alaska/9BM11065R0/2009', 'A/northern pintail/Interior Alaska/9BM10969R0/2009'), ('A/northern pintail/Interior Alaska/9BM12094R0/2009', 'A/northern pintail/Interior Alaska/9BM9611R0/2009'), ('A/northern pintail/Interior Alaska/9BM10287R0/2009', 'A/northern pintail/Interior Alaska/9BM9611R0/2009'), ('A/mallard/Interior Alaska/9BM3078R0/2009', 'A/northern pintail/Interior Alaska/9BM10969R0/2009'), ('A/northern pintail/Interior Alaska/9BM11779R0/2009', 'A/northern pintail/Interior Alaska/9BM9611R0/2009'), ('A/northern pintail/Interior Alaska/9BM11317R0/2009', 'A/northern pintail/Interior Alaska/9BM9611R0/2009'), ('A/northern pintail/Interior Alaska/9BM10287R0/2009', 'A/northern pintail/Interior Alaska/9BM10969R0/2009'), ('A/northern pintail/Interior Alaska/9BM7840R0/2009', 'A/northern pintail/Interior Alaska/9BM9611R0/2009'), ('A/mallard/Interior Alaska/9BM9335R0/2009', 'A/northern pintail/Interior Alaska/9BM10969R0/2009'), ('A/northern pintail/Interior Alaska/9BM11387R0/2009', 'A/northern pintail/Interior Alaska/9BM10969R0/2009'), ('A/northern pintail/Interior Alaska/9BM10218R0/2009', 'A/northern pintail/Interior Alaska/9BM9611R0/2009'), ('A/mallard/Interior Alaska/9BM3357R0/2009', 'A/northern pintail/Interior Alaska/9BM9611R0/2009'), ('A/northern pintail/Interior Alaska/9BM9129R0/2009', 'A/northern pintail/Interior Alaska/9BM9611R0/2009'), ('A/mallard/Interior Alaska/9BM3075R2/2009', 'A/northern pintail/Interior Alaska/9BM10969R0/2009'), ('A/mallard/Interior Alaska/9BM11351R0/2009', 'A/northern pintail/Interior Alaska/9BM9611R0/2009'), ('A/mallard/Interior Alaska/9BM3076R0/2009', 'A/northern pintail/Interior Alaska/9BM10969R0/2009'), ('A/northern pintail/Interior Alaska/9BM4989R0/2009', 'A/northern pintail/Interior Alaska/9BM9611R0/2009'), ('A/northern pintail/Interior Alaska/9BM10969R0/2009', 'A/northern pintail/Interior Alaska/9BM11151R0/2009'), ('A/American green-winged teal/Interior Alaska/9BM3595R1/2009', 'A/northern pintail/Interior Alaska/9BM10969R0/2009'), ('A/northern pintail/Interior Alaska/9BM10969R0/2009', 'A/northern pintail/Interior Alaska/9BM10210R0/2009'), ('A/northern pintail/Interior Alaska/9BM10969R0/2009', 'A/northern pintail/Interior Alaska/9BM11583R0/2009'), ('A/northern pintail/Interior Alaska/9BM10244R0/2009', 'A/northern pintail/Interior Alaska/9BM9611R0/2009'), ('A/northern pintail/Interior Alaska/9BM3859R1/2009', 'A/northern pintail/Interior Alaska/9BM10969R0/2009'), ('A/northern pintail/Interior Alaska/9BM7799R0/2009', 'A/northern pintail/Interior Alaska/9BM9611R0/2009'), ('A/mallard/Interior Alaska/9BM2783R0/2009', 'A/northern pintail/Interior Alaska/9BM9611R0/2009'), ('A/mallard/Interior Alaska/9BM8921R0/2009', 'A/northern pintail/Interior Alaska/9BM9611R0/2009'), ('A/mallard/Interior Alaska/9BM8935R0/2009', 'A/northern pintail/Interior Alaska/9BM10969R0/2009'), ('A/mallard/Interior Alaska/9BM8935R0/2009', 'A/northern pintail/Interior Alaska/9BM9611R0/2009'), ('A/mallard/Interior Alaska/9BM9335R0/2009', 'A/northern pintail/Interior Alaska/9BM9611R0/2009'), ('A/northern pintail/Interior Alaska/9BM10234R0/2009', 'A/northern pintail/Interior Alaska/9BM9611R0/2009'), ('A/northern pintail/Interior Alaska/9BM9065R0/2009', 'A/northern pintail/Interior Alaska/9BM9611R0/2009'), ('A/northern pintail/Interior Alaska/9BM9129R0/2009', 'A/northern pintail/Interior Alaska/9BM10969R0/2009'), ('A/northern pintail/Interior Alaska/9BM10969R0/2009', 'A/mallard/Interior Alaska/9BM3379R0/2009'), ('A/mallard/Interior Alaska/9BM11351R0/2009', 'A/northern pintail/Interior Alaska/9BM10969R0/2009'), ('A/northern pintail/Interior Alaska/9BM10224R0/2009', 'A/northern pintail/Interior Alaska/9BM9611R0/2009'), ('A/mallard/Interior Alaska/9BM3361R0/2009', 'A/northern pintail/Interior Alaska/9BM10969R0/2009'), ('A/northern pintail/Interior Alaska/9BM11317R0/2009', 'A/northern pintail/Interior Alaska/9BM10969R0/2009'), ('A/northern pintail/Interior Alaska/9BM9065R0/2009', 'A/northern pintail/Interior Alaska/9BM10969R0/2009'), ('A/mallard/Interior Alaska/9BM2750R0/2009', 'A/northern pintail/Interior Alaska/9BM9611R0/2009'), ('A/mallard/Interior Alaska/9BM3357R0/2009', 'A/northern pintail/Interior Alaska/9BM10969R0/2009'), ('A/northern pintail/Interior Alaska/9BM4991R0/2009', 'A/northern pintail/Interior Alaska/9BM10969R0/2009'), ('A/mallard/Interior Alaska/9BM3016R0/2009', 'A/northern pintail/Interior Alaska/9BM9611R0/2009'), ('A/northern pintail/Interior Alaska/9BM11387R0/2009', 'A/northern pintail/Interior Alaska/9BM9611R0/2009'), ('A/northern pintail/Interior Alaska/9BM10969R0/2009', 'A/mallard/Interior Alaska/9BM2783R0/2009'), ('A/northern pintail/Interior Alaska/9BM12094R0/2009', 'A/northern pintail/Interior Alaska/9BM10969R0/2009'), ('A/northern pintail/Interior Alaska/9BM10236R0/2009', 'A/northern pintail/Interior Alaska/9BM9611R0/2009'), ('A/mallard/Interior Alaska/9BM2751R0/2009', 'A/northern pintail/Interior Alaska/9BM9611R0/2009'), ('A/northern pintail/Interior Alaska/9BM11783R0/2009', 'A/northern pintail/Interior Alaska/9BM9611R0/2009'), ('A/northern pintail/Interior Alaska/9BM10969R0/2009', 'A/mallard/Interior Alaska/9BM3205R0/2009'), ('A/mallard/Interior Alaska/9BM3205R0/2009', 'A/northern pintail/Interior Alaska/9BM9611R0/2009'), ('A/mallard/Interior Alaska/9BM2750R0/2009', 'A/northern pintail/Interior Alaska/9BM10969R0/2009'), ('A/mallard/Interior Alaska/9BM2751R0/2009', 'A/northern pintail/Interior Alaska/9BM10969R0/2009'), ('A/northern pintail/Interior Alaska/9BM10210R0/2009', 'A/northern pintail/Interior Alaska/9BM9611R0/2009'), ('A/northern pintail/Interior Alaska/9BM11358R1/2009', 'A/northern pintail/Interior Alaska/9BM9611R0/2009'), ('A/American green-winged teal/Interior Alaska/9BM4407R0/2009', 'A/northern pintail/Interior Alaska/9BM9611R0/2009'), ('A/northern pintail/Interior Alaska/9BM10236R0/2009', 'A/northern pintail/Interior Alaska/9BM10969R0/2009'), ('A/northern pintail/Interior Alaska/9BM10969R0/2009', 'A/northern pintail/Interior Alaska/9BM10222R0/2009'), ('A/northern pintail/Interior Alaska/9BM7846R0/2009', 'A/northern pintail/Interior Alaska/9BM10969R0/2009'), ('A/American green-winged teal/Interior Alaska/9BM3595R1/2009', 'A/northern pintail/Interior Alaska/9BM9611R0/2009'), ('A/northern pintail/Interior Alaska/9BM10969R0/2009', 'A/northern pintail/Interior Alaska/9BM10224R0/2009'), ('A/mallard/Interior Alaska/9BM3078R0/2009', 'A/northern pintail/Interior Alaska/9BM9611R0/2009'), ('A/northern pintail/Interior Alaska/9BM10238R0/2009', 'A/northern pintail/Interior Alaska/9BM9611R0/2009'), ('A/mallard/Interior Alaska/9BM3076R0/2009', 'A/northern pintail/Interior Alaska/9BM9611R0/2009'), ('A/northern pintail/Interior Alaska/9BM10234R0/2009', 'A/northern pintail/Interior Alaska/9BM10969R0/2009'), ('A/northern pintail/Interior Alaska/9BM9383R0/2009', 'A/northern pintail/Interior Alaska/9BM10969R0/2009')])\n"
       ]
      }
     ],
     "prompt_number": 33
    },
    {
     "cell_type": "code",
     "collapsed": false,
     "input": [
      "# What strain has 77 parental combinations?\n",
      "for sink, sources_dict in reassortant_isolates.items():\n",
      "    if len(sources_dict.keys()) == 77:\n",
      "        print(sink, sources_dict.keys())\n",
      "# Note: This strain has a \"mixed\" H3 subtype."
     ],
     "language": "python",
     "metadata": {},
     "outputs": [
      {
       "output_type": "stream",
       "stream": "stdout",
       "text": [
        "('A/mallard/Interior Alaska/10BM06458R0/2010', [('A/mallard/Interior Alaska/9BM8474R0/2009', 'A/mallard/Interior Alaska/10BM06461R0/2010'), ('A/northern pintail/Interior Alaska/9BM9973R0/2009', 'A/mallard/Interior Alaska/10BM06454R0/2010'), ('A/mallard/Interior Alaska/9BM9755R0/2009', 'A/mallard/Interior Alaska/10BM07777R0/2010'), ('A/mallard/Interior Alaska/9BM8474R0/2009', 'A/mallard/Interior Alaska/10BM06452R0/2010'), ('A/mallard/Interior Alaska/10BM06461R0/2010', 'A/mallard/Interior Alaska/9BM8465R0/2009'), ('A/northern pintail/Interior Alaska/9BM10146R0/2009', 'A/mallard/Interior Alaska/10BM06450R0/2010'), ('A/mallard/Interior Alaska/10BM06448R0/2010', 'A/northern pintail/Interior Alaska/9BM8448R0/2009'), ('A/northern pintail/Interior Alaska/9BM8448R0/2009', 'A/mallard/Interior Alaska/10BM06452R0/2010'), ('A/mallard/Interior Alaska/9BM9755R0/2009', 'A/mallard/Interior Alaska/10BM06448R0/2010'), ('A/northern pintail/Interior Alaska/9BM9973R0/2009', 'A/mallard/Interior Alaska/10BM06452R0/2010'), ('A/northern pintail/Interior Alaska/9BM10525R2/2009', 'A/mallard/Interior Alaska/10BM06450R0/2010'), ('A/mallard/Interior Alaska/9BM9755R0/2009', 'A/mallard/Interior Alaska/10BM06456R0/2010'), ('A/mallard/Interior Alaska/10BM07777R0/2010', 'A/mallard/Interior Alaska/9BM8465R0/2009'), ('A/mallard/Interior Alaska/9BM8474R0/2009', 'A/mallard/Interior Alaska/10BM07777R0/2010'), ('A/mallard/Interior Alaska/10BM06461R0/2010', 'A/northern pintail/Interior Alaska/9BM8502R0/2009'), ('A/mallard/Interior Alaska/9BM9755R0/2009', 'A/mallard/Interior Alaska/10BM06461R0/2010'), ('A/northern pintail/Interior Alaska/9BM9973R0/2009', 'A/mallard/Interior Alaska/10BM07777R0/2010'), ('A/northern pintail/Interior Alaska/9BM10525R2/2009', 'A/mallard/Interior Alaska/10BM06452R0/2010'), ('A/northern pintail/Interior Alaska/9BM10146R0/2009', 'A/mallard/Interior Alaska/10BM06461R0/2010'), ('A/mallard/Interior Alaska/10BM06448R0/2010', 'A/northern pintail/Interior Alaska/9BM8459R0/2009'), ('A/mallard/Interior Alaska/10BM06454R0/2010', 'A/northern pintail/Interior Alaska/9BM8502R0/2009'), ('A/mallard/Interior Alaska/10BM06456R0/2010', 'A/northern pintail/Interior Alaska/9BM10146R0/2009'), ('A/northern pintail/Interior Alaska/9BM10146R0/2009', 'A/mallard/Interior Alaska/10BM07777R0/2010'), ('A/northern pintail/Interior Alaska/9BM11325R0/2009', 'A/mallard/Interior Alaska/10BM06450R0/2010'), ('A/mallard/Interior Alaska/10BM06456R0/2010', 'A/northern pintail/Interior Alaska/9BM10525R2/2009'), ('A/northern pintail/Interior Alaska/9BM8464R0/2009', 'A/mallard/Interior Alaska/10BM06461R0/2010'), ('A/northern pintail/Interior Alaska/9BM11325R0/2009', 'A/mallard/Interior Alaska/10BM07777R0/2010'), ('A/mallard/Interior Alaska/9BM9755R0/2009', 'A/mallard/Interior Alaska/10BM06450R0/2010'), ('A/mallard/Interior Alaska/10BM06448R0/2010', 'A/northern pintail/Interior Alaska/9BM10525R2/2009'), ('A/mallard/Interior Alaska/10BM06448R0/2010', 'A/northern pintail/Interior Alaska/9BM10146R0/2009'), ('A/northern pintail/Interior Alaska/9BM8459R0/2009', 'A/mallard/Interior Alaska/10BM06452R0/2010'), ('A/northern pintail/Interior Alaska/9BM10525R2/2009', 'A/mallard/Interior Alaska/10BM06454R0/2010'), ('A/mallard/Interior Alaska/10BM06452R0/2010', 'A/northern pintail/Interior Alaska/9BM8502R0/2009'), ('A/mallard/Interior Alaska/10BM06456R0/2010', 'A/northern pintail/Interior Alaska/9BM8502R0/2009'), ('A/northern pintail/Interior Alaska/9BM10525R2/2009', 'A/mallard/Interior Alaska/10BM07777R0/2010'), ('A/mallard/Interior Alaska/10BM06448R0/2010', 'A/mallard/Interior Alaska/9BM8465R0/2009'), ('A/mallard/Interior Alaska/10BM06448R0/2010', 'A/northern pintail/Interior Alaska/9BM8464R0/2009'), ('A/northern pintail/Interior Alaska/9BM8448R0/2009', 'A/mallard/Interior Alaska/10BM06454R0/2010'), ('A/northern pintail/Interior Alaska/9BM8459R0/2009', 'A/mallard/Interior Alaska/10BM07777R0/2010'), ('A/northern pintail/Interior Alaska/9BM8448R0/2009', 'A/mallard/Interior Alaska/10BM07777R0/2010'), ('A/northern pintail/Interior Alaska/9BM9973R0/2009', 'A/mallard/Interior Alaska/10BM06450R0/2010'), ('A/mallard/Interior Alaska/9BM8474R0/2009', 'A/mallard/Interior Alaska/10BM06448R0/2010'), ('A/mallard/Interior Alaska/10BM06454R0/2010', 'A/mallard/Interior Alaska/9BM8465R0/2009'), ('A/northern pintail/Interior Alaska/9BM8464R0/2009', 'A/mallard/Interior Alaska/10BM06450R0/2010'), ('A/mallard/Interior Alaska/9BM9755R0/2009', 'A/mallard/Interior Alaska/10BM06452R0/2010'), ('A/mallard/Interior Alaska/10BM06450R0/2010', 'A/northern pintail/Interior Alaska/9BM8502R0/2009'), ('A/northern pintail/Interior Alaska/9BM10146R0/2009', 'A/mallard/Interior Alaska/10BM06452R0/2010'), ('A/mallard/Interior Alaska/10BM06448R0/2010', 'A/northern pintail/Interior Alaska/9BM9973R0/2009'), ('A/mallard/Interior Alaska/10BM06450R0/2010', 'A/mallard/Interior Alaska/9BM8465R0/2009'), ('A/mallard/Interior Alaska/10BM06448R0/2010', 'A/northern pintail/Interior Alaska/9BM8502R0/2009'), ('A/mallard/Interior Alaska/10BM06456R0/2010', 'A/mallard/Interior Alaska/9BM8465R0/2009'), ('A/mallard/Interior Alaska/10BM07777R0/2010', 'A/northern pintail/Interior Alaska/9BM8502R0/2009'), ('A/northern pintail/Interior Alaska/9BM9973R0/2009', 'A/mallard/Interior Alaska/10BM06461R0/2010'), ('A/northern pintail/Interior Alaska/9BM11325R0/2009', 'A/mallard/Interior Alaska/10BM06452R0/2010'), ('A/mallard/Interior Alaska/10BM06452R0/2010', 'A/mallard/Interior Alaska/9BM8465R0/2009'), ('A/mallard/Interior Alaska/9BM9755R0/2009', 'A/mallard/Interior Alaska/10BM06454R0/2010'), ('A/northern pintail/Interior Alaska/9BM10525R2/2009', 'A/mallard/Interior Alaska/10BM06461R0/2010'), ('A/northern pintail/Interior Alaska/9BM8448R0/2009', 'A/mallard/Interior Alaska/10BM06450R0/2010'), ('A/mallard/Interior Alaska/9BM8474R0/2009', 'A/mallard/Interior Alaska/10BM06450R0/2010'), ('A/northern pintail/Interior Alaska/9BM10146R0/2009', 'A/mallard/Interior Alaska/10BM06454R0/2010'), ('A/mallard/Interior Alaska/10BM06456R0/2010', 'A/northern pintail/Interior Alaska/9BM8464R0/2009'), ('A/northern pintail/Interior Alaska/9BM11325R0/2009', 'A/mallard/Interior Alaska/10BM06461R0/2010'), ('A/northern pintail/Interior Alaska/9BM11325R0/2009', 'A/mallard/Interior Alaska/10BM06456R0/2010'), ('A/northern pintail/Interior Alaska/9BM8459R0/2009', 'A/mallard/Interior Alaska/10BM06461R0/2010'), ('A/northern pintail/Interior Alaska/9BM11325R0/2009', 'A/mallard/Interior Alaska/10BM06454R0/2010'), ('A/northern pintail/Interior Alaska/9BM8464R0/2009', 'A/mallard/Interior Alaska/10BM06452R0/2010'), ('A/mallard/Interior Alaska/10BM06448R0/2010', 'A/northern pintail/Interior Alaska/9BM11325R0/2009'), ('A/northern pintail/Interior Alaska/9BM8448R0/2009', 'A/mallard/Interior Alaska/10BM06461R0/2010'), ('A/mallard/Interior Alaska/9BM8474R0/2009', 'A/mallard/Interior Alaska/10BM06456R0/2010'), ('A/northern pintail/Interior Alaska/9BM8459R0/2009', 'A/mallard/Interior Alaska/10BM06454R0/2010'), ('A/northern pintail/Interior Alaska/9BM9973R0/2009', 'A/mallard/Interior Alaska/10BM06456R0/2010'), ('A/mallard/Interior Alaska/9BM8474R0/2009', 'A/mallard/Interior Alaska/10BM06454R0/2010'), ('A/mallard/Interior Alaska/10BM06456R0/2010', 'A/northern pintail/Interior Alaska/9BM8448R0/2009'), ('A/northern pintail/Interior Alaska/9BM8464R0/2009', 'A/mallard/Interior Alaska/10BM06454R0/2010'), ('A/northern pintail/Interior Alaska/9BM8459R0/2009', 'A/mallard/Interior Alaska/10BM06450R0/2010'), ('A/northern pintail/Interior Alaska/9BM8464R0/2009', 'A/mallard/Interior Alaska/10BM07777R0/2010'), ('A/northern pintail/Interior Alaska/9BM8459R0/2009', 'A/mallard/Interior Alaska/10BM06456R0/2010')])\n"
       ]
      }
     ],
     "prompt_number": 34
    },
    {
     "cell_type": "code",
     "collapsed": false,
     "input": [
      "# What strain has 22 parental combinations?\n",
      "for sink, sources_dict in reassortant_isolates.items():\n",
      "    if len(sources_dict.keys()) == 22:\n",
      "        print(sink, sources_dict.keys())\n",
      "# Note: This is an H8N4 strain."
     ],
     "language": "python",
     "metadata": {},
     "outputs": [
      {
       "output_type": "stream",
       "stream": "stdout",
       "text": [
        "('A/northern pintail/Interior Alaska/9BM8109R0/2009', [('A/northern pintail/Interior Alaska/9BM6510R0/2009', 'A/northern shoveler/Interior Alaska/9BM2943R1/2009'), ('A/northern pintail/Interior Alaska/9BM6510R0/2009', 'A/northern pintail/Interior Alaska/9BM4637R0/2009'), ('A/northern pintail/Interior Alaska/9BM6510R0/2009', 'A/northern pintail/Interior Alaska/9BM4410R1/2009'), ('A/northern pintail/Interior Alaska/9BM6510R0/2009', 'A/northern pintail/Interior Alaska/9BM6164R0/2009'), ('A/northern pintail/Interior Alaska/9BM6510R0/2009', 'A/northern pintail/Interior Alaska/9BM5375R0/2009'), ('A/northern pintail/Interior Alaska/9BM6510R0/2009', 'A/northern pintail/Interior Alaska/9BM4666R0/2009'), ('A/northern pintail/Interior Alaska/9BM6510R0/2009', 'A/northern pintail/Interior Alaska/9BM6165R0/2009'), ('A/northern pintail/Interior Alaska/9BM6510R0/2009', 'A/northern pintail/Interior Alaska/9BM5554R0/2009'), ('A/northern pintail/Interior Alaska/9BM6510R0/2009', 'A/northern pintail/Interior Alaska/9BM6229R0/2009'), ('A/northern pintail/Interior Alaska/9BM6510R0/2009', 'A/northern pintail/Interior Alaska/9BM9005R0/2009'), ('A/northern pintail/Interior Alaska/9BM6510R0/2009', 'A/northern pintail/Interior Alaska/9BM8803R0/2009'), ('A/northern pintail/Interior Alaska/9BM6510R0/2009', 'A/American green-winged teal/Interior Alaska/9BM6702R0/2009'), ('A/northern pintail/Interior Alaska/9BM6510R0/2009', 'A/American green-winged teal/Interior Alaska/9BM6223R0/2009'), ('A/northern pintail/Interior Alaska/9BM6510R0/2009', 'A/northern pintail/Interior Alaska/9BM5941R0/2009'), ('A/northern pintail/Interior Alaska/9BM6510R0/2009', 'A/American green-winged teal/Interior Alaska/9BM6222R0/2009'), ('A/northern pintail/Interior Alaska/9BM6510R0/2009', 'A/northern pintail/Interior Alaska/9BM8084R0/2009'), ('A/northern pintail/Interior Alaska/9BM6510R0/2009', 'A/northern pintail/Interior Alaska/9BM7696R0/2009'), ('A/northern pintail/Interior Alaska/9BM6510R0/2009', 'A/northern pintail/Interior Alaska/9BM5053R0/2009'), ('A/northern pintail/Interior Alaska/9BM6510R0/2009', 'A/northern pintail/Interior Alaska/9BM5376R0/2009'), ('A/northern pintail/Interior Alaska/9BM6510R0/2009', 'A/northern pintail/Interior Alaska/9BM8273R0/2009'), ('A/northern pintail/Interior Alaska/9BM6510R0/2009', 'A/American green-winged teal/Interior Alaska/9BM6225R0/2009'), ('A/northern pintail/Interior Alaska/9BM6510R0/2009', 'A/northern shoveler/Interior Alaska/9BM4905R0/2009')])\n"
       ]
      }
     ],
     "prompt_number": 35
    },
    {
     "cell_type": "code",
     "collapsed": false,
     "input": [
      "# What strain has 11 parental combinations?\n",
      "for sink, sources_dict in reassortant_isolates.items():\n",
      "    if len(sources_dict.keys()) == 11:\n",
      "        print(sink, sources_dict.keys())\n",
      "# Note: This is an H3N7 strain."
     ],
     "language": "python",
     "metadata": {},
     "outputs": [
      {
       "output_type": "stream",
       "stream": "stdout",
       "text": [
        "('A/ruddy turnstone/New Jersey/Sg-00522/2008', [('A/ruddy turnstone/New Jersey/Sg-00520/2008', 'A/ruddy turnstone/New Jersey/Sg-00517/2008'), ('A/ruddy turnstone/New Jersey/Sg-00520/2008', 'A/ruddy turnstone/New Jersey/Sg-00535/2008'), ('A/ruddy turnstone/New Jersey/Sg-00504/2008', 'A/ruddy turnstone/New Jersey/Sg-00520/2008'), ('A/ruddy turnstone/New Jersey/Sg-00554/2008', 'A/ruddy turnstone/New Jersey/Sg-00520/2008'), ('A/ruddy turnstone/New Jersey/Sg-00520/2008', 'A/shorebird/Delaware Bay/495/2008'), ('A/ruddy turnstone/New Jersey/Sg-00487/2008', 'A/ruddy turnstone/New Jersey/Sg-00520/2008'), ('A/ruddy turnstone/New Jersey/Sg-00520/2008', 'A/ruddy turnstone/New Jersey/Sg-00498/2008'), ('A/ruddy turnstone/New Jersey/Sg-00520/2008', 'A/ruddy turnstone/Delaware/Sg-00468/2008'), ('A/ruddy turnstone/New Jersey/Sg-00520/2008', 'A/ruddy turnstone/Delaware/Sg-00472/2008'), ('A/shorebird/Delaware Bay/586/2008', 'A/ruddy turnstone/New Jersey/Sg-00520/2008'), ('A/ruddy turnstone/New Jersey/Sg-00528/2008', 'A/ruddy turnstone/New Jersey/Sg-00520/2008')])\n"
       ]
      }
     ],
     "prompt_number": 36
    },
    {
     "cell_type": "code",
     "collapsed": false,
     "input": [
      "# What strain has 10 parental combinations?\n",
      "for sink, sources_dict in reassortant_isolates.items():\n",
      "    if len(sources_dict.keys()) == 10:\n",
      "        print(sink, sources_dict.keys())\n",
      "# Note: This is an unknown-HA N7 strain."
     ],
     "language": "python",
     "metadata": {},
     "outputs": [
      {
       "output_type": "stream",
       "stream": "stdout",
       "text": [
        "('A/American green-winged teal/Interior Alaska/10BM05440R0/2010', [('A/mallard/Interior Alaska/10BM05968R0/2010', 'A/mallard/Interior Alaska/9BM3361R0/2009'), ('A/mallard/Interior Alaska/10BM05968R0/2010', 'A/mallard/Interior Alaska/9BM3357R0/2009'), ('A/mallard/Interior Alaska/10BM05968R0/2010', 'A/mallard/Interior Alaska/9BM3379R0/2009'), ('A/mallard/Interior Alaska/10BM05968R0/2010', 'A/mallard/Interior Alaska/9BM2750R0/2009'), ('A/mallard/Interior Alaska/10BM05968R0/2010', 'A/American green-winged teal/Interior Alaska/9BM3595R1/2009'), ('A/mallard/Interior Alaska/10BM05968R0/2010', 'A/mallard/Interior Alaska/9BM3355R0/2009'), ('A/mallard/Interior Alaska/10BM05968R0/2010', 'A/mallard/Interior Alaska/9BM3076R0/2009'), ('A/mallard/Interior Alaska/10BM05968R0/2010', 'A/mallard/Interior Alaska/9BM3078R0/2009'), ('A/mallard/Interior Alaska/10BM05968R0/2010', 'A/mallard/Interior Alaska/9BM3016R0/2009'), ('A/mallard/Interior Alaska/10BM05968R0/2010', 'A/northern pintail/Interior Alaska/9BM11787R0/2009')])\n"
       ]
      }
     ],
     "prompt_number": 37
    },
    {
     "cell_type": "code",
     "collapsed": false,
     "input": [
      "# What strains have 8 parental combinations?\n",
      "for sink, sources_dict in reassortant_isolates.items():\n",
      "    if len(sources_dict.keys()) == 8:\n",
      "        print(sink, sources_dict.keys())\n",
      "# These are what they are:\n",
      "# - A/mallard/California/2552V/2011: H4N8\n",
      "# - A/ruddy turnstone/Delaware/Sg-00541/2008: H4N6\n",
      "# - A/ruddy turnstone/New Jersey/AI09-474/2009: H10N1"
     ],
     "language": "python",
     "metadata": {},
     "outputs": [
      {
       "output_type": "stream",
       "stream": "stdout",
       "text": [
        "('A/mallard/California/2552V/2011', [('A/mallard/California/2563V/2011', 'A/mallard/California/2561P/2011'), ('A/mallard/California/2563V/2011', 'A/mallard/California/2549V/2011'), ('A/mallard/California/2521P/2011', 'A/mallard/California/2563V/2011'), ('A/mallard/California/2563V/2011', 'A/mallard/California/2540V/2011'), ('A/mallard/California/2563V/2011', 'A/mallard/California/2576V/2011'), ('A/mallard/California/2563V/2011', 'A/mallard/California/2569P/2011'), ('A/mallard/California/2563V/2011', 'A/mallard/California/2521V/2011'), ('A/mallard/California/2569V/2011', 'A/mallard/California/2563V/2011')])\n",
        "('A/ruddy turnstone/Delaware/Sg-00541/2008', [('A/ruddy turnstone/New Jersey/Sg-00507/2008', 'A/ruddy turnstone/New Jersey/Sg-00514/2008'), ('A/shorebird/Delaware Bay/497/2008', 'A/shorebird/Delaware Bay/495/2008'), ('A/ruddy turnstone/New Jersey/Sg-00534/2008', 'A/shorebird/Delaware Bay/495/2008'), ('A/ruddy turnstone/New Jersey/Sg-00514/2008', 'A/shorebird/Delaware Bay/497/2008'), ('A/shorebird/Delaware Bay/486/2008', 'A/shorebird/Delaware Bay/495/2008'), ('A/ruddy turnstone/New Jersey/Sg-00534/2008', 'A/ruddy turnstone/New Jersey/Sg-00514/2008'), ('A/shorebird/Delaware Bay/486/2008', 'A/ruddy turnstone/New Jersey/Sg-00514/2008'), ('A/ruddy turnstone/New Jersey/Sg-00507/2008', 'A/shorebird/Delaware Bay/495/2008')])\n",
        "('A/ruddy turnstone/New Jersey/AI09-474/2009', [('A/gull/Delaware/AI09-453/2009', 'A/ruddy turnstone/New Jersey/AI09-1352/2009'), ('A/gull/Delaware/AI09-438/2009', 'A/ruddy turnstone/New Jersey/AI09-1352/2009'), ('A/shorebird/Delaware Bay/170/2009', 'A/ruddy turnstone/New Jersey/AI09-1352/2009'), ('A/ruddy turnstone/New Jersey/AI09-1352/2009', 'A/ruddy turnstone/Delaware/AI09-1221/2009'), ('A/shorebird/Delaware Bay/318/2009', 'A/ruddy turnstone/New Jersey/AI09-1352/2009'), ('A/ruddy turnstone/New Jersey/AI09-841/2009', 'A/ruddy turnstone/New Jersey/AI09-1352/2009'), ('A/shorebird/Delaware Bay/321/2009', 'A/ruddy turnstone/New Jersey/AI09-1352/2009'), ('A/ruddy turnstone/New Jersey/AI09-775/2009', 'A/ruddy turnstone/New Jersey/AI09-1352/2009')])\n"
       ]
      }
     ],
     "prompt_number": 38
    },
    {
     "cell_type": "code",
     "collapsed": false,
     "input": [
      "# What strains have 7 parental combinations?\n",
      "for sink, sources_dict in reassortant_isolates.items():\n",
      "    if len(sources_dict.keys()) == 7:\n",
      "        print(sink, sources_dict.keys())\n",
      "# These are what they are:\n",
      "# - A/ruddy turnstone/New Jersey/AI09-846/2009: H1N1"
     ],
     "language": "python",
     "metadata": {},
     "outputs": [
      {
       "output_type": "stream",
       "stream": "stdout",
       "text": [
        "('A/ruddy turnstone/New Jersey/AI09-846/2009', [('A/ruddy turnstone/New Jersey/AI09-727/2009', 'A/gull/Delaware/AI09-453/2009'), ('A/ruddy turnstone/New Jersey/AI09-727/2009', 'A/ruddy turnstone/New Jersey/AI09-775/2009'), ('A/ruddy turnstone/New Jersey/AI09-727/2009', 'A/gull/Delaware/AI09-438/2009'), ('A/ruddy turnstone/New Jersey/AI09-727/2009', 'A/shorebird/Delaware Bay/170/2009'), ('A/ruddy turnstone/New Jersey/AI09-727/2009', 'A/shorebird/Delaware Bay/318/2009'), ('A/ruddy turnstone/New Jersey/AI09-727/2009', 'A/shorebird/Delaware Bay/321/2009'), ('A/ruddy turnstone/New Jersey/AI09-727/2009', 'A/ruddy turnstone/New Jersey/AI09-841/2009')])\n"
       ]
      }
     ],
     "prompt_number": 39
    },
    {
     "cell_type": "code",
     "collapsed": false,
     "input": [
      "# What strains have 6 parental combinations?\n",
      "for sink, sources_dict in reassortant_isolates.items():\n",
      "    if len(sources_dict.keys()) == 6:\n",
      "        print(sink, sources_dict.keys())\n",
      "# These are what they are:\n",
      "# - A/ruddy turnstone/New Jersey/AI09-846/2009: H6N1\n",
      "# COOL - this one crosses geographic boundaries!"
     ],
     "language": "python",
     "metadata": {},
     "outputs": [
      {
       "output_type": "stream",
       "stream": "stdout",
       "text": [
        "('A/mallard/Ohio/2043/2009', [('A/northern shoveler/California/8536/2008', 'A/ruddy turnstone/Delaware/AI09-666/2009'), ('A/ruddy turnstone/Delaware/AI09-666/2009', 'A/gadwall/California/8708/2008'), ('A/gadwall/California/8504/2008', 'A/ruddy turnstone/Delaware/AI09-666/2009'), ('A/northern pintail/California/8105/2008', 'A/ruddy turnstone/Delaware/AI09-666/2009'), ('A/northern shoveler/California/8629/2008', 'A/ruddy turnstone/Delaware/AI09-666/2009'), ('A/ruddy turnstone/Delaware/AI09-666/2009', 'A/northern shoveler/California/8528/2008')])\n"
       ]
      }
     ],
     "prompt_number": 40
    },
    {
     "cell_type": "code",
     "collapsed": false,
     "input": [
      "# What strains have 5 parental combinations?\n",
      "for sink, sources_dict in reassortant_isolates.items():\n",
      "    if len(sources_dict.keys()) == 5:\n",
      "        print(sink, sources_dict)\n",
      "# These are what they are:\n",
      "# - A/ruddy turnstone/New Jersey/AI09-846/2009: H3N8\n",
      "# COOL - this one crosses geographic boundaries!\n",
      "# AND - it may involve only the internal segments!"
     ],
     "language": "python",
     "metadata": {},
     "outputs": [
      {
       "output_type": "stream",
       "stream": "stdout",
       "text": [
        "('A/mallard/Iowa/10OS2426/2010', {('A/mallard/Interior Alaska/9BM12567R0/2009', 'A/blue-winged teal/Iowa/10OS2649/2010'): {1: ('A/blue-winged teal/Iowa/10OS2649/2010', 0.99870499999999995), 2: ('A/blue-winged teal/Iowa/10OS2649/2010', 0.99870499999999995), 3: ('A/blue-winged teal/Iowa/10OS2649/2010', 0.99954699999999996), 4: ('A/blue-winged teal/Iowa/10OS2649/2010', 0.99885100000000004), 5: ('A/blue-winged teal/Iowa/10OS2649/2010', 0.99026000000000003), 6: ('A/mallard/Interior Alaska/9BM12567R0/2009', 0.98873999999999995), 7: ('A/blue-winged teal/Iowa/10OS2649/2010', 0.99900199999999995), 8: ('A/mallard/Interior Alaska/9BM12567R0/2009', 0.98148100000000005), 'sum': 7.9552910000000008}, ('A/northern shoveler/Interior Alaska/9BM12298R0/2009', 'A/blue-winged teal/Iowa/10OS2649/2010'): {1: ('A/blue-winged teal/Iowa/10OS2649/2010', 0.99870499999999995), 2: ('A/blue-winged teal/Iowa/10OS2649/2010', 0.99870499999999995), 3: ('A/blue-winged teal/Iowa/10OS2649/2010', 0.99954699999999996), 4: ('A/blue-winged teal/Iowa/10OS2649/2010', 0.99885100000000004), 5: ('A/blue-winged teal/Iowa/10OS2649/2010', 0.99026000000000003), 6: ('A/northern shoveler/Interior Alaska/9BM12298R0/2009', 0.98873999999999995), 7: ('A/blue-winged teal/Iowa/10OS2649/2010', 0.99900199999999995), 8: ('A/northern shoveler/Interior Alaska/9BM12298R0/2009', 0.98148100000000005), 'sum': 7.9552910000000008}, ('A/blue-winged teal/Iowa/10OS2649/2010', 'A/northern pintail/Interior Alaska/9BM10819R0/2009'): {1: ('A/blue-winged teal/Iowa/10OS2649/2010', 0.99870499999999995), 2: ('A/blue-winged teal/Iowa/10OS2649/2010', 0.99870499999999995), 3: ('A/blue-winged teal/Iowa/10OS2649/2010', 0.99954699999999996), 4: ('A/blue-winged teal/Iowa/10OS2649/2010', 0.99885100000000004), 5: ('A/blue-winged teal/Iowa/10OS2649/2010', 0.99026000000000003), 6: ('A/northern pintail/Interior Alaska/9BM10819R0/2009', 0.98873999999999995), 7: ('A/blue-winged teal/Iowa/10OS2649/2010', 0.99900199999999995), 8: ('A/northern pintail/Interior Alaska/9BM10819R0/2009', 0.98148100000000005), 'sum': 7.9552910000000008}, ('A/northern pintail/Interior Alaska/9BM12647R0/2009', 'A/blue-winged teal/Iowa/10OS2649/2010'): {1: ('A/blue-winged teal/Iowa/10OS2649/2010', 0.99870499999999995), 2: ('A/blue-winged teal/Iowa/10OS2649/2010', 0.99870499999999995), 3: ('A/blue-winged teal/Iowa/10OS2649/2010', 0.99954699999999996), 4: ('A/blue-winged teal/Iowa/10OS2649/2010', 0.99885100000000004), 5: ('A/blue-winged teal/Iowa/10OS2649/2010', 0.99026000000000003), 6: ('A/northern pintail/Interior Alaska/9BM12647R0/2009', 0.98873999999999995), 7: ('A/blue-winged teal/Iowa/10OS2649/2010', 0.99900199999999995), 8: ('A/northern pintail/Interior Alaska/9BM12647R0/2009', 0.98148100000000005), 'sum': 7.9552910000000008}, ('A/northern pintail/Interior Alaska/9BM11487R0/2009', 'A/blue-winged teal/Iowa/10OS2649/2010'): {1: ('A/blue-winged teal/Iowa/10OS2649/2010', 0.99870499999999995), 2: ('A/blue-winged teal/Iowa/10OS2649/2010', 0.99870499999999995), 3: ('A/blue-winged teal/Iowa/10OS2649/2010', 0.99954699999999996), 4: ('A/blue-winged teal/Iowa/10OS2649/2010', 0.99885100000000004), 5: ('A/blue-winged teal/Iowa/10OS2649/2010', 0.99026000000000003), 6: ('A/northern pintail/Interior Alaska/9BM11487R0/2009', 0.98873999999999995), 7: ('A/blue-winged teal/Iowa/10OS2649/2010', 0.99900199999999995), 8: ('A/northern pintail/Interior Alaska/9BM11487R0/2009', 0.98148100000000005), 'sum': 7.9552910000000008}})\n"
       ]
      }
     ],
     "prompt_number": 41
    },
    {
     "cell_type": "code",
     "collapsed": false,
     "input": [
      "# Genetic shifters are those for which the HA and NA segments come from different sources.\n",
      "# Which isolates are the genetic shifters? How many source pairs suggest shift in ?\n",
      "\n",
      "genetic_shifters = dict()\n",
      "\n",
      "for sink, sources_dict in reassortant_isolates.items():\n",
      "    genetic_shifters[sink] = 0\n",
      "    for source_pair, segments_dict in sources_dict.items():\n",
      "        if segments_dict[4][0] != segments_dict[6][0]:\n",
      "            # This condition ensures that we do not consider those isolates for which\n",
      "            # there is a possibility that both segment 4 and 6 came from the same\n",
      "            # isolate.\n",
      "            if len(segments_dict[4][0]) == 2 or len(segments_dict[6][0]) == 2:\n",
      "                pass\n",
      "            else:\n",
      "                genetic_shifters[sink] += 1\n",
      "                print(sink, source_pair)\n",
      "     \n",
      "# From the genetic_shifters dictionary, remove strains that are not deemed to be genetic shifters\n",
      "for virus, count in genetic_shifters.items():\n",
      "    if count == 0:\n",
      "        del genetic_shifters[virus]\n",
      "        \n",
      "len(genetic_shifters)"
     ],
     "language": "python",
     "metadata": {},
     "outputs": [
      {
       "output_type": "stream",
       "stream": "stdout",
       "text": [
        "('A/blue-winged teal/Missouri/10MO0011/2010', ('A/blue-winged teal/Wisconsin/2741/2009', 'A/blue-winged teal/Iowa/10OS2639/2010'))\n",
        "('A/American green-winged teal/Wisconsin/2743/2009', ('A/mallard/California/5351/2009', 'A/American green-winged teal/Illinois/3054/2009'))\n",
        "('A/shorebird/Delaware Bay/655/2009', ('A/ruddy turnstone/New Jersey/AI09-194/2009', 'A/ruddy turnstone/New Jersey/AI09-837/2009'))\n",
        "('A/northern pintail/Interior Alaska/8BM3723/2008', ('A/mallard/Interior Alaska/8BM2102/2008', 'A/mallard/Interior Alaska/8BM3627R1/2008'))\n",
        "('A/mallard/California/6768/2009', ('A/mallard/Ohio/4809-9/2008', 'A/mallard/Wisconsin/2576/2009'))\n",
        "('A/blue-winged Teal/Minnesota/AI09-2977/2009', ('A/mallard/Illinois/08OS2315/2008', 'A/mallard/Minnesota/AI09-2571/2009'))\n",
        "('A/northern shoveler/Mississippi/397/2010', ('A/green-winged teal/California/1841/2009', 'A/mallard/Minnesota/AI09-1684/2009'))\n",
        "('A/northern shoveler/Mississippi/397/2010', ('A/mallard/Minnesota/AI09-1678/2009', 'A/green-winged teal/California/1841/2009'))\n",
        "('A/ruddy turnstone/New Jersey/AI09-727/2009', ('A/ruddy turnstone/New Jersey/AI09-846/2009', 'A/ruddy turnstone/New Jersey/AI09-1082/2009'))\n",
        "('A/blue-winged teal/Prince Edward Island/03910/2009', ('A/American black duck/New Brunswick/03451/2009', 'A/blue-winged teal/Prince Edward Island/03922/2009'))\n",
        "('A/long-tailed duck/Wisconsin/10OS3915/2010', ('A/mallard/Wisconsin/2712/2009', 'A/American green-winged teal/Wisconsin/2690/2009'))\n",
        "('A/mallard/Arkansas/AI09-5900/2009', ('A/mallard/Minnesota/AI09-2519/2009', 'A/blue-winged teal/Texas/AI09-4463/2009'))\n",
        "('A/mallard/Minnesota/Sg-00868/2008', ('A/mallard/Minnesota/Sg-00804/2008', 'A/mallard/Minnesota/Sg-00616/2008'))\n",
        "('A/mallard/Minnesota/AI09-1870/2009', ('A/mallard/Minnesota/AI09-1829/2009', 'A/mallard/Wisconsin/08OS2844/2008'))\n",
        "('A/northern shoveler/California/3676/2010', ('A/northern shoveler/Interior Alaska/9BM2925R0/2009', 'A/American wigeon/Iowa/10OS2748/2010'))\n",
        "('A/green-winged teal/New Brunswick/00331/2010', ('A/mallard/New Brunswick/00339/2010', 'A/green-winged teal/New Brunswick/00335/2010'))\n",
        "('A/green-winged teal/New Brunswick/00331/2010', ('A/green-winged teal/New Brunswick/00333/2010', 'A/green-winged teal/New Brunswick/00335/2010'))\n",
        "('A/green-winged teal/New Brunswick/00331/2010', ('A/American black duck/New Brunswick/00328/2010', 'A/green-winged teal/New Brunswick/00335/2010'))\n",
        "('A/ruddy turnstone/New Jersey/AI09-1071/2009', ('A/ruddy turnstone/New Jersey/AI09-1292/2009', 'A/ruddy turnstone/New Jersey/AI09-305/2009'))\n",
        "('A/mallard/Ohio/2043/2009', ('A/northern shoveler/California/8536/2008', 'A/ruddy turnstone/Delaware/AI09-666/2009'))\n",
        "('A/mallard/Ohio/2043/2009', ('A/ruddy turnstone/Delaware/AI09-666/2009', 'A/gadwall/California/8708/2008'))\n",
        "('A/mallard/Ohio/2043/2009', ('A/gadwall/California/8504/2008', 'A/ruddy turnstone/Delaware/AI09-666/2009'))\n",
        "('A/mallard/Ohio/2043/2009', ('A/northern pintail/California/8105/2008', 'A/ruddy turnstone/Delaware/AI09-666/2009'))\n",
        "('A/mallard/Ohio/2043/2009', ('A/northern shoveler/California/8629/2008', 'A/ruddy turnstone/Delaware/AI09-666/2009'))\n",
        "('A/mallard/Ohio/2043/2009', ('A/ruddy turnstone/Delaware/AI09-666/2009', 'A/northern shoveler/California/8528/2008'))\n",
        "('A/mallard/Minnesota/AI09-3228/2009', ('A/American green-winged teal/Wisconsin/08OS2291/2008', 'A/blue-winged Teal/North Dakota/AI09-3642/2009'))\n",
        "('A/mallard/Alberta/590/2010', ('A/northern shoveler/Mississippi/09OS643/2009', 'A/American wigeon/Interior Alaska/9BM2501R1/2009'))\n",
        "('A/red-necked grebe/Minnesota/AI10-2528/2010', ('A/American green-winged teal/Interior Alaska/10BM08422R0/2010', 'A/northern pintail/Interior Alaska/9BM11719R1/2009'))\n",
        "('A/northern shoveler/California/9680/2008', ('A/mallard/California/11100/2008', 'A/mallard/California/8462/2008'))\n",
        "('A/northern shoveler/California/9680/2008', ('A/mallard/California/11100/2008', 'A/gadwall/California/8340/2008'))\n",
        "('A/mallard/North Dakota/Sg-00737/2008', ('A/shorebird/Delaware Bay/604/2008', 'A/blue-winged teal/Minnesota/Sg-00787/2008'))\n",
        "('A/mallard/North Dakota/Sg-00703/2008', ('A/mallard/Minnesota/Sg-00682/2008', 'A/mallard/Interior Alaska/8BM2967/2008'))\n",
        "('A/American black duck/New Brunswick/03451/2009', ('A/American black duck/New Brunswick/03395/2009', 'A/ruddy turnstone/New Jersey/Sg-00564/2008'))\n",
        "('A/mallard/Ohio/10OS1354/2010', ('A/green-winged teal/Minnesota/Sg-01065/2008', 'A/mallard/Wisconsin/2756/2009'))\n",
        "('A/mallard/Wisconsin/11OS3577/2011', ('A/mallard/Interior Alaska/9BM1852/2009', 'A/American green-winged teal/Wisconsin/10OS2767/2010'))\n",
        "('A/American green-winged teal/Wisconsin/11OS3425/2011', ('A/blue-winged teal/North Dakota/Sg-00733/2008', 'A/blue-winged teal/Missouri/11OS2563/2011'))\n",
        "('A/mallard/Minnesota/AI09-4022/2009', ('A/American green-winged teal/Wisconsin/08OS2291/2008', 'A/mallard/Minnesota/Sg-00949/2008'))\n",
        "('A/mallard/Ohio/11OS2095/2011', ('A/mallard/Ohio/11OS1998/2011', 'A/mallard/Wisconsin/10OS3169/2010'))\n",
        "('A/American green-winged teal/Interior Alaska/10BM04207R0/2010', ('A/northern pintail/Interior Alaska/9BM6902R0/2009', 'A/northern shoveler/Interior Alaska/10BM02593R0/2010'))\n",
        "('A/mallard/Alberta/289/2009', ('A/mallard/Alberta/155/2009', 'A/mallard/Alberta/319/2009'))\n",
        "('A/mallard/California/11100/2008', ('A/northern shoveler/California/9680/2008', 'A/mallard/Minnesota/Sg-00944/2008'))\n",
        "('A/shorebird/Delaware Bay/318/2009', ('A/shorebird/Delaware Bay/338/2009', 'A/ruddy turnstone/New Jersey/AI09-626/2009'))\n",
        "('A/shorebird/Delaware Bay/318/2009', ('A/shorebird/Delaware Bay/340/2009', 'A/ruddy turnstone/New Jersey/AI09-626/2009'))\n",
        "('A/shorebird/Delaware Bay/318/2009', ('A/shorebird/Delaware Bay/342/2009', 'A/ruddy turnstone/New Jersey/AI09-626/2009'))\n",
        "('A/mallard/Arkansas/AI09-6032/2009', ('A/mallard/Ohio/1686/2009', 'A/ruddy turnstone/New Jersey/AI09-944/2009'))\n",
        "('A/duck/SK/4612/2010', ('A/ring-billed gull/Quebec/G018/2010', 'A/duck/SK/4628/2010'))\n",
        "('A/American green-winged teal/Wisconsin/08OS2270/2008', ('A/mallard/Minnesota/Sg-00949/2008', 'A/blue-winged teal/North Dakota/Sg-00719/2008'))\n",
        "('A/American green-winged teal/Illinois/3443/2009', ('A/mallard/California/8834/2008', 'A/mallard/New Jersey/AI09-6426/2009'))\n",
        "('A/mallard/Wisconsin/3165/2009', ('A/mallard/Wisconsin/2756/2009', 'A/mallard/Minnesota/SG-00932/2008'))\n",
        "('A/mallard/California/2552V/2011', ('A/mallard/California/2563V/2011', 'A/mallard/California/2561P/2011'))\n",
        "('A/mallard/California/2552V/2011', ('A/mallard/California/2563V/2011', 'A/mallard/California/2549V/2011'))\n",
        "('A/mallard/California/2552V/2011', ('A/mallard/California/2521P/2011', 'A/mallard/California/2563V/2011'))\n",
        "('A/mallard/California/2552V/2011', ('A/mallard/California/2563V/2011', 'A/mallard/California/2540V/2011'))\n",
        "('A/mallard/California/2552V/2011', ('A/mallard/California/2563V/2011', 'A/mallard/California/2576V/2011'))\n",
        "('A/mallard/California/2552V/2011', ('A/mallard/California/2563V/2011', 'A/mallard/California/2569P/2011'))\n",
        "('A/mallard/California/2552V/2011', ('A/mallard/California/2563V/2011', 'A/mallard/California/2521V/2011'))\n",
        "('A/mallard/California/2552V/2011', ('A/mallard/California/2569V/2011', 'A/mallard/California/2563V/2011'))\n",
        "('A/shorebird/Delaware Bay/181/2009', ('A/ruddy turnstone/New Jersey/AI09-937/2009', 'A/black scoter/New Brunswick/00002/2009'))\n",
        "('A/northern pintail/California/2548/2010', ('A/mallard/California/11100/2008', 'A/mallard/Arkansas/AI09-5649/2009'))\n",
        "('A/green-winged teal/California/8326/2008', ('A/mallard/Minnesota/Sg-01040/2008', 'A/mallard/Alberta/496/2008'))\n",
        "('A/ruddy turnstone/New Jersey/AI09-937/2009', ('A/shorebird/Delaware Bay/181/2009', 'A/ruddy turnstone/New Jersey/AI09-827/2009'))\n",
        "('A/blue-winged teal/Missouri/11OS2563/2011', ('A/mallard/North Dakota/Sg-00703/2008', 'A/mallard/Interior Alaska/9BM10393R0/2009'))\n",
        "('A/mallard/California/8028/2008', ('A/American green-winged teal/Wisconsin/08OS2291/2008', 'A/mallard/Minnesota/Sg-00944/2008'))\n",
        "('A/mallard/California/8028/2008', ('A/mallard/Minnesota/Sg-00944/2008', 'A/gadwall/Wisconsin/08OS2293/2008'))\n",
        "('A/American green-winged teal/Texas/AI09-4396/2009', ('A/mallard/Minnesota/Sg-00831/2008', 'A/mallard/Minnesota/AI09-3770/2009'))\n",
        "('A/mallard/Wisconsin/08OS2261/2008', ('A/ruddy turnstone/Delaware/Sg-00541/2008', 'A/mallard/Illinois/08OS2315/2008'))\n",
        "('A/mallard/Ohio/11OS2216/2011', ('A/northern pintail/Wisconsin/10OS2857/2010', 'A/shorebird/Delaware Bay/380/2010'))\n",
        "('A/northern shoveler/California/3046/2010', ('A/northern shoveler/Mississippi/397/2010', 'A/mallard/Wisconsin/10OS3169/2010'))\n",
        "('A/mallard/Ohio/1686/2009', ('A/mallard/Ohio/1690/2009', 'A/mallard/Ohio/2031/2009'))\n",
        "('A/northern shoveler/California/3628/2011', ('A/northern shoveler/California/HKWF2031/2008', 'A/mallard/Illinois/08OS2710/2008'))\n",
        "('A/northern shoveler/California/3628/2011', ('A/northern shoveler/California/HKWF2031/2008', 'A/American green-winged teal/Illinois/08OS2713/2008'))\n",
        "('A/mallard/Missouri/10MO084/2010', ('A/blue-winged teal/Guatemala/CIP049-09/2010', 'A/mallard/Minnesota/Sg-00930/2008'))\n",
        "('A/northern pintail/California/3466/2010', ('A/mallard/Alberta/569/2008', 'A/mallard/Alberta/319/2009'))\n",
        "('A/ring-necked duck/New Brunswick/03449/2009', ('A/mallard/New Jersey/Sg-00884/2008', 'A/mallard/Ohio/2031/2009'))\n",
        "('A/shorebird/Delaware Bay/379/2008', ('A/ruddy turnstone/New Jersey/Sg-00490/2008', 'A/ruddy turnstone/New Jersey/Sg-00471/2008'))\n",
        "('A/northern pintail/Interior Alaska/9BM11787R0/2009', ('A/northern pintail/Interior Alaska/9BM11151R0/2009', 'A/northern pintail/Interior Alaska/9BM9611R0/2009'))\n",
        "('A/northern pintail/Interior Alaska/9BM11787R0/2009', ('A/northern pintail/Interior Alaska/9BM10969R0/2009', 'A/northern pintail/Interior Alaska/9BM10218R0/2009'))\n",
        "('A/northern pintail/Interior Alaska/9BM11787R0/2009', ('A/northern pintail/Interior Alaska/9BM11779R0/2009', 'A/northern pintail/Interior Alaska/9BM10969R0/2009'))\n",
        "('A/northern pintail/Interior Alaska/9BM11787R0/2009', ('A/mallard/Interior Alaska/9BM3016R0/2009', 'A/northern pintail/Interior Alaska/9BM10969R0/2009'))\n",
        "('A/northern pintail/Interior Alaska/9BM11787R0/2009', ('A/northern pintail/Interior Alaska/9BM11179R0/2009', 'A/northern pintail/Interior Alaska/9BM9611R0/2009'))\n",
        "('A/northern pintail/Interior Alaska/9BM11787R0/2009', ('A/mallard/Interior Alaska/9BM3361R0/2009', 'A/northern pintail/Interior Alaska/9BM9611R0/2009'))\n",
        "('A/northern pintail/Interior Alaska/9BM11787R0/2009', ('A/northern pintail/Interior Alaska/9BM7840R0/2009', 'A/northern pintail/Interior Alaska/9BM10969R0/2009'))\n",
        "('A/northern pintail/Interior Alaska/9BM11787R0/2009', ('A/northern pintail/Interior Alaska/9BM11583R0/2009', 'A/northern pintail/Interior Alaska/9BM9611R0/2009'))\n",
        "('A/northern pintail/Interior Alaska/9BM11787R0/2009', ('A/northern pintail/Interior Alaska/9BM10969R0/2009', 'A/northern pintail/Interior Alaska/9BM10244R0/2009'))\n",
        "('A/northern pintail/Interior Alaska/9BM11787R0/2009', ('A/northern pintail/Interior Alaska/9BM7861R0/2009', 'A/northern pintail/Interior Alaska/9BM10969R0/2009'))\n",
        "('A/northern pintail/Interior Alaska/9BM11787R0/2009', ('A/American green-winged teal/Interior Alaska/9BM4407R0/2009', 'A/northern pintail/Interior Alaska/9BM10969R0/2009'))\n",
        "('A/northern pintail/Interior Alaska/9BM11787R0/2009', ('A/mallard/Interior Alaska/9BM9201R0/2009', 'A/northern pintail/Interior Alaska/9BM9611R0/2009'))\n",
        "('A/northern pintail/Interior Alaska/9BM11787R0/2009', ('A/mallard/Interior Alaska/9BM9201R0/2009', 'A/northern pintail/Interior Alaska/9BM10969R0/2009'))\n",
        "('A/northern pintail/Interior Alaska/9BM11787R0/2009', ('A/mallard/Interior Alaska/9BM11065R0/2009', 'A/northern pintail/Interior Alaska/9BM9611R0/2009'))\n",
        "('A/northern pintail/Interior Alaska/9BM11787R0/2009', ('A/northern pintail/Interior Alaska/9BM7861R0/2009', 'A/northern pintail/Interior Alaska/9BM9611R0/2009'))\n",
        "('A/northern pintail/Interior Alaska/9BM11787R0/2009', ('A/northern pintail/Interior Alaska/9BM10969R0/2009', 'A/northern pintail/Interior Alaska/9BM4989R0/2009'))\n",
        "('A/northern pintail/Interior Alaska/9BM11787R0/2009', ('A/mallard/Interior Alaska/9BM3355R0/2009', 'A/northern pintail/Interior Alaska/9BM9611R0/2009'))\n",
        "('A/northern pintail/Interior Alaska/9BM11787R0/2009', ('A/mallard/Interior Alaska/9BM8921R0/2009', 'A/northern pintail/Interior Alaska/9BM10969R0/2009'))\n",
        "('A/northern pintail/Interior Alaska/9BM11787R0/2009', ('A/northern pintail/Interior Alaska/9BM10969R0/2009', 'A/northern pintail/Interior Alaska/9BM11179R0/2009'))\n",
        "('A/northern pintail/Interior Alaska/9BM11787R0/2009', ('A/northern pintail/Interior Alaska/9BM10238R0/2009', 'A/northern pintail/Interior Alaska/9BM10969R0/2009'))\n",
        "('A/northern pintail/Interior Alaska/9BM11787R0/2009', ('A/northern pintail/Interior Alaska/9BM10969R0/2009', 'A/northern pintail/Interior Alaska/9BM11358R1/2009'))\n",
        "('A/northern pintail/Interior Alaska/9BM11787R0/2009', ('A/mallard/Interior Alaska/9BM3075R2/2009', 'A/northern pintail/Interior Alaska/9BM9611R0/2009'))\n",
        "('A/northern pintail/Interior Alaska/9BM11787R0/2009', ('A/mallard/Interior Alaska/9BM3355R0/2009', 'A/northern pintail/Interior Alaska/9BM10969R0/2009'))\n",
        "('A/northern pintail/Interior Alaska/9BM11787R0/2009', ('A/northern pintail/Interior Alaska/9BM10969R0/2009', 'A/northern pintail/Interior Alaska/9BM7799R0/2009'))\n",
        "('A/northern pintail/Interior Alaska/9BM11787R0/2009', ('A/northern pintail/Interior Alaska/9BM7846R0/2009', 'A/northern pintail/Interior Alaska/9BM9611R0/2009'))\n",
        "('A/northern pintail/Interior Alaska/9BM11787R0/2009', ('A/northern pintail/Interior Alaska/9BM11783R0/2009', 'A/northern pintail/Interior Alaska/9BM10969R0/2009'))\n",
        "('A/northern pintail/Interior Alaska/9BM11787R0/2009', ('A/northern pintail/Interior Alaska/9BM4991R0/2009', 'A/northern pintail/Interior Alaska/9BM9611R0/2009'))\n",
        "('A/northern pintail/Interior Alaska/9BM11787R0/2009', ('A/northern pintail/Interior Alaska/9BM10222R0/2009', 'A/northern pintail/Interior Alaska/9BM9611R0/2009'))\n",
        "('A/northern pintail/Interior Alaska/9BM11787R0/2009', ('A/northern pintail/Interior Alaska/9BM9383R0/2009', 'A/northern pintail/Interior Alaska/9BM9611R0/2009'))\n",
        "('A/northern pintail/Interior Alaska/9BM11787R0/2009', ('A/northern pintail/Interior Alaska/9BM3859R1/2009', 'A/northern pintail/Interior Alaska/9BM9611R0/2009'))\n",
        "('A/northern pintail/Interior Alaska/9BM11787R0/2009', ('A/mallard/Interior Alaska/9BM3379R0/2009', 'A/northern pintail/Interior Alaska/9BM9611R0/2009'))\n",
        "('A/northern pintail/Interior Alaska/9BM11787R0/2009', ('A/mallard/Interior Alaska/9BM11065R0/2009', 'A/northern pintail/Interior Alaska/9BM10969R0/2009'))\n",
        "('A/northern pintail/Interior Alaska/9BM11787R0/2009', ('A/northern pintail/Interior Alaska/9BM12094R0/2009', 'A/northern pintail/Interior Alaska/9BM9611R0/2009'))\n",
        "('A/northern pintail/Interior Alaska/9BM11787R0/2009', ('A/northern pintail/Interior Alaska/9BM10287R0/2009', 'A/northern pintail/Interior Alaska/9BM9611R0/2009'))\n",
        "('A/northern pintail/Interior Alaska/9BM11787R0/2009', ('A/mallard/Interior Alaska/9BM3078R0/2009', 'A/northern pintail/Interior Alaska/9BM10969R0/2009'))\n",
        "('A/northern pintail/Interior Alaska/9BM11787R0/2009', ('A/northern pintail/Interior Alaska/9BM11779R0/2009', 'A/northern pintail/Interior Alaska/9BM9611R0/2009'))\n",
        "('A/northern pintail/Interior Alaska/9BM11787R0/2009', ('A/northern pintail/Interior Alaska/9BM11317R0/2009', 'A/northern pintail/Interior Alaska/9BM9611R0/2009'))\n",
        "('A/northern pintail/Interior Alaska/9BM11787R0/2009', ('A/northern pintail/Interior Alaska/9BM10287R0/2009', 'A/northern pintail/Interior Alaska/9BM10969R0/2009'))\n",
        "('A/northern pintail/Interior Alaska/9BM11787R0/2009', ('A/northern pintail/Interior Alaska/9BM7840R0/2009', 'A/northern pintail/Interior Alaska/9BM9611R0/2009'))\n",
        "('A/northern pintail/Interior Alaska/9BM11787R0/2009', ('A/mallard/Interior Alaska/9BM9335R0/2009', 'A/northern pintail/Interior Alaska/9BM10969R0/2009'))\n",
        "('A/northern pintail/Interior Alaska/9BM11787R0/2009', ('A/northern pintail/Interior Alaska/9BM11387R0/2009', 'A/northern pintail/Interior Alaska/9BM10969R0/2009'))\n",
        "('A/northern pintail/Interior Alaska/9BM11787R0/2009', ('A/northern pintail/Interior Alaska/9BM10218R0/2009', 'A/northern pintail/Interior Alaska/9BM9611R0/2009'))\n",
        "('A/northern pintail/Interior Alaska/9BM11787R0/2009', ('A/mallard/Interior Alaska/9BM3357R0/2009', 'A/northern pintail/Interior Alaska/9BM9611R0/2009'))\n",
        "('A/northern pintail/Interior Alaska/9BM11787R0/2009', ('A/northern pintail/Interior Alaska/9BM9129R0/2009', 'A/northern pintail/Interior Alaska/9BM9611R0/2009'))\n",
        "('A/northern pintail/Interior Alaska/9BM11787R0/2009', ('A/mallard/Interior Alaska/9BM3075R2/2009', 'A/northern pintail/Interior Alaska/9BM10969R0/2009'))\n",
        "('A/northern pintail/Interior Alaska/9BM11787R0/2009', ('A/mallard/Interior Alaska/9BM11351R0/2009', 'A/northern pintail/Interior Alaska/9BM9611R0/2009'))\n",
        "('A/northern pintail/Interior Alaska/9BM11787R0/2009', ('A/mallard/Interior Alaska/9BM3076R0/2009', 'A/northern pintail/Interior Alaska/9BM10969R0/2009'))\n",
        "('A/northern pintail/Interior Alaska/9BM11787R0/2009', ('A/northern pintail/Interior Alaska/9BM4989R0/2009', 'A/northern pintail/Interior Alaska/9BM9611R0/2009'))\n",
        "('A/northern pintail/Interior Alaska/9BM11787R0/2009', ('A/northern pintail/Interior Alaska/9BM10969R0/2009', 'A/northern pintail/Interior Alaska/9BM11151R0/2009'))\n",
        "('A/northern pintail/Interior Alaska/9BM11787R0/2009', ('A/American green-winged teal/Interior Alaska/9BM3595R1/2009', 'A/northern pintail/Interior Alaska/9BM10969R0/2009'))\n",
        "('A/northern pintail/Interior Alaska/9BM11787R0/2009', ('A/northern pintail/Interior Alaska/9BM10969R0/2009', 'A/northern pintail/Interior Alaska/9BM10210R0/2009'))\n",
        "('A/northern pintail/Interior Alaska/9BM11787R0/2009', ('A/northern pintail/Interior Alaska/9BM10969R0/2009', 'A/northern pintail/Interior Alaska/9BM11583R0/2009'))\n",
        "('A/northern pintail/Interior Alaska/9BM11787R0/2009', ('A/northern pintail/Interior Alaska/9BM10244R0/2009', 'A/northern pintail/Interior Alaska/9BM9611R0/2009'))\n",
        "('A/northern pintail/Interior Alaska/9BM11787R0/2009', ('A/northern pintail/Interior Alaska/9BM3859R1/2009', 'A/northern pintail/Interior Alaska/9BM10969R0/2009'))\n",
        "('A/northern pintail/Interior Alaska/9BM11787R0/2009', ('A/northern pintail/Interior Alaska/9BM7799R0/2009', 'A/northern pintail/Interior Alaska/9BM9611R0/2009'))\n",
        "('A/northern pintail/Interior Alaska/9BM11787R0/2009', ('A/mallard/Interior Alaska/9BM2783R0/2009', 'A/northern pintail/Interior Alaska/9BM9611R0/2009'))\n",
        "('A/northern pintail/Interior Alaska/9BM11787R0/2009', ('A/mallard/Interior Alaska/9BM8921R0/2009', 'A/northern pintail/Interior Alaska/9BM9611R0/2009'))\n",
        "('A/northern pintail/Interior Alaska/9BM11787R0/2009', ('A/mallard/Interior Alaska/9BM8935R0/2009', 'A/northern pintail/Interior Alaska/9BM10969R0/2009'))\n",
        "('A/northern pintail/Interior Alaska/9BM11787R0/2009', ('A/mallard/Interior Alaska/9BM8935R0/2009', 'A/northern pintail/Interior Alaska/9BM9611R0/2009'))\n",
        "('A/northern pintail/Interior Alaska/9BM11787R0/2009', ('A/mallard/Interior Alaska/9BM9335R0/2009', 'A/northern pintail/Interior Alaska/9BM9611R0/2009'))\n",
        "('A/northern pintail/Interior Alaska/9BM11787R0/2009', ('A/northern pintail/Interior Alaska/9BM10234R0/2009', 'A/northern pintail/Interior Alaska/9BM9611R0/2009'))\n",
        "('A/northern pintail/Interior Alaska/9BM11787R0/2009', ('A/northern pintail/Interior Alaska/9BM9065R0/2009', 'A/northern pintail/Interior Alaska/9BM9611R0/2009'))\n",
        "('A/northern pintail/Interior Alaska/9BM11787R0/2009', ('A/northern pintail/Interior Alaska/9BM9129R0/2009', 'A/northern pintail/Interior Alaska/9BM10969R0/2009'))\n",
        "('A/northern pintail/Interior Alaska/9BM11787R0/2009', ('A/northern pintail/Interior Alaska/9BM10969R0/2009', 'A/mallard/Interior Alaska/9BM3379R0/2009'))\n",
        "('A/northern pintail/Interior Alaska/9BM11787R0/2009', ('A/mallard/Interior Alaska/9BM11351R0/2009', 'A/northern pintail/Interior Alaska/9BM10969R0/2009'))\n",
        "('A/northern pintail/Interior Alaska/9BM11787R0/2009', ('A/northern pintail/Interior Alaska/9BM10224R0/2009', 'A/northern pintail/Interior Alaska/9BM9611R0/2009'))\n",
        "('A/northern pintail/Interior Alaska/9BM11787R0/2009', ('A/mallard/Interior Alaska/9BM3361R0/2009', 'A/northern pintail/Interior Alaska/9BM10969R0/2009'))\n",
        "('A/northern pintail/Interior Alaska/9BM11787R0/2009', ('A/northern pintail/Interior Alaska/9BM11317R0/2009', 'A/northern pintail/Interior Alaska/9BM10969R0/2009'))\n",
        "('A/northern pintail/Interior Alaska/9BM11787R0/2009', ('A/northern pintail/Interior Alaska/9BM9065R0/2009', 'A/northern pintail/Interior Alaska/9BM10969R0/2009'))\n",
        "('A/northern pintail/Interior Alaska/9BM11787R0/2009', ('A/mallard/Interior Alaska/9BM2750R0/2009', 'A/northern pintail/Interior Alaska/9BM9611R0/2009'))\n",
        "('A/northern pintail/Interior Alaska/9BM11787R0/2009', ('A/mallard/Interior Alaska/9BM3357R0/2009', 'A/northern pintail/Interior Alaska/9BM10969R0/2009'))\n",
        "('A/northern pintail/Interior Alaska/9BM11787R0/2009', ('A/northern pintail/Interior Alaska/9BM4991R0/2009', 'A/northern pintail/Interior Alaska/9BM10969R0/2009'))\n",
        "('A/northern pintail/Interior Alaska/9BM11787R0/2009', ('A/mallard/Interior Alaska/9BM3016R0/2009', 'A/northern pintail/Interior Alaska/9BM9611R0/2009'))\n",
        "('A/northern pintail/Interior Alaska/9BM11787R0/2009', ('A/northern pintail/Interior Alaska/9BM11387R0/2009', 'A/northern pintail/Interior Alaska/9BM9611R0/2009'))\n",
        "('A/northern pintail/Interior Alaska/9BM11787R0/2009', ('A/northern pintail/Interior Alaska/9BM10969R0/2009', 'A/mallard/Interior Alaska/9BM2783R0/2009'))\n",
        "('A/northern pintail/Interior Alaska/9BM11787R0/2009', ('A/northern pintail/Interior Alaska/9BM12094R0/2009', 'A/northern pintail/Interior Alaska/9BM10969R0/2009'))\n",
        "('A/northern pintail/Interior Alaska/9BM11787R0/2009', ('A/northern pintail/Interior Alaska/9BM10236R0/2009', 'A/northern pintail/Interior Alaska/9BM9611R0/2009'))\n",
        "('A/northern pintail/Interior Alaska/9BM11787R0/2009', ('A/mallard/Interior Alaska/9BM2751R0/2009', 'A/northern pintail/Interior Alaska/9BM9611R0/2009'))\n",
        "('A/northern pintail/Interior Alaska/9BM11787R0/2009', ('A/northern pintail/Interior Alaska/9BM11783R0/2009', 'A/northern pintail/Interior Alaska/9BM9611R0/2009'))\n",
        "('A/northern pintail/Interior Alaska/9BM11787R0/2009', ('A/northern pintail/Interior Alaska/9BM10969R0/2009', 'A/mallard/Interior Alaska/9BM3205R0/2009'))\n",
        "('A/northern pintail/Interior Alaska/9BM11787R0/2009', ('A/mallard/Interior Alaska/9BM3205R0/2009', 'A/northern pintail/Interior Alaska/9BM9611R0/2009'))\n",
        "('A/northern pintail/Interior Alaska/9BM11787R0/2009', ('A/mallard/Interior Alaska/9BM2750R0/2009', 'A/northern pintail/Interior Alaska/9BM10969R0/2009'))\n",
        "('A/northern pintail/Interior Alaska/9BM11787R0/2009', ('A/mallard/Interior Alaska/9BM2751R0/2009', 'A/northern pintail/Interior Alaska/9BM10969R0/2009'))\n",
        "('A/northern pintail/Interior Alaska/9BM11787R0/2009', ('A/northern pintail/Interior Alaska/9BM10210R0/2009', 'A/northern pintail/Interior Alaska/9BM9611R0/2009'))\n",
        "('A/northern pintail/Interior Alaska/9BM11787R0/2009', ('A/northern pintail/Interior Alaska/9BM11358R1/2009', 'A/northern pintail/Interior Alaska/9BM9611R0/2009'))\n",
        "('A/northern pintail/Interior Alaska/9BM11787R0/2009', ('A/American green-winged teal/Interior Alaska/9BM4407R0/2009', 'A/northern pintail/Interior Alaska/9BM9611R0/2009'))\n",
        "('A/northern pintail/Interior Alaska/9BM11787R0/2009', ('A/northern pintail/Interior Alaska/9BM10236R0/2009', 'A/northern pintail/Interior Alaska/9BM10969R0/2009'))\n",
        "('A/northern pintail/Interior Alaska/9BM11787R0/2009', ('A/northern pintail/Interior Alaska/9BM10969R0/2009', 'A/northern pintail/Interior Alaska/9BM10222R0/2009'))\n",
        "('A/northern pintail/Interior Alaska/9BM11787R0/2009', ('A/northern pintail/Interior Alaska/9BM7846R0/2009', 'A/northern pintail/Interior Alaska/9BM10969R0/2009'))\n",
        "('A/northern pintail/Interior Alaska/9BM11787R0/2009', ('A/American green-winged teal/Interior Alaska/9BM3595R1/2009', 'A/northern pintail/Interior Alaska/9BM9611R0/2009'))\n",
        "('A/northern pintail/Interior Alaska/9BM11787R0/2009', ('A/northern pintail/Interior Alaska/9BM10969R0/2009', 'A/northern pintail/Interior Alaska/9BM10224R0/2009'))\n",
        "('A/northern pintail/Interior Alaska/9BM11787R0/2009', ('A/mallard/Interior Alaska/9BM3078R0/2009', 'A/northern pintail/Interior Alaska/9BM9611R0/2009'))\n",
        "('A/northern pintail/Interior Alaska/9BM11787R0/2009', ('A/northern pintail/Interior Alaska/9BM10238R0/2009', 'A/northern pintail/Interior Alaska/9BM9611R0/2009'))\n",
        "('A/northern pintail/Interior Alaska/9BM11787R0/2009', ('A/mallard/Interior Alaska/9BM3076R0/2009', 'A/northern pintail/Interior Alaska/9BM9611R0/2009'))\n",
        "('A/northern pintail/Interior Alaska/9BM11787R0/2009', ('A/northern pintail/Interior Alaska/9BM10234R0/2009', 'A/northern pintail/Interior Alaska/9BM10969R0/2009'))\n",
        "('A/northern pintail/Interior Alaska/9BM11787R0/2009', ('A/northern pintail/Interior Alaska/9BM9383R0/2009', 'A/northern pintail/Interior Alaska/9BM10969R0/2009'))\n",
        "('A/ruddy turnstone/New Jersey/Sg-00522/2008', ('A/ruddy turnstone/New Jersey/Sg-00520/2008', 'A/ruddy turnstone/New Jersey/Sg-00517/2008'))\n",
        "('A/ruddy turnstone/New Jersey/Sg-00522/2008', ('A/ruddy turnstone/New Jersey/Sg-00520/2008', 'A/ruddy turnstone/New Jersey/Sg-00535/2008'))\n",
        "('A/ruddy turnstone/New Jersey/Sg-00522/2008', ('A/ruddy turnstone/New Jersey/Sg-00504/2008', 'A/ruddy turnstone/New Jersey/Sg-00520/2008'))\n",
        "('A/ruddy turnstone/New Jersey/Sg-00522/2008', ('A/ruddy turnstone/New Jersey/Sg-00554/2008', 'A/ruddy turnstone/New Jersey/Sg-00520/2008'))\n",
        "('A/ruddy turnstone/New Jersey/Sg-00522/2008', ('A/ruddy turnstone/New Jersey/Sg-00520/2008', 'A/shorebird/Delaware Bay/495/2008'))\n",
        "('A/ruddy turnstone/New Jersey/Sg-00522/2008', ('A/ruddy turnstone/New Jersey/Sg-00487/2008', 'A/ruddy turnstone/New Jersey/Sg-00520/2008'))\n",
        "('A/ruddy turnstone/New Jersey/Sg-00522/2008', ('A/ruddy turnstone/New Jersey/Sg-00520/2008', 'A/ruddy turnstone/New Jersey/Sg-00498/2008'))\n",
        "('A/ruddy turnstone/New Jersey/Sg-00522/2008', ('A/ruddy turnstone/New Jersey/Sg-00520/2008', 'A/ruddy turnstone/Delaware/Sg-00468/2008'))\n",
        "('A/ruddy turnstone/New Jersey/Sg-00522/2008', ('A/ruddy turnstone/New Jersey/Sg-00520/2008', 'A/ruddy turnstone/Delaware/Sg-00472/2008'))\n",
        "('A/ruddy turnstone/New Jersey/Sg-00522/2008', ('A/shorebird/Delaware Bay/586/2008', 'A/ruddy turnstone/New Jersey/Sg-00520/2008'))\n",
        "('A/ruddy turnstone/New Jersey/Sg-00522/2008', ('A/ruddy turnstone/New Jersey/Sg-00528/2008', 'A/ruddy turnstone/New Jersey/Sg-00520/2008'))\n",
        "('A/northern shoveler/Mississippi/09OS168/2009', ('A/mallard/Minnesota/Sg-00697/2008', 'A/mallard/Minnesota/Sg-00630/2008'))\n",
        "('A/American green-winged teal/Wisconsin/10OS2847/2010', ('A/American green-winged teal/Illinois/3054/2009', 'A/mallard/Alberta/496/2008'))\n",
        "('A/mallard/California/2559P/2011', ('A/mallard/California/2552V/2011', 'A/mallard/California/2536P/2011'))\n",
        "('A/mallard/California/2559P/2011', ('A/mallard/California/2535V/2011', 'A/mallard/California/2552V/2011'))\n",
        "('A/northern shoveler/California/6535/2009', ('A/mallard/California/11100/2008', 'A/northern shoveler/Interior Alaska/8BM3470/2008'))\n",
        "('A/mallard/Wisconsin/11OS4081/2011', ('A/blue-winged teal/Texas/AI09-4405/2009', 'A/northern pintail/Interior Alaska/10BM06704R0/2010'))\n",
        "('A/mallard/Wisconsin/11OS4104/2011', ('A/mallard/Ohio/10OS1470/2010', 'A/mallard/Ohio/11OS2120/2011'))\n",
        "('A/mallard/Wisconsin/11OS4104/2011', ('A/mallard/Ohio/11OS2120/2011', 'A/mallard/Ohio/10OS1469/2010'))\n",
        "('A/blue-winged teal/Missouri/10MO013/2010', ('A/mallard/Wisconsin/2756/2009', 'A/northern pintail/Alberta/8/2009'))\n",
        "('A/mallard/Alberta/507/2008', ('A/ruddy turnstone/New Jersey/Sg-00543/2008', 'A/mallard/Minnesota/Sg-00674/2008'))\n",
        "('A/mallard/Iowa/10OS2692/2010', ('A/mallard/Illinois/10OS2677/2010', 'A/American green-winged teal/Illinois/10OS1551/2010'))\n",
        "('A/mallard/Ohio/11OS2073/2011', ('A/mallard/Ohio/11OS2119/2011', 'A/mallard/Ohio/11OS2001/2011'))\n",
        "('A/mallard/Minnesota/Sg-00847/2008', ('A/blue-winged teal/North Dakota/Sg-00740/2008', 'A/mallard/Minnesota/Sg-00768/2008'))\n",
        "('A/blue-winged teal/Minnesota/Sg-00899/2008', ('A/ruddy turnstone/New Jersey/Sg-00556/2008', 'A/mallard/Minnesota/Sg-00630/2008'))\n",
        "('A/northern pintail/Interior Alaska/9BM8119R0/2009', ('A/mallard/Interior Alaska/9BM10095R0/2009', 'A/northern pintail/Interior Alaska/9BM6494R0/2009'))\n",
        "('A/northern shoveler/California/10024/2008', ('A/mallard/North Dakota/Sg-00703/2008', 'A/northern shoveler/California/9267/2008'))\n",
        "('A/mallard/Illinois/3051/2009', ('A/mallard/Minnesota/Sg-00930/2008', 'A/American green-winged teal/Illinois/2479/2009'))\n",
        "('A/American black duck/Illinois/08OS2688/2008', ('A/swan/BC/2045/2008', 'A/mallard/Minnesota/Sg-00768/2008'))\n",
        "('A/mallard/Wisconsin/1538/2009', ('A/mallard/Ohio/2031/2009', 'A/northern shoveler/Mississippi/09OS168/2009'))\n",
        "('A/mallard/Wisconsin/1538/2009', ('A/mallard/Ohio/2033/2009', 'A/northern shoveler/Mississippi/09OS168/2009'))\n",
        "('A/mallard/New Jersey/Sg-00884/2008', ('A/mallard/Minnesota/AI08-3881/2008', 'A/ruddy turnstone/New Jersey/Sg-00557/2008'))\n",
        "('A/blue-winged teal/Texas/AI09-6182/2009', ('A/mallard/Minnesota/AI09-2749/2009', 'A/green-winged teal/California/11285/2008'))\n",
        "('A/ruddy turnstone/New Jersey/AI09-846/2009', ('A/ruddy turnstone/New Jersey/AI09-727/2009', 'A/gull/Delaware/AI09-453/2009'))\n",
        "('A/ruddy turnstone/New Jersey/AI09-846/2009', ('A/ruddy turnstone/New Jersey/AI09-727/2009', 'A/ruddy turnstone/New Jersey/AI09-775/2009'))\n",
        "('A/ruddy turnstone/New Jersey/AI09-846/2009', ('A/ruddy turnstone/New Jersey/AI09-727/2009', 'A/gull/Delaware/AI09-438/2009'))\n",
        "('A/ruddy turnstone/New Jersey/AI09-846/2009', ('A/ruddy turnstone/New Jersey/AI09-727/2009', 'A/shorebird/Delaware Bay/170/2009'))\n",
        "('A/ruddy turnstone/New Jersey/AI09-846/2009', ('A/ruddy turnstone/New Jersey/AI09-727/2009', 'A/shorebird/Delaware Bay/318/2009'))\n",
        "('A/ruddy turnstone/New Jersey/AI09-846/2009', ('A/ruddy turnstone/New Jersey/AI09-727/2009', 'A/shorebird/Delaware Bay/321/2009'))\n",
        "('A/ruddy turnstone/New Jersey/AI09-846/2009', ('A/ruddy turnstone/New Jersey/AI09-727/2009', 'A/ruddy turnstone/New Jersey/AI09-841/2009'))\n",
        "('A/ruddy turnstone/New Jersey/AI09-294/2009', ('A/laughing gull/New Jersey/Sg-00485/2008', 'A/green-winged teal/Minnesota/Sg-01000/2008'))\n",
        "('A/ruddy turnstone/New Jersey/AI09-294/2009', ('A/laughing gull/New Jersey/Sg-00485/2008', 'A/mallard/New Jersey/Sg-00966/2008'))\n",
        "('A/ruddy turnstone/New Jersey/AI09-837/2009', ('A/shorebird/Delaware Bay/655/2009', 'A/ruddy turnstone/New Jersey/AI09-1164/2009'))\n",
        "('A/northern pintail/Interior Alaska/9BM12153R0/2009', ('A/northern pintail/Interior Alaska/8BM3700/2008', 'A/northern pintail/Interior Alaska/9BM6094R0/2009'))\n",
        "('A/northern pintail/Interior Alaska/9BM12153R0/2009', ('A/northern pintail/Interior Alaska/8BM3700/2008', 'A/northern pintail/Interior Alaska/9BM6095R0/2009'))\n",
        "('A/northern pintail/Interior Alaska/9BM12153R0/2009', ('A/American green-winged teal/Interior Alaska/9BM6258R0/2009', 'A/northern pintail/Interior Alaska/8BM3700/2008'))\n",
        "('A/mallard/Missouri/10MO0253/2010', ('A/mallard/Alberta/569/2008', 'A/blue-winged teal/Wisconsin/3060/2009'))\n",
        "('A/ruddy turnstone/New Jersey/Sg-00544/2008', ('A/ruddy turnstone/New Jersey/Sg-00488/2008', 'A/ruddy turnstone/New Jersey/Sg-00532/2008'))\n",
        "('A/mallard/New Brunswick/00913/2010', ('A/mallard/Minnesota/SG-00929/2008', 'A/American black duck/New Brunswick/00924/2010'))\n",
        "('A/American green-winged teal/Interior Alaska/9BM12318R0/2009', ('A/mallard/Interior Alaska/9BM11382R0/2009', 'A/northern pintail/Interior Alaska/9BM7258R0/2009'))\n",
        "('A/ruddy turnstone/New Jersey/AI09-1164/2009', ('A/ruddy turnstone/New Jersey/AI09-837/2009', 'A/ruddy turnstone/New Jersey/AI09-1008/2009'))\n",
        "('A/mallard/California/1492/2010', ('A/northern pintail/Interior Alaska/10BM12413R0/2010', 'A/green-winged teal/California/6990/2008'))\n",
        "('A/mallard/Ohio/11OS2240/2011', ('A/northern shoveler/Mississippi/10OS4526/2010', 'A/mallard/Ohio/11OS2078/2011'))\n",
        "('A/northern shoveler/California/2696/2011', ('A/American wigeon/California/3180/2010', 'A/long-tailed duck/Wisconsin/10OS4225/2010'))\n",
        "('A/northern shoveler/Illinois/08OS3331/2008', ('A/mallard/Minnesota/Sg-00804/2008', 'A/mallard/Minnesota/Sg-01039/2008'))\n",
        "('A/American black duck/Wisconsin/2542/2009', ('A/mallard/Ohio/2033/2009', 'A/mallard/Minnesota/Sg-00949/2008'))\n",
        "('A/American black duck/Wisconsin/2542/2009', ('A/mallard/Ohio/2031/2009', 'A/mallard/Minnesota/Sg-00949/2008'))\n",
        "('A/mallard/Mississippi/11OS34/2011', ('A/mallard/Illinois/2956/2009', 'A/mallard/Mississippi/413/2010'))\n",
        "('A/American green-winged teal/Wisconsin/10OS2767/2010', ('A/mallard/Illinois/3747/2009', 'A/blue-winged teal/New Brunswick/00285/2010'))\n",
        "('A/American green-winged teal/Wisconsin/10OS2767/2010', ('A/mallard/Illinois/3747/2009', 'A/blue-winged teal/New Brunswick/00289/2010'))\n",
        "('A/American green-winged teal/Wisconsin/10OS2767/2010', ('A/mallard/Illinois/3747/2009', 'A/blue-winged teal/New Brunswick/00291/2010'))\n",
        "('A/ruddy turnstone/New Jersey/AI09-1299/2009', ('A/ruddy turnstone/New Jersey/AI09-151/2009', 'A/ruddy turnstone/New Jersey/AI09-846/2009'))\n",
        "('A/ruddy turnstone/New Jersey/AI09-1299/2009', ('A/ruddy turnstone/New Jersey/AI09-727/2009', 'A/ruddy turnstone/New Jersey/AI09-151/2009'))\n",
        "('A/mallard/Missouri/10MO053/2010', ('A/northern shoveler/Wisconsin/10OS3226/2010', 'A/blue-winged teal/Guatemala/CIP049-14/2010'))\n",
        "('A/mallard/Minnesota/AI08-3881/2008', ('A/swan/BC/2045/2008', 'A/mallard/Minnesota/Sg-00692/2008'))\n",
        "('A/American black duck/New Brunswick/00998/2010', ('A/mallard/New Brunswick/00854/2010', 'A/mallard/Wisconsin/4218/2009'))\n",
        "('A/ruddy turnstone/New Jersey/AI09-573/2009', ('A/shorebird/Delaware Bay/170/2009', 'A/ruddy turnstone/New Jersey/AI09-620/2009'))\n",
        "('A/ruddy turnstone/New Jersey/AI09-573/2009', ('A/ruddy turnstone/New Jersey/AI09-620/2009', 'A/gull/Delaware/AI09-438/2009'))\n",
        "('A/ruddy turnstone/New Jersey/AI09-573/2009', ('A/ruddy turnstone/New Jersey/AI09-620/2009', 'A/ruddy turnstone/Delaware/AI09-1221/2009'))\n",
        "('A/ruddy turnstone/New Jersey/AI09-573/2009', ('A/shorebird/Delaware Bay/324/2009', 'A/ruddy turnstone/New Jersey/AI09-620/2009'))\n",
        "('A/northern shoveler/Illinois/3767/2009', ('A/northern shoveler/Mississippi/09OS025/2009', 'A/mallard/Minnesota/AI09-3066/2009'))\n",
        "('A/northern pintail/California/2789/2011', ('A/mallard/Interior Alaska/10BM02980R0/2010', 'A/mallard/Mississippi/10OS4593/2010'))\n",
        "('A/mallard/Wisconsin/2719/2009', ('A/blue-winged Teal/North Dakota/AI09-3881/2009', 'A/mallard/Wisconsin/2575/2009'))\n",
        "('A/mallard/Missouri/10OS4670/2010', ('A/mallard/Arkansas/AI09-5649/2009', 'A/mallard/Wisconsin/2530/2009'))\n",
        "('A/mallard/Interior Alaska/9BM1852/2009', ('A/blue-winged teal/North Dakota/Sg-00730/2008', 'A/American wigeon/California/6610/2008'))\n",
        "('A/American green-winged teal/Interior Alaska/10BM05440R0/2010', ('A/mallard/Interior Alaska/10BM05968R0/2010', 'A/mallard/Interior Alaska/9BM3361R0/2009'))\n",
        "('A/American green-winged teal/Interior Alaska/10BM05440R0/2010', ('A/mallard/Interior Alaska/10BM05968R0/2010', 'A/mallard/Interior Alaska/9BM3357R0/2009'))\n",
        "('A/American green-winged teal/Interior Alaska/10BM05440R0/2010', ('A/mallard/Interior Alaska/10BM05968R0/2010', 'A/mallard/Interior Alaska/9BM3379R0/2009'))\n",
        "('A/American green-winged teal/Interior Alaska/10BM05440R0/2010', ('A/mallard/Interior Alaska/10BM05968R0/2010', 'A/mallard/Interior Alaska/9BM2750R0/2009'))\n",
        "('A/American green-winged teal/Interior Alaska/10BM05440R0/2010', ('A/mallard/Interior Alaska/10BM05968R0/2010', 'A/American green-winged teal/Interior Alaska/9BM3595R1/2009'))\n",
        "('A/American green-winged teal/Interior Alaska/10BM05440R0/2010', ('A/mallard/Interior Alaska/10BM05968R0/2010', 'A/mallard/Interior Alaska/9BM3355R0/2009'))\n",
        "('A/American green-winged teal/Interior Alaska/10BM05440R0/2010', ('A/mallard/Interior Alaska/10BM05968R0/2010', 'A/mallard/Interior Alaska/9BM3076R0/2009'))\n",
        "('A/American green-winged teal/Interior Alaska/10BM05440R0/2010', ('A/mallard/Interior Alaska/10BM05968R0/2010', 'A/mallard/Interior Alaska/9BM3078R0/2009'))\n",
        "('A/American green-winged teal/Interior Alaska/10BM05440R0/2010', ('A/mallard/Interior Alaska/10BM05968R0/2010', 'A/mallard/Interior Alaska/9BM3016R0/2009'))\n",
        "('A/American green-winged teal/Interior Alaska/10BM05440R0/2010', ('A/mallard/Interior Alaska/10BM05968R0/2010', 'A/northern pintail/Interior Alaska/9BM11787R0/2009'))\n",
        "('A/mallard/Interior Alaska/10BM04564R1/2010', ('A/northern shoveler/Mississippi/09OS643/2009', 'A/American green-winged teal/Illinois/2479/2009'))\n",
        "('A/northern shoveler/Arkansas/AI09-6012/2009', ('A/blue-winged teal/Alberta/405/2008', 'A/mallard/Illinois/2956/2009'))\n",
        "('A/blue-winged teal/Canada/3231/2011', ('A/American black duck/New Brunswick/00485/2010', 'A/bufflehead/Illinois/4016/2009'))\n",
        "('A/mallard/Wisconsin/10OS2900/2010', ('A/blue-winged teal/New Brunswick/00288/2010', 'A/American green-winged teal/Wisconsin/08OS2270/2008'))\n",
        "('A/mallard/Iowa/10OS2426/2010', ('A/mallard/Interior Alaska/9BM12567R0/2009', 'A/blue-winged teal/Iowa/10OS2649/2010'))\n",
        "('A/mallard/Iowa/10OS2426/2010', ('A/northern shoveler/Interior Alaska/9BM12298R0/2009', 'A/blue-winged teal/Iowa/10OS2649/2010'))\n",
        "('A/mallard/Iowa/10OS2426/2010', ('A/blue-winged teal/Iowa/10OS2649/2010', 'A/northern pintail/Interior Alaska/9BM10819R0/2009'))\n",
        "('A/mallard/Iowa/10OS2426/2010', ('A/northern pintail/Interior Alaska/9BM12647R0/2009', 'A/blue-winged teal/Iowa/10OS2649/2010'))\n",
        "('A/mallard/Iowa/10OS2426/2010', ('A/northern pintail/Interior Alaska/9BM11487R0/2009', 'A/blue-winged teal/Iowa/10OS2649/2010'))\n",
        "('A/blue-winged teal/Wisconsin/3060/2009', ('A/northern shoveler/California/9187/2008', 'A/mallard/Minnesota/Sg-00831/2008'))\n",
        "('A/ruddy turnstone/New Jersey/Sg-00515/2008', ('A/ruddy turnstone/New Jersey/Sg-00544/2008', 'A/shorebird/Delaware Bay/329/2008'))\n",
        "('A/mallard/Wisconsin/11OS4362/2011', ('A/mallard/Wisconsin/11OS4292/2011', 'A/mallard/Minnesota/Sg-00782/2008'))\n",
        "('A/blue-winged teal/Illinois/10OS1546/2010', ('A/blue-winged teal/Illinois/10OS1563/2010', 'A/mallard/Minnesota/Sg-00868/2008'))\n",
        "('A/blue-winged teal/Illinois/10OS1546/2010', ('A/blue-winged teal/Illinois/10OS1561/2010', 'A/mallard/Minnesota/Sg-00868/2008'))\n",
        "('A/green-winged teal/Minnesota/Sg-00820/2008', ('A/mallard/Minnesota/Sg-00767/2008', 'A/ruddy turnstone/New Jersey/Sg-00500/2008'))\n",
        "('A/green-winged teal/Minnesota/Sg-00820/2008', ('A/mallard/Minnesota/Sg-00767/2008', 'A/ruddy turnstone/New Jersey/Sg-00493/2008'))\n",
        "('A/northern shoveler/California/9781/2008', ('A/mallard/Alberta/569/2008', 'A/green-winged teal/California/11275/2008'))\n",
        "('A/blue-winged teal/New Brunswick/03756/2009', ('A/mallard/New Jersey/Sg-00884/2008', 'A/mallard/Wisconsin/1538/2009'))\n",
        "('A/American green-winged teal/Wisconsin/11OS3053/2011', ('A/mallard/Mississippi/442/2010', 'A/mallard/Wisconsin/10OS3066/2010'))\n",
        "('A/mallard/Minnesota/Sg-01042/2008', ('A/mallard/Minnesota/Sg-01035/2008', 'A/mallard/Minnesota/SG-00932/2008'))\n",
        "('A/ruddy turnstone/New Jersey/Sg-00543/2008', ('A/ruddy turnstone/New Jersey/Sg-00522/2008', 'A/ruddy turnstone/New Jersey/Sg-00490/2008'))\n",
        "('A/mallard/California/8834/2008', ('A/mallard/California/8035/2008', 'A/green winged teal/California/AKS1305/2008'))\n",
        "('A/black scoter/New Brunswick/00003/2009', ('A/northern shoveler/California/HKWF2031/2008', 'A/shorebird/Delaware Bay/296/2008'))\n",
        "('A/mallard/Wisconsin/10OS2909/2010', ('A/mallard/Iowa/10OS2492/2010', 'A/blue-winged teal/Iowa/10OS2639/2010'))\n",
        "('A/American black duck/New Brunswick/00612/2010', ('A/American black duck/New Brunswick/00471/2010', 'A/northern shoveler/Mississippi/09OS643/2009'))\n",
        "('A/northern pintail/Illinois/10OS3257/2010', ('A/mallard/Wisconsin/10OS2889/2010', 'A/blue-winged teal/Wisconsin/2720/2009'))\n",
        "('A/northern pintail/Interior Alaska/10BM05034R0/2010', ('A/northern pintail/Interior Alaska/10BM02549R0/2010', 'A/mallard/Interior Alaska/10BM05968R0/2010'))\n",
        "('A/ruddy turnstone/New Jersey/AI09-464/2009', ('A/ruddy turnstone/New Jersey/AI09-573/2009', 'A/shorebird/Delaware Bay/226/2009'))\n",
        "('A/mallard/Iowa/10OS2721/2010', ('A/American black duck/New Brunswick/00867/2010', 'A/American wigeon/Iowa/10OS2748/2010'))\n",
        "('A/mallard/Minnesota/AI09-2518/2009', ('A/mallard/Minnesota/AI09-3353/2009', 'A/mallard/Minnesota/AI09-3100/2009'))\n",
        "('A/ruddy turnstone/New Jersey/Sg-00551/2008', ('A/ruddy turnstone/New Jersey/Sg-00471/2008', 'A/shorebird/Delaware Bay/312/2008'))\n",
        "('A/ruddy turnstone/New Jersey/Sg-00551/2008', ('A/shorebird/Delaware Bay/438/2008', 'A/ruddy turnstone/New Jersey/Sg-00471/2008'))\n",
        "('A/ruddy turnstone/New Jersey/Sg-00551/2008', ('A/ruddy turnstone/New Jersey/Sg-00471/2008', 'A/shorebird/Delaware Bay/497/2008'))\n",
        "('A/blue-winged teal/Texas/AI09-4405/2009', ('A/blue-winged teal/Minnesota/Sg-00799/2008', 'A/mallard/Minnesota/Sg-00868/2008'))\n",
        "('A/mallard/Ohio/11OS2208/2011', ('A/mallard/Ohio/11OS2092/2011', 'A/mallard/Ohio/11OS2096/2011'))\n",
        "('A/mallard/Ohio/11OS2208/2011', ('A/mallard/Ohio/11OS2206/2011', 'A/mallard/Ohio/11OS2096/2011'))\n",
        "('A/shorebird/Delaware Bay/167/2009', ('A/ruddy turnstone/New Jersey/AI09-377/2009', 'A/ruddy turnstone/New Jersey/AI09-846/2009'))\n",
        "('A/northern shoveler/California/9140/2008', ('A/mallard/California/8834/2008', 'A/mallard/California/8843/2008'))\n",
        "('A/mallard/California/3188/2010', ('A/mallard/North Dakota/Sg-00737/2008', 'A/blue-winged teal/Texas/AI09-4463/2009'))\n",
        "('A/blue-winged teal/Iowa/10OS2649/2010', ('A/blue-winged teal/Missouri/10MO0011/2010', 'A/mallard/Iowa/10OS2426/2010'))\n",
        "('A/mallard/Wisconsin/4230/2009', ('A/blue-winged teal/North Dakota/Sg-00730/2008', 'A/mallard/Minnesota/Sg-0617/2008'))\n",
        "('A/mallard/Wisconsin/10OS2945/2010', ('A/mallard/Wisconsin/10OS2889/2010', 'A/blue-winged teal/Missouri/10MO030/2010'))\n",
        "('A/American black duck/New Brunswick/00487/2010', ('A/American black duck/New Brunswick/00470/2010', 'A/American black duck/New Brunswick/00485/2010'))\n",
        "('A/mallard/Illinois/3048/2009', ('A/green-winged teal/Minnesota/Sg-01065/2008', 'A/mallard/Illinois/3051/2009'))\n",
        "('A/ruddy turnstone/New Jersey/AI11-1678/2011', ('A/shorebird/Delaware Bay/792/2009', 'A/ruddy turnstone/New Jersey/AI11-2098/2011'))\n",
        "('A/northern shoveler/Missouri/298/2009', ('A/American green-winged teal/Wisconsin/2530/2009', 'A/northern shoveler/Interior Alaska/8BM3470/2008'))\n",
        "('A/mallard/Alberta/319/2009', ('A/mallard/Minnesota/AI08-5469/2008', 'A/mallard/Alberta/289/2009'))\n",
        "('A/mallard/Minnesota/AI09-3302/2009', ('A/ring-necked duck/New Brunswick/03449/2009', 'A/mallard/Minnesota/AI09-3353/2009'))\n",
        "('A/northern pintail/Illinois/11OS4764/2011', ('A/ring-necked duck/New Brunswick/03449/2009', 'A/northern pintail/Wisconsin/11OS4111/2011'))\n",
        "('A/mallard/Wisconsin/10OS2672/2010', ('A/American black duck/New Brunswick/00867/2010', 'A/mallard/Minnesota/SG-00932/2008'))\n",
        "('A/American green-winged teal/Wisconsin/10OS3127/2010', ('A/blue-winged teal/Guatemala/CIP049-12/2010', 'A/northern pintail/Interior Alaska/10BM14807R2/2010'))\n",
        "('A/mallard/Minnesota/Sg-01005/2008', ('A/mallard/Minnesota/Sg-00630/2008', 'A/mallard/Minnesota/Sg-00868/2008'))\n",
        "('A/mallard/Minnesota/AI09-3100/2009', ('A/green-winged teal/Minnesota/Sg-01065/2008', 'A/mallard/Minnesota/AI09-2518/2009'))\n",
        "('A/bufflehead/Illinois/4016/2009', ('A/northern pintail/Interior Alaska/8BM2528R1/2008', 'A/mallard/California/6772/2008'))\n",
        "('A/mallard/Wisconsin/10OS2538/2010', ('A/blue-winged teal/Guatemala/CIP049-10/2009', 'A/mallard/California/6471/2008'))\n",
        "('A/mallard/Illinois/11OS5564/2011', ('A/mallard/Ohio/11OS2224/2011', 'A/red-necked grebe/Minnesota/AI10-2528/2010'))\n",
        "('A/mallard/Interior Alaska/9BM10393R0/2009', ('A/northern pintail/Interior Alaska/8BM3736/2008', 'A/northern pintail/Interior Alaska/9BM7254R0/2009'))\n",
        "('A/mallard/Interior Alaska/9BM10393R0/2009', ('A/northern pintail/Interior Alaska/8BM3736/2008', 'A/northern pintail/Interior Alaska/9BM7252R0/2009'))\n",
        "('A/ruddy turnstone/New Jersey/Sg-00557/2008', ('A/ruddy turnstone/New Jersey/Sg-00488/2008', 'A/ruddy turnstone/New Jersey/Sg-00567/2008'))\n",
        "('A/ruddy turnstone/New Jersey/AI09-474/2009', ('A/gull/Delaware/AI09-453/2009', 'A/ruddy turnstone/New Jersey/AI09-1352/2009'))\n",
        "('A/ruddy turnstone/New Jersey/AI09-474/2009', ('A/gull/Delaware/AI09-438/2009', 'A/ruddy turnstone/New Jersey/AI09-1352/2009'))\n",
        "('A/ruddy turnstone/New Jersey/AI09-474/2009', ('A/shorebird/Delaware Bay/170/2009', 'A/ruddy turnstone/New Jersey/AI09-1352/2009'))\n",
        "('A/ruddy turnstone/New Jersey/AI09-474/2009', ('A/ruddy turnstone/New Jersey/AI09-1352/2009', 'A/ruddy turnstone/Delaware/AI09-1221/2009'))\n",
        "('A/ruddy turnstone/New Jersey/AI09-474/2009', ('A/shorebird/Delaware Bay/318/2009', 'A/ruddy turnstone/New Jersey/AI09-1352/2009'))\n",
        "('A/ruddy turnstone/New Jersey/AI09-474/2009', ('A/ruddy turnstone/New Jersey/AI09-841/2009', 'A/ruddy turnstone/New Jersey/AI09-1352/2009'))\n",
        "('A/ruddy turnstone/New Jersey/AI09-474/2009', ('A/shorebird/Delaware Bay/321/2009', 'A/ruddy turnstone/New Jersey/AI09-1352/2009'))\n",
        "('A/ruddy turnstone/New Jersey/AI09-474/2009', ('A/ruddy turnstone/New Jersey/AI09-775/2009', 'A/ruddy turnstone/New Jersey/AI09-1352/2009'))\n",
        "('A/ruddy turnstone/New Jersey/AI09-827/2009', ('A/ruddy turnstone/New Jersey/AI09-305/2009', 'A/ruddy turnstone/New Jersey/AI09-937/2009'))\n",
        "('A/northern pintail/Interior Alaska/9BM11564R0/2009', ('A/northern pintail/Interior Alaska/9BM11556R0/2009', 'A/mallard/Interior Alaska/9BM7218R0/2009'))\n",
        "('A/northern pintail/Interior Alaska/9BM11564R0/2009', ('A/mallard/Interior Alaska/9BM7218R0/2009', 'A/northern pintail/Interior Alaska/9BM9955R0/2009'))\n",
        "('A/northern pintail/Interior Alaska/9BM11564R0/2009', ('A/mallard/Interior Alaska/9BM7218R0/2009', 'A/mallard/Interior Alaska/9BM11023R0/2009'))\n",
        "('A/northern pintail/Interior Alaska/9BM11564R0/2009', ('A/mallard/Interior Alaska/9BM7218R0/2009', 'A/northern pintail/Interior Alaska/9BM8237R0/2009'))\n",
        "('A/mallard/Wisconsin/2530/2009', ('A/green-winged teal/Minnesota/Sg-01065/2008', 'A/blue-winged Teal/North Dakota/AI09-3881/2009'))\n",
        "('A/mallard/Minnesota/AI09-1714/2009', ('A/northern shoveler/Mississippi/09OS643/2009', 'A/mallard/Minnesota/Sg-00620/2008'))\n",
        "('A/mallard/Minnesota/AI09-1714/2009', ('A/northern shoveler/Mississippi/09OS643/2009', 'A/mallard/Minnesota/Sg-0617/2008'))\n",
        "('A/mallard/Ohio/11OS2049/2011', ('A/mallard/Ohio/11OS2153/2011', 'A/mallard/Michigan/10OS1491/2010'))\n",
        "('A/mallard/California/6471/2008', ('A/mallard/Minnesota/Sg-00804/2008', 'A/mallard/Minnesota/Sg-00868/2008'))\n",
        "('A/ruddy turnstone/Delaware/AI09-1268/2009', ('A/ruddy turnstone/New Jersey/AI09-1326/2009', 'A/shorebird/Delaware Bay/340/2009'))\n",
        "('A/ruddy turnstone/Delaware/AI09-1268/2009', ('A/ruddy turnstone/New Jersey/AI09-1326/2009', 'A/shorebird/Delaware Bay/338/2009'))\n",
        "('A/ruddy turnstone/Delaware/AI09-1268/2009', ('A/ruddy turnstone/New Jersey/AI09-1326/2009', 'A/shorebird/Delaware Bay/342/2009'))\n",
        "('A/American green-winged teal/Mississippi/11OS256/2011', ('A/mallard/Wisconsin/2756/2009', 'A/mallard/Mississippi/10OS4593/2010'))\n",
        "('A/northern pintail/Wisconsin/11OS3295/2011', ('A/mallard/Wisconsin/11OS3158/2011', 'A/red-necked grebe/Minnesota/AI10-2528/2010'))\n",
        "('A/northern pintail/Wisconsin/11OS3295/2011', ('A/red-necked grebe/Minnesota/AI10-2528/2010', 'A/mallard/Wisconsin/11OS3157/2011'))\n",
        "('A/American green-winged teal/Illinois/2479/2009', ('A/mallard/Minnesota/Sg-00692/2008', 'A/mallard/Illinois/3051/2009'))\n",
        "('A/herring gull/New Jersey/AI09-335/2009', ('A/shorebird/Delaware Bay/257/2009', 'A/shorebird/Delaware Bay/231/2009'))\n",
        "('A/herring gull/New Jersey/AI09-335/2009', ('A/shorebird/Delaware Bay/257/2009', 'A/shorebird/Delaware Bay/230/2009'))\n",
        "('A/northern shoveler/Interior Alaska/9BM12519R0/2009', ('A/northern pintail/Interior Alaska/9BM7052R0/2009', 'A/mallard/Interior Alaska/9BM8829R0/2009'))\n",
        "('A/mallard/California/8212/2008', ('A/mallard/Interior Alaska/8BM2102/2008', 'A/mallard/California/8457/2008'))\n",
        "('A/mallard/Ohio/11OS2141/2011', ('A/mallard/Ohio/11OS1961/2011', 'A/mallard/Ohio/11OS2142/2011'))\n",
        "('A/mallard/Wisconsin/2576/2009', ('A/blue-winged Teal/North Dakota/AI09-2912/2009', 'A/mallard/California/5222/2009'))\n",
        "('A/northern pintail/Interior Alaska/10BM11380R0/2010', ('A/lesser scaup/Wisconsin/3964/2009', 'A/American black duck/New Brunswick/03553/2009'))\n",
        "('A/northern pintail/Interior Alaska/10BM11380R0/2010', ('A/American black duck/New Brunswick/03511/2009', 'A/lesser scaup/Wisconsin/3964/2009'))\n",
        "('A/northern pintail/Interior Alaska/10BM11380R0/2010', ('A/lesser scaup/Wisconsin/3964/2009', 'A/American black duck/New Brunswick/03552/2009'))\n",
        "('A/northern pintail/Interior Alaska/10BM11380R0/2010', ('A/lesser scaup/Wisconsin/3964/2009', 'A/American black duck/New Brunswick/03556/2009'))\n",
        "('A/mallard/Minnesota/Sg-01035/2008', ('A/mallard/New Jersey/Sg-00892/2008', 'A/mallard/Minnesota/Sg-00616/2008'))\n",
        "('A/ring-necked duck/Minnesota/Sg-01066/2008', ('A/American wigeon/Minnesota/Sg-01067/2008', 'A/mallard/North Dakota/Sg-00703/2008'))\n",
        "('A/mallard/Mississippi/413/2010', ('A/mallard/California/6768/2009', 'A/mallard/Minnesota/AI09-1684/2009'))\n",
        "('A/mallard/Mississippi/413/2010', ('A/mallard/California/6768/2009', 'A/mallard/Minnesota/AI09-1678/2009'))\n",
        "('A/American green-winged teal/Wisconsin/11OS3580/2011', ('A/mallard/Wisconsin/11OS4104/2011', 'A/American black duck/New Brunswick/00998/2010'))\n",
        "('A/white-rumped sandpiper/Canada/2541/2011', ('A/mallard/Wisconsin/08OS2844/2008', 'A/mallard/Wisconsin/4218/2009'))\n",
        "('A/green-winged teal/California/11275/2008', ('A/green winged teal/California/AKS1370/2008', 'A/northern shoveler/California/9781/2008'))\n",
        "('A/blue-winged Teal/Minnesota/AI09-3786/2009', ('A/blue-winged Teal/Minnesota/AI09-3575/2009', 'A/northern shoveler/Mississippi/09OS168/2009'))\n",
        "('A/white-fronted goose/Texas/AI09-6225/2009', ('A/northern pintail/Minnesota/AI09-3254/2009', 'A/gadwall/Illinois/3860/2009'))\n",
        "('A/ruddy turnstone/New Jersey/Sg-00567/2008', ('A/ruddy turnstone/New Jersey/Sg-00519/2008', 'A/ruddy turnstone/New Jersey/Sg-00557/2008'))\n",
        "('A/American black duck/New Brunswick/00971/2010', ('A/American black duck/New Brunswick/00991/2010', 'A/American black duck/New Brunswick/00924/2010'))\n",
        "('A/American black duck/New Brunswick/00971/2010', ('A/American black duck/New Brunswick/00986/2010', 'A/American black duck/New Brunswick/00924/2010'))\n",
        "('A/mallard/Minnesota/Sg-00768/2008', ('A/ruddy turnstone/New Jersey/Sg-00529/2008', 'A/mallard/Minnesota/Sg-00837/2008'))\n",
        "('A/American wigeon/Iowa/10OS2748/2010', ('A/green-winged teal/Minnesota/Sg-01073/2008', 'A/mallard/Iowa/10OS2721/2010'))\n",
        "('A/northern shoveler/Interior Alaska/9BM1447R2/2009', ('A/mallard/Interior Alaska/8MP0547/2008', 'A/northern pintail/Interior Alaska/8MP0213R2/2008'))\n",
        "('A/northern shoveler/Interior Alaska/9BM1447R2/2009', ('A/northern pintail/Interior Alaska/8BM2046R1/2008', 'A/northern pintail/Interior Alaska/8MP0213R2/2008'))\n",
        "('A/American green-winged teal/Missouri/10OS4622/2010', ('A/blue-winged teal/Guatemala/CIP049-07/2010', 'A/mallard/Minnesota/AI10-2217/2010'))\n",
        "('A/mallard/Missouri/10MO0550/2010', ('A/northern shoveler/Arkansas/AI09-6012/2009', 'A/northern shoveler/Illinois/10OS3619/2010'))\n",
        "('A/green-winged teal/California/7972/2008', ('A/mallard/California/8035/2008', 'A/mallard/Minnesota/SG-00927/2008'))\n",
        "('A/mallard/Ohio/08OS1270/2008', ('A/ruddy turnstone/New Jersey/Sg-00542/2008', 'A/ruddy turnstone/Delaware/Sg-00539/2008'))\n",
        "('A/ruddy turnstone/New Jersey/AI09-119/2009', ('A/ruddy turnstone/New Jersey/AI09-256/2009', 'A/ruddy turnstone/New Jersey/AI09-710/2009'))\n",
        "('A/ruddy turnstone/New Jersey/AI09-119/2009', ('A/ruddy turnstone/New Jersey/AI09-256/2009', 'A/ruddy turnstone/New Jersey/AI09-874/2009'))\n",
        "('A/blue-winged teal/New Brunswick/03757/2009', ('A/mallard/New Jersey/Sg-00893/2008', 'A/mallard/Alberta/121/2008'))\n",
        "('A/American green-winged teal/Illinois/3054/2009', ('A/American green-winged teal/Wisconsin/2743/2009', 'A/northern pintail/Wisconsin/2737/2009'))\n",
        "('A/American green-winged teal/Wisconsin/11OS3431/2011', ('A/mallard/Wisconsin/11OS3545/2011', 'A/mallard/Ohio/11OS2156/2011'))\n",
        "('A/blue-winged teal/North Dakota/Sg-00759/2008', ('A/blue-winged teal/North Dakota/Sg-00750/2008', 'A/mallard/Minnesota/Sg-00804/2008'))\n",
        "('A/American black duck/Wisconsin/10OS3949/2010', ('A/mallard/Iowa/10OS2426/2010', 'A/mallard/Minnesota/AI09-1714/2009'))\n",
        "('A/blue-winged teal/North Dakota/Sg-00733/2008', ('A/mallard/Minnesota/Sg-0617/2008', 'A/ruddy turnstone/New Jersey/Sg-00532/2008'))\n",
        "('A/gull/Delaware/AI09-435/2009', ('A/ruddy turnstone/New Jersey/AI09-294/2009', 'A/ruddy turnstone/New Jersey/Sg-00564/2008'))\n",
        "('A/mallard/California/8457/2008', ('A/mallard/California/8212/2008', 'A/American black duck/Illinois/08OS2688/2008'))\n",
        "('A/American green-winged teal/Wisconsin/10OS2955/2010', ('A/blue-winged teal/Louisiana/AI09-5234/2009', 'A/mallard/Wisconsin/10OS2672/2010'))\n",
        "('A/mallard/Minnesota/AI09-3770/2009', ('A/mallard/Minnesota/Sg-00930/2008', 'A/northern pintail/Interior Alaska/8MP0262R2/2008'))\n",
        "('A/mallard/California/5495/2009', ('A/mallard/California/5192/2009', 'A/mallard/California/5250/2009'))\n",
        "('A/mallard/Minnesota/AI09-3353/2009', ('A/mallard/Minnesota/AI09-2518/2009', 'A/mallard/Minnesota/AI09-3302/2009'))\n",
        "('A/mallard/Iowa/10OS2492/2010', ('A/mallard/Iowa/10OS2420/2010', 'A/American green-winged teal/Wisconsin/08OS2270/2008'))\n",
        "('A/ruddy turnstone/Canada/02937/2011', ('A/white-rumped sandpiper/Canada/2541/2011', 'A/green-winged teal/Minnesota/Sg-00991/2008'))\n",
        "('A/ruddy turnstone/New Jersey/Sg-00548/2008', ('A/shorebird/Delaware Bay/586/2008', 'A/ruddy turnstone/New Jersey/Sg-00520/2008'))\n",
        "('A/lesser scaup/Wisconsin/3964/2009', ('A/blue-winged Teal/North Dakota/AI09-3760/2009', 'A/mallard/Minnesota/AI09-1851/2009'))\n",
        "('A/lesser scaup/Wisconsin/3964/2009', ('A/mallard/Minnesota/AI09-1851/2009', 'A/blue-winged teal/North Dakota/AI09-3760/2009'))\n",
        "('A/mallard/Minnesota/Sg-00837/2008', ('A/mallard/Interior Alaska/8BM2102/2008', 'A/mallard/North Dakota/Sg-00737/2008'))\n",
        "('A/ruddy turnstone/New Jersey/AI09-1352/2009', ('A/ruddy turnstone/New Jersey/AI09-342/2009', 'A/ruddy turnstone/New Jersey/AI09-474/2009'))\n",
        "('A/mallard/Illinois/3747/2009', ('A/mallard/Alberta/496/2008', 'A/mallard/California/8212/2008'))\n",
        "('A/mallard/Wisconsin/11OS3192/2011', ('A/mallard/Iowa/10OS2721/2010', 'A/mallard/Ohio/11OS1992/2011'))\n",
        "('A/mallard/Minnesota/Sg-00949/2008', ('A/mallard/Minnesota/Sg-00768/2008', 'A/mallard/Minnesota/Sg-00868/2008'))\n",
        "('A/northern pintail/Interior Alaska/10CH00003R0/2010', ('A/mallard/Minnesota/Sg-00931/2008', 'A/mallard/Interior Alaska/10CH00021R0/2010'))\n",
        "('A/mallard/Interior Alaska/10BM06458R0/2010', ('A/mallard/Interior Alaska/9BM8474R0/2009', 'A/mallard/Interior Alaska/10BM06461R0/2010'))\n",
        "('A/mallard/Interior Alaska/10BM06458R0/2010', ('A/northern pintail/Interior Alaska/9BM9973R0/2009', 'A/mallard/Interior Alaska/10BM06454R0/2010'))\n",
        "('A/mallard/Interior Alaska/10BM06458R0/2010', ('A/mallard/Interior Alaska/9BM9755R0/2009', 'A/mallard/Interior Alaska/10BM07777R0/2010'))\n",
        "('A/mallard/Interior Alaska/10BM06458R0/2010', ('A/mallard/Interior Alaska/9BM8474R0/2009', 'A/mallard/Interior Alaska/10BM06452R0/2010'))\n",
        "('A/mallard/Interior Alaska/10BM06458R0/2010', ('A/mallard/Interior Alaska/10BM06461R0/2010', 'A/mallard/Interior Alaska/9BM8465R0/2009'))\n",
        "('A/mallard/Interior Alaska/10BM06458R0/2010', ('A/northern pintail/Interior Alaska/9BM10146R0/2009', 'A/mallard/Interior Alaska/10BM06450R0/2010'))\n",
        "('A/mallard/Interior Alaska/10BM06458R0/2010', ('A/mallard/Interior Alaska/10BM06448R0/2010', 'A/northern pintail/Interior Alaska/9BM8448R0/2009'))\n",
        "('A/mallard/Interior Alaska/10BM06458R0/2010', ('A/northern pintail/Interior Alaska/9BM8448R0/2009', 'A/mallard/Interior Alaska/10BM06452R0/2010'))\n",
        "('A/mallard/Interior Alaska/10BM06458R0/2010', ('A/mallard/Interior Alaska/9BM9755R0/2009', 'A/mallard/Interior Alaska/10BM06448R0/2010'))\n",
        "('A/mallard/Interior Alaska/10BM06458R0/2010', ('A/northern pintail/Interior Alaska/9BM9973R0/2009', 'A/mallard/Interior Alaska/10BM06452R0/2010'))\n",
        "('A/mallard/Interior Alaska/10BM06458R0/2010', ('A/northern pintail/Interior Alaska/9BM10525R2/2009', 'A/mallard/Interior Alaska/10BM06450R0/2010'))\n",
        "('A/mallard/Interior Alaska/10BM06458R0/2010', ('A/mallard/Interior Alaska/9BM9755R0/2009', 'A/mallard/Interior Alaska/10BM06456R0/2010'))\n",
        "('A/mallard/Interior Alaska/10BM06458R0/2010', ('A/mallard/Interior Alaska/10BM07777R0/2010', 'A/mallard/Interior Alaska/9BM8465R0/2009'))\n",
        "('A/mallard/Interior Alaska/10BM06458R0/2010', ('A/mallard/Interior Alaska/9BM8474R0/2009', 'A/mallard/Interior Alaska/10BM07777R0/2010'))\n",
        "('A/mallard/Interior Alaska/10BM06458R0/2010', ('A/mallard/Interior Alaska/10BM06461R0/2010', 'A/northern pintail/Interior Alaska/9BM8502R0/2009'))\n",
        "('A/mallard/Interior Alaska/10BM06458R0/2010', ('A/mallard/Interior Alaska/9BM9755R0/2009', 'A/mallard/Interior Alaska/10BM06461R0/2010'))\n",
        "('A/mallard/Interior Alaska/10BM06458R0/2010', ('A/northern pintail/Interior Alaska/9BM9973R0/2009', 'A/mallard/Interior Alaska/10BM07777R0/2010'))\n",
        "('A/mallard/Interior Alaska/10BM06458R0/2010', ('A/northern pintail/Interior Alaska/9BM10525R2/2009', 'A/mallard/Interior Alaska/10BM06452R0/2010'))\n",
        "('A/mallard/Interior Alaska/10BM06458R0/2010', ('A/northern pintail/Interior Alaska/9BM10146R0/2009', 'A/mallard/Interior Alaska/10BM06461R0/2010'))\n",
        "('A/mallard/Interior Alaska/10BM06458R0/2010', ('A/mallard/Interior Alaska/10BM06448R0/2010', 'A/northern pintail/Interior Alaska/9BM8459R0/2009'))\n",
        "('A/mallard/Interior Alaska/10BM06458R0/2010', ('A/mallard/Interior Alaska/10BM06454R0/2010', 'A/northern pintail/Interior Alaska/9BM8502R0/2009'))\n",
        "('A/mallard/Interior Alaska/10BM06458R0/2010', ('A/mallard/Interior Alaska/10BM06456R0/2010', 'A/northern pintail/Interior Alaska/9BM10146R0/2009'))\n",
        "('A/mallard/Interior Alaska/10BM06458R0/2010', ('A/northern pintail/Interior Alaska/9BM10146R0/2009', 'A/mallard/Interior Alaska/10BM07777R0/2010'))\n",
        "('A/mallard/Interior Alaska/10BM06458R0/2010', ('A/northern pintail/Interior Alaska/9BM11325R0/2009', 'A/mallard/Interior Alaska/10BM06450R0/2010'))\n",
        "('A/mallard/Interior Alaska/10BM06458R0/2010', ('A/mallard/Interior Alaska/10BM06456R0/2010', 'A/northern pintail/Interior Alaska/9BM10525R2/2009'))\n",
        "('A/mallard/Interior Alaska/10BM06458R0/2010', ('A/northern pintail/Interior Alaska/9BM8464R0/2009', 'A/mallard/Interior Alaska/10BM06461R0/2010'))\n",
        "('A/mallard/Interior Alaska/10BM06458R0/2010', ('A/northern pintail/Interior Alaska/9BM11325R0/2009', 'A/mallard/Interior Alaska/10BM07777R0/2010'))\n",
        "('A/mallard/Interior Alaska/10BM06458R0/2010', ('A/mallard/Interior Alaska/9BM9755R0/2009', 'A/mallard/Interior Alaska/10BM06450R0/2010'))\n",
        "('A/mallard/Interior Alaska/10BM06458R0/2010', ('A/mallard/Interior Alaska/10BM06448R0/2010', 'A/northern pintail/Interior Alaska/9BM10525R2/2009'))\n",
        "('A/mallard/Interior Alaska/10BM06458R0/2010', ('A/mallard/Interior Alaska/10BM06448R0/2010', 'A/northern pintail/Interior Alaska/9BM10146R0/2009'))\n",
        "('A/mallard/Interior Alaska/10BM06458R0/2010', ('A/northern pintail/Interior Alaska/9BM8459R0/2009', 'A/mallard/Interior Alaska/10BM06452R0/2010'))\n",
        "('A/mallard/Interior Alaska/10BM06458R0/2010', ('A/northern pintail/Interior Alaska/9BM10525R2/2009', 'A/mallard/Interior Alaska/10BM06454R0/2010'))\n",
        "('A/mallard/Interior Alaska/10BM06458R0/2010', ('A/mallard/Interior Alaska/10BM06452R0/2010', 'A/northern pintail/Interior Alaska/9BM8502R0/2009'))\n",
        "('A/mallard/Interior Alaska/10BM06458R0/2010', ('A/mallard/Interior Alaska/10BM06456R0/2010', 'A/northern pintail/Interior Alaska/9BM8502R0/2009'))\n",
        "('A/mallard/Interior Alaska/10BM06458R0/2010', ('A/northern pintail/Interior Alaska/9BM10525R2/2009', 'A/mallard/Interior Alaska/10BM07777R0/2010'))\n",
        "('A/mallard/Interior Alaska/10BM06458R0/2010', ('A/mallard/Interior Alaska/10BM06448R0/2010', 'A/mallard/Interior Alaska/9BM8465R0/2009'))\n",
        "('A/mallard/Interior Alaska/10BM06458R0/2010', ('A/mallard/Interior Alaska/10BM06448R0/2010', 'A/northern pintail/Interior Alaska/9BM8464R0/2009'))\n",
        "('A/mallard/Interior Alaska/10BM06458R0/2010', ('A/northern pintail/Interior Alaska/9BM8448R0/2009', 'A/mallard/Interior Alaska/10BM06454R0/2010'))\n",
        "('A/mallard/Interior Alaska/10BM06458R0/2010', ('A/northern pintail/Interior Alaska/9BM8459R0/2009', 'A/mallard/Interior Alaska/10BM07777R0/2010'))\n",
        "('A/mallard/Interior Alaska/10BM06458R0/2010', ('A/northern pintail/Interior Alaska/9BM8448R0/2009', 'A/mallard/Interior Alaska/10BM07777R0/2010'))\n",
        "('A/mallard/Interior Alaska/10BM06458R0/2010', ('A/northern pintail/Interior Alaska/9BM9973R0/2009', 'A/mallard/Interior Alaska/10BM06450R0/2010'))\n",
        "('A/mallard/Interior Alaska/10BM06458R0/2010', ('A/mallard/Interior Alaska/9BM8474R0/2009', 'A/mallard/Interior Alaska/10BM06448R0/2010'))\n",
        "('A/mallard/Interior Alaska/10BM06458R0/2010', ('A/mallard/Interior Alaska/10BM06454R0/2010', 'A/mallard/Interior Alaska/9BM8465R0/2009'))\n",
        "('A/mallard/Interior Alaska/10BM06458R0/2010', ('A/northern pintail/Interior Alaska/9BM8464R0/2009', 'A/mallard/Interior Alaska/10BM06450R0/2010'))\n",
        "('A/mallard/Interior Alaska/10BM06458R0/2010', ('A/mallard/Interior Alaska/9BM9755R0/2009', 'A/mallard/Interior Alaska/10BM06452R0/2010'))\n",
        "('A/mallard/Interior Alaska/10BM06458R0/2010', ('A/mallard/Interior Alaska/10BM06450R0/2010', 'A/northern pintail/Interior Alaska/9BM8502R0/2009'))\n",
        "('A/mallard/Interior Alaska/10BM06458R0/2010', ('A/northern pintail/Interior Alaska/9BM10146R0/2009', 'A/mallard/Interior Alaska/10BM06452R0/2010'))\n",
        "('A/mallard/Interior Alaska/10BM06458R0/2010', ('A/mallard/Interior Alaska/10BM06448R0/2010', 'A/northern pintail/Interior Alaska/9BM9973R0/2009'))\n",
        "('A/mallard/Interior Alaska/10BM06458R0/2010', ('A/mallard/Interior Alaska/10BM06450R0/2010', 'A/mallard/Interior Alaska/9BM8465R0/2009'))\n",
        "('A/mallard/Interior Alaska/10BM06458R0/2010', ('A/mallard/Interior Alaska/10BM06448R0/2010', 'A/northern pintail/Interior Alaska/9BM8502R0/2009'))\n",
        "('A/mallard/Interior Alaska/10BM06458R0/2010', ('A/mallard/Interior Alaska/10BM06456R0/2010', 'A/mallard/Interior Alaska/9BM8465R0/2009'))\n",
        "('A/mallard/Interior Alaska/10BM06458R0/2010', ('A/mallard/Interior Alaska/10BM07777R0/2010', 'A/northern pintail/Interior Alaska/9BM8502R0/2009'))\n",
        "('A/mallard/Interior Alaska/10BM06458R0/2010', ('A/northern pintail/Interior Alaska/9BM9973R0/2009', 'A/mallard/Interior Alaska/10BM06461R0/2010'))\n",
        "('A/mallard/Interior Alaska/10BM06458R0/2010', ('A/northern pintail/Interior Alaska/9BM11325R0/2009', 'A/mallard/Interior Alaska/10BM06452R0/2010'))\n",
        "('A/mallard/Interior Alaska/10BM06458R0/2010', ('A/mallard/Interior Alaska/10BM06452R0/2010', 'A/mallard/Interior Alaska/9BM8465R0/2009'))\n",
        "('A/mallard/Interior Alaska/10BM06458R0/2010', ('A/mallard/Interior Alaska/9BM9755R0/2009', 'A/mallard/Interior Alaska/10BM06454R0/2010'))\n",
        "('A/mallard/Interior Alaska/10BM06458R0/2010', ('A/northern pintail/Interior Alaska/9BM10525R2/2009', 'A/mallard/Interior Alaska/10BM06461R0/2010'))\n",
        "('A/mallard/Interior Alaska/10BM06458R0/2010', ('A/northern pintail/Interior Alaska/9BM8448R0/2009', 'A/mallard/Interior Alaska/10BM06450R0/2010'))\n",
        "('A/mallard/Interior Alaska/10BM06458R0/2010', ('A/mallard/Interior Alaska/9BM8474R0/2009', 'A/mallard/Interior Alaska/10BM06450R0/2010'))\n",
        "('A/mallard/Interior Alaska/10BM06458R0/2010', ('A/northern pintail/Interior Alaska/9BM10146R0/2009', 'A/mallard/Interior Alaska/10BM06454R0/2010'))\n",
        "('A/mallard/Interior Alaska/10BM06458R0/2010', ('A/mallard/Interior Alaska/10BM06456R0/2010', 'A/northern pintail/Interior Alaska/9BM8464R0/2009'))\n",
        "('A/mallard/Interior Alaska/10BM06458R0/2010', ('A/northern pintail/Interior Alaska/9BM11325R0/2009', 'A/mallard/Interior Alaska/10BM06461R0/2010'))\n",
        "('A/mallard/Interior Alaska/10BM06458R0/2010', ('A/northern pintail/Interior Alaska/9BM11325R0/2009', 'A/mallard/Interior Alaska/10BM06456R0/2010'))\n",
        "('A/mallard/Interior Alaska/10BM06458R0/2010', ('A/northern pintail/Interior Alaska/9BM8459R0/2009', 'A/mallard/Interior Alaska/10BM06461R0/2010'))\n",
        "('A/mallard/Interior Alaska/10BM06458R0/2010', ('A/northern pintail/Interior Alaska/9BM11325R0/2009', 'A/mallard/Interior Alaska/10BM06454R0/2010'))\n",
        "('A/mallard/Interior Alaska/10BM06458R0/2010', ('A/northern pintail/Interior Alaska/9BM8464R0/2009', 'A/mallard/Interior Alaska/10BM06452R0/2010'))\n",
        "('A/mallard/Interior Alaska/10BM06458R0/2010', ('A/mallard/Interior Alaska/10BM06448R0/2010', 'A/northern pintail/Interior Alaska/9BM11325R0/2009'))\n",
        "('A/mallard/Interior Alaska/10BM06458R0/2010', ('A/northern pintail/Interior Alaska/9BM8448R0/2009', 'A/mallard/Interior Alaska/10BM06461R0/2010'))\n",
        "('A/mallard/Interior Alaska/10BM06458R0/2010', ('A/mallard/Interior Alaska/9BM8474R0/2009', 'A/mallard/Interior Alaska/10BM06456R0/2010'))\n",
        "('A/mallard/Interior Alaska/10BM06458R0/2010', ('A/northern pintail/Interior Alaska/9BM8459R0/2009', 'A/mallard/Interior Alaska/10BM06454R0/2010'))\n",
        "('A/mallard/Interior Alaska/10BM06458R0/2010', ('A/northern pintail/Interior Alaska/9BM9973R0/2009', 'A/mallard/Interior Alaska/10BM06456R0/2010'))\n",
        "('A/mallard/Interior Alaska/10BM06458R0/2010', ('A/mallard/Interior Alaska/9BM8474R0/2009', 'A/mallard/Interior Alaska/10BM06454R0/2010'))\n",
        "('A/mallard/Interior Alaska/10BM06458R0/2010', ('A/mallard/Interior Alaska/10BM06456R0/2010', 'A/northern pintail/Interior Alaska/9BM8448R0/2009'))\n",
        "('A/mallard/Interior Alaska/10BM06458R0/2010', ('A/northern pintail/Interior Alaska/9BM8464R0/2009', 'A/mallard/Interior Alaska/10BM06454R0/2010'))\n",
        "('A/mallard/Interior Alaska/10BM06458R0/2010', ('A/northern pintail/Interior Alaska/9BM8459R0/2009', 'A/mallard/Interior Alaska/10BM06450R0/2010'))\n",
        "('A/mallard/Interior Alaska/10BM06458R0/2010', ('A/northern pintail/Interior Alaska/9BM8464R0/2009', 'A/mallard/Interior Alaska/10BM07777R0/2010'))\n",
        "('A/mallard/Interior Alaska/10BM06458R0/2010', ('A/northern pintail/Interior Alaska/9BM8459R0/2009', 'A/mallard/Interior Alaska/10BM06456R0/2010'))\n",
        "('A/mallard/New Brunswick/00992/2010', ('A/mallard/New Jersey/AI09-5137/2009', 'A/American black duck/New Brunswick/00991/2010'))\n",
        "('A/ruddy turnstone/Delaware/AI09-666/2009', ('A/ruddy turnstone/New Jersey/AI09-377/2009', 'A/ruddy turnstone/New Jersey/AI09-1292/2009'))\n",
        "('A/northern pintail/Louisiana/Sg-01033/2008', ('A/mallard/Minnesota/Sg-00697/2008', 'A/northern shoveler/Illinois/08OS3331/2008'))\n",
        "('A/mallard/New Jersey/AI09-5137/2009', ('A/mallard/New Jersey/AI09-5086/2009', 'A/mallard/New Jersey/AI09-5122/2009'))\n",
        "('A/mallard/New Jersey/AI09-5137/2009', ('A/mallard/New Jersey/AI09-5086/2009', 'A/mallard/New Jersey/AI09-5361/2009'))\n",
        "('A/mallard/Wisconsin/10OS3066/2010', ('A/American green-winged teal/Wisconsin/10OS2767/2010', 'A/American green-winged teal/Wisconsin/10OS2955/2010'))\n",
        "('A/northern shoveler/Wisconsin/2508/2009', ('A/mallard/Minnesota/AI09-4022/2009', 'A/mallard/New Jersey/Sg-00939/2008'))\n"
       ]
      },
      {
       "metadata": {},
       "output_type": "pyout",
       "prompt_number": 42,
       "text": [
        "216"
       ]
      }
     ],
     "prompt_number": 42
    },
    {
     "cell_type": "code",
     "collapsed": false,
     "input": [
      "# How often are two segments found to be from the same source?\n",
      "same_source_counts = dict()\n",
      "diff_source_counts = dict()\n",
      "segments = range(1,9)\n",
      "for segment1 in segments:\n",
      "    same_source_counts[segment1] = dict()\n",
      "    diff_source_counts[segment1] = dict()\n",
      "    for segment2 in segments:\n",
      "        if segment1 != segment2:\n",
      "            same_source_counts[segment1][segment2] = 0\n",
      "            diff_source_counts[segment1][segment2] = 0\n",
      "    \n",
      "# Note: Here, we are counting any source pairs that have two sources as potentially different. \n",
      "# Consequently, we are undercounting the possibility that they have the same sources.\n",
      "for sink, sources_dict in reassortant_isolates.items():\n",
      "    for source_pair, segments_dict in sources_dict.items():\n",
      "        for segment1, segment2 in permutations(segments, 2):\n",
      "            if segments_dict[segment1][0] == segments_dict[segment2][0]:\n",
      "                same_source_counts[segment1][segment2] += 1\n",
      "            if (segments_dict[segment1][0] != segments_dict[segment2][0]):\n",
      "                diff_source_counts[segment1][segment2] += 1\n",
      "same_source_counts"
     ],
     "language": "python",
     "metadata": {},
     "outputs": [
      {
       "metadata": {},
       "output_type": "pyout",
       "prompt_number": 43,
       "text": [
        "{1: {2: 521, 3: 441, 4: 408, 5: 517, 6: 337, 7: 518, 8: 534},\n",
        " 2: {1: 521, 3: 429, 4: 440, 5: 516, 6: 355, 7: 510, 8: 523},\n",
        " 3: {1: 441, 2: 429, 4: 455, 5: 405, 6: 258, 7: 422, 8: 427},\n",
        " 4: {1: 408, 2: 440, 3: 455, 5: 412, 6: 324, 7: 448, 8: 422},\n",
        " 5: {1: 517, 2: 516, 3: 405, 4: 412, 6: 361, 7: 545, 8: 511},\n",
        " 6: {1: 337, 2: 355, 3: 258, 4: 324, 5: 361, 7: 408, 8: 389},\n",
        " 7: {1: 518, 2: 510, 3: 422, 4: 448, 5: 545, 6: 408, 8: 510},\n",
        " 8: {1: 534, 2: 523, 3: 427, 4: 422, 5: 511, 6: 389, 7: 510}}"
       ]
      }
     ],
     "prompt_number": 43
    },
    {
     "cell_type": "code",
     "collapsed": false,
     "input": [
      "diff_source_counts"
     ],
     "language": "python",
     "metadata": {},
     "outputs": [
      {
       "metadata": {},
       "output_type": "pyout",
       "prompt_number": 44,
       "text": [
        "{1: {2: 286, 3: 366, 4: 399, 5: 290, 6: 470, 7: 289, 8: 273},\n",
        " 2: {1: 286, 3: 378, 4: 367, 5: 291, 6: 452, 7: 297, 8: 284},\n",
        " 3: {1: 366, 2: 378, 4: 352, 5: 402, 6: 549, 7: 385, 8: 380},\n",
        " 4: {1: 399, 2: 367, 3: 352, 5: 395, 6: 483, 7: 359, 8: 385},\n",
        " 5: {1: 290, 2: 291, 3: 402, 4: 395, 6: 446, 7: 262, 8: 296},\n",
        " 6: {1: 470, 2: 452, 3: 549, 4: 483, 5: 446, 7: 399, 8: 418},\n",
        " 7: {1: 289, 2: 297, 3: 385, 4: 359, 5: 262, 6: 399, 8: 297},\n",
        " 8: {1: 273, 2: 284, 3: 380, 4: 385, 5: 296, 6: 418, 7: 297}}"
       ]
      }
     ],
     "prompt_number": 44
    },
    {
     "cell_type": "code",
     "collapsed": false,
     "input": [
      "# Let's create a heatmap of same_source_counts \n",
      "same_source_df = pd.DataFrame(same_source_counts)\n",
      "same_source_df.fillna(0, inplace=True)\n",
      "same_source_df = np.triu(same_source_df.values)\n",
      "\n",
      "diff_source_df = pd.DataFrame(diff_source_counts)\n",
      "diff_source_df.fillna(0, inplace=True)\n",
      "\n",
      "plt.figure(figsize=(7,6))\n",
      "plt.pcolor(same_source_df, cmap='Reds')\n",
      "plt.colorbar()\n",
      "plt.xticks(range(1,9), fontsize=14)\n",
      "plt.yticks(range(1,9), fontsize=14)\n",
      "plt.xlabel(\"Segment 1\", fontsize=20)\n",
      "plt.ylabel(\"Segment 2\", fontsize=20)\n",
      "plt.title(\"Segments From Same Sources\", fontsize=20)\n",
      "plt.savefig('Segments From Same Sources.pdf')"
     ],
     "language": "python",
     "metadata": {},
     "outputs": [
      {
       "metadata": {},
       "output_type": "display_data",
       "png": "[encoded data removed]",
       "text": [
        "<matplotlib.figure.Figure at 0x184a71ad0>"
       ]
      }
     ],
     "prompt_number": 58
    },
    {
     "cell_type": "code",
     "collapsed": false,
     "input": [
      "# Let's create a heatmap of diff_source_counts\n",
      "diff_source_df = pd.DataFrame(diff_source_counts)\n",
      "diff_source_df.fillna(0, inplace=True)\n",
      "diff_source_df = np.triu(diff_source_df.values)\n",
      "\n",
      "plt.figure(figsize=(7,6))\n",
      "plt.pcolor(diff_source_df, cmap='Blues')\n",
      "plt.colorbar()\n",
      "plt.xticks(range(1,9), fontsize=14)\n",
      "plt.yticks(range(1,9), fontsize=14)\n",
      "plt.xlabel(\"Segment 1\", fontsize=20)\n",
      "plt.ylabel(\"Segment 2\", fontsize=20)\n",
      "plt.title(\"Segments From Different Sources\", fontsize=20)\n",
      "plt.savefig('Segments From Different Sources.pdf')"
     ],
     "language": "python",
     "metadata": {},
     "outputs": [
      {
       "metadata": {},
       "output_type": "display_data",
       "png": "[encoded data removed]",
       "text": [
        "<matplotlib.figure.Figure at 0x19da78910>"
       ]
      }
     ],
     "prompt_number": 60
    },
    {
     "cell_type": "code",
     "collapsed": false,
     "input": [
      "# How often do we find a segment for which two sources were equally similar?\n",
      "counts = 0\n",
      "for sink, sources_dict in reassortant_isolates.items():\n",
      "    for source_pair, segments_dict in sources_dict.items():\n",
      "        for segment in segments:\n",
      "            if len(segments_dict[segment][0]) == 2:\n",
      "                counts += 1\n",
      "                print(sink, source_pair, segment)\n",
      "print(counts)"
     ],
     "language": "python",
     "metadata": {},
     "outputs": [
      {
       "output_type": "stream",
       "stream": "stdout",
       "text": [
        "('A/shorebird/Delaware Bay/655/2009', ('A/ruddy turnstone/New Jersey/AI09-194/2009', 'A/ruddy turnstone/New Jersey/AI09-837/2009'), 5)\n",
        "('A/blue-winged teal/Prince Edward Island/03910/2009', ('A/American black duck/New Brunswick/03451/2009', 'A/blue-winged teal/Prince Edward Island/03922/2009'), 5)\n",
        "('A/blue-winged teal/North Dakota/Sg-00706/2008', ('A/mallard/Minnesota/Sg-00697/2008', 'A/mallard/North Dakota/Sg-00703/2008'), 7)\n",
        "('A/blue-winged teal/Alberta/405/2008', ('A/mallard/Minnesota/Sg-00630/2008', 'A/mallard/Minnesota/Sg-00616/2008'), 8)\n",
        "('A/American wigeon/California/6610/2008', ('A/mallard/Minnesota/Sg-00847/2008', 'A/northern pintail/Interior Alaska/8BM3736/2008'), 7)\n",
        "('A/American green-winged teal/Wisconsin/08OS2270/2008', ('A/mallard/Minnesota/Sg-00949/2008', 'A/blue-winged teal/North Dakota/Sg-00719/2008'), 7)\n",
        "('A/mallard/Missouri/10MO084/2010', ('A/blue-winged teal/Guatemala/CIP049-09/2010', 'A/mallard/Minnesota/Sg-00930/2008'), 7)\n",
        "('A/mallard/Minnesota/Sg-00692/2008', ('A/mallard/Minnesota/Sg-00782/2008', 'A/northern pintail/Interior Alaska/8MP0213R2/2008'), 5)\n",
        "('A/mallard/California/2559P/2011', ('A/mallard/California/2552V/2011', 'A/mallard/California/2536P/2011'), 1)\n",
        "('A/mallard/California/2559P/2011', ('A/mallard/California/2535V/2011', 'A/mallard/California/2552V/2011'), 1)\n",
        "('A/mallard/California/6490/2008', ('A/mallard/Alberta/527/2008', 'A/American wigeon/California/6610/2008'), 8)\n",
        "('A/northern pintail/Interior Alaska/9BM8119R0/2009', ('A/mallard/Interior Alaska/9BM10095R0/2009', 'A/northern pintail/Interior Alaska/9BM6494R0/2009'), 8)\n",
        "('A/mallard/Interior Alaska/10BM05970R0/2010', ('A/American green-winged teal/Interior Alaska/10BM04207R0/2010', 'A/mallard/Interior Alaska/10BM05968R0/2010'), 4)\n",
        "('A/mallard/Ohio/1690/2009', ('A/mallard/Ohio/1686/2009', 'A/mallard/Ohio/2043/2009'), 1)\n",
        "('A/gull/Delaware/428/2009', ('A/shorebird/Delaware/324/2009', 'A/shorebird/Delaware Bay/167/2009'), 6)\n",
        "('A/mallard/Ohio/11OS2149/2011', ('A/mallard/Wisconsin/08OS2841/2008', 'A/mallard/Mississippi/11OS34/2011'), 7)\n",
        "('A/ruddy turnstone/New Jersey/AI09-256/2009', ('A/shorebird/Delaware Bay/170/2009', 'A/ruddy turnstone/New Jersey/AI09-119/2009'), 2)\n",
        "('A/ruddy turnstone/New Jersey/AI09-256/2009', ('A/shorebird/Delaware Bay/170/2009', 'A/ruddy turnstone/New Jersey/AI09-119/2009'), 5)\n",
        "('A/ruddy turnstone/New Jersey/AI09-256/2009', ('A/shorebird/Delaware Bay/170/2009', 'A/ruddy turnstone/New Jersey/AI09-119/2009'), 7)\n",
        "('A/ruddy turnstone/New Jersey/AI09-573/2009', ('A/shorebird/Delaware Bay/170/2009', 'A/ruddy turnstone/New Jersey/AI09-620/2009'), 8)\n",
        "('A/mallard/Wisconsin/10OS2909/2010', ('A/mallard/Iowa/10OS2492/2010', 'A/blue-winged teal/Iowa/10OS2639/2010'), 3)\n",
        "('A/mallard/California/2566P/2011', ('A/mallard/California/2552V/2011', 'A/mallard/California/2578P/2011'), 7)\n",
        "('A/mallard/Ohio/11OS2208/2011', ('A/mallard/Ohio/11OS2092/2011', 'A/mallard/Ohio/11OS2096/2011'), 1)\n",
        "('A/green-winged teal/Minnesota/Sg-01073/2008', ('A/mallard/California/8834/2008', 'A/gadwall/Wisconsin/08OS2296/2008'), 7)\n",
        "('A/American black duck/New Brunswick/00487/2010', ('A/American black duck/New Brunswick/00470/2010', 'A/American black duck/New Brunswick/00485/2010'), 7)\n",
        "('A/American black duck/New Brunswick/00487/2010', ('A/American black duck/New Brunswick/00470/2010', 'A/American black duck/New Brunswick/00485/2010'), 8)\n",
        "('A/ruddy turnstone/New Jersey/AI11-1678/2011', ('A/shorebird/Delaware Bay/792/2009', 'A/ruddy turnstone/New Jersey/AI11-2098/2011'), 7)\n",
        "('A/green-winged teal/California/11275/2008', ('A/green winged teal/California/AKS1370/2008', 'A/northern shoveler/California/9781/2008'), 7)\n",
        "('A/ruddy turnstone/New Jersey/Sg-00529/2008', ('A/ruddy turnstone/New Jersey/Sg-00522/2008', 'A/ruddy turnstone/Delaware/Sg-00469/2008'), 4)\n",
        "('A/ruddy turnstone/New Jersey/Sg-00529/2008', ('A/ruddy turnstone/New Jersey/Sg-00522/2008', 'A/ruddy turnstone/Delaware/Sg-00469/2008'), 5)\n",
        "('A/ruddy turnstone/New Jersey/Sg-00529/2008', ('A/ruddy turnstone/New Jersey/Sg-00522/2008', 'A/ruddy turnstone/Delaware/Sg-00469/2008'), 8)\n",
        "('A/ruddy turnstone/New Jersey/AI09-119/2009', ('A/ruddy turnstone/New Jersey/AI09-256/2009', 'A/ruddy turnstone/New Jersey/AI09-710/2009'), 2)\n",
        "('A/ruddy turnstone/New Jersey/AI09-119/2009', ('A/ruddy turnstone/New Jersey/AI09-256/2009', 'A/ruddy turnstone/New Jersey/AI09-710/2009'), 8)\n",
        "('A/ruddy turnstone/New Jersey/AI09-119/2009', ('A/ruddy turnstone/New Jersey/AI09-256/2009', 'A/ruddy turnstone/New Jersey/AI09-874/2009'), 2)\n",
        "('A/ruddy turnstone/New Jersey/AI09-119/2009', ('A/ruddy turnstone/New Jersey/AI09-256/2009', 'A/ruddy turnstone/New Jersey/AI09-874/2009'), 8)\n",
        "('A/mallard/California/5495/2009', ('A/mallard/California/5192/2009', 'A/mallard/California/5250/2009'), 8)\n",
        "('A/ruddy turnstone/New Jersey/AI09-1352/2009', ('A/ruddy turnstone/New Jersey/AI09-342/2009', 'A/ruddy turnstone/New Jersey/AI09-474/2009'), 7)\n",
        "('A/mallard/Minnesota/Sg-00949/2008', ('A/mallard/Minnesota/Sg-00768/2008', 'A/mallard/Minnesota/Sg-00868/2008'), 8)\n",
        "('A/mallard/New Jersey/AI09-5137/2009', ('A/mallard/New Jersey/AI09-5086/2009', 'A/mallard/New Jersey/AI09-6426/2009'), 4)\n",
        "('A/mallard/New Jersey/AI09-5137/2009', ('A/mallard/New Jersey/AI09-5086/2009', 'A/mallard/New Jersey/AI09-6426/2009'), 5)\n",
        "40\n"
       ]
      }
     ],
     "prompt_number": 47
    },
    {
     "cell_type": "code",
     "collapsed": false,
     "input": [
      "# Let's now create the \"network\" of genetically-shifted subtypes. The basic idea is this:\n",
      "# 1. Every node is a subtype combination (e.g. H3N6).\n",
      "# 2. If a subtype gave an HA to another subtype combination (e.g. H3N1 gave H3 to H3N6), connect H3N1 with an edge to H3N6.\n",
      "# 3. Ensure that the segment # (4 or 6) is labeled on the edge.\n",
      "\n",
      "subtype_graph = nx.DiGraph()\n",
      "\n",
      "for isolate in genetic_shifters:\n",
      "    # Get the subtype of the isolate, add to subtype_graph\n",
      "    subtype = masterlist[masterlist['Strain Name'] == isolate]['Subtype'].values[0]\n",
      "    subtype_graph.add_node(subtype)\n",
      "        \n",
      "    \n",
      "    # Get the subtypes of the parental sources\n",
      "    sources_dict = reassortant_isolates[isolate]\n",
      "    \n",
      "    for source_pair, segments_dict in sources_dict.items():\n",
      "        if len(segments_dict.keys()) > 0:\n",
      "            seg4source = segments_dict[4][0]\n",
      "            seg6source = segments_dict[6][0]\n",
      "\n",
      "            if seg4source != seg6source and len(seg4source) != 2 and len(seg6source) != 2:\n",
      "                \n",
      "                seg4source_subtype = masterlist[masterlist['Strain Name'] == seg4source]['Subtype'].values[0]\n",
      "                seg6source_subtype = masterlist[masterlist['Strain Name'] == seg6source]['Subtype'].values[0]\n",
      "                \n",
      "                if seg4source_subtype != seg6source_subtype:\n",
      "\n",
      "                    subtype_graph.add_edge(seg4source_subtype, subtype, segment=4)\n",
      "                    subtype_graph.add_edge(seg6source_subtype, subtype, segment=6)"
     ],
     "language": "python",
     "metadata": {},
     "outputs": [],
     "prompt_number": 133
    },
    {
     "cell_type": "code",
     "collapsed": false,
     "input": [
      "for subtype in subtype_graph.nodes(data=True):\n",
      "    if len(subtype_graph.out_edges(subtype[0])) > 0:\n",
      "        subtype_graph.node[subtype[0]]['outgoing'] = True\n",
      "    if len(subtype_graph.out_edges(subtype[0])) == 0:\n",
      "        subtype_graph.node[subtype[0]]['outgoing'] = False\n",
      "\n",
      "    if len(subtype_graph.in_edges(subtype[0])) > 0:\n",
      "        subtype_graph.node[subtype[0]]['incoming'] = True\n",
      "    if len(subtype_graph.in_edges(subtype[0])) == 0:\n",
      "        subtype_graph.node[subtype[0]]['incoming'] = False\n",
      "\n",
      "subtype_graph.nodes(data=True)"
     ],
     "language": "python",
     "metadata": {},
     "outputs": [
      {
       "metadata": {},
       "output_type": "pyout",
       "prompt_number": 134,
       "text": [
        "[('H7N6', {'incoming': True, 'outgoing': False}),\n",
        " ('(H1)', {'incoming': True, 'outgoing': False}),\n",
        " ('(N2)', {'incoming': False, 'outgoing': True}),\n",
        " ('H10N8', {'incoming': True, 'outgoing': False}),\n",
        " ('H10N9', {'incoming': True, 'outgoing': False}),\n",
        " ('H10N1', {'incoming': True, 'outgoing': True}),\n",
        " ('H10N2', {'incoming': True, 'outgoing': False}),\n",
        " ('H10N3', {'incoming': True, 'outgoing': True}),\n",
        " ('H10N4', {'incoming': True, 'outgoing': False}),\n",
        " ('H10N5', {'incoming': True, 'outgoing': True}),\n",
        " ('H10N6', {'incoming': True, 'outgoing': True}),\n",
        " ('H10N7', {'incoming': True, 'outgoing': True}),\n",
        " ('(N3)', {'incoming': False, 'outgoing': True}),\n",
        " ('(H12)', {'incoming': False, 'outgoing': False}),\n",
        " ('H2N5', {'incoming': True, 'outgoing': True}),\n",
        " ('H2N2', {'incoming': True, 'outgoing': True}),\n",
        " ('H2N3', {'incoming': True, 'outgoing': True}),\n",
        " ('H2N9', {'incoming': True, 'outgoing': True}),\n",
        " ('H6N4', {'incoming': True, 'outgoing': False}),\n",
        " ('H1N2', {'incoming': True, 'outgoing': True}),\n",
        " ('H8N4', {'incoming': False, 'outgoing': True}),\n",
        " ('H8N2', {'incoming': True, 'outgoing': False}),\n",
        " ('(H3)', {'incoming': True, 'outgoing': False}),\n",
        " ('(H11)', {'incoming': True, 'outgoing': False}),\n",
        " ('(H4)', {'incoming': False, 'outgoing': True}),\n",
        " ('(N1)', {'incoming': True, 'outgoing': True}),\n",
        " ('(H10)', {'incoming': True, 'outgoing': True}),\n",
        " ('(N8)', {'incoming': True, 'outgoing': True}),\n",
        " ('H4N1', {'incoming': True, 'outgoing': False}),\n",
        " ('H4N6', {'incoming': True, 'outgoing': True}),\n",
        " ('H5N2', {'incoming': True, 'outgoing': True}),\n",
        " ('H3N9', {'incoming': True, 'outgoing': True}),\n",
        " ('H3N8', {'incoming': True, 'outgoing': True}),\n",
        " ('H5N1', {'incoming': True, 'outgoing': True}),\n",
        " ('H3N1', {'incoming': True, 'outgoing': True}),\n",
        " ('H3N3', {'incoming': True, 'outgoing': False}),\n",
        " ('H3N2', {'incoming': True, 'outgoing': True}),\n",
        " ('H3N5', {'incoming': True, 'outgoing': False}),\n",
        " ('H3N7', {'incoming': True, 'outgoing': True}),\n",
        " ('H3N6', {'incoming': True, 'outgoing': True}),\n",
        " ('H4N8', {'incoming': True, 'outgoing': True}),\n",
        " ('H4N9', {'incoming': True, 'outgoing': True}),\n",
        " ('H5N9', {'incoming': True, 'outgoing': True}),\n",
        " ('H5N8', {'incoming': True, 'outgoing': False}),\n",
        " ('H4N2', {'incoming': True, 'outgoing': True}),\n",
        " ('H4N3', {'incoming': True, 'outgoing': False}),\n",
        " ('H5N4', {'incoming': False, 'outgoing': True}),\n",
        " ('H5N3', {'incoming': True, 'outgoing': True}),\n",
        " ('H4N7', {'incoming': False, 'outgoing': True}),\n",
        " ('H4N4', {'incoming': True, 'outgoing': False}),\n",
        " ('H4N5', {'incoming': True, 'outgoing': False}),\n",
        " ('H6N8', {'incoming': True, 'outgoing': True}),\n",
        " ('H6N9', {'incoming': True, 'outgoing': True}),\n",
        " ('H7N9', {'incoming': True, 'outgoing': True}),\n",
        " ('H7N8', {'incoming': True, 'outgoing': False}),\n",
        " ('H6N1', {'incoming': True, 'outgoing': True}),\n",
        " ('H7N7', {'incoming': True, 'outgoing': True}),\n",
        " ('H6N3', {'incoming': True, 'outgoing': True}),\n",
        " ('(N9)', {'incoming': True, 'outgoing': True}),\n",
        " ('H6N5', {'incoming': True, 'outgoing': False}),\n",
        " ('H7N3', {'incoming': True, 'outgoing': True}),\n",
        " ('H12N6', {'incoming': True, 'outgoing': True}),\n",
        " ('(N7)', {'incoming': True, 'outgoing': False}),\n",
        " ('H7N4', {'incoming': True, 'outgoing': False}),\n",
        " ('H6N2', {'incoming': True, 'outgoing': True}),\n",
        " ('H1N9', {'incoming': True, 'outgoing': True}),\n",
        " ('H1N8', {'incoming': True, 'outgoing': True}),\n",
        " ('H1N3', {'incoming': True, 'outgoing': True}),\n",
        " ('H7N1', {'incoming': True, 'outgoing': True}),\n",
        " ('H1N1', {'incoming': True, 'outgoing': True}),\n",
        " ('H1N7', {'incoming': True, 'outgoing': True}),\n",
        " ('H1N5', {'incoming': True, 'outgoing': True}),\n",
        " ('H9N2', {'incoming': True, 'outgoing': True}),\n",
        " ('H6N6', {'incoming': True, 'outgoing': False}),\n",
        " ('H11N5', {'incoming': True, 'outgoing': True}),\n",
        " ('H12N8', {'incoming': True, 'outgoing': True}),\n",
        " ('H11N1', {'incoming': True, 'outgoing': True}),\n",
        " ('H11N3', {'incoming': True, 'outgoing': True}),\n",
        " ('H11N2', {'incoming': True, 'outgoing': True}),\n",
        " ('H12N2', {'incoming': True, 'outgoing': False}),\n",
        " ('H11N9', {'incoming': True, 'outgoing': True}),\n",
        " ('H11N8', {'incoming': False, 'outgoing': True}),\n",
        " ('H12N4', {'incoming': True, 'outgoing': True}),\n",
        " ('H12N5', {'incoming': True, 'outgoing': True}),\n",
        " ('H14N6', {'incoming': False, 'outgoing': True}),\n",
        " ('H14N2', {'incoming': True, 'outgoing': False}),\n",
        " ('H13N6', {'incoming': True, 'outgoing': True}),\n",
        " ('H13N9', {'incoming': False, 'outgoing': True})]"
       ]
      }
     ],
     "prompt_number": 134
    },
    {
     "cell_type": "code",
     "collapsed": false,
     "input": [
      "# Add the degree centrality to each of the nodes:\n",
      "for node, centrality in nx.degree_centrality(subtype_graph).items():\n",
      "    subtype_graph.node[node]['centrality'] = centrality"
     ],
     "language": "python",
     "metadata": {},
     "outputs": [],
     "prompt_number": 135
    },
    {
     "cell_type": "code",
     "collapsed": false,
     "input": [
      "subtype_graph.nodes(data=True)"
     ],
     "language": "python",
     "metadata": {},
     "outputs": [
      {
       "metadata": {},
       "output_type": "pyout",
       "prompt_number": 136,
       "text": [
        "[('H7N6',\n",
        "  {'centrality': 0.022988505747126436, 'incoming': True, 'outgoing': False}),\n",
        " ('(H1)',\n",
        "  {'centrality': 0.022988505747126436, 'incoming': True, 'outgoing': False}),\n",
        " ('(N2)',\n",
        "  {'centrality': 0.011494252873563218, 'incoming': False, 'outgoing': True}),\n",
        " ('H10N8',\n",
        "  {'centrality': 0.022988505747126436, 'incoming': True, 'outgoing': False}),\n",
        " ('H10N9',\n",
        "  {'centrality': 0.022988505747126436, 'incoming': True, 'outgoing': False}),\n",
        " ('H10N1',\n",
        "  {'centrality': 0.09195402298850575, 'incoming': True, 'outgoing': True}),\n",
        " ('H10N2',\n",
        "  {'centrality': 0.022988505747126436, 'incoming': True, 'outgoing': False}),\n",
        " ('H10N3',\n",
        "  {'centrality': 0.06896551724137931, 'incoming': True, 'outgoing': True}),\n",
        " ('H10N4',\n",
        "  {'centrality': 0.022988505747126436, 'incoming': True, 'outgoing': False}),\n",
        " ('H10N5',\n",
        "  {'centrality': 0.04597701149425287, 'incoming': True, 'outgoing': True}),\n",
        " ('H10N6',\n",
        "  {'centrality': 0.05747126436781609, 'incoming': True, 'outgoing': True}),\n",
        " ('H10N7',\n",
        "  {'centrality': 0.21839080459770116, 'incoming': True, 'outgoing': True}),\n",
        " ('(N3)',\n",
        "  {'centrality': 0.022988505747126436, 'incoming': False, 'outgoing': True}),\n",
        " ('(H12)', {'centrality': 0.0, 'incoming': False, 'outgoing': False}),\n",
        " ('H2N5',\n",
        "  {'centrality': 0.034482758620689655, 'incoming': True, 'outgoing': True}),\n",
        " ('H2N2',\n",
        "  {'centrality': 0.09195402298850575, 'incoming': True, 'outgoing': True}),\n",
        " ('H2N3',\n",
        "  {'centrality': 0.16091954022988506, 'incoming': True, 'outgoing': True}),\n",
        " ('H2N9',\n",
        "  {'centrality': 0.05747126436781609, 'incoming': True, 'outgoing': True}),\n",
        " ('H6N4',\n",
        "  {'centrality': 0.022988505747126436, 'incoming': True, 'outgoing': False}),\n",
        " ('H1N2',\n",
        "  {'centrality': 0.06896551724137931, 'incoming': True, 'outgoing': True}),\n",
        " ('H8N4',\n",
        "  {'centrality': 0.05747126436781609, 'incoming': False, 'outgoing': True}),\n",
        " ('H8N2',\n",
        "  {'centrality': 0.022988505747126436, 'incoming': True, 'outgoing': False}),\n",
        " ('(H3)',\n",
        "  {'centrality': 0.05747126436781609, 'incoming': True, 'outgoing': False}),\n",
        " ('(H11)',\n",
        "  {'centrality': 0.022988505747126436, 'incoming': True, 'outgoing': False}),\n",
        " ('(H4)',\n",
        "  {'centrality': 0.022988505747126436, 'incoming': False, 'outgoing': True}),\n",
        " ('(N1)',\n",
        "  {'centrality': 0.06896551724137931, 'incoming': True, 'outgoing': True}),\n",
        " ('(H10)',\n",
        "  {'centrality': 0.034482758620689655, 'incoming': True, 'outgoing': True}),\n",
        " ('(N8)',\n",
        "  {'centrality': 0.034482758620689655, 'incoming': True, 'outgoing': True}),\n",
        " ('H4N1',\n",
        "  {'centrality': 0.034482758620689655, 'incoming': True, 'outgoing': False}),\n",
        " ('H4N6',\n",
        "  {'centrality': 0.1839080459770115, 'incoming': True, 'outgoing': True}),\n",
        " ('H5N2',\n",
        "  {'centrality': 0.1839080459770115, 'incoming': True, 'outgoing': True}),\n",
        " ('H3N9',\n",
        "  {'centrality': 0.04597701149425287, 'incoming': True, 'outgoing': True}),\n",
        " ('H3N8',\n",
        "  {'centrality': 0.24137931034482757, 'incoming': True, 'outgoing': True}),\n",
        " ('H5N1',\n",
        "  {'centrality': 0.05747126436781609, 'incoming': True, 'outgoing': True}),\n",
        " ('H3N1',\n",
        "  {'centrality': 0.08045977011494253, 'incoming': True, 'outgoing': True}),\n",
        " ('H3N3',\n",
        "  {'centrality': 0.022988505747126436, 'incoming': True, 'outgoing': False}),\n",
        " ('H3N2',\n",
        "  {'centrality': 0.1839080459770115, 'incoming': True, 'outgoing': True}),\n",
        " ('H3N5',\n",
        "  {'centrality': 0.022988505747126436, 'incoming': True, 'outgoing': False}),\n",
        " ('H3N7',\n",
        "  {'centrality': 0.09195402298850575, 'incoming': True, 'outgoing': True}),\n",
        " ('H3N6',\n",
        "  {'centrality': 0.09195402298850575, 'incoming': True, 'outgoing': True}),\n",
        " ('H4N8',\n",
        "  {'centrality': 0.13793103448275862, 'incoming': True, 'outgoing': True}),\n",
        " ('H4N9',\n",
        "  {'centrality': 0.12643678160919541, 'incoming': True, 'outgoing': True}),\n",
        " ('H5N9',\n",
        "  {'centrality': 0.05747126436781609, 'incoming': True, 'outgoing': True}),\n",
        " ('H5N8',\n",
        "  {'centrality': 0.022988505747126436, 'incoming': True, 'outgoing': False}),\n",
        " ('H4N2',\n",
        "  {'centrality': 0.11494252873563218, 'incoming': True, 'outgoing': True}),\n",
        " ('H4N3',\n",
        "  {'centrality': 0.022988505747126436, 'incoming': True, 'outgoing': False}),\n",
        " ('H5N4',\n",
        "  {'centrality': 0.011494252873563218, 'incoming': False, 'outgoing': True}),\n",
        " ('H5N3',\n",
        "  {'centrality': 0.04597701149425287, 'incoming': True, 'outgoing': True}),\n",
        " ('H4N7',\n",
        "  {'centrality': 0.011494252873563218, 'incoming': False, 'outgoing': True}),\n",
        " ('H4N4',\n",
        "  {'centrality': 0.022988505747126436, 'incoming': True, 'outgoing': False}),\n",
        " ('H4N5',\n",
        "  {'centrality': 0.022988505747126436, 'incoming': True, 'outgoing': False}),\n",
        " ('H6N8',\n",
        "  {'centrality': 0.12643678160919541, 'incoming': True, 'outgoing': True}),\n",
        " ('H6N9',\n",
        "  {'centrality': 0.034482758620689655, 'incoming': True, 'outgoing': True}),\n",
        " ('H7N9',\n",
        "  {'centrality': 0.034482758620689655, 'incoming': True, 'outgoing': True}),\n",
        " ('H7N8',\n",
        "  {'centrality': 0.034482758620689655, 'incoming': True, 'outgoing': False}),\n",
        " ('H6N1',\n",
        "  {'centrality': 0.16091954022988506, 'incoming': True, 'outgoing': True}),\n",
        " ('H7N7',\n",
        "  {'centrality': 0.06896551724137931, 'incoming': True, 'outgoing': True}),\n",
        " ('H6N3',\n",
        "  {'centrality': 0.034482758620689655, 'incoming': True, 'outgoing': True}),\n",
        " ('(N9)',\n",
        "  {'centrality': 0.08045977011494253, 'incoming': True, 'outgoing': True}),\n",
        " ('H6N5',\n",
        "  {'centrality': 0.022988505747126436, 'incoming': True, 'outgoing': False}),\n",
        " ('H7N3',\n",
        "  {'centrality': 0.13793103448275862, 'incoming': True, 'outgoing': True}),\n",
        " ('H12N6',\n",
        "  {'centrality': 0.034482758620689655, 'incoming': True, 'outgoing': True}),\n",
        " ('(N7)',\n",
        "  {'centrality': 0.034482758620689655, 'incoming': True, 'outgoing': False}),\n",
        " ('H7N4',\n",
        "  {'centrality': 0.022988505747126436, 'incoming': True, 'outgoing': False}),\n",
        " ('H6N2',\n",
        "  {'centrality': 0.1954022988505747, 'incoming': True, 'outgoing': True}),\n",
        " ('H1N9',\n",
        "  {'centrality': 0.11494252873563218, 'incoming': True, 'outgoing': True}),\n",
        " ('H1N8',\n",
        "  {'centrality': 0.08045977011494253, 'incoming': True, 'outgoing': True}),\n",
        " ('H1N3',\n",
        "  {'centrality': 0.08045977011494253, 'incoming': True, 'outgoing': True}),\n",
        " ('H7N1',\n",
        "  {'centrality': 0.034482758620689655, 'incoming': True, 'outgoing': True}),\n",
        " ('H1N1',\n",
        "  {'centrality': 0.22988505747126436, 'incoming': True, 'outgoing': True}),\n",
        " ('H1N7',\n",
        "  {'centrality': 0.034482758620689655, 'incoming': True, 'outgoing': True}),\n",
        " ('H1N5',\n",
        "  {'centrality': 0.06896551724137931, 'incoming': True, 'outgoing': True}),\n",
        " ('H9N2',\n",
        "  {'centrality': 0.09195402298850575, 'incoming': True, 'outgoing': True}),\n",
        " ('H6N6',\n",
        "  {'centrality': 0.022988505747126436, 'incoming': True, 'outgoing': False}),\n",
        " ('H11N5',\n",
        "  {'centrality': 0.034482758620689655, 'incoming': True, 'outgoing': True}),\n",
        " ('H12N8',\n",
        "  {'centrality': 0.04597701149425287, 'incoming': True, 'outgoing': True}),\n",
        " ('H11N1',\n",
        "  {'centrality': 0.034482758620689655, 'incoming': True, 'outgoing': True}),\n",
        " ('H11N3',\n",
        "  {'centrality': 0.05747126436781609, 'incoming': True, 'outgoing': True}),\n",
        " ('H11N2',\n",
        "  {'centrality': 0.1839080459770115, 'incoming': True, 'outgoing': True}),\n",
        " ('H12N2',\n",
        "  {'centrality': 0.022988505747126436, 'incoming': True, 'outgoing': False}),\n",
        " ('H11N9',\n",
        "  {'centrality': 0.1724137931034483, 'incoming': True, 'outgoing': True}),\n",
        " ('H11N8',\n",
        "  {'centrality': 0.022988505747126436, 'incoming': False, 'outgoing': True}),\n",
        " ('H12N4',\n",
        "  {'centrality': 0.09195402298850575, 'incoming': True, 'outgoing': True}),\n",
        " ('H12N5',\n",
        "  {'centrality': 0.11494252873563218, 'incoming': True, 'outgoing': True}),\n",
        " ('H14N6',\n",
        "  {'centrality': 0.011494252873563218, 'incoming': False, 'outgoing': True}),\n",
        " ('H14N2',\n",
        "  {'centrality': 0.022988505747126436, 'incoming': True, 'outgoing': False}),\n",
        " ('H13N6',\n",
        "  {'centrality': 0.04597701149425287, 'incoming': True, 'outgoing': True}),\n",
        " ('H13N9',\n",
        "  {'centrality': 0.011494252873563218, 'incoming': False, 'outgoing': True})]"
       ]
      }
     ],
     "prompt_number": 136
    },
    {
     "cell_type": "code",
     "collapsed": false,
     "input": [
      "# Remove any self-loops:\n",
      "for edge in subtype_graph.edges(data=True):\n",
      "    if edge[0] == edge[1]:\n",
      "        subtype_graph.remove_edge(edge[0], edge[1])"
     ],
     "language": "python",
     "metadata": {},
     "outputs": [],
     "prompt_number": 138
    },
    {
     "cell_type": "code",
     "collapsed": false,
     "input": [
      "# Dump graph for interactive visualization.\n",
      "d = json_graph.node_link_data(subtype_graph) # node-link format to serialize\n",
      "json.dump(d, open('viz/subtypenet.json','w'))"
     ],
     "language": "python",
     "metadata": {},
     "outputs": [],
     "prompt_number": 139
    },
    {
     "cell_type": "code",
     "collapsed": false,
     "input": [
      "bcentrality = nx.betweenness_centrality(subtype_graph)\n",
      "bcentrality_df = pd.DataFrame(zip(centralities.keys(), centralities.values()))\n",
      "bcentrality_df.columns = ['Subtype', 'Betweenness Centrality']\n",
      "bcentrality_df.sort('Betweenness Centrality', inplace=True, ascending=False)\n",
      "bcentrality_df"
     ],
     "language": "python",
     "metadata": {},
     "outputs": [
      {
       "html": [
        "<div style=\"max-height:1000px;max-width:1500px;overflow:auto;\">\n",
        "<table border=\"1\" class=\"dataframe\">\n",
        "  <thead>\n",
        "    <tr style=\"text-align: right;\">\n",
        "      <th></th>\n",
        "      <th>Subtype</th>\n",
        "      <th>Betweenness Centrality</th>\n",
        "    </tr>\n",
        "  </thead>\n",
        "  <tbody>\n",
        "    <tr>\n",
        "      <th>78</th>\n",
        "      <td> H11N2</td>\n",
        "      <td> 0.126431</td>\n",
        "    </tr>\n",
        "    <tr>\n",
        "      <th>69</th>\n",
        "      <td>  H1N1</td>\n",
        "      <td> 0.108671</td>\n",
        "    </tr>\n",
        "    <tr>\n",
        "      <th>36</th>\n",
        "      <td>  H3N2</td>\n",
        "      <td> 0.085608</td>\n",
        "    </tr>\n",
        "    <tr>\n",
        "      <th>32</th>\n",
        "      <td>  H3N8</td>\n",
        "      <td> 0.082600</td>\n",
        "    </tr>\n",
        "    <tr>\n",
        "      <th>56</th>\n",
        "      <td>  H6N2</td>\n",
        "      <td> 0.075075</td>\n",
        "    </tr>\n",
        "    <tr>\n",
        "      <th>61</th>\n",
        "      <td> H11N9</td>\n",
        "      <td> 0.072588</td>\n",
        "    </tr>\n",
        "    <tr>\n",
        "      <th>41</th>\n",
        "      <td>  H4N9</td>\n",
        "      <td> 0.064026</td>\n",
        "    </tr>\n",
        "    <tr>\n",
        "      <th>10</th>\n",
        "      <td> H10N7</td>\n",
        "      <td> 0.062639</td>\n",
        "    </tr>\n",
        "    <tr>\n",
        "      <th>29</th>\n",
        "      <td>  H4N6</td>\n",
        "      <td> 0.058831</td>\n",
        "    </tr>\n",
        "    <tr>\n",
        "      <th>30</th>\n",
        "      <td>  H5N2</td>\n",
        "      <td> 0.057675</td>\n",
        "    </tr>\n",
        "    <tr>\n",
        "      <th>63</th>\n",
        "      <td>  H6N1</td>\n",
        "      <td> 0.053224</td>\n",
        "    </tr>\n",
        "    <tr>\n",
        "      <th>17</th>\n",
        "      <td>  H2N3</td>\n",
        "      <td> 0.050972</td>\n",
        "    </tr>\n",
        "    <tr>\n",
        "      <th>83</th>\n",
        "      <td> H12N5</td>\n",
        "      <td> 0.049950</td>\n",
        "    </tr>\n",
        "    <tr>\n",
        "      <th>65</th>\n",
        "      <td>  H1N9</td>\n",
        "      <td> 0.048531</td>\n",
        "    </tr>\n",
        "    <tr>\n",
        "      <th>9 </th>\n",
        "      <td> H10N6</td>\n",
        "      <td> 0.037393</td>\n",
        "    </tr>\n",
        "    <tr>\n",
        "      <th>6 </th>\n",
        "      <td> H10N3</td>\n",
        "      <td> 0.035921</td>\n",
        "    </tr>\n",
        "    <tr>\n",
        "      <th>12</th>\n",
        "      <td>  (N9)</td>\n",
        "      <td> 0.035419</td>\n",
        "    </tr>\n",
        "    <tr>\n",
        "      <th>73</th>\n",
        "      <td>  H7N3</td>\n",
        "      <td> 0.034764</td>\n",
        "    </tr>\n",
        "    <tr>\n",
        "      <th>4 </th>\n",
        "      <td> H10N1</td>\n",
        "      <td> 0.034529</td>\n",
        "    </tr>\n",
        "    <tr>\n",
        "      <th>74</th>\n",
        "      <td> H11N5</td>\n",
        "      <td> 0.029471</td>\n",
        "    </tr>\n",
        "    <tr>\n",
        "      <th>40</th>\n",
        "      <td>  H4N8</td>\n",
        "      <td> 0.028397</td>\n",
        "    </tr>\n",
        "    <tr>\n",
        "      <th>77</th>\n",
        "      <td> H11N3</td>\n",
        "      <td> 0.025451</td>\n",
        "    </tr>\n",
        "    <tr>\n",
        "      <th>82</th>\n",
        "      <td> H12N4</td>\n",
        "      <td> 0.023963</td>\n",
        "    </tr>\n",
        "    <tr>\n",
        "      <th>51</th>\n",
        "      <td>  H6N8</td>\n",
        "      <td> 0.022544</td>\n",
        "    </tr>\n",
        "    <tr>\n",
        "      <th>67</th>\n",
        "      <td>  H1N3</td>\n",
        "      <td> 0.022265</td>\n",
        "    </tr>\n",
        "    <tr>\n",
        "      <th>19</th>\n",
        "      <td>  H1N2</td>\n",
        "      <td> 0.020001</td>\n",
        "    </tr>\n",
        "    <tr>\n",
        "      <th>16</th>\n",
        "      <td>  H2N2</td>\n",
        "      <td> 0.019081</td>\n",
        "    </tr>\n",
        "    <tr>\n",
        "      <th>71</th>\n",
        "      <td>  H1N5</td>\n",
        "      <td> 0.018658</td>\n",
        "    </tr>\n",
        "    <tr>\n",
        "      <th>25</th>\n",
        "      <td>  (N1)</td>\n",
        "      <td> 0.016164</td>\n",
        "    </tr>\n",
        "    <tr>\n",
        "      <th>38</th>\n",
        "      <td>  H3N7</td>\n",
        "      <td> 0.016108</td>\n",
        "    </tr>\n",
        "    <tr>\n",
        "      <th>...</th>\n",
        "      <td>...</td>\n",
        "      <td>...</td>\n",
        "    </tr>\n",
        "    <tr>\n",
        "      <th>85</th>\n",
        "      <td> H14N2</td>\n",
        "      <td> 0.000000</td>\n",
        "    </tr>\n",
        "    <tr>\n",
        "      <th>62</th>\n",
        "      <td>  (N7)</td>\n",
        "      <td> 0.000000</td>\n",
        "    </tr>\n",
        "    <tr>\n",
        "      <th>0 </th>\n",
        "      <td>  (H1)</td>\n",
        "      <td> 0.000000</td>\n",
        "    </tr>\n",
        "    <tr>\n",
        "      <th>60</th>\n",
        "      <td>  H6N6</td>\n",
        "      <td> 0.000000</td>\n",
        "    </tr>\n",
        "    <tr>\n",
        "      <th>28</th>\n",
        "      <td>  H4N1</td>\n",
        "      <td> 0.000000</td>\n",
        "    </tr>\n",
        "    <tr>\n",
        "      <th>2 </th>\n",
        "      <td> H10N8</td>\n",
        "      <td> 0.000000</td>\n",
        "    </tr>\n",
        "    <tr>\n",
        "      <th>3 </th>\n",
        "      <td> H10N9</td>\n",
        "      <td> 0.000000</td>\n",
        "    </tr>\n",
        "    <tr>\n",
        "      <th>5 </th>\n",
        "      <td> H10N2</td>\n",
        "      <td> 0.000000</td>\n",
        "    </tr>\n",
        "    <tr>\n",
        "      <th>7 </th>\n",
        "      <td> H10N4</td>\n",
        "      <td> 0.000000</td>\n",
        "    </tr>\n",
        "    <tr>\n",
        "      <th>13</th>\n",
        "      <td>  (N3)</td>\n",
        "      <td> 0.000000</td>\n",
        "    </tr>\n",
        "    <tr>\n",
        "      <th>14</th>\n",
        "      <td> (H12)</td>\n",
        "      <td> 0.000000</td>\n",
        "    </tr>\n",
        "    <tr>\n",
        "      <th>20</th>\n",
        "      <td>  H8N4</td>\n",
        "      <td> 0.000000</td>\n",
        "    </tr>\n",
        "    <tr>\n",
        "      <th>21</th>\n",
        "      <td>  H8N2</td>\n",
        "      <td> 0.000000</td>\n",
        "    </tr>\n",
        "    <tr>\n",
        "      <th>22</th>\n",
        "      <td>  (H3)</td>\n",
        "      <td> 0.000000</td>\n",
        "    </tr>\n",
        "    <tr>\n",
        "      <th>23</th>\n",
        "      <td> (H11)</td>\n",
        "      <td> 0.000000</td>\n",
        "    </tr>\n",
        "    <tr>\n",
        "      <th>24</th>\n",
        "      <td>  (H4)</td>\n",
        "      <td> 0.000000</td>\n",
        "    </tr>\n",
        "    <tr>\n",
        "      <th>35</th>\n",
        "      <td>  H3N3</td>\n",
        "      <td> 0.000000</td>\n",
        "    </tr>\n",
        "    <tr>\n",
        "      <th>59</th>\n",
        "      <td>  H6N5</td>\n",
        "      <td> 0.000000</td>\n",
        "    </tr>\n",
        "    <tr>\n",
        "      <th>37</th>\n",
        "      <td>  H3N5</td>\n",
        "      <td> 0.000000</td>\n",
        "    </tr>\n",
        "    <tr>\n",
        "      <th>43</th>\n",
        "      <td>  H5N8</td>\n",
        "      <td> 0.000000</td>\n",
        "    </tr>\n",
        "    <tr>\n",
        "      <th>1 </th>\n",
        "      <td>  (N2)</td>\n",
        "      <td> 0.000000</td>\n",
        "    </tr>\n",
        "    <tr>\n",
        "      <th>45</th>\n",
        "      <td>  H4N3</td>\n",
        "      <td> 0.000000</td>\n",
        "    </tr>\n",
        "    <tr>\n",
        "      <th>46</th>\n",
        "      <td>  H5N4</td>\n",
        "      <td> 0.000000</td>\n",
        "    </tr>\n",
        "    <tr>\n",
        "      <th>48</th>\n",
        "      <td>  H4N7</td>\n",
        "      <td> 0.000000</td>\n",
        "    </tr>\n",
        "    <tr>\n",
        "      <th>49</th>\n",
        "      <td>  H4N4</td>\n",
        "      <td> 0.000000</td>\n",
        "    </tr>\n",
        "    <tr>\n",
        "      <th>50</th>\n",
        "      <td>  H4N5</td>\n",
        "      <td> 0.000000</td>\n",
        "    </tr>\n",
        "    <tr>\n",
        "      <th>54</th>\n",
        "      <td>  H7N8</td>\n",
        "      <td> 0.000000</td>\n",
        "    </tr>\n",
        "    <tr>\n",
        "      <th>55</th>\n",
        "      <td>  H7N4</td>\n",
        "      <td> 0.000000</td>\n",
        "    </tr>\n",
        "    <tr>\n",
        "      <th>58</th>\n",
        "      <td>  H6N4</td>\n",
        "      <td> 0.000000</td>\n",
        "    </tr>\n",
        "    <tr>\n",
        "      <th>87</th>\n",
        "      <td> H13N9</td>\n",
        "      <td> 0.000000</td>\n",
        "    </tr>\n",
        "  </tbody>\n",
        "</table>\n",
        "<p>88 rows \u00d7 2 columns</p>\n",
        "</div>"
       ],
       "metadata": {},
       "output_type": "pyout",
       "prompt_number": 127,
       "text": [
        "   Subtype  Betweenness Centrality\n",
        "78   H11N2                0.126431\n",
        "69    H1N1                0.108671\n",
        "36    H3N2                0.085608\n",
        "32    H3N8                0.082600\n",
        "56    H6N2                0.075075\n",
        "61   H11N9                0.072588\n",
        "41    H4N9                0.064026\n",
        "10   H10N7                0.062639\n",
        "29    H4N6                0.058831\n",
        "30    H5N2                0.057675\n",
        "63    H6N1                0.053224\n",
        "17    H2N3                0.050972\n",
        "83   H12N5                0.049950\n",
        "65    H1N9                0.048531\n",
        "9    H10N6                0.037393\n",
        "6    H10N3                0.035921\n",
        "12    (N9)                0.035419\n",
        "73    H7N3                0.034764\n",
        "4    H10N1                0.034529\n",
        "74   H11N5                0.029471\n",
        "40    H4N8                0.028397\n",
        "77   H11N3                0.025451\n",
        "82   H12N4                0.023963\n",
        "51    H6N8                0.022544\n",
        "67    H1N3                0.022265\n",
        "19    H1N2                0.020001\n",
        "16    H2N2                0.019081\n",
        "71    H1N5                0.018658\n",
        "25    (N1)                0.016164\n",
        "38    H3N7                0.016108\n",
        "..     ...                     ...\n",
        "85   H14N2                0.000000\n",
        "62    (N7)                0.000000\n",
        "0     (H1)                0.000000\n",
        "60    H6N6                0.000000\n",
        "28    H4N1                0.000000\n",
        "2    H10N8                0.000000\n",
        "3    H10N9                0.000000\n",
        "5    H10N2                0.000000\n",
        "7    H10N4                0.000000\n",
        "13    (N3)                0.000000\n",
        "14   (H12)                0.000000\n",
        "20    H8N4                0.000000\n",
        "21    H8N2                0.000000\n",
        "22    (H3)                0.000000\n",
        "23   (H11)                0.000000\n",
        "24    (H4)                0.000000\n",
        "35    H3N3                0.000000\n",
        "59    H6N5                0.000000\n",
        "37    H3N5                0.000000\n",
        "43    H5N8                0.000000\n",
        "1     (N2)                0.000000\n",
        "45    H4N3                0.000000\n",
        "46    H5N4                0.000000\n",
        "48    H4N7                0.000000\n",
        "49    H4N4                0.000000\n",
        "50    H4N5                0.000000\n",
        "54    H7N8                0.000000\n",
        "55    H7N4                0.000000\n",
        "58    H6N4                0.000000\n",
        "87   H13N9                0.000000\n",
        "\n",
        "[88 rows x 2 columns]"
       ]
      }
     ],
     "prompt_number": 127
    },
    {
     "cell_type": "code",
     "collapsed": false,
     "input": [
      "nx.degree_centrality(subtype_graph)\n",
      "dcentrality = pd.DataFrame(zip(nx.degree_centrality(subtype_graph).keys(), nx.degree_centrality(subtype_graph).values()))\n",
      "dcentrality.columns = ['Subtype', 'Degree Centrality']\n",
      "dcentrality.sort('Degree Centrality', inplace=True, ascending=False)\n",
      "dcentrality\n",
      "\n",
      "soi = 'H3N8' #subtype of interest\n",
      "\n",
      "# set(subtype_graph.successors(soi)).difference(subtype_graph.predecessors(soi))\n",
      "subtype_graph.predecessors(soi)\n",
      "# subtype_graph.successors(soi)"
     ],
     "language": "python",
     "metadata": {},
     "outputs": [
      {
       "metadata": {},
       "output_type": "pyout",
       "prompt_number": 140,
       "text": [
        "['H4N8', 'H3N2', 'H3N7', 'H3N6']"
       ]
      }
     ],
     "prompt_number": 140
    },
    {
     "cell_type": "code",
     "collapsed": false,
     "input": [
      "dcentrality"
     ],
     "language": "python",
     "metadata": {},
     "outputs": [
      {
       "html": [
        "<div style=\"max-height:1000px;max-width:1500px;overflow:auto;\">\n",
        "<table border=\"1\" class=\"dataframe\">\n",
        "  <thead>\n",
        "    <tr style=\"text-align: right;\">\n",
        "      <th></th>\n",
        "      <th>Subtype</th>\n",
        "      <th>Degree Centrality</th>\n",
        "    </tr>\n",
        "  </thead>\n",
        "  <tbody>\n",
        "    <tr>\n",
        "      <th>32</th>\n",
        "      <td>  H3N8</td>\n",
        "      <td> 0.218391</td>\n",
        "    </tr>\n",
        "    <tr>\n",
        "      <th>69</th>\n",
        "      <td>  H1N1</td>\n",
        "      <td> 0.206897</td>\n",
        "    </tr>\n",
        "    <tr>\n",
        "      <th>56</th>\n",
        "      <td>  H6N2</td>\n",
        "      <td> 0.195402</td>\n",
        "    </tr>\n",
        "    <tr>\n",
        "      <th>10</th>\n",
        "      <td> H10N7</td>\n",
        "      <td> 0.195402</td>\n",
        "    </tr>\n",
        "    <tr>\n",
        "      <th>29</th>\n",
        "      <td>  H4N6</td>\n",
        "      <td> 0.183908</td>\n",
        "    </tr>\n",
        "    <tr>\n",
        "      <th>36</th>\n",
        "      <td>  H3N2</td>\n",
        "      <td> 0.183908</td>\n",
        "    </tr>\n",
        "    <tr>\n",
        "      <th>30</th>\n",
        "      <td>  H5N2</td>\n",
        "      <td> 0.160920</td>\n",
        "    </tr>\n",
        "    <tr>\n",
        "      <th>78</th>\n",
        "      <td> H11N2</td>\n",
        "      <td> 0.160920</td>\n",
        "    </tr>\n",
        "    <tr>\n",
        "      <th>61</th>\n",
        "      <td> H11N9</td>\n",
        "      <td> 0.149425</td>\n",
        "    </tr>\n",
        "    <tr>\n",
        "      <th>17</th>\n",
        "      <td>  H2N3</td>\n",
        "      <td> 0.137931</td>\n",
        "    </tr>\n",
        "    <tr>\n",
        "      <th>63</th>\n",
        "      <td>  H6N1</td>\n",
        "      <td> 0.137931</td>\n",
        "    </tr>\n",
        "    <tr>\n",
        "      <th>41</th>\n",
        "      <td>  H4N9</td>\n",
        "      <td> 0.126437</td>\n",
        "    </tr>\n",
        "    <tr>\n",
        "      <th>40</th>\n",
        "      <td>  H4N8</td>\n",
        "      <td> 0.114943</td>\n",
        "    </tr>\n",
        "    <tr>\n",
        "      <th>83</th>\n",
        "      <td> H12N5</td>\n",
        "      <td> 0.114943</td>\n",
        "    </tr>\n",
        "    <tr>\n",
        "      <th>73</th>\n",
        "      <td>  H7N3</td>\n",
        "      <td> 0.114943</td>\n",
        "    </tr>\n",
        "    <tr>\n",
        "      <th>51</th>\n",
        "      <td>  H6N8</td>\n",
        "      <td> 0.103448</td>\n",
        "    </tr>\n",
        "    <tr>\n",
        "      <th>65</th>\n",
        "      <td>  H1N9</td>\n",
        "      <td> 0.091954</td>\n",
        "    </tr>\n",
        "    <tr>\n",
        "      <th>44</th>\n",
        "      <td>  H4N2</td>\n",
        "      <td> 0.091954</td>\n",
        "    </tr>\n",
        "    <tr>\n",
        "      <th>4 </th>\n",
        "      <td> H10N1</td>\n",
        "      <td> 0.091954</td>\n",
        "    </tr>\n",
        "    <tr>\n",
        "      <th>67</th>\n",
        "      <td>  H1N3</td>\n",
        "      <td> 0.080460</td>\n",
        "    </tr>\n",
        "    <tr>\n",
        "      <th>12</th>\n",
        "      <td>  (N9)</td>\n",
        "      <td> 0.080460</td>\n",
        "    </tr>\n",
        "    <tr>\n",
        "      <th>39</th>\n",
        "      <td>  H3N6</td>\n",
        "      <td> 0.068966</td>\n",
        "    </tr>\n",
        "    <tr>\n",
        "      <th>64</th>\n",
        "      <td>  H7N7</td>\n",
        "      <td> 0.068966</td>\n",
        "    </tr>\n",
        "    <tr>\n",
        "      <th>6 </th>\n",
        "      <td> H10N3</td>\n",
        "      <td> 0.068966</td>\n",
        "    </tr>\n",
        "    <tr>\n",
        "      <th>16</th>\n",
        "      <td>  H2N2</td>\n",
        "      <td> 0.068966</td>\n",
        "    </tr>\n",
        "    <tr>\n",
        "      <th>25</th>\n",
        "      <td>  (N1)</td>\n",
        "      <td> 0.068966</td>\n",
        "    </tr>\n",
        "    <tr>\n",
        "      <th>82</th>\n",
        "      <td> H12N4</td>\n",
        "      <td> 0.068966</td>\n",
        "    </tr>\n",
        "    <tr>\n",
        "      <th>72</th>\n",
        "      <td>  H9N2</td>\n",
        "      <td> 0.068966</td>\n",
        "    </tr>\n",
        "    <tr>\n",
        "      <th>19</th>\n",
        "      <td>  H1N2</td>\n",
        "      <td> 0.068966</td>\n",
        "    </tr>\n",
        "    <tr>\n",
        "      <th>38</th>\n",
        "      <td>  H3N7</td>\n",
        "      <td> 0.068966</td>\n",
        "    </tr>\n",
        "    <tr>\n",
        "      <th>...</th>\n",
        "      <td>...</td>\n",
        "      <td>...</td>\n",
        "    </tr>\n",
        "    <tr>\n",
        "      <th>79</th>\n",
        "      <td> H12N2</td>\n",
        "      <td> 0.022989</td>\n",
        "    </tr>\n",
        "    <tr>\n",
        "      <th>85</th>\n",
        "      <td> H14N2</td>\n",
        "      <td> 0.022989</td>\n",
        "    </tr>\n",
        "    <tr>\n",
        "      <th>81</th>\n",
        "      <td> H11N8</td>\n",
        "      <td> 0.022989</td>\n",
        "    </tr>\n",
        "    <tr>\n",
        "      <th>0 </th>\n",
        "      <td>  (H1)</td>\n",
        "      <td> 0.022989</td>\n",
        "    </tr>\n",
        "    <tr>\n",
        "      <th>60</th>\n",
        "      <td>  H6N6</td>\n",
        "      <td> 0.022989</td>\n",
        "    </tr>\n",
        "    <tr>\n",
        "      <th>43</th>\n",
        "      <td>  H5N8</td>\n",
        "      <td> 0.022989</td>\n",
        "    </tr>\n",
        "    <tr>\n",
        "      <th>2 </th>\n",
        "      <td> H10N8</td>\n",
        "      <td> 0.022989</td>\n",
        "    </tr>\n",
        "    <tr>\n",
        "      <th>3 </th>\n",
        "      <td> H10N9</td>\n",
        "      <td> 0.022989</td>\n",
        "    </tr>\n",
        "    <tr>\n",
        "      <th>5 </th>\n",
        "      <td> H10N2</td>\n",
        "      <td> 0.022989</td>\n",
        "    </tr>\n",
        "    <tr>\n",
        "      <th>7 </th>\n",
        "      <td> H10N4</td>\n",
        "      <td> 0.022989</td>\n",
        "    </tr>\n",
        "    <tr>\n",
        "      <th>13</th>\n",
        "      <td>  (N3)</td>\n",
        "      <td> 0.022989</td>\n",
        "    </tr>\n",
        "    <tr>\n",
        "      <th>21</th>\n",
        "      <td>  H8N2</td>\n",
        "      <td> 0.022989</td>\n",
        "    </tr>\n",
        "    <tr>\n",
        "      <th>23</th>\n",
        "      <td> (H11)</td>\n",
        "      <td> 0.022989</td>\n",
        "    </tr>\n",
        "    <tr>\n",
        "      <th>24</th>\n",
        "      <td>  (H4)</td>\n",
        "      <td> 0.022989</td>\n",
        "    </tr>\n",
        "    <tr>\n",
        "      <th>35</th>\n",
        "      <td>  H3N3</td>\n",
        "      <td> 0.022989</td>\n",
        "    </tr>\n",
        "    <tr>\n",
        "      <th>59</th>\n",
        "      <td>  H6N5</td>\n",
        "      <td> 0.022989</td>\n",
        "    </tr>\n",
        "    <tr>\n",
        "      <th>37</th>\n",
        "      <td>  H3N5</td>\n",
        "      <td> 0.022989</td>\n",
        "    </tr>\n",
        "    <tr>\n",
        "      <th>45</th>\n",
        "      <td>  H4N3</td>\n",
        "      <td> 0.022989</td>\n",
        "    </tr>\n",
        "    <tr>\n",
        "      <th>47</th>\n",
        "      <td>  H5N3</td>\n",
        "      <td> 0.022989</td>\n",
        "    </tr>\n",
        "    <tr>\n",
        "      <th>49</th>\n",
        "      <td>  H4N4</td>\n",
        "      <td> 0.022989</td>\n",
        "    </tr>\n",
        "    <tr>\n",
        "      <th>50</th>\n",
        "      <td>  H4N5</td>\n",
        "      <td> 0.022989</td>\n",
        "    </tr>\n",
        "    <tr>\n",
        "      <th>55</th>\n",
        "      <td>  H7N4</td>\n",
        "      <td> 0.022989</td>\n",
        "    </tr>\n",
        "    <tr>\n",
        "      <th>58</th>\n",
        "      <td>  H6N4</td>\n",
        "      <td> 0.022989</td>\n",
        "    </tr>\n",
        "    <tr>\n",
        "      <th>1 </th>\n",
        "      <td>  (N2)</td>\n",
        "      <td> 0.011494</td>\n",
        "    </tr>\n",
        "    <tr>\n",
        "      <th>46</th>\n",
        "      <td>  H5N4</td>\n",
        "      <td> 0.011494</td>\n",
        "    </tr>\n",
        "    <tr>\n",
        "      <th>70</th>\n",
        "      <td>  H1N7</td>\n",
        "      <td> 0.011494</td>\n",
        "    </tr>\n",
        "    <tr>\n",
        "      <th>48</th>\n",
        "      <td>  H4N7</td>\n",
        "      <td> 0.011494</td>\n",
        "    </tr>\n",
        "    <tr>\n",
        "      <th>84</th>\n",
        "      <td> H14N6</td>\n",
        "      <td> 0.011494</td>\n",
        "    </tr>\n",
        "    <tr>\n",
        "      <th>87</th>\n",
        "      <td> H13N9</td>\n",
        "      <td> 0.011494</td>\n",
        "    </tr>\n",
        "    <tr>\n",
        "      <th>14</th>\n",
        "      <td> (H12)</td>\n",
        "      <td> 0.000000</td>\n",
        "    </tr>\n",
        "  </tbody>\n",
        "</table>\n",
        "<p>88 rows \u00d7 2 columns</p>\n",
        "</div>"
       ],
       "metadata": {},
       "output_type": "pyout",
       "prompt_number": 129,
       "text": [
        "   Subtype  Degree Centrality\n",
        "32    H3N8           0.218391\n",
        "69    H1N1           0.206897\n",
        "56    H6N2           0.195402\n",
        "10   H10N7           0.195402\n",
        "29    H4N6           0.183908\n",
        "36    H3N2           0.183908\n",
        "30    H5N2           0.160920\n",
        "78   H11N2           0.160920\n",
        "61   H11N9           0.149425\n",
        "17    H2N3           0.137931\n",
        "63    H6N1           0.137931\n",
        "41    H4N9           0.126437\n",
        "40    H4N8           0.114943\n",
        "83   H12N5           0.114943\n",
        "73    H7N3           0.114943\n",
        "51    H6N8           0.103448\n",
        "65    H1N9           0.091954\n",
        "44    H4N2           0.091954\n",
        "4    H10N1           0.091954\n",
        "67    H1N3           0.080460\n",
        "12    (N9)           0.080460\n",
        "39    H3N6           0.068966\n",
        "64    H7N7           0.068966\n",
        "6    H10N3           0.068966\n",
        "16    H2N2           0.068966\n",
        "25    (N1)           0.068966\n",
        "82   H12N4           0.068966\n",
        "72    H9N2           0.068966\n",
        "19    H1N2           0.068966\n",
        "38    H3N7           0.068966\n",
        "..     ...                ...\n",
        "79   H12N2           0.022989\n",
        "85   H14N2           0.022989\n",
        "81   H11N8           0.022989\n",
        "0     (H1)           0.022989\n",
        "60    H6N6           0.022989\n",
        "43    H5N8           0.022989\n",
        "2    H10N8           0.022989\n",
        "3    H10N9           0.022989\n",
        "5    H10N2           0.022989\n",
        "7    H10N4           0.022989\n",
        "13    (N3)           0.022989\n",
        "21    H8N2           0.022989\n",
        "23   (H11)           0.022989\n",
        "24    (H4)           0.022989\n",
        "35    H3N3           0.022989\n",
        "59    H6N5           0.022989\n",
        "37    H3N5           0.022989\n",
        "45    H4N3           0.022989\n",
        "47    H5N3           0.022989\n",
        "49    H4N4           0.022989\n",
        "50    H4N5           0.022989\n",
        "55    H7N4           0.022989\n",
        "58    H6N4           0.022989\n",
        "1     (N2)           0.011494\n",
        "46    H5N4           0.011494\n",
        "70    H1N7           0.011494\n",
        "48    H4N7           0.011494\n",
        "84   H14N6           0.011494\n",
        "87   H13N9           0.011494\n",
        "14   (H12)           0.000000\n",
        "\n",
        "[88 rows x 2 columns]"
       ]
      }
     ],
     "prompt_number": 129
    },
    {
     "cell_type": "code",
     "collapsed": false,
     "input": [
      "masterlist"
     ],
     "language": "python",
     "metadata": {},
     "outputs": [
      {
       "html": [
        "<div style=\"max-height:1000px;max-width:1500px;overflow:auto;\">\n",
        "<table border=\"1\" class=\"dataframe\">\n",
        "  <thead>\n",
        "    <tr style=\"text-align: right;\">\n",
        "      <th></th>\n",
        "      <th>Collection Date</th>\n",
        "      <th>Complete Genome</th>\n",
        "      <th>Country</th>\n",
        "      <th>Host Species</th>\n",
        "      <th>Sequence Accession</th>\n",
        "      <th>Sequence Accession2</th>\n",
        "      <th>Sequence Accession3</th>\n",
        "      <th>Sequence Accession4</th>\n",
        "      <th>Sequence Accession5</th>\n",
        "      <th>Sequence Accession6</th>\n",
        "      <th>Sequence Accession7</th>\n",
        "      <th>Sequence Accession8</th>\n",
        "      <th>State/Province</th>\n",
        "      <th>Strain Name</th>\n",
        "      <th>Subtype</th>\n",
        "    </tr>\n",
        "  </thead>\n",
        "  <tbody>\n",
        "    <tr>\n",
        "      <th>0   </th>\n",
        "      <td>2008-10-26</td>\n",
        "      <td> Yes</td>\n",
        "      <td>    USA</td>\n",
        "      <td> IRD:American Black Duck/Avian</td>\n",
        "      <td> CY079459</td>\n",
        "      <td> CY079458</td>\n",
        "      <td> CY079457</td>\n",
        "      <td> CY079452</td>\n",
        "      <td> CY079455</td>\n",
        "      <td> CY079454</td>\n",
        "      <td> CY079453</td>\n",
        "      <td> CY079456</td>\n",
        "      <td> Illinois</td>\n",
        "      <td>      A/American black duck/Illinois/08OS2688/2008</td>\n",
        "      <td>  H5N2</td>\n",
        "    </tr>\n",
        "    <tr>\n",
        "      <th>1   </th>\n",
        "      <td>2009-11-29</td>\n",
        "      <td> Yes</td>\n",
        "      <td>    USA</td>\n",
        "      <td> IRD:American Black Duck/Avian</td>\n",
        "      <td> CY097541</td>\n",
        "      <td> CY097540</td>\n",
        "      <td> CY097539</td>\n",
        "      <td> CY097534</td>\n",
        "      <td> CY097537</td>\n",
        "      <td> CY097536</td>\n",
        "      <td> CY097535</td>\n",
        "      <td> CY097538</td>\n",
        "      <td> Illinois</td>\n",
        "      <td>          A/American black duck/Illinois/4119/2009</td>\n",
        "      <td>  H8N4</td>\n",
        "    </tr>\n",
        "    <tr>\n",
        "      <th>2   </th>\n",
        "      <td>2010-08-08</td>\n",
        "      <td> Yes</td>\n",
        "      <td> Canada</td>\n",
        "      <td>                     IRD:Avian</td>\n",
        "      <td> CY138647</td>\n",
        "      <td> CY138646</td>\n",
        "      <td> CY138645</td>\n",
        "      <td> CY138640</td>\n",
        "      <td> CY138643</td>\n",
        "      <td> CY138642</td>\n",
        "      <td> CY138641</td>\n",
        "      <td> CY138644</td>\n",
        "      <td>    -N/A-</td>\n",
        "      <td>    A/American black duck/New Brunswick/00321/2010</td>\n",
        "      <td>  H1N1</td>\n",
        "    </tr>\n",
        "    <tr>\n",
        "      <th>3   </th>\n",
        "      <td>2010-08-08</td>\n",
        "      <td> Yes</td>\n",
        "      <td> Canada</td>\n",
        "      <td>                     IRD:Avian</td>\n",
        "      <td> CY138655</td>\n",
        "      <td> CY138654</td>\n",
        "      <td> CY138653</td>\n",
        "      <td> CY138648</td>\n",
        "      <td> CY138651</td>\n",
        "      <td> CY138650</td>\n",
        "      <td> CY138649</td>\n",
        "      <td> CY138652</td>\n",
        "      <td>    -N/A-</td>\n",
        "      <td>    A/American black duck/New Brunswick/00322/2010</td>\n",
        "      <td>  H3N8</td>\n",
        "    </tr>\n",
        "    <tr>\n",
        "      <th>4   </th>\n",
        "      <td>2010-08-08</td>\n",
        "      <td> Yes</td>\n",
        "      <td> Canada</td>\n",
        "      <td>                     IRD:Avian</td>\n",
        "      <td> CY138671</td>\n",
        "      <td> CY138670</td>\n",
        "      <td> CY138669</td>\n",
        "      <td> CY138664</td>\n",
        "      <td> CY138667</td>\n",
        "      <td> CY138666</td>\n",
        "      <td> CY138665</td>\n",
        "      <td> CY138668</td>\n",
        "      <td>    -N/A-</td>\n",
        "      <td>    A/American black duck/New Brunswick/00326/2010</td>\n",
        "      <td>  H1N1</td>\n",
        "    </tr>\n",
        "    <tr>\n",
        "      <th>5   </th>\n",
        "      <td>2010-08-08</td>\n",
        "      <td> Yes</td>\n",
        "      <td> Canada</td>\n",
        "      <td>                     IRD:Avian</td>\n",
        "      <td> CY138679</td>\n",
        "      <td> CY138678</td>\n",
        "      <td> CY138677</td>\n",
        "      <td> CY138672</td>\n",
        "      <td> CY138675</td>\n",
        "      <td> CY138674</td>\n",
        "      <td> CY138673</td>\n",
        "      <td> CY138676</td>\n",
        "      <td>    -N/A-</td>\n",
        "      <td>    A/American black duck/New Brunswick/00328/2010</td>\n",
        "      <td>  H1N1</td>\n",
        "    </tr>\n",
        "    <tr>\n",
        "      <th>6   </th>\n",
        "      <td>2010-08-08</td>\n",
        "      <td> Yes</td>\n",
        "      <td> Canada</td>\n",
        "      <td>                     IRD:Avian</td>\n",
        "      <td> CY138776</td>\n",
        "      <td> CY138775</td>\n",
        "      <td> CY138774</td>\n",
        "      <td> CY138769</td>\n",
        "      <td> CY138772</td>\n",
        "      <td> CY138771</td>\n",
        "      <td> CY138770</td>\n",
        "      <td> CY138773</td>\n",
        "      <td>    -N/A-</td>\n",
        "      <td>    A/American black duck/New Brunswick/00344/2010</td>\n",
        "      <td>  H7N7</td>\n",
        "    </tr>\n",
        "    <tr>\n",
        "      <th>7   </th>\n",
        "      <td>2010-08-09</td>\n",
        "      <td> Yes</td>\n",
        "      <td> Canada</td>\n",
        "      <td>                     IRD:Avian</td>\n",
        "      <td> CY138824</td>\n",
        "      <td> CY138823</td>\n",
        "      <td> CY138822</td>\n",
        "      <td> CY138817</td>\n",
        "      <td> CY138820</td>\n",
        "      <td> CY138819</td>\n",
        "      <td> CY138818</td>\n",
        "      <td> CY138821</td>\n",
        "      <td>    -N/A-</td>\n",
        "      <td>    A/American black duck/New Brunswick/00385/2010</td>\n",
        "      <td>  H1N1</td>\n",
        "    </tr>\n",
        "    <tr>\n",
        "      <th>8   </th>\n",
        "      <td>2010-08-10</td>\n",
        "      <td> Yes</td>\n",
        "      <td> Canada</td>\n",
        "      <td>                     IRD:Avian</td>\n",
        "      <td> CY138849</td>\n",
        "      <td> CY138848</td>\n",
        "      <td> CY138847</td>\n",
        "      <td> CY138842</td>\n",
        "      <td> CY138845</td>\n",
        "      <td> CY138844</td>\n",
        "      <td> CY138843</td>\n",
        "      <td> CY138846</td>\n",
        "      <td>    -N/A-</td>\n",
        "      <td>    A/American black duck/New Brunswick/00410/2010</td>\n",
        "      <td>  H1N1</td>\n",
        "    </tr>\n",
        "    <tr>\n",
        "      <th>9   </th>\n",
        "      <td>2010-08-10</td>\n",
        "      <td> Yes</td>\n",
        "      <td> Canada</td>\n",
        "      <td>                     IRD:Avian</td>\n",
        "      <td> CY138857</td>\n",
        "      <td> CY138856</td>\n",
        "      <td> CY138855</td>\n",
        "      <td> CY138850</td>\n",
        "      <td> CY138853</td>\n",
        "      <td> CY138852</td>\n",
        "      <td> CY138851</td>\n",
        "      <td> CY138854</td>\n",
        "      <td>    -N/A-</td>\n",
        "      <td>    A/American black duck/New Brunswick/00424/2010</td>\n",
        "      <td>  H3N8</td>\n",
        "    </tr>\n",
        "    <tr>\n",
        "      <th>10  </th>\n",
        "      <td>2010-08-10</td>\n",
        "      <td> Yes</td>\n",
        "      <td> Canada</td>\n",
        "      <td>                     IRD:Avian</td>\n",
        "      <td> CY138865</td>\n",
        "      <td> CY138864</td>\n",
        "      <td> CY138863</td>\n",
        "      <td> CY138858</td>\n",
        "      <td> CY138861</td>\n",
        "      <td> CY138860</td>\n",
        "      <td> CY138859</td>\n",
        "      <td> CY138862</td>\n",
        "      <td>    -N/A-</td>\n",
        "      <td>    A/American black duck/New Brunswick/00425/2010</td>\n",
        "      <td>  H3N8</td>\n",
        "    </tr>\n",
        "    <tr>\n",
        "      <th>11  </th>\n",
        "      <td>2010-08-11</td>\n",
        "      <td> Yes</td>\n",
        "      <td> Canada</td>\n",
        "      <td>                     IRD:Avian</td>\n",
        "      <td> CY138873</td>\n",
        "      <td> CY138872</td>\n",
        "      <td> CY138871</td>\n",
        "      <td> CY138866</td>\n",
        "      <td> CY138869</td>\n",
        "      <td> CY138868</td>\n",
        "      <td> CY138867</td>\n",
        "      <td> CY138870</td>\n",
        "      <td>    -N/A-</td>\n",
        "      <td>    A/American black duck/New Brunswick/00454/2010</td>\n",
        "      <td>  H3N8</td>\n",
        "    </tr>\n",
        "    <tr>\n",
        "      <th>12  </th>\n",
        "      <td>2010-08-12</td>\n",
        "      <td> Yes</td>\n",
        "      <td> Canada</td>\n",
        "      <td>                     IRD:Avian</td>\n",
        "      <td> CY138052</td>\n",
        "      <td> CY138051</td>\n",
        "      <td> CY138050</td>\n",
        "      <td> CY138045</td>\n",
        "      <td> CY138048</td>\n",
        "      <td> CY138047</td>\n",
        "      <td> CY138046</td>\n",
        "      <td> CY138049</td>\n",
        "      <td>    -N/A-</td>\n",
        "      <td>    A/American black duck/New Brunswick/00464/2010</td>\n",
        "      <td>  H4N6</td>\n",
        "    </tr>\n",
        "    <tr>\n",
        "      <th>13  </th>\n",
        "      <td>2010-08-12</td>\n",
        "      <td> Yes</td>\n",
        "      <td> Canada</td>\n",
        "      <td>                     IRD:Avian</td>\n",
        "      <td> CY138881</td>\n",
        "      <td> CY138880</td>\n",
        "      <td> CY138879</td>\n",
        "      <td> CY138874</td>\n",
        "      <td> CY138877</td>\n",
        "      <td> CY138876</td>\n",
        "      <td> CY138875</td>\n",
        "      <td> CY138878</td>\n",
        "      <td>    -N/A-</td>\n",
        "      <td>    A/American black duck/New Brunswick/00467/2010</td>\n",
        "      <td>  H3N8</td>\n",
        "    </tr>\n",
        "    <tr>\n",
        "      <th>14  </th>\n",
        "      <td>2010-08-12</td>\n",
        "      <td> Yes</td>\n",
        "      <td> Canada</td>\n",
        "      <td>                     IRD:Avian</td>\n",
        "      <td> CY138889</td>\n",
        "      <td> CY138888</td>\n",
        "      <td> CY138887</td>\n",
        "      <td> CY138882</td>\n",
        "      <td> CY138885</td>\n",
        "      <td> CY138884</td>\n",
        "      <td> CY138883</td>\n",
        "      <td> CY138886</td>\n",
        "      <td>    -N/A-</td>\n",
        "      <td>    A/American black duck/New Brunswick/00468/2010</td>\n",
        "      <td>  H4N6</td>\n",
        "    </tr>\n",
        "    <tr>\n",
        "      <th>15  </th>\n",
        "      <td>2010-08-12</td>\n",
        "      <td> Yes</td>\n",
        "      <td> Canada</td>\n",
        "      <td>                     IRD:Avian</td>\n",
        "      <td> CY138897</td>\n",
        "      <td> CY138896</td>\n",
        "      <td> CY138895</td>\n",
        "      <td> CY138890</td>\n",
        "      <td> CY138893</td>\n",
        "      <td> CY138892</td>\n",
        "      <td> CY138891</td>\n",
        "      <td> CY138894</td>\n",
        "      <td>    -N/A-</td>\n",
        "      <td>    A/American black duck/New Brunswick/00469/2010</td>\n",
        "      <td>  H4N6</td>\n",
        "    </tr>\n",
        "    <tr>\n",
        "      <th>16  </th>\n",
        "      <td>2010-08-12</td>\n",
        "      <td> Yes</td>\n",
        "      <td> Canada</td>\n",
        "      <td>                     IRD:Avian</td>\n",
        "      <td> CY138905</td>\n",
        "      <td> CY138904</td>\n",
        "      <td> CY138903</td>\n",
        "      <td> CY138898</td>\n",
        "      <td> CY138901</td>\n",
        "      <td> CY138900</td>\n",
        "      <td> CY138899</td>\n",
        "      <td> CY138902</td>\n",
        "      <td>    -N/A-</td>\n",
        "      <td>    A/American black duck/New Brunswick/00470/2010</td>\n",
        "      <td>  H4N6</td>\n",
        "    </tr>\n",
        "    <tr>\n",
        "      <th>17  </th>\n",
        "      <td>2010-08-12</td>\n",
        "      <td> Yes</td>\n",
        "      <td> Canada</td>\n",
        "      <td>                     IRD:Avian</td>\n",
        "      <td> CY138913</td>\n",
        "      <td> CY138912</td>\n",
        "      <td> CY138911</td>\n",
        "      <td> CY138906</td>\n",
        "      <td> CY138909</td>\n",
        "      <td> CY138908</td>\n",
        "      <td> CY138907</td>\n",
        "      <td> CY138910</td>\n",
        "      <td>    -N/A-</td>\n",
        "      <td>    A/American black duck/New Brunswick/00471/2010</td>\n",
        "      <td> H10N6</td>\n",
        "    </tr>\n",
        "    <tr>\n",
        "      <th>18  </th>\n",
        "      <td>2010-08-12</td>\n",
        "      <td> Yes</td>\n",
        "      <td> Canada</td>\n",
        "      <td>                     IRD:Avian</td>\n",
        "      <td> CY138921</td>\n",
        "      <td> CY138920</td>\n",
        "      <td> CY138919</td>\n",
        "      <td> CY138914</td>\n",
        "      <td> CY138917</td>\n",
        "      <td> CY138916</td>\n",
        "      <td> CY138915</td>\n",
        "      <td> CY138918</td>\n",
        "      <td>    -N/A-</td>\n",
        "      <td>    A/American black duck/New Brunswick/00472/2010</td>\n",
        "      <td>  H4N6</td>\n",
        "    </tr>\n",
        "    <tr>\n",
        "      <th>19  </th>\n",
        "      <td>2010-08-12</td>\n",
        "      <td> Yes</td>\n",
        "      <td> Canada</td>\n",
        "      <td>                     IRD:Avian</td>\n",
        "      <td> CY138060</td>\n",
        "      <td> CY138059</td>\n",
        "      <td> CY138058</td>\n",
        "      <td> CY138053</td>\n",
        "      <td> CY138056</td>\n",
        "      <td> CY138055</td>\n",
        "      <td> CY138054</td>\n",
        "      <td> CY138057</td>\n",
        "      <td>    -N/A-</td>\n",
        "      <td>    A/American black duck/New Brunswick/00473/2010</td>\n",
        "      <td>  H4N6</td>\n",
        "    </tr>\n",
        "    <tr>\n",
        "      <th>20  </th>\n",
        "      <td>2010-08-12</td>\n",
        "      <td> Yes</td>\n",
        "      <td> Canada</td>\n",
        "      <td>                     IRD:Avian</td>\n",
        "      <td> CY138940</td>\n",
        "      <td> CY138939</td>\n",
        "      <td> CY138938</td>\n",
        "      <td> CY138933</td>\n",
        "      <td> CY138936</td>\n",
        "      <td> CY138935</td>\n",
        "      <td> CY138934</td>\n",
        "      <td> CY138937</td>\n",
        "      <td>    -N/A-</td>\n",
        "      <td>    A/American black duck/New Brunswick/00477/2010</td>\n",
        "      <td> H10N6</td>\n",
        "    </tr>\n",
        "    <tr>\n",
        "      <th>21  </th>\n",
        "      <td>2010-08-12</td>\n",
        "      <td> Yes</td>\n",
        "      <td> Canada</td>\n",
        "      <td>                     IRD:Avian</td>\n",
        "      <td> CY138948</td>\n",
        "      <td> CY138947</td>\n",
        "      <td> CY138946</td>\n",
        "      <td> CY138941</td>\n",
        "      <td> CY138944</td>\n",
        "      <td> CY138943</td>\n",
        "      <td> CY138942</td>\n",
        "      <td> CY138945</td>\n",
        "      <td>    -N/A-</td>\n",
        "      <td>    A/American black duck/New Brunswick/00478/2010</td>\n",
        "      <td>  H4N6</td>\n",
        "    </tr>\n",
        "    <tr>\n",
        "      <th>22  </th>\n",
        "      <td>2010-08-12</td>\n",
        "      <td> Yes</td>\n",
        "      <td> Canada</td>\n",
        "      <td>                     IRD:Avian</td>\n",
        "      <td> CY138956</td>\n",
        "      <td> CY138955</td>\n",
        "      <td> CY138954</td>\n",
        "      <td> CY138949</td>\n",
        "      <td> CY138952</td>\n",
        "      <td> CY138951</td>\n",
        "      <td> CY138950</td>\n",
        "      <td> CY138953</td>\n",
        "      <td>    -N/A-</td>\n",
        "      <td>    A/American black duck/New Brunswick/00481/2010</td>\n",
        "      <td>  H4N6</td>\n",
        "    </tr>\n",
        "    <tr>\n",
        "      <th>23  </th>\n",
        "      <td>2010-08-12</td>\n",
        "      <td> Yes</td>\n",
        "      <td> Canada</td>\n",
        "      <td>                     IRD:Avian</td>\n",
        "      <td> CY138964</td>\n",
        "      <td> CY138963</td>\n",
        "      <td> CY138962</td>\n",
        "      <td> CY138957</td>\n",
        "      <td> CY138960</td>\n",
        "      <td> CY138959</td>\n",
        "      <td> CY138958</td>\n",
        "      <td> CY138961</td>\n",
        "      <td>    -N/A-</td>\n",
        "      <td>    A/American black duck/New Brunswick/00484/2010</td>\n",
        "      <td>  H3N8</td>\n",
        "    </tr>\n",
        "    <tr>\n",
        "      <th>24  </th>\n",
        "      <td>2010-08-12</td>\n",
        "      <td> Yes</td>\n",
        "      <td> Canada</td>\n",
        "      <td>                     IRD:Avian</td>\n",
        "      <td> CY138972</td>\n",
        "      <td> CY138971</td>\n",
        "      <td> CY138970</td>\n",
        "      <td> CY138965</td>\n",
        "      <td> CY138968</td>\n",
        "      <td> CY138967</td>\n",
        "      <td> CY138966</td>\n",
        "      <td> CY138969</td>\n",
        "      <td>    -N/A-</td>\n",
        "      <td>    A/American black duck/New Brunswick/00485/2010</td>\n",
        "      <td>  H3N8</td>\n",
        "    </tr>\n",
        "    <tr>\n",
        "      <th>25  </th>\n",
        "      <td>2010-08-12</td>\n",
        "      <td> Yes</td>\n",
        "      <td> Canada</td>\n",
        "      <td>                     IRD:Avian</td>\n",
        "      <td> CY138991</td>\n",
        "      <td> CY138990</td>\n",
        "      <td> CY138989</td>\n",
        "      <td> CY138984</td>\n",
        "      <td> CY138987</td>\n",
        "      <td> CY138986</td>\n",
        "      <td> CY138985</td>\n",
        "      <td> CY138988</td>\n",
        "      <td>    -N/A-</td>\n",
        "      <td>    A/American black duck/New Brunswick/00487/2010</td>\n",
        "      <td>  H4N8</td>\n",
        "    </tr>\n",
        "    <tr>\n",
        "      <th>26  </th>\n",
        "      <td>2010-08-12</td>\n",
        "      <td> Yes</td>\n",
        "      <td> Canada</td>\n",
        "      <td>                     IRD:Avian</td>\n",
        "      <td> CY139039</td>\n",
        "      <td> CY139038</td>\n",
        "      <td> CY139037</td>\n",
        "      <td> CY139032</td>\n",
        "      <td> CY139035</td>\n",
        "      <td> CY139034</td>\n",
        "      <td> CY139033</td>\n",
        "      <td> CY139036</td>\n",
        "      <td>    -N/A-</td>\n",
        "      <td>    A/American black duck/New Brunswick/00499/2010</td>\n",
        "      <td>  H4N6</td>\n",
        "    </tr>\n",
        "    <tr>\n",
        "      <th>27  </th>\n",
        "      <td>2010-08-12</td>\n",
        "      <td> Yes</td>\n",
        "      <td> Canada</td>\n",
        "      <td>                     IRD:Avian</td>\n",
        "      <td> CY139047</td>\n",
        "      <td> CY139046</td>\n",
        "      <td> CY139045</td>\n",
        "      <td> CY139040</td>\n",
        "      <td> CY139043</td>\n",
        "      <td> CY139042</td>\n",
        "      <td> CY139041</td>\n",
        "      <td> CY139044</td>\n",
        "      <td>    -N/A-</td>\n",
        "      <td>    A/American black duck/New Brunswick/00500/2010</td>\n",
        "      <td>  H3N8</td>\n",
        "    </tr>\n",
        "    <tr>\n",
        "      <th>28  </th>\n",
        "      <td>2010-08-12</td>\n",
        "      <td> Yes</td>\n",
        "      <td> Canada</td>\n",
        "      <td>                     IRD:Avian</td>\n",
        "      <td> CY139058</td>\n",
        "      <td> CY139057</td>\n",
        "      <td> CY139055</td>\n",
        "      <td> CY139048</td>\n",
        "      <td> CY139052</td>\n",
        "      <td> CY139051</td>\n",
        "      <td> CY139049</td>\n",
        "      <td> CY139054</td>\n",
        "      <td>    -N/A-</td>\n",
        "      <td>    A/American black duck/New Brunswick/00502/2010</td>\n",
        "      <td>  (H3)</td>\n",
        "    </tr>\n",
        "    <tr>\n",
        "      <th>29  </th>\n",
        "      <td>2010-08-12</td>\n",
        "      <td> Yes</td>\n",
        "      <td> Canada</td>\n",
        "      <td> IRD:American Black Duck/Avian</td>\n",
        "      <td> CY139066</td>\n",
        "      <td> CY139065</td>\n",
        "      <td> CY139064</td>\n",
        "      <td> CY139059</td>\n",
        "      <td> CY139062</td>\n",
        "      <td> CY139061</td>\n",
        "      <td> CY139060</td>\n",
        "      <td> CY139063</td>\n",
        "      <td>    -N/A-</td>\n",
        "      <td>    A/American black duck/New Brunswick/00520/2010</td>\n",
        "      <td>  H4N6</td>\n",
        "    </tr>\n",
        "    <tr>\n",
        "      <th>...</th>\n",
        "      <td>...</td>\n",
        "      <td>...</td>\n",
        "      <td>...</td>\n",
        "      <td>...</td>\n",
        "      <td>...</td>\n",
        "      <td>...</td>\n",
        "      <td>...</td>\n",
        "      <td>...</td>\n",
        "      <td>...</td>\n",
        "      <td>...</td>\n",
        "      <td>...</td>\n",
        "      <td>...</td>\n",
        "      <td>...</td>\n",
        "      <td>...</td>\n",
        "      <td>...</td>\n",
        "    </tr>\n",
        "    <tr>\n",
        "      <th>1757</th>\n",
        "      <td>2009-08-09</td>\n",
        "      <td> NaN</td>\n",
        "      <td>    NaN</td>\n",
        "      <td>                          NOPI</td>\n",
        "      <td> CY136138</td>\n",
        "      <td> CY136137</td>\n",
        "      <td> CY136136</td>\n",
        "      <td> CY136131</td>\n",
        "      <td> CY136134</td>\n",
        "      <td> CY136133</td>\n",
        "      <td> CY136132</td>\n",
        "      <td> CY136135</td>\n",
        "      <td>      NaN</td>\n",
        "      <td> A/northern pintail/Interior Alaska/9BM8109R0/2009</td>\n",
        "      <td>  H8N4</td>\n",
        "    </tr>\n",
        "    <tr>\n",
        "      <th>1758</th>\n",
        "      <td>2009-08-09</td>\n",
        "      <td> NaN</td>\n",
        "      <td>    NaN</td>\n",
        "      <td>                          NOPI</td>\n",
        "      <td> CY142297</td>\n",
        "      <td> CY142296</td>\n",
        "      <td> CY142295</td>\n",
        "      <td> CY142290</td>\n",
        "      <td> CY142293</td>\n",
        "      <td> CY142292</td>\n",
        "      <td> CY142291</td>\n",
        "      <td> CY142294</td>\n",
        "      <td>      NaN</td>\n",
        "      <td> A/northern pintail/Interior Alaska/9BM8237R0/2009</td>\n",
        "      <td>  H8N4</td>\n",
        "    </tr>\n",
        "    <tr>\n",
        "      <th>1759</th>\n",
        "      <td>2009-08-09</td>\n",
        "      <td> NaN</td>\n",
        "      <td>    NaN</td>\n",
        "      <td>                          NOPI</td>\n",
        "      <td> CY136146</td>\n",
        "      <td> CY136145</td>\n",
        "      <td> CY136144</td>\n",
        "      <td> CY136139</td>\n",
        "      <td> CY136142</td>\n",
        "      <td> CY136141</td>\n",
        "      <td> CY136140</td>\n",
        "      <td> CY136143</td>\n",
        "      <td>      NaN</td>\n",
        "      <td> A/northern pintail/Interior Alaska/9BM8273R0/2009</td>\n",
        "      <td> H10N4</td>\n",
        "    </tr>\n",
        "    <tr>\n",
        "      <th>1760</th>\n",
        "      <td>2009-08-09</td>\n",
        "      <td> NaN</td>\n",
        "      <td>    NaN</td>\n",
        "      <td>                          MALL</td>\n",
        "      <td> CY142305</td>\n",
        "      <td> CY142304</td>\n",
        "      <td> CY142303</td>\n",
        "      <td> CY142298</td>\n",
        "      <td> CY142301</td>\n",
        "      <td> CY142300</td>\n",
        "      <td> CY142299</td>\n",
        "      <td> CY142302</td>\n",
        "      <td>      NaN</td>\n",
        "      <td>          A/mallard/Interior Alaska/9BM8287R0/2009</td>\n",
        "      <td> H10N7</td>\n",
        "    </tr>\n",
        "    <tr>\n",
        "      <th>1761</th>\n",
        "      <td>2009-08-14</td>\n",
        "      <td> NaN</td>\n",
        "      <td>    NaN</td>\n",
        "      <td>                          MALL</td>\n",
        "      <td> CY136154</td>\n",
        "      <td> CY136153</td>\n",
        "      <td> CY136152</td>\n",
        "      <td> CY136147</td>\n",
        "      <td> CY136150</td>\n",
        "      <td> CY136149</td>\n",
        "      <td> CY136148</td>\n",
        "      <td> CY136151</td>\n",
        "      <td>      NaN</td>\n",
        "      <td>          A/mallard/Interior Alaska/9BM8387R0/2009</td>\n",
        "      <td>  H3N8</td>\n",
        "    </tr>\n",
        "    <tr>\n",
        "      <th>1762</th>\n",
        "      <td>2009-08-14</td>\n",
        "      <td> NaN</td>\n",
        "      <td>    NaN</td>\n",
        "      <td>                          MALL</td>\n",
        "      <td> CY142313</td>\n",
        "      <td> CY142312</td>\n",
        "      <td> CY142311</td>\n",
        "      <td> CY142306</td>\n",
        "      <td> CY142309</td>\n",
        "      <td> CY142308</td>\n",
        "      <td> CY142307</td>\n",
        "      <td> CY142310</td>\n",
        "      <td>      NaN</td>\n",
        "      <td>          A/mallard/Interior Alaska/9BM8389R0/2009</td>\n",
        "      <td>  H8N4</td>\n",
        "    </tr>\n",
        "    <tr>\n",
        "      <th>1763</th>\n",
        "      <td>2009-08-09</td>\n",
        "      <td> NaN</td>\n",
        "      <td>    NaN</td>\n",
        "      <td>                          MALL</td>\n",
        "      <td> CY142321</td>\n",
        "      <td> CY142320</td>\n",
        "      <td> CY142319</td>\n",
        "      <td> CY142314</td>\n",
        "      <td> CY142317</td>\n",
        "      <td> CY142316</td>\n",
        "      <td> CY142315</td>\n",
        "      <td> CY142318</td>\n",
        "      <td>      NaN</td>\n",
        "      <td>          A/mallard/Interior Alaska/9BM8425R0/2009</td>\n",
        "      <td> H10N7</td>\n",
        "    </tr>\n",
        "    <tr>\n",
        "      <th>1764</th>\n",
        "      <td>2009-08-10</td>\n",
        "      <td> NaN</td>\n",
        "      <td>    NaN</td>\n",
        "      <td>                          NOPI</td>\n",
        "      <td> CY136278</td>\n",
        "      <td> CY136277</td>\n",
        "      <td> CY136276</td>\n",
        "      <td> CY136271</td>\n",
        "      <td> CY136274</td>\n",
        "      <td> CY136273</td>\n",
        "      <td> CY136272</td>\n",
        "      <td> CY136275</td>\n",
        "      <td>      NaN</td>\n",
        "      <td> A/northern pintail/Interior Alaska/9BM8448R0/2009</td>\n",
        "      <td>  H3N1</td>\n",
        "    </tr>\n",
        "    <tr>\n",
        "      <th>1765</th>\n",
        "      <td>2009-08-10</td>\n",
        "      <td> NaN</td>\n",
        "      <td>    NaN</td>\n",
        "      <td>                          NOPI</td>\n",
        "      <td> CY136162</td>\n",
        "      <td> CY136161</td>\n",
        "      <td> CY136160</td>\n",
        "      <td> CY136155</td>\n",
        "      <td> CY136158</td>\n",
        "      <td> CY136157</td>\n",
        "      <td> CY136156</td>\n",
        "      <td> CY136159</td>\n",
        "      <td>      NaN</td>\n",
        "      <td> A/northern pintail/Interior Alaska/9BM8459R0/2009</td>\n",
        "      <td>  H3N1</td>\n",
        "    </tr>\n",
        "    <tr>\n",
        "      <th>1766</th>\n",
        "      <td>2009-08-10</td>\n",
        "      <td> NaN</td>\n",
        "      <td>    NaN</td>\n",
        "      <td>                          NOPI</td>\n",
        "      <td> CY136204</td>\n",
        "      <td> CY136203</td>\n",
        "      <td> CY136202</td>\n",
        "      <td> CY136197</td>\n",
        "      <td> CY136200</td>\n",
        "      <td> CY136199</td>\n",
        "      <td> CY136198</td>\n",
        "      <td> CY136201</td>\n",
        "      <td>      NaN</td>\n",
        "      <td> A/northern pintail/Interior Alaska/9BM8464R0/2009</td>\n",
        "      <td>  H3N1</td>\n",
        "    </tr>\n",
        "    <tr>\n",
        "      <th>1767</th>\n",
        "      <td>2009-08-10</td>\n",
        "      <td> NaN</td>\n",
        "      <td>    NaN</td>\n",
        "      <td>                          MALL</td>\n",
        "      <td> CY136170</td>\n",
        "      <td> CY136169</td>\n",
        "      <td> CY136168</td>\n",
        "      <td> CY136163</td>\n",
        "      <td> CY136166</td>\n",
        "      <td> CY136165</td>\n",
        "      <td> CY136164</td>\n",
        "      <td> CY136167</td>\n",
        "      <td>      NaN</td>\n",
        "      <td>          A/mallard/Interior Alaska/9BM8465R0/2009</td>\n",
        "      <td>  H3N1</td>\n",
        "    </tr>\n",
        "    <tr>\n",
        "      <th>1768</th>\n",
        "      <td>2009-08-10</td>\n",
        "      <td> NaN</td>\n",
        "      <td>    NaN</td>\n",
        "      <td>                          MALL</td>\n",
        "      <td> CY136316</td>\n",
        "      <td> CY136315</td>\n",
        "      <td> CY136314</td>\n",
        "      <td> CY136309</td>\n",
        "      <td> CY136312</td>\n",
        "      <td> CY136311</td>\n",
        "      <td> CY136310</td>\n",
        "      <td> CY136313</td>\n",
        "      <td>      NaN</td>\n",
        "      <td>          A/mallard/Interior Alaska/9BM8474R0/2009</td>\n",
        "      <td>  H3N1</td>\n",
        "    </tr>\n",
        "    <tr>\n",
        "      <th>1769</th>\n",
        "      <td>2009-08-10</td>\n",
        "      <td> NaN</td>\n",
        "      <td>    NaN</td>\n",
        "      <td>                          NOPI</td>\n",
        "      <td> CY136332</td>\n",
        "      <td> CY136331</td>\n",
        "      <td> CY136330</td>\n",
        "      <td> CY136325</td>\n",
        "      <td> CY136328</td>\n",
        "      <td> CY136327</td>\n",
        "      <td> CY136326</td>\n",
        "      <td> CY136329</td>\n",
        "      <td>      NaN</td>\n",
        "      <td> A/northern pintail/Interior Alaska/9BM8498R0/2009</td>\n",
        "      <td> H10N7</td>\n",
        "    </tr>\n",
        "    <tr>\n",
        "      <th>1770</th>\n",
        "      <td>2009-08-10</td>\n",
        "      <td> NaN</td>\n",
        "      <td>    NaN</td>\n",
        "      <td>                          NOPI</td>\n",
        "      <td> CY136212</td>\n",
        "      <td> CY136211</td>\n",
        "      <td> CY136210</td>\n",
        "      <td> CY136205</td>\n",
        "      <td> CY136208</td>\n",
        "      <td> CY136207</td>\n",
        "      <td> CY136206</td>\n",
        "      <td> CY136209</td>\n",
        "      <td>      NaN</td>\n",
        "      <td> A/northern pintail/Interior Alaska/9BM8502R0/2009</td>\n",
        "      <td>  H3N1</td>\n",
        "    </tr>\n",
        "    <tr>\n",
        "      <th>1771</th>\n",
        "      <td>2009-08-11</td>\n",
        "      <td> NaN</td>\n",
        "      <td>    NaN</td>\n",
        "      <td>                          MALL</td>\n",
        "      <td> CY142329</td>\n",
        "      <td> CY142328</td>\n",
        "      <td> CY142327</td>\n",
        "      <td> CY142322</td>\n",
        "      <td> CY142325</td>\n",
        "      <td> CY142324</td>\n",
        "      <td> CY142323</td>\n",
        "      <td> CY142326</td>\n",
        "      <td>      NaN</td>\n",
        "      <td>          A/mallard/Interior Alaska/9BM8921R0/2009</td>\n",
        "      <td> H10N7</td>\n",
        "    </tr>\n",
        "    <tr>\n",
        "      <th>1772</th>\n",
        "      <td>2009-08-11</td>\n",
        "      <td> NaN</td>\n",
        "      <td>    NaN</td>\n",
        "      <td>                          MALL</td>\n",
        "      <td> CY136188</td>\n",
        "      <td> CY136187</td>\n",
        "      <td> CY136186</td>\n",
        "      <td> CY136181</td>\n",
        "      <td> CY136184</td>\n",
        "      <td> CY136183</td>\n",
        "      <td> CY136182</td>\n",
        "      <td> CY136185</td>\n",
        "      <td>      NaN</td>\n",
        "      <td>          A/mallard/Interior Alaska/9BM8935R0/2009</td>\n",
        "      <td>  H4N7</td>\n",
        "    </tr>\n",
        "    <tr>\n",
        "      <th>1773</th>\n",
        "      <td>2009-08-11</td>\n",
        "      <td> NaN</td>\n",
        "      <td>    NaN</td>\n",
        "      <td>                          NOPI</td>\n",
        "      <td> CY136196</td>\n",
        "      <td> CY136195</td>\n",
        "      <td> CY136194</td>\n",
        "      <td> CY136189</td>\n",
        "      <td> CY136192</td>\n",
        "      <td> CY136191</td>\n",
        "      <td> CY136190</td>\n",
        "      <td> CY136193</td>\n",
        "      <td>      NaN</td>\n",
        "      <td> A/northern pintail/Interior Alaska/9BM8967R0/2009</td>\n",
        "      <td>  H8N4</td>\n",
        "    </tr>\n",
        "    <tr>\n",
        "      <th>1774</th>\n",
        "      <td>2009-08-11</td>\n",
        "      <td> NaN</td>\n",
        "      <td>    NaN</td>\n",
        "      <td>                          NOPI</td>\n",
        "      <td> CY141358</td>\n",
        "      <td> CY141357</td>\n",
        "      <td> CY141356</td>\n",
        "      <td> CY141351</td>\n",
        "      <td> CY141354</td>\n",
        "      <td> CY141353</td>\n",
        "      <td> CY141352</td>\n",
        "      <td> CY141355</td>\n",
        "      <td>      NaN</td>\n",
        "      <td> A/northern pintail/Interior Alaska/9BM9005R0/2009</td>\n",
        "      <td> H10N7</td>\n",
        "    </tr>\n",
        "    <tr>\n",
        "      <th>1775</th>\n",
        "      <td>2009-08-11</td>\n",
        "      <td> NaN</td>\n",
        "      <td>    NaN</td>\n",
        "      <td>                          NOPI</td>\n",
        "      <td> CY141366</td>\n",
        "      <td> CY141365</td>\n",
        "      <td> CY141364</td>\n",
        "      <td> CY141359</td>\n",
        "      <td> CY141362</td>\n",
        "      <td> CY141361</td>\n",
        "      <td> CY141360</td>\n",
        "      <td> CY141363</td>\n",
        "      <td>      NaN</td>\n",
        "      <td> A/northern pintail/Interior Alaska/9BM9037R0/2009</td>\n",
        "      <td> H10N7</td>\n",
        "    </tr>\n",
        "    <tr>\n",
        "      <th>1776</th>\n",
        "      <td>2009-08-11</td>\n",
        "      <td> NaN</td>\n",
        "      <td>    NaN</td>\n",
        "      <td>                          NOPI</td>\n",
        "      <td> CY142337</td>\n",
        "      <td> CY142336</td>\n",
        "      <td> CY142335</td>\n",
        "      <td> CY142330</td>\n",
        "      <td> CY142333</td>\n",
        "      <td> CY142332</td>\n",
        "      <td> CY142331</td>\n",
        "      <td> CY142334</td>\n",
        "      <td>      NaN</td>\n",
        "      <td> A/northern pintail/Interior Alaska/9BM9065R0/2009</td>\n",
        "      <td> H10N7</td>\n",
        "    </tr>\n",
        "    <tr>\n",
        "      <th>1777</th>\n",
        "      <td>2009-08-12</td>\n",
        "      <td> NaN</td>\n",
        "      <td>    NaN</td>\n",
        "      <td>                          NOPI</td>\n",
        "      <td> CY142353</td>\n",
        "      <td> CY142352</td>\n",
        "      <td> CY142351</td>\n",
        "      <td> CY142346</td>\n",
        "      <td> CY142349</td>\n",
        "      <td> CY142348</td>\n",
        "      <td> CY142347</td>\n",
        "      <td> CY142350</td>\n",
        "      <td>      NaN</td>\n",
        "      <td> A/northern pintail/Interior Alaska/9BM9129R0/2009</td>\n",
        "      <td> H10N7</td>\n",
        "    </tr>\n",
        "    <tr>\n",
        "      <th>1778</th>\n",
        "      <td>2009-08-12</td>\n",
        "      <td> NaN</td>\n",
        "      <td>    NaN</td>\n",
        "      <td>                          NOPI</td>\n",
        "      <td> CY136220</td>\n",
        "      <td> CY136219</td>\n",
        "      <td> CY136218</td>\n",
        "      <td> CY136213</td>\n",
        "      <td> CY136216</td>\n",
        "      <td> CY136215</td>\n",
        "      <td> CY136214</td>\n",
        "      <td> CY136217</td>\n",
        "      <td>      NaN</td>\n",
        "      <td> A/northern pintail/Interior Alaska/9BM9153R0/2009</td>\n",
        "      <td>  H3N8</td>\n",
        "    </tr>\n",
        "    <tr>\n",
        "      <th>1779</th>\n",
        "      <td>2009-08-12</td>\n",
        "      <td> NaN</td>\n",
        "      <td>    NaN</td>\n",
        "      <td>                          MALL</td>\n",
        "      <td> CY142361</td>\n",
        "      <td> CY142360</td>\n",
        "      <td> CY142359</td>\n",
        "      <td> CY142354</td>\n",
        "      <td> CY142357</td>\n",
        "      <td> CY142356</td>\n",
        "      <td> CY142355</td>\n",
        "      <td> CY142358</td>\n",
        "      <td>      NaN</td>\n",
        "      <td>          A/mallard/Interior Alaska/9BM9201R0/2009</td>\n",
        "      <td> H10N7</td>\n",
        "    </tr>\n",
        "    <tr>\n",
        "      <th>1780</th>\n",
        "      <td>2009-08-12</td>\n",
        "      <td> NaN</td>\n",
        "      <td>    NaN</td>\n",
        "      <td>                          MALL</td>\n",
        "      <td> CY142369</td>\n",
        "      <td> CY142368</td>\n",
        "      <td> CY142367</td>\n",
        "      <td> CY142362</td>\n",
        "      <td> CY142365</td>\n",
        "      <td> CY142364</td>\n",
        "      <td> CY142363</td>\n",
        "      <td> CY142366</td>\n",
        "      <td>      NaN</td>\n",
        "      <td>          A/mallard/Interior Alaska/9BM9335R0/2009</td>\n",
        "      <td> H10N7</td>\n",
        "    </tr>\n",
        "    <tr>\n",
        "      <th>1781</th>\n",
        "      <td>2009-08-12</td>\n",
        "      <td> NaN</td>\n",
        "      <td>    NaN</td>\n",
        "      <td>                          NOPI</td>\n",
        "      <td> CY142377</td>\n",
        "      <td> CY142376</td>\n",
        "      <td> CY142375</td>\n",
        "      <td> CY142370</td>\n",
        "      <td> CY142373</td>\n",
        "      <td> CY142372</td>\n",
        "      <td> CY142371</td>\n",
        "      <td> CY142374</td>\n",
        "      <td>      NaN</td>\n",
        "      <td> A/northern pintail/Interior Alaska/9BM9383R0/2009</td>\n",
        "      <td> H10N7</td>\n",
        "    </tr>\n",
        "    <tr>\n",
        "      <th>1782</th>\n",
        "      <td>2009-08-13</td>\n",
        "      <td> NaN</td>\n",
        "      <td>    NaN</td>\n",
        "      <td>                          MALL</td>\n",
        "      <td> CY142385</td>\n",
        "      <td> CY142384</td>\n",
        "      <td> CY142383</td>\n",
        "      <td> CY142378</td>\n",
        "      <td> CY142381</td>\n",
        "      <td> CY142380</td>\n",
        "      <td> CY142379</td>\n",
        "      <td> CY142382</td>\n",
        "      <td>      NaN</td>\n",
        "      <td>          A/mallard/Interior Alaska/9BM9601R0/2009</td>\n",
        "      <td> H10N7</td>\n",
        "    </tr>\n",
        "    <tr>\n",
        "      <th>1783</th>\n",
        "      <td>2009-08-14</td>\n",
        "      <td> NaN</td>\n",
        "      <td>    NaN</td>\n",
        "      <td>                          NOPI</td>\n",
        "      <td> CY136237</td>\n",
        "      <td> CY136236</td>\n",
        "      <td> CY136235</td>\n",
        "      <td> CY136230</td>\n",
        "      <td> CY136233</td>\n",
        "      <td> CY136232</td>\n",
        "      <td> CY136231</td>\n",
        "      <td> CY136234</td>\n",
        "      <td>      NaN</td>\n",
        "      <td> A/northern pintail/Interior Alaska/9BM9663R0/2009</td>\n",
        "      <td>  H4N6</td>\n",
        "    </tr>\n",
        "    <tr>\n",
        "      <th>1784</th>\n",
        "      <td>2009-08-14</td>\n",
        "      <td> NaN</td>\n",
        "      <td>    NaN</td>\n",
        "      <td>                          MALL</td>\n",
        "      <td> CY142393</td>\n",
        "      <td> CY142392</td>\n",
        "      <td> CY142391</td>\n",
        "      <td> CY142386</td>\n",
        "      <td> CY142389</td>\n",
        "      <td> CY142388</td>\n",
        "      <td> CY142387</td>\n",
        "      <td> CY142390</td>\n",
        "      <td>      NaN</td>\n",
        "      <td>          A/mallard/Interior Alaska/9BM9717R0/2009</td>\n",
        "      <td> H10N7</td>\n",
        "    </tr>\n",
        "    <tr>\n",
        "      <th>1785</th>\n",
        "      <td>2009-08-15</td>\n",
        "      <td> NaN</td>\n",
        "      <td>    NaN</td>\n",
        "      <td>                          NOPI</td>\n",
        "      <td> CY141390</td>\n",
        "      <td> CY141389</td>\n",
        "      <td> CY141388</td>\n",
        "      <td> CY141383</td>\n",
        "      <td> CY141386</td>\n",
        "      <td> CY141385</td>\n",
        "      <td> CY141384</td>\n",
        "      <td> CY141387</td>\n",
        "      <td>      NaN</td>\n",
        "      <td> A/northern pintail/Interior Alaska/9BM9955R0/2009</td>\n",
        "      <td>  H8N4</td>\n",
        "    </tr>\n",
        "    <tr>\n",
        "      <th>1786</th>\n",
        "      <td>2009-08-15</td>\n",
        "      <td> NaN</td>\n",
        "      <td>    NaN</td>\n",
        "      <td>                          NOPI</td>\n",
        "      <td> CY136245</td>\n",
        "      <td> CY136244</td>\n",
        "      <td> CY136243</td>\n",
        "      <td> CY136238</td>\n",
        "      <td> CY136241</td>\n",
        "      <td> CY136240</td>\n",
        "      <td> CY136239</td>\n",
        "      <td> CY136242</td>\n",
        "      <td>      NaN</td>\n",
        "      <td> A/northern pintail/Interior Alaska/9BM9973R0/2009</td>\n",
        "      <td>  H3N1</td>\n",
        "    </tr>\n",
        "  </tbody>\n",
        "</table>\n",
        "<p>1787 rows \u00d7 15 columns</p>\n",
        "</div>"
       ],
       "metadata": {},
       "output_type": "pyout",
       "prompt_number": 101,
       "text": [
        "     Collection Date Complete Genome Country                   Host Species  \\\n",
        "0         2008-10-26             Yes     USA  IRD:American Black Duck/Avian   \n",
        "1         2009-11-29             Yes     USA  IRD:American Black Duck/Avian   \n",
        "2         2010-08-08             Yes  Canada                      IRD:Avian   \n",
        "3         2010-08-08             Yes  Canada                      IRD:Avian   \n",
        "4         2010-08-08             Yes  Canada                      IRD:Avian   \n",
        "5         2010-08-08             Yes  Canada                      IRD:Avian   \n",
        "6         2010-08-08             Yes  Canada                      IRD:Avian   \n",
        "7         2010-08-09             Yes  Canada                      IRD:Avian   \n",
        "8         2010-08-10             Yes  Canada                      IRD:Avian   \n",
        "9         2010-08-10             Yes  Canada                      IRD:Avian   \n",
        "10        2010-08-10             Yes  Canada                      IRD:Avian   \n",
        "11        2010-08-11             Yes  Canada                      IRD:Avian   \n",
        "12        2010-08-12             Yes  Canada                      IRD:Avian   \n",
        "13        2010-08-12             Yes  Canada                      IRD:Avian   \n",
        "14        2010-08-12             Yes  Canada                      IRD:Avian   \n",
        "15        2010-08-12             Yes  Canada                      IRD:Avian   \n",
        "16        2010-08-12             Yes  Canada                      IRD:Avian   \n",
        "17        2010-08-12             Yes  Canada                      IRD:Avian   \n",
        "18        2010-08-12             Yes  Canada                      IRD:Avian   \n",
        "19        2010-08-12             Yes  Canada                      IRD:Avian   \n",
        "20        2010-08-12             Yes  Canada                      IRD:Avian   \n",
        "21        2010-08-12             Yes  Canada                      IRD:Avian   \n",
        "22        2010-08-12             Yes  Canada                      IRD:Avian   \n",
        "23        2010-08-12             Yes  Canada                      IRD:Avian   \n",
        "24        2010-08-12             Yes  Canada                      IRD:Avian   \n",
        "25        2010-08-12             Yes  Canada                      IRD:Avian   \n",
        "26        2010-08-12             Yes  Canada                      IRD:Avian   \n",
        "27        2010-08-12             Yes  Canada                      IRD:Avian   \n",
        "28        2010-08-12             Yes  Canada                      IRD:Avian   \n",
        "29        2010-08-12             Yes  Canada  IRD:American Black Duck/Avian   \n",
        "...              ...             ...     ...                            ...   \n",
        "1757      2009-08-09             NaN     NaN                           NOPI   \n",
        "1758      2009-08-09             NaN     NaN                           NOPI   \n",
        "1759      2009-08-09             NaN     NaN                           NOPI   \n",
        "1760      2009-08-09             NaN     NaN                           MALL   \n",
        "1761      2009-08-14             NaN     NaN                           MALL   \n",
        "1762      2009-08-14             NaN     NaN                           MALL   \n",
        "1763      2009-08-09             NaN     NaN                           MALL   \n",
        "1764      2009-08-10             NaN     NaN                           NOPI   \n",
        "1765      2009-08-10             NaN     NaN                           NOPI   \n",
        "1766      2009-08-10             NaN     NaN                           NOPI   \n",
        "1767      2009-08-10             NaN     NaN                           MALL   \n",
        "1768      2009-08-10             NaN     NaN                           MALL   \n",
        "1769      2009-08-10             NaN     NaN                           NOPI   \n",
        "1770      2009-08-10             NaN     NaN                           NOPI   \n",
        "1771      2009-08-11             NaN     NaN                           MALL   \n",
        "1772      2009-08-11             NaN     NaN                           MALL   \n",
        "1773      2009-08-11             NaN     NaN                           NOPI   \n",
        "1774      2009-08-11             NaN     NaN                           NOPI   \n",
        "1775      2009-08-11             NaN     NaN                           NOPI   \n",
        "1776      2009-08-11             NaN     NaN                           NOPI   \n",
        "1777      2009-08-12             NaN     NaN                           NOPI   \n",
        "1778      2009-08-12             NaN     NaN                           NOPI   \n",
        "1779      2009-08-12             NaN     NaN                           MALL   \n",
        "1780      2009-08-12             NaN     NaN                           MALL   \n",
        "1781      2009-08-12             NaN     NaN                           NOPI   \n",
        "1782      2009-08-13             NaN     NaN                           MALL   \n",
        "1783      2009-08-14             NaN     NaN                           NOPI   \n",
        "1784      2009-08-14             NaN     NaN                           MALL   \n",
        "1785      2009-08-15             NaN     NaN                           NOPI   \n",
        "1786      2009-08-15             NaN     NaN                           NOPI   \n",
        "\n",
        "     Sequence Accession Sequence Accession2 Sequence Accession3  \\\n",
        "0              CY079459            CY079458            CY079457   \n",
        "1              CY097541            CY097540            CY097539   \n",
        "2              CY138647            CY138646            CY138645   \n",
        "3              CY138655            CY138654            CY138653   \n",
        "4              CY138671            CY138670            CY138669   \n",
        "5              CY138679            CY138678            CY138677   \n",
        "6              CY138776            CY138775            CY138774   \n",
        "7              CY138824            CY138823            CY138822   \n",
        "8              CY138849            CY138848            CY138847   \n",
        "9              CY138857            CY138856            CY138855   \n",
        "10             CY138865            CY138864            CY138863   \n",
        "11             CY138873            CY138872            CY138871   \n",
        "12             CY138052            CY138051            CY138050   \n",
        "13             CY138881            CY138880            CY138879   \n",
        "14             CY138889            CY138888            CY138887   \n",
        "15             CY138897            CY138896            CY138895   \n",
        "16             CY138905            CY138904            CY138903   \n",
        "17             CY138913            CY138912            CY138911   \n",
        "18             CY138921            CY138920            CY138919   \n",
        "19             CY138060            CY138059            CY138058   \n",
        "20             CY138940            CY138939            CY138938   \n",
        "21             CY138948            CY138947            CY138946   \n",
        "22             CY138956            CY138955            CY138954   \n",
        "23             CY138964            CY138963            CY138962   \n",
        "24             CY138972            CY138971            CY138970   \n",
        "25             CY138991            CY138990            CY138989   \n",
        "26             CY139039            CY139038            CY139037   \n",
        "27             CY139047            CY139046            CY139045   \n",
        "28             CY139058            CY139057            CY139055   \n",
        "29             CY139066            CY139065            CY139064   \n",
        "...                 ...                 ...                 ...   \n",
        "1757           CY136138            CY136137            CY136136   \n",
        "1758           CY142297            CY142296            CY142295   \n",
        "1759           CY136146            CY136145            CY136144   \n",
        "1760           CY142305            CY142304            CY142303   \n",
        "1761           CY136154            CY136153            CY136152   \n",
        "1762           CY142313            CY142312            CY142311   \n",
        "1763           CY142321            CY142320            CY142319   \n",
        "1764           CY136278            CY136277            CY136276   \n",
        "1765           CY136162            CY136161            CY136160   \n",
        "1766           CY136204            CY136203            CY136202   \n",
        "1767           CY136170            CY136169            CY136168   \n",
        "1768           CY136316            CY136315            CY136314   \n",
        "1769           CY136332            CY136331            CY136330   \n",
        "1770           CY136212            CY136211            CY136210   \n",
        "1771           CY142329            CY142328            CY142327   \n",
        "1772           CY136188            CY136187            CY136186   \n",
        "1773           CY136196            CY136195            CY136194   \n",
        "1774           CY141358            CY141357            CY141356   \n",
        "1775           CY141366            CY141365            CY141364   \n",
        "1776           CY142337            CY142336            CY142335   \n",
        "1777           CY142353            CY142352            CY142351   \n",
        "1778           CY136220            CY136219            CY136218   \n",
        "1779           CY142361            CY142360            CY142359   \n",
        "1780           CY142369            CY142368            CY142367   \n",
        "1781           CY142377            CY142376            CY142375   \n",
        "1782           CY142385            CY142384            CY142383   \n",
        "1783           CY136237            CY136236            CY136235   \n",
        "1784           CY142393            CY142392            CY142391   \n",
        "1785           CY141390            CY141389            CY141388   \n",
        "1786           CY136245            CY136244            CY136243   \n",
        "\n",
        "     Sequence Accession4 Sequence Accession5 Sequence Accession6  \\\n",
        "0               CY079452            CY079455            CY079454   \n",
        "1               CY097534            CY097537            CY097536   \n",
        "2               CY138640            CY138643            CY138642   \n",
        "3               CY138648            CY138651            CY138650   \n",
        "4               CY138664            CY138667            CY138666   \n",
        "5               CY138672            CY138675            CY138674   \n",
        "6               CY138769            CY138772            CY138771   \n",
        "7               CY138817            CY138820            CY138819   \n",
        "8               CY138842            CY138845            CY138844   \n",
        "9               CY138850            CY138853            CY138852   \n",
        "10              CY138858            CY138861            CY138860   \n",
        "11              CY138866            CY138869            CY138868   \n",
        "12              CY138045            CY138048            CY138047   \n",
        "13              CY138874            CY138877            CY138876   \n",
        "14              CY138882            CY138885            CY138884   \n",
        "15              CY138890            CY138893            CY138892   \n",
        "16              CY138898            CY138901            CY138900   \n",
        "17              CY138906            CY138909            CY138908   \n",
        "18              CY138914            CY138917            CY138916   \n",
        "19              CY138053            CY138056            CY138055   \n",
        "20              CY138933            CY138936            CY138935   \n",
        "21              CY138941            CY138944            CY138943   \n",
        "22              CY138949            CY138952            CY138951   \n",
        "23              CY138957            CY138960            CY138959   \n",
        "24              CY138965            CY138968            CY138967   \n",
        "25              CY138984            CY138987            CY138986   \n",
        "26              CY139032            CY139035            CY139034   \n",
        "27              CY139040            CY139043            CY139042   \n",
        "28              CY139048            CY139052            CY139051   \n",
        "29              CY139059            CY139062            CY139061   \n",
        "...                  ...                 ...                 ...   \n",
        "1757            CY136131            CY136134            CY136133   \n",
        "1758            CY142290            CY142293            CY142292   \n",
        "1759            CY136139            CY136142            CY136141   \n",
        "1760            CY142298            CY142301            CY142300   \n",
        "1761            CY136147            CY136150            CY136149   \n",
        "1762            CY142306            CY142309            CY142308   \n",
        "1763            CY142314            CY142317            CY142316   \n",
        "1764            CY136271            CY136274            CY136273   \n",
        "1765            CY136155            CY136158            CY136157   \n",
        "1766            CY136197            CY136200            CY136199   \n",
        "1767            CY136163            CY136166            CY136165   \n",
        "1768            CY136309            CY136312            CY136311   \n",
        "1769            CY136325            CY136328            CY136327   \n",
        "1770            CY136205            CY136208            CY136207   \n",
        "1771            CY142322            CY142325            CY142324   \n",
        "1772            CY136181            CY136184            CY136183   \n",
        "1773            CY136189            CY136192            CY136191   \n",
        "1774            CY141351            CY141354            CY141353   \n",
        "1775            CY141359            CY141362            CY141361   \n",
        "1776            CY142330            CY142333            CY142332   \n",
        "1777            CY142346            CY142349            CY142348   \n",
        "1778            CY136213            CY136216            CY136215   \n",
        "1779            CY142354            CY142357            CY142356   \n",
        "1780            CY142362            CY142365            CY142364   \n",
        "1781            CY142370            CY142373            CY142372   \n",
        "1782            CY142378            CY142381            CY142380   \n",
        "1783            CY136230            CY136233            CY136232   \n",
        "1784            CY142386            CY142389            CY142388   \n",
        "1785            CY141383            CY141386            CY141385   \n",
        "1786            CY136238            CY136241            CY136240   \n",
        "\n",
        "     Sequence Accession7 Sequence Accession8 State/Province  \\\n",
        "0               CY079453            CY079456       Illinois   \n",
        "1               CY097535            CY097538       Illinois   \n",
        "2               CY138641            CY138644          -N/A-   \n",
        "3               CY138649            CY138652          -N/A-   \n",
        "4               CY138665            CY138668          -N/A-   \n",
        "5               CY138673            CY138676          -N/A-   \n",
        "6               CY138770            CY138773          -N/A-   \n",
        "7               CY138818            CY138821          -N/A-   \n",
        "8               CY138843            CY138846          -N/A-   \n",
        "9               CY138851            CY138854          -N/A-   \n",
        "10              CY138859            CY138862          -N/A-   \n",
        "11              CY138867            CY138870          -N/A-   \n",
        "12              CY138046            CY138049          -N/A-   \n",
        "13              CY138875            CY138878          -N/A-   \n",
        "14              CY138883            CY138886          -N/A-   \n",
        "15              CY138891            CY138894          -N/A-   \n",
        "16              CY138899            CY138902          -N/A-   \n",
        "17              CY138907            CY138910          -N/A-   \n",
        "18              CY138915            CY138918          -N/A-   \n",
        "19              CY138054            CY138057          -N/A-   \n",
        "20              CY138934            CY138937          -N/A-   \n",
        "21              CY138942            CY138945          -N/A-   \n",
        "22              CY138950            CY138953          -N/A-   \n",
        "23              CY138958            CY138961          -N/A-   \n",
        "24              CY138966            CY138969          -N/A-   \n",
        "25              CY138985            CY138988          -N/A-   \n",
        "26              CY139033            CY139036          -N/A-   \n",
        "27              CY139041            CY139044          -N/A-   \n",
        "28              CY139049            CY139054          -N/A-   \n",
        "29              CY139060            CY139063          -N/A-   \n",
        "...                  ...                 ...            ...   \n",
        "1757            CY136132            CY136135            NaN   \n",
        "1758            CY142291            CY142294            NaN   \n",
        "1759            CY136140            CY136143            NaN   \n",
        "1760            CY142299            CY142302            NaN   \n",
        "1761            CY136148            CY136151            NaN   \n",
        "1762            CY142307            CY142310            NaN   \n",
        "1763            CY142315            CY142318            NaN   \n",
        "1764            CY136272            CY136275            NaN   \n",
        "1765            CY136156            CY136159            NaN   \n",
        "1766            CY136198            CY136201            NaN   \n",
        "1767            CY136164            CY136167            NaN   \n",
        "1768            CY136310            CY136313            NaN   \n",
        "1769            CY136326            CY136329            NaN   \n",
        "1770            CY136206            CY136209            NaN   \n",
        "1771            CY142323            CY142326            NaN   \n",
        "1772            CY136182            CY136185            NaN   \n",
        "1773            CY136190            CY136193            NaN   \n",
        "1774            CY141352            CY141355            NaN   \n",
        "1775            CY141360            CY141363            NaN   \n",
        "1776            CY142331            CY142334            NaN   \n",
        "1777            CY142347            CY142350            NaN   \n",
        "1778            CY136214            CY136217            NaN   \n",
        "1779            CY142355            CY142358            NaN   \n",
        "1780            CY142363            CY142366            NaN   \n",
        "1781            CY142371            CY142374            NaN   \n",
        "1782            CY142379            CY142382            NaN   \n",
        "1783            CY136231            CY136234            NaN   \n",
        "1784            CY142387            CY142390            NaN   \n",
        "1785            CY141384            CY141387            NaN   \n",
        "1786            CY136239            CY136242            NaN   \n",
        "\n",
        "                                            Strain Name Subtype  \n",
        "0          A/American black duck/Illinois/08OS2688/2008    H5N2  \n",
        "1              A/American black duck/Illinois/4119/2009    H8N4  \n",
        "2        A/American black duck/New Brunswick/00321/2010    H1N1  \n",
        "3        A/American black duck/New Brunswick/00322/2010    H3N8  \n",
        "4        A/American black duck/New Brunswick/00326/2010    H1N1  \n",
        "5        A/American black duck/New Brunswick/00328/2010    H1N1  \n",
        "6        A/American black duck/New Brunswick/00344/2010    H7N7  \n",
        "7        A/American black duck/New Brunswick/00385/2010    H1N1  \n",
        "8        A/American black duck/New Brunswick/00410/2010    H1N1  \n",
        "9        A/American black duck/New Brunswick/00424/2010    H3N8  \n",
        "10       A/American black duck/New Brunswick/00425/2010    H3N8  \n",
        "11       A/American black duck/New Brunswick/00454/2010    H3N8  \n",
        "12       A/American black duck/New Brunswick/00464/2010    H4N6  \n",
        "13       A/American black duck/New Brunswick/00467/2010    H3N8  \n",
        "14       A/American black duck/New Brunswick/00468/2010    H4N6  \n",
        "15       A/American black duck/New Brunswick/00469/2010    H4N6  \n",
        "16       A/American black duck/New Brunswick/00470/2010    H4N6  \n",
        "17       A/American black duck/New Brunswick/00471/2010   H10N6  \n",
        "18       A/American black duck/New Brunswick/00472/2010    H4N6  \n",
        "19       A/American black duck/New Brunswick/00473/2010    H4N6  \n",
        "20       A/American black duck/New Brunswick/00477/2010   H10N6  \n",
        "21       A/American black duck/New Brunswick/00478/2010    H4N6  \n",
        "22       A/American black duck/New Brunswick/00481/2010    H4N6  \n",
        "23       A/American black duck/New Brunswick/00484/2010    H3N8  \n",
        "24       A/American black duck/New Brunswick/00485/2010    H3N8  \n",
        "25       A/American black duck/New Brunswick/00487/2010    H4N8  \n",
        "26       A/American black duck/New Brunswick/00499/2010    H4N6  \n",
        "27       A/American black duck/New Brunswick/00500/2010    H3N8  \n",
        "28       A/American black duck/New Brunswick/00502/2010    (H3)  \n",
        "29       A/American black duck/New Brunswick/00520/2010    H4N6  \n",
        "...                                                 ...     ...  \n",
        "1757  A/northern pintail/Interior Alaska/9BM8109R0/2009    H8N4  \n",
        "1758  A/northern pintail/Interior Alaska/9BM8237R0/2009    H8N4  \n",
        "1759  A/northern pintail/Interior Alaska/9BM8273R0/2009   H10N4  \n",
        "1760           A/mallard/Interior Alaska/9BM8287R0/2009   H10N7  \n",
        "1761           A/mallard/Interior Alaska/9BM8387R0/2009    H3N8  \n",
        "1762           A/mallard/Interior Alaska/9BM8389R0/2009    H8N4  \n",
        "1763           A/mallard/Interior Alaska/9BM8425R0/2009   H10N7  \n",
        "1764  A/northern pintail/Interior Alaska/9BM8448R0/2009    H3N1  \n",
        "1765  A/northern pintail/Interior Alaska/9BM8459R0/2009    H3N1  \n",
        "1766  A/northern pintail/Interior Alaska/9BM8464R0/2009    H3N1  \n",
        "1767           A/mallard/Interior Alaska/9BM8465R0/2009    H3N1  \n",
        "1768           A/mallard/Interior Alaska/9BM8474R0/2009    H3N1  \n",
        "1769  A/northern pintail/Interior Alaska/9BM8498R0/2009   H10N7  \n",
        "1770  A/northern pintail/Interior Alaska/9BM8502R0/2009    H3N1  \n",
        "1771           A/mallard/Interior Alaska/9BM8921R0/2009   H10N7  \n",
        "1772           A/mallard/Interior Alaska/9BM8935R0/2009    H4N7  \n",
        "1773  A/northern pintail/Interior Alaska/9BM8967R0/2009    H8N4  \n",
        "1774  A/northern pintail/Interior Alaska/9BM9005R0/2009   H10N7  \n",
        "1775  A/northern pintail/Interior Alaska/9BM9037R0/2009   H10N7  \n",
        "1776  A/northern pintail/Interior Alaska/9BM9065R0/2009   H10N7  \n",
        "1777  A/northern pintail/Interior Alaska/9BM9129R0/2009   H10N7  \n",
        "1778  A/northern pintail/Interior Alaska/9BM9153R0/2009    H3N8  \n",
        "1779           A/mallard/Interior Alaska/9BM9201R0/2009   H10N7  \n",
        "1780           A/mallard/Interior Alaska/9BM9335R0/2009   H10N7  \n",
        "1781  A/northern pintail/Interior Alaska/9BM9383R0/2009   H10N7  \n",
        "1782           A/mallard/Interior Alaska/9BM9601R0/2009   H10N7  \n",
        "1783  A/northern pintail/Interior Alaska/9BM9663R0/2009    H4N6  \n",
        "1784           A/mallard/Interior Alaska/9BM9717R0/2009   H10N7  \n",
        "1785  A/northern pintail/Interior Alaska/9BM9955R0/2009    H8N4  \n",
        "1786  A/northern pintail/Interior Alaska/9BM9973R0/2009    H3N1  \n",
        "\n",
        "[1787 rows x 15 columns]"
       ]
      }
     ],
     "prompt_number": 101
    },
    {
     "cell_type": "code",
     "collapsed": false,
     "input": [],
     "language": "python",
     "metadata": {},
     "outputs": [],
     "prompt_number": 52
    }
   ],
   "metadata": {}
  }
 ]
}