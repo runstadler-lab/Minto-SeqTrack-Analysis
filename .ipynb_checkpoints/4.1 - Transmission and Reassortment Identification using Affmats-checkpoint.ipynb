{
 "metadata": {
  "name": "",
  "signature": "sha256:e94dd75bfe953056b722c4d2ceb7582eafbfc84bbc9df0fd74ee31b8e261e719"
 },
 "nbformat": 3,
 "nbformat_minor": 0,
 "worksheets": [
  {
   "cells": [
    {
     "cell_type": "code",
     "collapsed": false,
     "input": [
      "import pandas as pd\n",
      "import networkx as nx\n",
      "import numpy as np\n",
      "import matplotlib.pyplot as plt\n",
      "\n",
      "from datetime import timedelta\n",
      "from time import time\n",
      "from Bio import SeqIO, AlignIO\n",
      "from Levenshtein import distance\n",
      "from collections import Counter\n",
      "from math import log10, log\n",
      "\n",
      "%matplotlib inline"
     ],
     "language": "python",
     "metadata": {},
     "outputs": [],
     "prompt_number": 1
    },
    {
     "cell_type": "code",
     "collapsed": false,
     "input": [
      "# Define variable \"segments\"\n",
      "segments = range(1,9)"
     ],
     "language": "python",
     "metadata": {},
     "outputs": [],
     "prompt_number": 2
    },
    {
     "cell_type": "code",
     "collapsed": false,
     "input": [
      "# Dictionary of threshold values\n",
      "segment_thresholds = dict()\n",
      "for segment in segments:\n",
      "    segment_thresholds[segment] = float(open('2.0 - Minimum PWI/Segment %s Minimum PWI.txt' % segment).read())\n",
      "\n",
      "segment_thresholds"
     ],
     "language": "python",
     "metadata": {},
     "outputs": [
      {
       "metadata": {},
       "output_type": "pyout",
       "prompt_number": 3,
       "text": [
        "{1: 0.927632,\n",
        " 2: 0.954231,\n",
        " 3: 0.921125,\n",
        " 4: 0.713063,\n",
        " 5: 0.939615,\n",
        " 6: 0.761308,\n",
        " 7: 0.967066,\n",
        " 8: 0.957303}"
       ]
      }
     ],
     "prompt_number": 3
    },
    {
     "cell_type": "code",
     "collapsed": false,
     "input": [
      "# Read raw data\n",
      "data = pd.read_csv('Raw Data/20140211 Minto and North America Combined Dates Cleaned.csv', index_col=0, parse_dates=['Collection Date'])\n",
      "\n",
      "# Create a dictionary of accession number to strain names:\n",
      "accession_to_name = dict()\n",
      "for row in data.iterrows():\n",
      "    accession1 = row[1]['Sequence Accession']\n",
      "    accession2 = row[1]['Sequence Accession2']\n",
      "    accession3 = row[1]['Sequence Accession3']\n",
      "    accession4 = row[1]['Sequence Accession4']\n",
      "    accession5 = row[1]['Sequence Accession5']\n",
      "    accession6 = row[1]['Sequence Accession6']\n",
      "    accession7 = row[1]['Sequence Accession7']\n",
      "    accession8 = row[1]['Sequence Accession8']\n",
      "    \n",
      "    strain_name = row[1]['Strain Name']\n",
      "    \n",
      "    accessions = [accession1, accession2, accession3, accession4, accession5, accession6, accession7, accession8]\n",
      "    \n",
      "    for accession in accessions:\n",
      "        accession_to_name[accession] = strain_name"
     ],
     "language": "python",
     "metadata": {},
     "outputs": [],
     "prompt_number": 4
    },
    {
     "cell_type": "code",
     "collapsed": false,
     "input": [
      "# Open the alignments and store in memory as dictionary\n",
      "alignments = dict()\n",
      "for segment in segments:\n",
      "    alignments[segment] = AlignIO.read('1.1 - Aligned FASTA Files/Segment %s Aligned.fasta' % segment, 'fasta')"
     ],
     "language": "python",
     "metadata": {},
     "outputs": [],
     "prompt_number": 5
    },
    {
     "cell_type": "code",
     "collapsed": false,
     "input": [
      "alignments[4]"
     ],
     "language": "python",
     "metadata": {},
     "outputs": [
      {
       "metadata": {},
       "output_type": "pyout",
       "prompt_number": 6,
       "text": [
        "<<class 'Bio.Align.MultipleSeqAlignment'> instance (1787 records of length 1818, SingleLetterAlphabet()) at 112f5fe90>"
       ]
      }
     ],
     "prompt_number": 6
    },
    {
     "cell_type": "code",
     "collapsed": false,
     "input": [
      "# For each segment, create a DiGraph that will store segment transmission data.\n",
      "segment_graphs = dict()\n",
      "for segment in segments:\n",
      "    segment_graphs[segment] = nx.DiGraph()\n",
      "\n",
      "# Next, add in all the nodes.\n",
      "    \n",
      "for row in data.iterrows():  \n",
      "    for segment in segments:\n",
      "        segment_graphs[segment].add_node(row[1]['Strain Name'], \\\n",
      "                                         collection_date=row[1]['Collection Date'], \\\n",
      "                                         subtype=row[1]['Subtype'])"
     ],
     "language": "python",
     "metadata": {},
     "outputs": [],
     "prompt_number": 7
    },
    {
     "cell_type": "code",
     "collapsed": false,
     "input": [
      "# Add alignment seqrecord to segment specific transmission graph\n",
      "\n",
      "for segment in segments:\n",
      "    for seqrecord in alignments[segment]:\n",
      "        name = accession_to_name[seqrecord.id]\n",
      "        segment_graphs[segment].node[name]['sequence'] = seqrecord"
     ],
     "language": "python",
     "metadata": {},
     "outputs": [],
     "prompt_number": 8
    },
    {
     "cell_type": "code",
     "collapsed": false,
     "input": [
      "# Create a dictionary of candidate sources. For every node, create a list of other viruses that occurred up to \n",
      "# 6 days after itself.\n",
      "starttime = time()\n",
      "candidate_sources = dict()\n",
      "graph = segment_graphs[1]\n",
      "for sink_node in graph.nodes(data=True):\n",
      "    candidate_sources[sink_node[0]] = []\n",
      "    for source_node in graph.nodes(data=True):\n",
      "        if sink_node[1]['collection_date'] - source_node[1]['collection_date'] >= timedelta(-6):\n",
      "            candidate_sources[sink_node[0]].append(source_node[0])\n",
      "endtime = time()\n",
      "\n",
      "print('%s seconds' % (endtime - starttime))"
     ],
     "language": "python",
     "metadata": {},
     "outputs": [
      {
       "output_type": "stream",
       "stream": "stdout",
       "text": [
        "11.8174769878 seconds\n"
       ]
      }
     ],
     "prompt_number": 9
    },
    {
     "cell_type": "code",
     "collapsed": false,
     "input": [
      "# Custom function to replace a list of keys with its values.\n",
      "\n",
      "def rename_col_or_index(original_list, dictionary):\n",
      "    \n",
      "    new_list = []\n",
      "    \n",
      "    for item in original_list:\n",
      "        new_list.append(dictionary[item])\n",
      "        \n",
      "    return new_list"
     ],
     "language": "python",
     "metadata": {},
     "outputs": [],
     "prompt_number": 10
    },
    {
     "cell_type": "code",
     "collapsed": false,
     "input": [
      "# Open up the affmats for each segment, replace the accessions with strain names, and then for each candidate node, filter\n",
      "# the affmats to only the sinks.\n",
      "\n",
      "starttime = time()\n",
      "segment_affmats = dict()\n",
      "\n",
      "for segment in segments:\n",
      "    segment_affmats[segment] = pd.read_csv('2.0 - Affmats/Segment %s Affmat.csv' % segment, index_col=0)\n",
      "    columns = segment_affmats[segment].columns\n",
      "    segment_affmats[segment].columns = rename_col_or_index(columns, accession_to_name)\n",
      "    segment_affmats[segment].index = rename_col_or_index(columns, accession_to_name)\n",
      "endtime = time()\n",
      "\n",
      "print('%s seconds' % (endtime - starttime))"
     ],
     "language": "python",
     "metadata": {},
     "outputs": [
      {
       "output_type": "stream",
       "stream": "stdout",
       "text": [
        "7.17020106316 seconds\n"
       ]
      }
     ],
     "prompt_number": 11
    },
    {
     "cell_type": "code",
     "collapsed": false,
     "input": [
      "# Filter the affmats such that only the sources are connected to the sinks\n",
      "plausible_sources = dict()\n",
      "starttime = time()\n",
      "for sink, candidate_source_list in candidate_sources.items():\n",
      "    plausible_sources[sink] = dict()\n",
      "\n",
      "    for segment in segments:\n",
      "        sources_with_pwis = segment_affmats[segment].loc[sink, candidate_sources[sink]]\n",
      "        if sink in sources_with_pwis.index:\n",
      "            del sources_with_pwis[sink]\n",
      "        plausible_sources[sink][segment] = sources_with_pwis[sources_with_pwis > segment_thresholds[segment]]        \n",
      "\n",
      "endtime = time()\n",
      "\n",
      "print('%s seconds' % (endtime - starttime))"
     ],
     "language": "python",
     "metadata": {},
     "outputs": [
      {
       "output_type": "stream",
       "stream": "stdout",
       "text": [
        "30.0419938564 seconds\n"
       ]
      }
     ],
     "prompt_number": 12
    },
    {
     "cell_type": "code",
     "collapsed": false,
     "input": [
      "# Test check, optional:\n",
      "# Print out candidate sources for each of the viruses.\n",
      "sink = candidate_sources.keys()[10]\n",
      "sink\n",
      "# for segment in segments:\n",
      "#     print 'Segment %s' % segment\n",
      "#     print sink\n",
      "#     print plausible_sources[sink][segment]"
     ],
     "language": "python",
     "metadata": {},
     "outputs": [
      {
       "metadata": {},
       "output_type": "pyout",
       "prompt_number": 13,
       "text": [
        "'A/ruddy turnstone/New Jersey/AI09-727/2009'"
       ]
      }
     ],
     "prompt_number": 13
    },
    {
     "cell_type": "code",
     "collapsed": false,
     "input": [
      "# Condense the graphs \n",
      "starttime = time()\n",
      "condensed_graph = dict()\n",
      "for sink in candidate_sources.keys():\n",
      "    condensed_graph[sink] = pd.Series()\n",
      "    for segment in segments:\n",
      "        x = condensed_graph[sink]\n",
      "        y = plausible_sources[sink][segment]\n",
      "        condensed_graph[sink] = (x.reindex_like(y).fillna(0) + y.fillna(0)).fillna(0)\n",
      "        \n",
      "endtime = time()\n",
      "\n",
      "print('%s seconds' % (endtime-starttime))"
     ],
     "language": "python",
     "metadata": {},
     "outputs": [
      {
       "output_type": "stream",
       "stream": "stdout",
       "text": [
        "7.92769598961 seconds\n"
       ]
      }
     ],
     "prompt_number": 14
    },
    {
     "cell_type": "code",
     "collapsed": false,
     "input": [
      "# Query by strain name\n",
      "sink = [isolate for isolate in candidate_sources.keys() if 'Guatemala' in isolate]\n",
      "print(len(sink))\n",
      "i = 14\n",
      "print sink[i]\n",
      "condensed_graph[sink[i]][(condensed_graph[sink[i]].values == condensed_graph[sink[i]].max()) & (condensed_graph[sink[i]] > 7.0)]"
     ],
     "language": "python",
     "metadata": {},
     "outputs": [
      {
       "output_type": "stream",
       "stream": "stdout",
       "text": [
        "15\n",
        "A/blue-winged teal/Guatemala/CIP049-05/2010\n"
       ]
      },
      {
       "metadata": {},
       "output_type": "pyout",
       "prompt_number": 15,
       "text": [
        "A/mallard/Minnesota/AI09-2434/2009    7.582264\n",
        "dtype: float64"
       ]
      }
     ],
     "prompt_number": 15
    },
    {
     "cell_type": "code",
     "collapsed": false,
     "input": [
      "# Query by index of strain in candidate_sources\n",
      "sink = candidate_sources.keys()[1150]\n",
      "print sink\n",
      "condensed_graph[sink][(condensed_graph[sink].values == condensed_graph[sink].max()) & (condensed_graph[sink] > 7.0)]"
     ],
     "language": "python",
     "metadata": {},
     "outputs": [
      {
       "output_type": "stream",
       "stream": "stdout",
       "text": [
        "A/mallard/Minnesota/Sg-00627/2008\n"
       ]
      },
      {
       "metadata": {},
       "output_type": "pyout",
       "prompt_number": 16,
       "text": [
        "A/mallard/Minnesota/Sg-00628/2008    7.996932\n",
        "dtype: float64"
       ]
      }
     ],
     "prompt_number": 16
    },
    {
     "cell_type": "code",
     "collapsed": false,
     "input": [
      "# This should be the number of full transmissions present, as computed in notebook 3.10\n",
      "counts = 0\n",
      "for sink in candidate_sources.keys():\n",
      "    full_transmissions = condensed_graph[sink][(condensed_graph[sink].values == condensed_graph[sink].max()) & \\\n",
      "                                               (condensed_graph[sink] > 7.0)]\n",
      "    counts += len(full_transmissions)\n",
      "print counts"
     ],
     "language": "python",
     "metadata": {},
     "outputs": [
      {
       "output_type": "stream",
       "stream": "stdout",
       "text": [
        "1922\n"
       ]
      }
     ],
     "prompt_number": 17
    },
    {
     "cell_type": "code",
     "collapsed": false,
     "input": [
      "# Candidate Reassortants: These should be the ones without full transmissions available to them.\n",
      "candidate_reassortants = []\n",
      "for sink in candidate_sources.keys():\n",
      "    if condensed_graph[sink].max() < 7.0:\n",
      "        candidate_reassortants.append(sink)\n",
      "        \n",
      "print len(candidate_reassortants)"
     ],
     "language": "python",
     "metadata": {},
     "outputs": [
      {
       "output_type": "stream",
       "stream": "stdout",
       "text": [
        "498\n"
       ]
      }
     ],
     "prompt_number": 18
    },
    {
     "cell_type": "code",
     "collapsed": false,
     "input": [
      "\"\"\"\n",
      "We are interested in \"full reassortants\" - those for which we can identify multiple sources for all of the segments.\n",
      "\n",
      "Therefore, we need a dictionary that looks like this:\n",
      "\n",
      "    {sink_isolate: {source_isolate1: [segments],\n",
      "                    source_isolate2: [segments],\n",
      "                    source_isolate3: [segments]}}\n",
      "\n",
      "From that dictionary, identify the pairs of isolates for which the set of segments encompasses all 8 of them.\n",
      "\n",
      "To construct this dictionary, we first query the condensed graph matrices for the names of each of the potential sources.\n",
      "\"\"\"\n",
      "reassortant_sources = dict()\n",
      "for sink_isolate in candidate_reassortants:\n",
      "    reassortant_sources[sink_isolate] = dict()\n",
      "    for source_isolate in condensed_graph[sink_isolate].index:\n",
      "        reassortant_sources[sink_isolate][source_isolate] = dict()"
     ],
     "language": "python",
     "metadata": {},
     "outputs": [],
     "prompt_number": 19
    },
    {
     "cell_type": "code",
     "collapsed": false,
     "input": [
      "\"\"\"\n",
      "The next step is to identify what segments they included.\n",
      "\"\"\"\n",
      "starttime = time()\n",
      "for sink_isolate in reassortant_sources.keys():\n",
      "    for source_isolate in reassortant_sources[sink_isolate].keys():\n",
      "        for segment in segments:\n",
      "            if source_isolate in plausible_sources[sink_isolate][segment].index:\n",
      "                reassortant_sources[sink_isolate][source_isolate][segment] = plausible_sources[sink_isolate][segment][source_isolate]\n",
      "endtime = time()\n",
      "\n",
      "print('%s seconds' % (endtime - starttime))"
     ],
     "language": "python",
     "metadata": {},
     "outputs": [
      {
       "output_type": "stream",
       "stream": "stdout",
       "text": [
        "8.78257703781 seconds\n"
       ]
      }
     ],
     "prompt_number": 20
    },
    {
     "cell_type": "code",
     "collapsed": false,
     "input": [
      "i = 0\n",
      "for k, val in reassortant_sources.items():\n",
      "    if i < 1:\n",
      "        print k, \n",
      "        print val\n",
      "        i += 1"
     ],
     "language": "python",
     "metadata": {},
     "outputs": [
      {
       "output_type": "stream",
       "stream": "stdout",
       "text": [
        "A/shorebird/Delaware Bay/331/2008 {'A/ruddy turnstone/New Jersey/Sg-00480/2008': {1: 1.0, 2: 0.99870499999999995, 3: 0.99816499999999997, 4: 0.99941299999999988, 6: 0.99791399999999997, 7: 1.0, 8: 0.99883899999999992}, 'A/ruddy turnstone/New Jersey/Sg-00492/2008': {1: 1.0, 2: 0.99913600000000002, 3: 0.99954100000000001, 4: 1.0, 6: 0.99791399999999997, 7: 1.0, 8: 0.99883899999999992}, 'A/shorebird/Delaware Bay/438/2008': {1: 1.0, 2: 0.99956800000000001, 3: 0.99954699999999996, 4: 1.0, 6: 0.99722000000000011, 7: 1.0, 8: 0.99884400000000007}, 'A/ruddy turnstone/New Jersey/Sg-00562/2008': {1: 1.0, 2: 0.99870499999999995, 3: 0.99954100000000001, 4: 1.0, 6: 0.99791399999999997, 7: 1.0, 8: 0.99652399999999997}, 'A/northern shoveler/California/HKWF2031/2008': {8: 0.96069400000000005, 5: 0.94545499999999993, 7: 0.98702600000000007}, 'A/ruddy turnstone/New Jersey/Sg-00496/2008': {1: 0.99956800000000001, 2: 0.99870499999999995, 3: 0.998641, 4: 0.99941299999999988, 6: 0.99721800000000005, 7: 1.0, 8: 0.99883899999999992}, 'A/red knot/New Jersey/Sg-00478/2008': {8: 0.96300599999999992, 1: 0.92962000000000011, 7: 0.96754599999999991}, 'A/ruddy turnstone/New Jersey/Sg-00481/2008': {8: 0.96416200000000007, 1: 0.93048399999999998}, 'A/ruddy turnstone/New Jersey/Sg-00489/2008': {1: 1.0, 2: 0.99913600000000002, 3: 0.99862399999999996, 4: 1.0, 6: 0.99791399999999997, 7: 1.0, 8: 0.99652399999999997}, 'A/shorebird/Delaware Bay/315/2008': {1: 1.0, 2: 0.99870499999999995, 3: 0.998641, 4: 0.99941299999999988, 6: 0.997915, 7: 1.0, 8: 0.99884400000000007}, 'A/ruddy turnstone/New Jersey/Sg-00511/2008': {8: 0.96300599999999992, 5: 0.99026000000000003, 7: 0.98003999999999991}, 'A/ruddy turnstone/New Jersey/Sg-00564/2008': {8: 0.96300599999999992, 1: 0.92962000000000011, 7: 0.96806399999999992}, 'A/ruddy turnstone/New Jersey/Sg-00507/2008': {1: 1.0, 2: 1.0, 3: 0.99954699999999996, 4: 1.0, 6: 0.99860899999999997, 7: 1.0, 8: 0.99768500000000004}, 'A/ruddy turnstone/New Jersey/Sg-00560/2008': {8: 0.96300599999999992, 1: 0.92962000000000011}, 'A/ruddy turnstone/New Jersey/Sg-00509/2008': {8: 0.96300599999999992, 1: 0.93048399999999998, 7: 0.96806399999999992}, 'A/ruddy turnstone/New Jersey/Sg-00476/2008': {8: 0.96416200000000007, 1: 0.93048399999999998}, 'A/ruddy turnstone/New Jersey/Sg-00488/2008': {8: 0.96416200000000007, 1: 0.93048399999999998, 7: 0.96806399999999992}, 'A/shorebird/Delaware Bay/293/2008': {1: 1.0, 2: 0.99870499999999995, 3: 0.998641, 4: 0.99941299999999988, 6: 0.99443700000000013, 7: 1.0, 8: 0.99884400000000007}, 'A/ruddy turnstone/New Jersey/Sg-00484/2008': {8: 0.96300599999999992, 1: 0.92962000000000011, 7: 0.96806399999999992}, 'A/shorebird/Delaware Bay/486/2008': {1: 0.99956800000000001, 2: 1.0, 3: 0.99954699999999996, 4: 1.0, 6: 0.99861, 7: 1.0, 8: 0.99884400000000007}, 'A/ruddy turnstone/New Jersey/Sg-00494/2008': {1: 0.99956800000000001, 2: 0.99956800000000001, 3: 0.99954699999999996, 4: 0.99882599999999999, 6: 0.99582800000000005, 7: 1.0, 8: 0.99651599999999996}, 'A/shorebird/Delaware Bay/395/2008': {1: 0.99913600000000002, 2: 0.99827299999999997, 3: 0.99818799999999996, 4: 0.99882599999999999, 6: 0.99861, 7: 1.0, 8: 0.998834}, 'A/ruddy turnstone/New Jersey/Sg-00534/2008': {1: 0.99956800000000001, 2: 0.99913600000000002, 3: 0.99954699999999996, 4: 1.0, 6: 0.99860899999999997, 7: 1.0, 8: 0.99883899999999992}, 'A/ruddy turnstone/New Jersey/Sg-00531/2008': {1: 1.0, 2: 0.99956800000000001, 3: 0.99954100000000001, 4: 0.99882599999999999, 6: 0.99791399999999997, 7: 1.0, 8: 0.99768500000000004}, 'A/ruddy turnstone/New Jersey/Sg-00527/2008': {1: 1.0, 2: 0.99913600000000002, 3: 0.99954100000000001, 4: 1.0, 6: 0.99791399999999997, 7: 0.96806399999999992, 8: 0.9976799999999999}, 'A/shorebird/Delaware Bay/589/2008': {1: 0.99956800000000001, 2: 0.99913600000000002, 3: 0.99954699999999996, 4: 0.99882599999999999, 6: 0.99582999999999988, 7: 0.99900200000000006, 8: 0.99884400000000007}, 'A/blue-winged teal/Guatemala/CIP049-02/2008': {8: 0.96184999999999998, 3: 0.96014500000000003, 5: 0.96623400000000004, 7: 0.98103799999999997}, 'A/ruddy turnstone/New Jersey/Sg-00524/2008': {1: 1.0, 2: 0.99913600000000002, 3: 0.99954100000000001, 4: 0.99941299999999988, 6: 0.99860899999999997, 7: 1.0, 8: 0.99652800000000008}, 'A/shorebird/Delaware Bay/296/2008': {1: 0.99956800000000001, 2: 0.99913600000000002, 3: 0.99954699999999996, 4: 0.99941299999999988, 6: 0.997915, 7: 0.99900200000000006, 8: 0.998834}, 'A/ruddy turnstone/Delaware/Sg-00473/2008': {1: 0.99913600000000002, 3: 0.99818799999999996, 4: 0.99941299999999988, 6: 0.99860899999999997, 7: 1.0, 8: 0.99652399999999997}, 'A/ruddy turnstone/New Jersey/Sg-00495/2008': {8: 0.96416200000000007, 1: 0.93048399999999998}, 'A/ruddy turnstone/New Jersey/Sg-00500/2008': {8: 0.96300599999999992, 1: 0.92962000000000011, 7: 0.96806399999999992}, 'A/ruddy turnstone/New Jersey/Sg-00493/2008': {8: 0.96300599999999992, 1: 0.92962000000000011, 7: 0.96806399999999992}, 'A/red knot/New Jersey/Sg-00483/2008': {8: 0.96416200000000007, 1: 0.93005199999999999}, 'A/shorebird/Delaware Bay/309/2008': {1: 1.0, 2: 0.99827299999999997, 3: 0.998641, 4: 0.99941299999999988, 6: 0.99722000000000011, 7: 1.0, 8: 0.998834}, 'A/ruddy turnstone/New Jersey/Sg-00510/2008': {1: 0.93005199999999999, 2: 0.99913600000000002, 4: 0.99941299999999988, 5: 0.94400000000000006, 6: 0.99860899999999997, 7: 0.96806399999999992, 8: 0.9976799999999999}, 'A/shorebird/Delaware Bay/446/2008': {8: 0.99768799999999991, 1: 0.93005199999999999, 4: 0.99941299999999988, 6: 0.997915, 7: 1.0}, 'A/ruddy turnstone/New Jersey/Sg-00506/2008': {1: 0.99956800000000001, 2: 0.99913600000000002, 3: 0.99954699999999996, 4: 0.99941299999999988, 6: 0.99860899999999997, 7: 0.99900200000000006, 8: 0.99767700000000004}, 'A/red knot/New Jersey/Sg-00479/2008': {1: 0.99913600000000002, 2: 0.99956800000000001, 3: 0.99909400000000004, 4: 0.99765100000000007, 6: 0.99791399999999997, 7: 0.99800400000000011, 8: 0.99768500000000004}, 'A/ruddy turnstone/New Jersey/Sg-00551/2008': {8: 0.99884400000000007, 1: 0.99913600000000002, 3: 0.99908299999999994, 6: 0.99652499999999999, 7: 0.99900200000000006}, 'A/shorebird/Delaware Bay/497/2008': {1: 1.0, 2: 0.99913600000000002, 3: 0.99954699999999996, 4: 1.0, 6: 0.99861, 7: 1.0, 8: 0.998834}, 'A/ruddy turnstone/New Jersey/Sg-00501/2008': {8: 0.96416200000000007, 1: 0.93048399999999998}, 'A/ruddy turnstone/New Jersey/Sg-00502/2008': {1: 0.99913600000000002, 2: 0.99870499999999995, 3: 0.99908299999999994, 4: 0.99941299999999988, 6: 0.99721800000000005, 7: 1.0, 8: 0.99768500000000004}, 'A/blue-winged teal/Guatemala/CIP049-01/2008': {8: 0.96300599999999992, 3: 0.95787999999999995, 5: 0.97077899999999995, 7: 0.98103799999999997}, 'A/ruddy turnstone/Delaware/Sg-00470/2008': {1: 0.93048399999999998, 3: 0.998641, 4: 0.99882599999999999, 6: 0.99860899999999997, 7: 1.0, 8: 0.9629629999999999}, 'A/ruddy turnstone/New Jersey/Sg-00498/2008': {8: 0.95838199999999996, 5: 0.99155799999999994, 7: 0.98003999999999991}, 'A/shorebird/Delaware Bay/312/2008': {1: 1.0, 2: 0.99956800000000001, 3: 0.99954699999999996, 4: 1.0, 6: 0.99722000000000011, 7: 1.0, 8: 0.99884400000000007}, 'A/ruddy turnstone/New Jersey/Sg-00475/2008': {1: 0.99913600000000002, 3: 0.998641, 4: 0.99941299999999988, 6: 0.99791399999999997, 7: 0.99900200000000006, 8: 0.99535400000000007}, 'A/green winged teal/California/AKS1305/2008': {8: 0.96069400000000005, 5: 0.97402600000000006, 7: 0.98303399999999996}, 'A/shorebird/Delaware Bay/588/2008': {1: 0.99956800000000001, 2: 0.99913600000000002, 3: 0.99954699999999996, 4: 0.99882599999999999, 6: 0.99582999999999988, 7: 0.99900200000000006, 8: 0.99884400000000007}, 'A/shorebird/Delaware Bay/382/2008': {1: 0.99870499999999995, 2: 0.99913600000000002, 3: 0.99909400000000004, 4: 0.99882599999999999, 6: 0.99722000000000011, 7: 0.99900200000000006, 8: 0.99768799999999991}, 'A/green winged teal/California/AKS1370/2008': {8: 0.96069400000000005, 5: 0.944156, 7: 0.98203600000000002}, 'A/ruddy turnstone/New Jersey/Sg-00530/2008': {8: 0.96184999999999998, 1: 0.92962000000000011, 7: 0.96754599999999991}, 'A/ruddy turnstone/New Jersey/Sg-00477/2008': {1: 1.0, 2: 0.99913600000000002, 3: 0.99954699999999996, 4: 1.0, 6: 0.99791399999999997, 7: 1.0, 8: 0.99652399999999997}, 'A/ruddy turnstone/New Jersey/Sg-00526/2008': {8: 0.96416200000000007, 1: 0.93005199999999999, 7: 0.96806399999999992}, 'A/ruddy turnstone/New Jersey/Sg-00497/2008': {8: 0.96300599999999992, 1: 0.93005199999999999, 7: 0.96806399999999992}, 'A/ruddy turnstone/New Jersey/Sg-0505/2008': {8: 0.96416200000000007, 1: 0.93048399999999998}}\n"
       ]
      }
     ],
     "prompt_number": 21
    },
    {
     "cell_type": "code",
     "collapsed": false,
     "input": [
      "# Here, we try to figure out how many of the viruses are genetic shifters - that is, segments 4 and 6 were derived from\n",
      "# different parental sources.\n",
      "\n",
      "\"\"\"\n",
      "Data structure is as such:\n",
      "shifters = dictionary, that has the structure of:\n",
      "{ sink isolate: segment4 : [source isolates list],\n",
      "                segment6 : [source isolates list]}\n",
      "                \n",
      "Only those viruses for which a segment 4 and segment 6 exist will we allow them to be kept.\n",
      "\"\"\"\n",
      "shifters = dict()\n",
      "for sink, sources in reassortant_sources.items():\n",
      "    shifters[sink] = dict()\n",
      "    shifters[sink][4] = set()\n",
      "    shifters[sink][6] = set()\n",
      "    for source, segments in sources.items():\n",
      "        if 4 in segments.keys() and 6 in segments.keys():\n",
      "            break\n",
      "        if 4 in segments.keys():\n",
      "            shifters[sink][4].add(source)\n",
      "        if 6 in segments.keys():\n",
      "            shifters[sink][6].add(source)\n",
      "            \n",
      "    if len(shifters[sink][4]) == 0 or len(shifters[sink][6]) == 0:\n",
      "        del shifters[sink]\n",
      "# shifters"
     ],
     "language": "python",
     "metadata": {},
     "outputs": [],
     "prompt_number": 22
    },
    {
     "cell_type": "code",
     "collapsed": false,
     "input": [
      "len(shifters)"
     ],
     "language": "python",
     "metadata": {},
     "outputs": [
      {
       "metadata": {},
       "output_type": "pyout",
       "prompt_number": 23,
       "text": [
        "251"
       ]
      }
     ],
     "prompt_number": 23
    },
    {
     "cell_type": "code",
     "collapsed": false,
     "input": [
      "# Finally, query what subtypes those shifters are:\n",
      "from collections import Counter\n",
      "\n",
      "subtype_counter = Counter()\n",
      "subtype_strains = dict()\n",
      "for isolate in shifters.keys():\n",
      "    subtype = data[data['Strain Name'] == isolate].values[0][-1]\n",
      "    subtype_strains[subtype] = []\n",
      "\n",
      "for isolate in shifters.keys():\n",
      "    subtype = data[data['Strain Name'] == isolate].values[0][-1]\n",
      "#     print subtype\n",
      "    subtype_counter[subtype] += 1\n",
      "    if \"Interior Alaska\" in isolate:\n",
      "        subtype_strains[subtype].append(isolate)\n",
      "    \n",
      "for subtype, count in subtype_counter.items():\n",
      "    print count, subtype\n",
      "    \n",
      "    "
     ],
     "language": "python",
     "metadata": {},
     "outputs": [
      {
       "output_type": "stream",
       "stream": "stdout",
       "text": [
        "1 H11N5\n",
        "1 H12N8\n",
        "3 (H3)\n",
        "3 H11N3\n",
        "11 H11N2\n",
        "1 H12N2\n",
        "1 H7N6\n",
        "8 H11N9\n",
        "1 (H1)\n",
        "1 H1N6\n",
        "2 H3N9\n",
        "5 H3N8\n",
        "1 H4N4\n",
        "2 H4N6\n",
        "4 H3N1\n",
        "1 H11N1\n",
        "1 H3N3\n",
        "12 H3N2\n",
        "1 H3N5\n",
        "1 (H11)\n",
        "2 H3N7\n",
        "14 H3N6\n",
        "13 H4N8\n",
        "3 H4N9\n",
        "1 H5N9\n",
        "1 H5N8\n",
        "13 H4N2\n",
        "2 H4N3\n",
        "2 H4N1\n",
        "6 H5N3\n",
        "5 H5N2\n",
        "4 H5N1\n",
        "1 H4N5\n",
        "5 H6N8\n",
        "1 H10N9\n",
        "2 H7N9\n",
        "2 H7N8\n",
        "1 H7N5\n",
        "16 H6N1\n",
        "5 H7N7\n",
        "12 H6N2\n",
        "1 H10N4\n",
        "1 H6N5\n",
        "6 H7N3\n",
        "5 (N9)\n",
        "1 H12N4\n",
        "1 H12N6\n",
        "1 H7N4\n",
        "5 H10N3\n",
        "1 (N7)\n",
        "1 (N8)\n",
        "4 (N1)\n",
        "2 (H10)\n",
        "3 H10N1\n",
        "1 H6N3\n",
        "2 H10N2\n",
        "1 H7N1\n",
        "1 H2N5\n",
        "3 H1N9\n",
        "2 H1N8\n",
        "3 H2N2\n",
        "2 H2N3\n",
        "4 H1N3\n",
        "7 H1N2\n",
        "6 H1N1\n",
        "2 H1N7\n",
        "1 H2N9\n",
        "3 H1N5\n",
        "1 H10N5\n",
        "4 H10N6\n",
        "1 H6N4\n",
        "1 H8N2\n",
        "2 H6N9\n"
       ]
      }
     ],
     "prompt_number": 24
    },
    {
     "cell_type": "code",
     "collapsed": false,
     "input": [
      "# subtype_strains"
     ],
     "language": "python",
     "metadata": {},
     "outputs": [],
     "prompt_number": 25
    },
    {
     "cell_type": "code",
     "collapsed": false,
     "input": [
      "# data"
     ],
     "language": "python",
     "metadata": {},
     "outputs": [],
     "prompt_number": 26
    },
    {
     "cell_type": "code",
     "collapsed": false,
     "input": [
      "\"\"\"\n",
      "Finally, check which pairs of source_isolates can plausibly form a set of 8 segments, record in dictionary.\n",
      "\"\"\"\n",
      "# Re-declare variable segments to be correct.\n",
      "\n",
      "segments = range(1,9)\n",
      "starttime = time()\n",
      "reassortant_isolates = dict()\n",
      "# Iterate over every sink isolate\n",
      "print(len(reassortant_sources.keys()))\n",
      "for sink_isolate in reassortant_sources.keys():\n",
      "    print(\"Currently at item %s of %s\" % (reassortant_sources.keys().index(sink_isolate), len(reassortant_sources.keys())))\n",
      "    # Store all the data as a dictionary\n",
      "    reassortant_isolates[sink_isolate] = dict()\n",
      "    \n",
      "    # Iterate over every source, but ignore source2 if it has already been considered.\n",
      "    sources = []\n",
      "    for source1 in reassortant_sources[sink_isolate].keys():\n",
      "        sources.append(source1)\n",
      "        for source2 in reassortant_sources[sink_isolate].keys():\n",
      "            if source2 not in sources:\n",
      "                \n",
      "                # Ensure that the set of segments represented totals 8.\n",
      "                if set(reassortant_sources[sink_isolate][source1].keys()).union(reassortant_sources[sink_isolate][source2].keys()) == set(segments):\n",
      "\n",
      "                    # Source pair will be a dictionary, with the source pair as keys, and values being a dictionary with each key\n",
      "                    # being a segment, and the values being a two-tuple of isolate and PWI.\n",
      "\n",
      "                    source_pair = (source1, source2)\n",
      "                    reassortant_isolates[sink_isolate][source_pair] = dict()\n",
      "\n",
      "\n",
      "                    for segment in segments:\n",
      "                        # Segment was not donated by Source 1\n",
      "                        if segment not in reassortant_sources[sink_isolate][source1].keys():\n",
      "                            reassortant_isolates[sink_isolate][source_pair][segment] = (source2, reassortant_sources[sink_isolate][source2][segment])\n",
      "\n",
      "                        # Segment was not donated by Source 2\n",
      "                        if segment not in reassortant_sources[sink_isolate][source2].keys():\n",
      "                            reassortant_isolates[sink_isolate][source_pair][segment] = (source1, reassortant_sources[sink_isolate][source1][segment])\n",
      "\n",
      "                        # Segment could have been donated by Source 1 or Source 2\n",
      "                        if segment in reassortant_sources[sink_isolate][source1].keys() and segment in reassortant_sources[sink_isolate][source2].keys():\n",
      "\n",
      "                            # Source 1 PWI > Source 2 PWI --> add Source 1\n",
      "                            if reassortant_sources[sink_isolate][source1][segment] > reassortant_sources[sink_isolate][source2][segment]:\n",
      "                                reassortant_isolates[sink_isolate][source_pair][segment] = (source1, reassortant_sources[sink_isolate][source1][segment])\n",
      "\n",
      "                            # Source 1 PWI < Source 2 PWI --> add Source 2\n",
      "                            if reassortant_sources[sink_isolate][source1][segment] < reassortant_sources[sink_isolate][source2][segment]:\n",
      "                                reassortant_isolates[sink_isolate][source_pair][segment] = (source2, reassortant_sources[sink_isolate][source2][segment])\n",
      "\n",
      "                            # Source 1 PWI == Source 2 PWI --> add source_pair, and pick source2's PWI for convenience sake.\n",
      "                            if reassortant_sources[sink_isolate][source1][segment] == reassortant_sources[sink_isolate][source2][segment]:\n",
      "                                reassortant_isolates[sink_isolate][source_pair][segment] = ((source_pair), reassortant_sources[sink_isolate][source2][segment])\n",
      "\n",
      "endtime = time()\n",
      "\n",
      "print(endtime - starttime)"
     ],
     "language": "python",
     "metadata": {},
     "outputs": [
      {
       "output_type": "stream",
       "stream": "stdout",
       "text": [
        "498\n",
        "Currently at item 0 of 498\n",
        "Currently at item 1 of 498\n",
        "Currently at item 2 of 498"
       ]
      },
      {
       "output_type": "stream",
       "stream": "stdout",
       "text": [
        "\n",
        "Currently at item 3 of 498"
       ]
      },
      {
       "output_type": "stream",
       "stream": "stdout",
       "text": [
        "\n",
        "Currently at item 4 of 498"
       ]
      },
      {
       "output_type": "stream",
       "stream": "stdout",
       "text": [
        "\n",
        "Currently at item 5 of 498\n",
        "Currently at item 6 of 498"
       ]
      },
      {
       "output_type": "stream",
       "stream": "stdout",
       "text": [
        "\n",
        "Currently at item 7 of 498"
       ]
      },
      {
       "output_type": "stream",
       "stream": "stdout",
       "text": [
        "\n",
        "Currently at item 8 of 498"
       ]
      },
      {
       "output_type": "stream",
       "stream": "stdout",
       "text": [
        "\n",
        "Currently at item 9 of 498\n",
        "Currently at item 10 of 498"
       ]
      },
      {
       "output_type": "stream",
       "stream": "stdout",
       "text": [
        "\n",
        "Currently at item 11 of 498"
       ]
      },
      {
       "output_type": "stream",
       "stream": "stdout",
       "text": [
        "\n",
        "Currently at item 12 of 498"
       ]
      },
      {
       "output_type": "stream",
       "stream": "stdout",
       "text": [
        "\n",
        "Currently at item 13 of 498"
       ]
      },
      {
       "output_type": "stream",
       "stream": "stdout",
       "text": [
        "\n",
        "Currently at item 14 of 498"
       ]
      },
      {
       "output_type": "stream",
       "stream": "stdout",
       "text": [
        "\n",
        "Currently at item 15 of 498"
       ]
      },
      {
       "output_type": "stream",
       "stream": "stdout",
       "text": [
        "\n",
        "Currently at item 16 of 498"
       ]
      },
      {
       "output_type": "stream",
       "stream": "stdout",
       "text": [
        "\n",
        "Currently at item 17 of 498"
       ]
      },
      {
       "output_type": "stream",
       "stream": "stdout",
       "text": [
        "\n",
        "Currently at item 18 of 498"
       ]
      },
      {
       "output_type": "stream",
       "stream": "stdout",
       "text": [
        "\n",
        "Currently at item 19 of 498\n",
        "Currently at item 20 of 498"
       ]
      },
      {
       "output_type": "stream",
       "stream": "stdout",
       "text": [
        "\n",
        "Currently at item 21 of 498"
       ]
      },
      {
       "output_type": "stream",
       "stream": "stdout",
       "text": [
        "\n",
        "Currently at item 22 of 498"
       ]
      },
      {
       "output_type": "stream",
       "stream": "stdout",
       "text": [
        "\n",
        "Currently at item 23 of 498"
       ]
      },
      {
       "output_type": "stream",
       "stream": "stdout",
       "text": [
        "\n",
        "Currently at item 24 of 498\n",
        "Currently at item 25 of 498"
       ]
      },
      {
       "output_type": "stream",
       "stream": "stdout",
       "text": [
        "\n",
        "Currently at item 26 of 498\n",
        "Currently at item 27 of 498"
       ]
      },
      {
       "output_type": "stream",
       "stream": "stdout",
       "text": [
        "\n",
        "Currently at item 28 of 498"
       ]
      },
      {
       "output_type": "stream",
       "stream": "stdout",
       "text": [
        "\n",
        "Currently at item 29 of 498"
       ]
      },
      {
       "output_type": "stream",
       "stream": "stdout",
       "text": [
        "\n",
        "Currently at item 30 of 498"
       ]
      },
      {
       "output_type": "stream",
       "stream": "stdout",
       "text": [
        "\n",
        "Currently at item 31 of 498"
       ]
      },
      {
       "output_type": "stream",
       "stream": "stdout",
       "text": [
        "\n",
        "Currently at item 32 of 498"
       ]
      },
      {
       "output_type": "stream",
       "stream": "stdout",
       "text": [
        "\n",
        "Currently at item 33 of 498"
       ]
      },
      {
       "output_type": "stream",
       "stream": "stdout",
       "text": [
        "\n",
        "Currently at item 34 of 498"
       ]
      },
      {
       "output_type": "stream",
       "stream": "stdout",
       "text": [
        "\n",
        "Currently at item 35 of 498"
       ]
      },
      {
       "output_type": "stream",
       "stream": "stdout",
       "text": [
        "\n",
        "Currently at item 36 of 498"
       ]
      },
      {
       "output_type": "stream",
       "stream": "stdout",
       "text": [
        "\n",
        "Currently at item 37 of 498"
       ]
      },
      {
       "output_type": "stream",
       "stream": "stdout",
       "text": [
        "\n",
        "Currently at item 38 of 498"
       ]
      },
      {
       "output_type": "stream",
       "stream": "stdout",
       "text": [
        "\n",
        "Currently at item 39 of 498\n",
        "Currently at item 40 of 498"
       ]
      },
      {
       "output_type": "stream",
       "stream": "stdout",
       "text": [
        "\n",
        "Currently at item 41 of 498"
       ]
      },
      {
       "output_type": "stream",
       "stream": "stdout",
       "text": [
        "\n",
        "Currently at item 42 of 498"
       ]
      },
      {
       "output_type": "stream",
       "stream": "stdout",
       "text": [
        "\n",
        "Currently at item 43 of 498"
       ]
      },
      {
       "output_type": "stream",
       "stream": "stdout",
       "text": [
        "\n",
        "Currently at item 44 of 498\n",
        "Currently at item 45 of 498"
       ]
      },
      {
       "output_type": "stream",
       "stream": "stdout",
       "text": [
        "\n",
        "Currently at item 46 of 498"
       ]
      },
      {
       "output_type": "stream",
       "stream": "stdout",
       "text": [
        "\n",
        "Currently at item 47 of 498\n",
        "Currently at item 48 of 498"
       ]
      },
      {
       "output_type": "stream",
       "stream": "stdout",
       "text": [
        "\n",
        "Currently at item 49 of 498"
       ]
      },
      {
       "output_type": "stream",
       "stream": "stdout",
       "text": [
        "\n",
        "Currently at item 50 of 498"
       ]
      },
      {
       "output_type": "stream",
       "stream": "stdout",
       "text": [
        "\n",
        "Currently at item 51 of 498"
       ]
      },
      {
       "output_type": "stream",
       "stream": "stdout",
       "text": [
        "\n",
        "Currently at item 52 of 498"
       ]
      },
      {
       "output_type": "stream",
       "stream": "stdout",
       "text": [
        "\n",
        "Currently at item 53 of 498\n",
        "Currently at item 54 of 498"
       ]
      },
      {
       "output_type": "stream",
       "stream": "stdout",
       "text": [
        "\n",
        "Currently at item 55 of 498"
       ]
      },
      {
       "output_type": "stream",
       "stream": "stdout",
       "text": [
        "\n",
        "Currently at item 56 of 498"
       ]
      },
      {
       "output_type": "stream",
       "stream": "stdout",
       "text": [
        "\n",
        "Currently at item 57 of 498"
       ]
      },
      {
       "output_type": "stream",
       "stream": "stdout",
       "text": [
        "\n",
        "Currently at item 58 of 498"
       ]
      },
      {
       "output_type": "stream",
       "stream": "stdout",
       "text": [
        "\n",
        "Currently at item 59 of 498"
       ]
      },
      {
       "output_type": "stream",
       "stream": "stdout",
       "text": [
        "\n",
        "Currently at item 60 of 498"
       ]
      },
      {
       "output_type": "stream",
       "stream": "stdout",
       "text": [
        "\n",
        "Currently at item 61 of 498"
       ]
      },
      {
       "output_type": "stream",
       "stream": "stdout",
       "text": [
        "\n",
        "Currently at item 62 of 498"
       ]
      },
      {
       "output_type": "stream",
       "stream": "stdout",
       "text": [
        "\n",
        "Currently at item 63 of 498"
       ]
      },
      {
       "output_type": "stream",
       "stream": "stdout",
       "text": [
        "\n",
        "Currently at item 64 of 498"
       ]
      },
      {
       "output_type": "stream",
       "stream": "stdout",
       "text": [
        "\n",
        "Currently at item 65 of 498\n",
        "Currently at item 66 of 498"
       ]
      },
      {
       "output_type": "stream",
       "stream": "stdout",
       "text": [
        "\n",
        "Currently at item 67 of 498"
       ]
      },
      {
       "output_type": "stream",
       "stream": "stdout",
       "text": [
        "\n",
        "Currently at item 68 of 498"
       ]
      },
      {
       "output_type": "stream",
       "stream": "stdout",
       "text": [
        "\n",
        "Currently at item 69 of 498"
       ]
      },
      {
       "output_type": "stream",
       "stream": "stdout",
       "text": [
        "\n",
        "Currently at item 70 of 498"
       ]
      },
      {
       "output_type": "stream",
       "stream": "stdout",
       "text": [
        "\n",
        "Currently at item 71 of 498\n",
        "Currently at item 72 of 498"
       ]
      },
      {
       "output_type": "stream",
       "stream": "stdout",
       "text": [
        "\n",
        "Currently at item 73 of 498"
       ]
      },
      {
       "output_type": "stream",
       "stream": "stdout",
       "text": [
        "\n",
        "Currently at item 74 of 498\n",
        "Currently at item 75 of 498"
       ]
      },
      {
       "output_type": "stream",
       "stream": "stdout",
       "text": [
        "\n",
        "Currently at item 76 of 498"
       ]
      },
      {
       "output_type": "stream",
       "stream": "stdout",
       "text": [
        "\n",
        "Currently at item 77 of 498"
       ]
      },
      {
       "output_type": "stream",
       "stream": "stdout",
       "text": [
        "\n",
        "Currently at item 78 of 498"
       ]
      },
      {
       "output_type": "stream",
       "stream": "stdout",
       "text": [
        "\n",
        "Currently at item 79 of 498"
       ]
      },
      {
       "output_type": "stream",
       "stream": "stdout",
       "text": [
        "\n",
        "Currently at item 80 of 498\n",
        "Currently at item 81 of 498"
       ]
      },
      {
       "output_type": "stream",
       "stream": "stdout",
       "text": [
        "\n",
        "Currently at item 82 of 498"
       ]
      },
      {
       "output_type": "stream",
       "stream": "stdout",
       "text": [
        "\n",
        "Currently at item 83 of 498"
       ]
      },
      {
       "output_type": "stream",
       "stream": "stdout",
       "text": [
        "\n",
        "Currently at item 84 of 498"
       ]
      },
      {
       "output_type": "stream",
       "stream": "stdout",
       "text": [
        "\n",
        "Currently at item 85 of 498"
       ]
      },
      {
       "output_type": "stream",
       "stream": "stdout",
       "text": [
        "\n",
        "Currently at item 86 of 498"
       ]
      },
      {
       "output_type": "stream",
       "stream": "stdout",
       "text": [
        "\n",
        "Currently at item 87 of 498"
       ]
      },
      {
       "output_type": "stream",
       "stream": "stdout",
       "text": [
        "\n",
        "Currently at item 88 of 498"
       ]
      },
      {
       "output_type": "stream",
       "stream": "stdout",
       "text": [
        "\n",
        "Currently at item 89 of 498"
       ]
      },
      {
       "output_type": "stream",
       "stream": "stdout",
       "text": [
        "\n",
        "Currently at item 90 of 498"
       ]
      },
      {
       "output_type": "stream",
       "stream": "stdout",
       "text": [
        "\n",
        "Currently at item 91 of 498"
       ]
      },
      {
       "output_type": "stream",
       "stream": "stdout",
       "text": [
        "\n",
        "Currently at item 92 of 498"
       ]
      },
      {
       "output_type": "stream",
       "stream": "stdout",
       "text": [
        "\n",
        "Currently at item 93 of 498\n",
        "Currently at item 94 of 498"
       ]
      },
      {
       "output_type": "stream",
       "stream": "stdout",
       "text": [
        "\n",
        "Currently at item 95 of 498"
       ]
      },
      {
       "output_type": "stream",
       "stream": "stdout",
       "text": [
        "\n",
        "Currently at item 96 of 498"
       ]
      },
      {
       "output_type": "stream",
       "stream": "stdout",
       "text": [
        "\n",
        "Currently at item 97 of 498"
       ]
      },
      {
       "output_type": "stream",
       "stream": "stdout",
       "text": [
        "\n",
        "Currently at item 98 of 498\n",
        "Currently at item 99 of 498"
       ]
      },
      {
       "output_type": "stream",
       "stream": "stdout",
       "text": [
        "\n",
        "Currently at item 100 of 498"
       ]
      },
      {
       "output_type": "stream",
       "stream": "stdout",
       "text": [
        "\n",
        "Currently at item 101 of 498"
       ]
      },
      {
       "output_type": "stream",
       "stream": "stdout",
       "text": [
        "\n",
        "Currently at item 102 of 498"
       ]
      },
      {
       "output_type": "stream",
       "stream": "stdout",
       "text": [
        "\n",
        "Currently at item 103 of 498"
       ]
      },
      {
       "output_type": "stream",
       "stream": "stdout",
       "text": [
        "\n",
        "Currently at item 104 of 498"
       ]
      },
      {
       "output_type": "stream",
       "stream": "stdout",
       "text": [
        "\n",
        "Currently at item 105 of 498"
       ]
      },
      {
       "output_type": "stream",
       "stream": "stdout",
       "text": [
        "\n",
        "Currently at item 106 of 498"
       ]
      },
      {
       "output_type": "stream",
       "stream": "stdout",
       "text": [
        "\n",
        "Currently at item 107 of 498"
       ]
      },
      {
       "output_type": "stream",
       "stream": "stdout",
       "text": [
        "\n",
        "Currently at item 108 of 498"
       ]
      },
      {
       "output_type": "stream",
       "stream": "stdout",
       "text": [
        "\n",
        "Currently at item 109 of 498"
       ]
      },
      {
       "output_type": "stream",
       "stream": "stdout",
       "text": [
        "\n",
        "Currently at item 110 of 498"
       ]
      },
      {
       "output_type": "stream",
       "stream": "stdout",
       "text": [
        "\n",
        "Currently at item 111 of 498"
       ]
      },
      {
       "output_type": "stream",
       "stream": "stdout",
       "text": [
        "\n",
        "Currently at item 112 of 498\n",
        "Currently at item 113 of 498"
       ]
      },
      {
       "output_type": "stream",
       "stream": "stdout",
       "text": [
        "\n",
        "Currently at item 114 of 498"
       ]
      },
      {
       "output_type": "stream",
       "stream": "stdout",
       "text": [
        "\n",
        "Currently at item 115 of 498\n",
        "Currently at item 116 of 498"
       ]
      },
      {
       "output_type": "stream",
       "stream": "stdout",
       "text": [
        "\n",
        "Currently at item 117 of 498"
       ]
      },
      {
       "output_type": "stream",
       "stream": "stdout",
       "text": [
        "\n",
        "Currently at item 118 of 498"
       ]
      },
      {
       "output_type": "stream",
       "stream": "stdout",
       "text": [
        "\n",
        "Currently at item 119 of 498"
       ]
      },
      {
       "output_type": "stream",
       "stream": "stdout",
       "text": [
        "\n",
        "Currently at item 120 of 498"
       ]
      },
      {
       "output_type": "stream",
       "stream": "stdout",
       "text": [
        "\n",
        "Currently at item 121 of 498\n",
        "Currently at item 122 of 498"
       ]
      },
      {
       "output_type": "stream",
       "stream": "stdout",
       "text": [
        "\n",
        "Currently at item 123 of 498"
       ]
      },
      {
       "output_type": "stream",
       "stream": "stdout",
       "text": [
        "\n",
        "Currently at item 124 of 498\n",
        "Currently at item 125 of 498"
       ]
      },
      {
       "output_type": "stream",
       "stream": "stdout",
       "text": [
        "\n",
        "Currently at item 126 of 498"
       ]
      },
      {
       "output_type": "stream",
       "stream": "stdout",
       "text": [
        "\n",
        "Currently at item 127 of 498"
       ]
      },
      {
       "output_type": "stream",
       "stream": "stdout",
       "text": [
        "\n",
        "Currently at item 128 of 498\n",
        "Currently at item 129 of 498"
       ]
      },
      {
       "output_type": "stream",
       "stream": "stdout",
       "text": [
        "\n",
        "Currently at item 130 of 498"
       ]
      },
      {
       "output_type": "stream",
       "stream": "stdout",
       "text": [
        "\n",
        "Currently at item 131 of 498\n",
        "Currently at item 132 of 498"
       ]
      },
      {
       "output_type": "stream",
       "stream": "stdout",
       "text": [
        "\n",
        "Currently at item 133 of 498\n",
        "Currently at item 134 of 498\n",
        "Currently at item 135 of 498\n",
        "Currently at item 136 of 498"
       ]
      },
      {
       "output_type": "stream",
       "stream": "stdout",
       "text": [
        "\n",
        "Currently at item 137 of 498\n",
        "Currently at item 138 of 498"
       ]
      },
      {
       "output_type": "stream",
       "stream": "stdout",
       "text": [
        "\n",
        "Currently at item 139 of 498"
       ]
      },
      {
       "output_type": "stream",
       "stream": "stdout",
       "text": [
        "\n",
        "Currently at item 140 of 498"
       ]
      },
      {
       "output_type": "stream",
       "stream": "stdout",
       "text": [
        "\n",
        "Currently at item 141 of 498"
       ]
      },
      {
       "output_type": "stream",
       "stream": "stdout",
       "text": [
        "\n",
        "Currently at item 142 of 498\n",
        "Currently at item 143 of 498"
       ]
      },
      {
       "output_type": "stream",
       "stream": "stdout",
       "text": [
        "\n",
        "Currently at item 144 of 498"
       ]
      },
      {
       "output_type": "stream",
       "stream": "stdout",
       "text": [
        "\n",
        "Currently at item 145 of 498"
       ]
      },
      {
       "output_type": "stream",
       "stream": "stdout",
       "text": [
        "\n",
        "Currently at item 146 of 498"
       ]
      },
      {
       "output_type": "stream",
       "stream": "stdout",
       "text": [
        "\n",
        "Currently at item 147 of 498\n",
        "Currently at item 148 of 498"
       ]
      },
      {
       "output_type": "stream",
       "stream": "stdout",
       "text": [
        "\n",
        "Currently at item 149 of 498"
       ]
      },
      {
       "output_type": "stream",
       "stream": "stdout",
       "text": [
        "\n",
        "Currently at item 150 of 498\n",
        "Currently at item 151 of 498\n",
        "Currently at item 152 of 498"
       ]
      },
      {
       "output_type": "stream",
       "stream": "stdout",
       "text": [
        "\n",
        "Currently at item 153 of 498\n",
        "Currently at item 154 of 498"
       ]
      },
      {
       "output_type": "stream",
       "stream": "stdout",
       "text": [
        "\n",
        "Currently at item 155 of 498"
       ]
      },
      {
       "output_type": "stream",
       "stream": "stdout",
       "text": [
        "\n",
        "Currently at item 156 of 498"
       ]
      },
      {
       "output_type": "stream",
       "stream": "stdout",
       "text": [
        "\n",
        "Currently at item 157 of 498"
       ]
      },
      {
       "output_type": "stream",
       "stream": "stdout",
       "text": [
        "\n",
        "Currently at item 158 of 498"
       ]
      },
      {
       "output_type": "stream",
       "stream": "stdout",
       "text": [
        "\n",
        "Currently at item 159 of 498"
       ]
      },
      {
       "output_type": "stream",
       "stream": "stdout",
       "text": [
        "\n",
        "Currently at item 160 of 498\n",
        "Currently at item 161 of 498"
       ]
      },
      {
       "output_type": "stream",
       "stream": "stdout",
       "text": [
        "\n",
        "Currently at item 162 of 498"
       ]
      },
      {
       "output_type": "stream",
       "stream": "stdout",
       "text": [
        "\n",
        "Currently at item 163 of 498"
       ]
      },
      {
       "output_type": "stream",
       "stream": "stdout",
       "text": [
        "\n",
        "Currently at item 164 of 498"
       ]
      },
      {
       "output_type": "stream",
       "stream": "stdout",
       "text": [
        "\n",
        "Currently at item 165 of 498"
       ]
      },
      {
       "output_type": "stream",
       "stream": "stdout",
       "text": [
        "\n",
        "Currently at item 166 of 498"
       ]
      },
      {
       "output_type": "stream",
       "stream": "stdout",
       "text": [
        "\n",
        "Currently at item 167 of 498"
       ]
      },
      {
       "output_type": "stream",
       "stream": "stdout",
       "text": [
        "\n",
        "Currently at item 168 of 498"
       ]
      },
      {
       "output_type": "stream",
       "stream": "stdout",
       "text": [
        "\n",
        "Currently at item 169 of 498"
       ]
      },
      {
       "output_type": "stream",
       "stream": "stdout",
       "text": [
        "\n",
        "Currently at item 170 of 498\n",
        "Currently at item 171 of 498"
       ]
      },
      {
       "output_type": "stream",
       "stream": "stdout",
       "text": [
        "\n",
        "Currently at item 172 of 498"
       ]
      },
      {
       "output_type": "stream",
       "stream": "stdout",
       "text": [
        "\n",
        "Currently at item 173 of 498"
       ]
      },
      {
       "output_type": "stream",
       "stream": "stdout",
       "text": [
        "\n",
        "Currently at item 174 of 498"
       ]
      },
      {
       "output_type": "stream",
       "stream": "stdout",
       "text": [
        "\n",
        "Currently at item 175 of 498"
       ]
      },
      {
       "output_type": "stream",
       "stream": "stdout",
       "text": [
        "\n",
        "Currently at item 176 of 498"
       ]
      },
      {
       "output_type": "stream",
       "stream": "stdout",
       "text": [
        "\n",
        "Currently at item 177 of 498\n",
        "Currently at item 178 of 498"
       ]
      },
      {
       "output_type": "stream",
       "stream": "stdout",
       "text": [
        "\n",
        "Currently at item 179 of 498\n",
        "Currently at item 180 of 498"
       ]
      },
      {
       "output_type": "stream",
       "stream": "stdout",
       "text": [
        "\n",
        "Currently at item 181 of 498"
       ]
      },
      {
       "output_type": "stream",
       "stream": "stdout",
       "text": [
        "\n",
        "Currently at item 182 of 498"
       ]
      },
      {
       "output_type": "stream",
       "stream": "stdout",
       "text": [
        "\n",
        "Currently at item 183 of 498"
       ]
      },
      {
       "output_type": "stream",
       "stream": "stdout",
       "text": [
        "\n",
        "Currently at item 184 of 498"
       ]
      },
      {
       "output_type": "stream",
       "stream": "stdout",
       "text": [
        "\n",
        "Currently at item 185 of 498"
       ]
      },
      {
       "output_type": "stream",
       "stream": "stdout",
       "text": [
        "\n",
        "Currently at item 186 of 498\n",
        "Currently at item 187 of 498"
       ]
      },
      {
       "output_type": "stream",
       "stream": "stdout",
       "text": [
        "\n",
        "Currently at item 188 of 498"
       ]
      },
      {
       "output_type": "stream",
       "stream": "stdout",
       "text": [
        "\n",
        "Currently at item 189 of 498"
       ]
      },
      {
       "output_type": "stream",
       "stream": "stdout",
       "text": [
        "\n",
        "Currently at item 190 of 498"
       ]
      },
      {
       "output_type": "stream",
       "stream": "stdout",
       "text": [
        "\n",
        "Currently at item 191 of 498"
       ]
      },
      {
       "output_type": "stream",
       "stream": "stdout",
       "text": [
        "\n",
        "Currently at item 192 of 498"
       ]
      },
      {
       "output_type": "stream",
       "stream": "stdout",
       "text": [
        "\n",
        "Currently at item 193 of 498"
       ]
      },
      {
       "output_type": "stream",
       "stream": "stdout",
       "text": [
        "\n",
        "Currently at item 194 of 498"
       ]
      },
      {
       "output_type": "stream",
       "stream": "stdout",
       "text": [
        "\n",
        "Currently at item 195 of 498"
       ]
      },
      {
       "output_type": "stream",
       "stream": "stdout",
       "text": [
        "\n",
        "Currently at item 196 of 498"
       ]
      },
      {
       "output_type": "stream",
       "stream": "stdout",
       "text": [
        "\n",
        "Currently at item 197 of 498"
       ]
      },
      {
       "output_type": "stream",
       "stream": "stdout",
       "text": [
        "\n",
        "Currently at item 198 of 498"
       ]
      },
      {
       "output_type": "stream",
       "stream": "stdout",
       "text": [
        "\n",
        "Currently at item 199 of 498"
       ]
      },
      {
       "output_type": "stream",
       "stream": "stdout",
       "text": [
        "\n",
        "Currently at item 200 of 498"
       ]
      },
      {
       "output_type": "stream",
       "stream": "stdout",
       "text": [
        "\n",
        "Currently at item 201 of 498"
       ]
      },
      {
       "output_type": "stream",
       "stream": "stdout",
       "text": [
        "\n",
        "Currently at item 202 of 498"
       ]
      },
      {
       "output_type": "stream",
       "stream": "stdout",
       "text": [
        "\n",
        "Currently at item 203 of 498\n",
        "Currently at item 204 of 498"
       ]
      },
      {
       "output_type": "stream",
       "stream": "stdout",
       "text": [
        "\n",
        "Currently at item 205 of 498"
       ]
      },
      {
       "output_type": "stream",
       "stream": "stdout",
       "text": [
        "\n",
        "Currently at item 206 of 498"
       ]
      },
      {
       "output_type": "stream",
       "stream": "stdout",
       "text": [
        "\n",
        "Currently at item 207 of 498"
       ]
      },
      {
       "output_type": "stream",
       "stream": "stdout",
       "text": [
        "\n",
        "Currently at item 208 of 498"
       ]
      },
      {
       "output_type": "stream",
       "stream": "stdout",
       "text": [
        "\n",
        "Currently at item 209 of 498"
       ]
      },
      {
       "output_type": "stream",
       "stream": "stdout",
       "text": [
        "\n",
        "Currently at item 210 of 498\n",
        "Currently at item 211 of 498"
       ]
      },
      {
       "output_type": "stream",
       "stream": "stdout",
       "text": [
        "\n",
        "Currently at item 212 of 498"
       ]
      },
      {
       "output_type": "stream",
       "stream": "stdout",
       "text": [
        "\n",
        "Currently at item 213 of 498"
       ]
      },
      {
       "output_type": "stream",
       "stream": "stdout",
       "text": [
        "\n",
        "Currently at item 214 of 498"
       ]
      },
      {
       "output_type": "stream",
       "stream": "stdout",
       "text": [
        "\n",
        "Currently at item 215 of 498"
       ]
      },
      {
       "output_type": "stream",
       "stream": "stdout",
       "text": [
        "\n",
        "Currently at item 216 of 498"
       ]
      },
      {
       "output_type": "stream",
       "stream": "stdout",
       "text": [
        "\n",
        "Currently at item 217 of 498"
       ]
      },
      {
       "output_type": "stream",
       "stream": "stdout",
       "text": [
        "\n",
        "Currently at item 218 of 498"
       ]
      },
      {
       "output_type": "stream",
       "stream": "stdout",
       "text": [
        "\n",
        "Currently at item 219 of 498"
       ]
      },
      {
       "output_type": "stream",
       "stream": "stdout",
       "text": [
        "\n",
        "Currently at item 220 of 498"
       ]
      },
      {
       "output_type": "stream",
       "stream": "stdout",
       "text": [
        "\n",
        "Currently at item 221 of 498"
       ]
      },
      {
       "output_type": "stream",
       "stream": "stdout",
       "text": [
        "\n",
        "Currently at item 222 of 498"
       ]
      },
      {
       "output_type": "stream",
       "stream": "stdout",
       "text": [
        "\n",
        "Currently at item 223 of 498"
       ]
      },
      {
       "output_type": "stream",
       "stream": "stdout",
       "text": [
        "\n",
        "Currently at item 224 of 498"
       ]
      },
      {
       "output_type": "stream",
       "stream": "stdout",
       "text": [
        "\n",
        "Currently at item 225 of 498\n",
        "Currently at item 226 of 498"
       ]
      },
      {
       "output_type": "stream",
       "stream": "stdout",
       "text": [
        "\n",
        "Currently at item 227 of 498"
       ]
      },
      {
       "output_type": "stream",
       "stream": "stdout",
       "text": [
        "\n",
        "Currently at item 228 of 498"
       ]
      },
      {
       "output_type": "stream",
       "stream": "stdout",
       "text": [
        "\n",
        "Currently at item 229 of 498\n",
        "Currently at item 230 of 498"
       ]
      },
      {
       "output_type": "stream",
       "stream": "stdout",
       "text": [
        "\n",
        "Currently at item 231 of 498\n",
        "Currently at item 232 of 498"
       ]
      },
      {
       "output_type": "stream",
       "stream": "stdout",
       "text": [
        "\n",
        "Currently at item 233 of 498"
       ]
      },
      {
       "output_type": "stream",
       "stream": "stdout",
       "text": [
        "\n",
        "Currently at item 234 of 498"
       ]
      },
      {
       "output_type": "stream",
       "stream": "stdout",
       "text": [
        "\n",
        "Currently at item 235 of 498"
       ]
      },
      {
       "output_type": "stream",
       "stream": "stdout",
       "text": [
        "\n",
        "Currently at item 236 of 498\n",
        "Currently at item 237 of 498"
       ]
      },
      {
       "output_type": "stream",
       "stream": "stdout",
       "text": [
        "\n",
        "Currently at item 238 of 498"
       ]
      },
      {
       "output_type": "stream",
       "stream": "stdout",
       "text": [
        "\n",
        "Currently at item 239 of 498\n",
        "Currently at item 240 of 498"
       ]
      },
      {
       "output_type": "stream",
       "stream": "stdout",
       "text": [
        "\n",
        "Currently at item 241 of 498"
       ]
      },
      {
       "output_type": "stream",
       "stream": "stdout",
       "text": [
        "\n",
        "Currently at item 242 of 498"
       ]
      },
      {
       "output_type": "stream",
       "stream": "stdout",
       "text": [
        "\n",
        "Currently at item 243 of 498"
       ]
      },
      {
       "output_type": "stream",
       "stream": "stdout",
       "text": [
        "\n",
        "Currently at item 244 of 498"
       ]
      },
      {
       "output_type": "stream",
       "stream": "stdout",
       "text": [
        "\n",
        "Currently at item 245 of 498"
       ]
      },
      {
       "output_type": "stream",
       "stream": "stdout",
       "text": [
        "\n",
        "Currently at item 246 of 498"
       ]
      },
      {
       "output_type": "stream",
       "stream": "stdout",
       "text": [
        "\n",
        "Currently at item 247 of 498\n",
        "Currently at item 248 of 498"
       ]
      },
      {
       "output_type": "stream",
       "stream": "stdout",
       "text": [
        "\n",
        "Currently at item 249 of 498"
       ]
      },
      {
       "output_type": "stream",
       "stream": "stdout",
       "text": [
        "\n",
        "Currently at item 250 of 498\n",
        "Currently at item 251 of 498"
       ]
      },
      {
       "output_type": "stream",
       "stream": "stdout",
       "text": [
        "\n",
        "Currently at item 252 of 498"
       ]
      },
      {
       "output_type": "stream",
       "stream": "stdout",
       "text": [
        "\n",
        "Currently at item 253 of 498"
       ]
      },
      {
       "output_type": "stream",
       "stream": "stdout",
       "text": [
        "\n",
        "Currently at item 254 of 498"
       ]
      },
      {
       "output_type": "stream",
       "stream": "stdout",
       "text": [
        "\n",
        "Currently at item 255 of 498"
       ]
      },
      {
       "output_type": "stream",
       "stream": "stdout",
       "text": [
        "\n",
        "Currently at item 256 of 498"
       ]
      },
      {
       "output_type": "stream",
       "stream": "stdout",
       "text": [
        "\n",
        "Currently at item 257 of 498\n",
        "Currently at item 258 of 498"
       ]
      },
      {
       "output_type": "stream",
       "stream": "stdout",
       "text": [
        "\n",
        "Currently at item 259 of 498"
       ]
      },
      {
       "output_type": "stream",
       "stream": "stdout",
       "text": [
        "\n",
        "Currently at item 260 of 498"
       ]
      },
      {
       "output_type": "stream",
       "stream": "stdout",
       "text": [
        "\n",
        "Currently at item 261 of 498"
       ]
      },
      {
       "output_type": "stream",
       "stream": "stdout",
       "text": [
        "\n",
        "Currently at item 262 of 498\n",
        "Currently at item 263 of 498"
       ]
      },
      {
       "output_type": "stream",
       "stream": "stdout",
       "text": [
        "\n",
        "Currently at item 264 of 498"
       ]
      },
      {
       "output_type": "stream",
       "stream": "stdout",
       "text": [
        "\n",
        "Currently at item 265 of 498\n",
        "Currently at item 266 of 498"
       ]
      },
      {
       "output_type": "stream",
       "stream": "stdout",
       "text": [
        "\n",
        "Currently at item 267 of 498\n",
        "Currently at item 268 of 498\n",
        "Currently at item 269 of 498"
       ]
      },
      {
       "output_type": "stream",
       "stream": "stdout",
       "text": [
        "\n",
        "Currently at item 270 of 498"
       ]
      },
      {
       "output_type": "stream",
       "stream": "stdout",
       "text": [
        "\n",
        "Currently at item 271 of 498"
       ]
      },
      {
       "output_type": "stream",
       "stream": "stdout",
       "text": [
        "\n",
        "Currently at item 272 of 498"
       ]
      },
      {
       "output_type": "stream",
       "stream": "stdout",
       "text": [
        "\n",
        "Currently at item 273 of 498"
       ]
      },
      {
       "output_type": "stream",
       "stream": "stdout",
       "text": [
        "\n",
        "Currently at item 274 of 498\n",
        "Currently at item 275 of 498"
       ]
      },
      {
       "output_type": "stream",
       "stream": "stdout",
       "text": [
        "\n",
        "Currently at item 276 of 498"
       ]
      },
      {
       "output_type": "stream",
       "stream": "stdout",
       "text": [
        "\n",
        "Currently at item 277 of 498"
       ]
      },
      {
       "output_type": "stream",
       "stream": "stdout",
       "text": [
        "\n",
        "Currently at item 278 of 498"
       ]
      },
      {
       "output_type": "stream",
       "stream": "stdout",
       "text": [
        "\n",
        "Currently at item 279 of 498"
       ]
      },
      {
       "output_type": "stream",
       "stream": "stdout",
       "text": [
        "\n",
        "Currently at item 280 of 498"
       ]
      },
      {
       "output_type": "stream",
       "stream": "stdout",
       "text": [
        "\n",
        "Currently at item 281 of 498"
       ]
      },
      {
       "output_type": "stream",
       "stream": "stdout",
       "text": [
        "\n",
        "Currently at item 282 of 498"
       ]
      },
      {
       "output_type": "stream",
       "stream": "stdout",
       "text": [
        "\n",
        "Currently at item 283 of 498"
       ]
      },
      {
       "output_type": "stream",
       "stream": "stdout",
       "text": [
        "\n",
        "Currently at item 284 of 498"
       ]
      },
      {
       "output_type": "stream",
       "stream": "stdout",
       "text": [
        "\n",
        "Currently at item 285 of 498"
       ]
      },
      {
       "output_type": "stream",
       "stream": "stdout",
       "text": [
        "\n",
        "Currently at item 286 of 498"
       ]
      },
      {
       "output_type": "stream",
       "stream": "stdout",
       "text": [
        "\n",
        "Currently at item 287 of 498"
       ]
      },
      {
       "output_type": "stream",
       "stream": "stdout",
       "text": [
        "\n",
        "Currently at item 288 of 498\n",
        "Currently at item 289 of 498"
       ]
      },
      {
       "output_type": "stream",
       "stream": "stdout",
       "text": [
        "\n",
        "Currently at item 290 of 498"
       ]
      },
      {
       "output_type": "stream",
       "stream": "stdout",
       "text": [
        "\n",
        "Currently at item 291 of 498\n",
        "Currently at item 292 of 498"
       ]
      },
      {
       "output_type": "stream",
       "stream": "stdout",
       "text": [
        "\n",
        "Currently at item 293 of 498"
       ]
      },
      {
       "output_type": "stream",
       "stream": "stdout",
       "text": [
        "\n",
        "Currently at item 294 of 498"
       ]
      },
      {
       "output_type": "stream",
       "stream": "stdout",
       "text": [
        "\n",
        "Currently at item 295 of 498\n",
        "Currently at item 296 of 498"
       ]
      },
      {
       "output_type": "stream",
       "stream": "stdout",
       "text": [
        "\n",
        "Currently at item 297 of 498"
       ]
      },
      {
       "output_type": "stream",
       "stream": "stdout",
       "text": [
        "\n",
        "Currently at item 298 of 498"
       ]
      },
      {
       "output_type": "stream",
       "stream": "stdout",
       "text": [
        "\n",
        "Currently at item 299 of 498"
       ]
      },
      {
       "output_type": "stream",
       "stream": "stdout",
       "text": [
        "\n",
        "Currently at item 300 of 498\n",
        "Currently at item 301 of 498\n",
        "Currently at item 302 of 498"
       ]
      },
      {
       "output_type": "stream",
       "stream": "stdout",
       "text": [
        "\n",
        "Currently at item 303 of 498"
       ]
      },
      {
       "output_type": "stream",
       "stream": "stdout",
       "text": [
        "\n",
        "Currently at item 304 of 498"
       ]
      },
      {
       "output_type": "stream",
       "stream": "stdout",
       "text": [
        "\n",
        "Currently at item 305 of 498"
       ]
      },
      {
       "output_type": "stream",
       "stream": "stdout",
       "text": [
        "\n",
        "Currently at item 306 of 498"
       ]
      },
      {
       "output_type": "stream",
       "stream": "stdout",
       "text": [
        "\n",
        "Currently at item 307 of 498"
       ]
      },
      {
       "output_type": "stream",
       "stream": "stdout",
       "text": [
        "\n",
        "Currently at item 308 of 498"
       ]
      },
      {
       "output_type": "stream",
       "stream": "stdout",
       "text": [
        "\n",
        "Currently at item 309 of 498"
       ]
      },
      {
       "output_type": "stream",
       "stream": "stdout",
       "text": [
        "\n",
        "Currently at item 310 of 498"
       ]
      },
      {
       "output_type": "stream",
       "stream": "stdout",
       "text": [
        "\n",
        "Currently at item 311 of 498"
       ]
      },
      {
       "output_type": "stream",
       "stream": "stdout",
       "text": [
        "\n",
        "Currently at item 312 of 498"
       ]
      },
      {
       "output_type": "stream",
       "stream": "stdout",
       "text": [
        "\n",
        "Currently at item 313 of 498"
       ]
      },
      {
       "output_type": "stream",
       "stream": "stdout",
       "text": [
        "\n",
        "Currently at item 314 of 498"
       ]
      },
      {
       "output_type": "stream",
       "stream": "stdout",
       "text": [
        "\n",
        "Currently at item 315 of 498"
       ]
      },
      {
       "output_type": "stream",
       "stream": "stdout",
       "text": [
        "\n",
        "Currently at item 316 of 498"
       ]
      },
      {
       "output_type": "stream",
       "stream": "stdout",
       "text": [
        "\n",
        "Currently at item 317 of 498"
       ]
      },
      {
       "output_type": "stream",
       "stream": "stdout",
       "text": [
        "\n",
        "Currently at item 318 of 498"
       ]
      },
      {
       "output_type": "stream",
       "stream": "stdout",
       "text": [
        "\n",
        "Currently at item 319 of 498"
       ]
      },
      {
       "output_type": "stream",
       "stream": "stdout",
       "text": [
        "\n",
        "Currently at item 320 of 498"
       ]
      },
      {
       "output_type": "stream",
       "stream": "stdout",
       "text": [
        "\n",
        "Currently at item 321 of 498"
       ]
      },
      {
       "output_type": "stream",
       "stream": "stdout",
       "text": [
        "\n",
        "Currently at item 322 of 498"
       ]
      },
      {
       "output_type": "stream",
       "stream": "stdout",
       "text": [
        "\n",
        "Currently at item 323 of 498"
       ]
      },
      {
       "output_type": "stream",
       "stream": "stdout",
       "text": [
        "\n",
        "Currently at item 324 of 498"
       ]
      },
      {
       "output_type": "stream",
       "stream": "stdout",
       "text": [
        "\n",
        "Currently at item 325 of 498"
       ]
      },
      {
       "output_type": "stream",
       "stream": "stdout",
       "text": [
        "\n",
        "Currently at item 326 of 498\n",
        "Currently at item 327 of 498"
       ]
      },
      {
       "output_type": "stream",
       "stream": "stdout",
       "text": [
        "\n",
        "Currently at item 328 of 498"
       ]
      },
      {
       "output_type": "stream",
       "stream": "stdout",
       "text": [
        "\n",
        "Currently at item 329 of 498"
       ]
      },
      {
       "output_type": "stream",
       "stream": "stdout",
       "text": [
        "\n",
        "Currently at item 330 of 498"
       ]
      },
      {
       "output_type": "stream",
       "stream": "stdout",
       "text": [
        "\n",
        "Currently at item 331 of 498"
       ]
      },
      {
       "output_type": "stream",
       "stream": "stdout",
       "text": [
        "\n",
        "Currently at item 332 of 498"
       ]
      },
      {
       "output_type": "stream",
       "stream": "stdout",
       "text": [
        "\n",
        "Currently at item 333 of 498\n",
        "Currently at item 334 of 498\n",
        "Currently at item 335 of 498"
       ]
      },
      {
       "output_type": "stream",
       "stream": "stdout",
       "text": [
        "\n",
        "Currently at item 336 of 498"
       ]
      },
      {
       "output_type": "stream",
       "stream": "stdout",
       "text": [
        "\n",
        "Currently at item 337 of 498"
       ]
      },
      {
       "output_type": "stream",
       "stream": "stdout",
       "text": [
        "\n",
        "Currently at item 338 of 498\n",
        "Currently at item 339 of 498"
       ]
      },
      {
       "output_type": "stream",
       "stream": "stdout",
       "text": [
        "\n",
        "Currently at item 340 of 498"
       ]
      },
      {
       "output_type": "stream",
       "stream": "stdout",
       "text": [
        "\n",
        "Currently at item 341 of 498\n",
        "Currently at item 342 of 498"
       ]
      },
      {
       "output_type": "stream",
       "stream": "stdout",
       "text": [
        "\n",
        "Currently at item 343 of 498\n",
        "Currently at item 344 of 498"
       ]
      },
      {
       "output_type": "stream",
       "stream": "stdout",
       "text": [
        "\n",
        "Currently at item 345 of 498\n",
        "Currently at item 346 of 498"
       ]
      },
      {
       "output_type": "stream",
       "stream": "stdout",
       "text": [
        "\n",
        "Currently at item 347 of 498\n",
        "Currently at item 348 of 498"
       ]
      },
      {
       "output_type": "stream",
       "stream": "stdout",
       "text": [
        "\n",
        "Currently at item 349 of 498"
       ]
      },
      {
       "output_type": "stream",
       "stream": "stdout",
       "text": [
        "\n",
        "Currently at item 350 of 498\n",
        "Currently at item 351 of 498"
       ]
      },
      {
       "output_type": "stream",
       "stream": "stdout",
       "text": [
        "\n",
        "Currently at item 352 of 498"
       ]
      },
      {
       "output_type": "stream",
       "stream": "stdout",
       "text": [
        "\n",
        "Currently at item 353 of 498"
       ]
      },
      {
       "output_type": "stream",
       "stream": "stdout",
       "text": [
        "\n",
        "Currently at item 354 of 498"
       ]
      },
      {
       "output_type": "stream",
       "stream": "stdout",
       "text": [
        "\n",
        "Currently at item 355 of 498"
       ]
      },
      {
       "output_type": "stream",
       "stream": "stdout",
       "text": [
        "\n",
        "Currently at item 356 of 498"
       ]
      },
      {
       "output_type": "stream",
       "stream": "stdout",
       "text": [
        "\n",
        "Currently at item 357 of 498"
       ]
      },
      {
       "output_type": "stream",
       "stream": "stdout",
       "text": [
        "\n",
        "Currently at item 358 of 498"
       ]
      },
      {
       "output_type": "stream",
       "stream": "stdout",
       "text": [
        "\n",
        "Currently at item 359 of 498"
       ]
      },
      {
       "output_type": "stream",
       "stream": "stdout",
       "text": [
        "\n",
        "Currently at item 360 of 498\n",
        "Currently at item 361 of 498"
       ]
      },
      {
       "output_type": "stream",
       "stream": "stdout",
       "text": [
        "\n",
        "Currently at item 362 of 498"
       ]
      },
      {
       "output_type": "stream",
       "stream": "stdout",
       "text": [
        "\n",
        "Currently at item 363 of 498"
       ]
      },
      {
       "output_type": "stream",
       "stream": "stdout",
       "text": [
        "\n",
        "Currently at item 364 of 498"
       ]
      },
      {
       "output_type": "stream",
       "stream": "stdout",
       "text": [
        "\n",
        "Currently at item 365 of 498"
       ]
      },
      {
       "output_type": "stream",
       "stream": "stdout",
       "text": [
        "\n",
        "Currently at item 366 of 498"
       ]
      },
      {
       "output_type": "stream",
       "stream": "stdout",
       "text": [
        "\n",
        "Currently at item 367 of 498"
       ]
      },
      {
       "output_type": "stream",
       "stream": "stdout",
       "text": [
        "\n",
        "Currently at item 368 of 498"
       ]
      },
      {
       "output_type": "stream",
       "stream": "stdout",
       "text": [
        "\n",
        "Currently at item 369 of 498"
       ]
      },
      {
       "output_type": "stream",
       "stream": "stdout",
       "text": [
        "\n",
        "Currently at item 370 of 498"
       ]
      },
      {
       "output_type": "stream",
       "stream": "stdout",
       "text": [
        "\n",
        "Currently at item 371 of 498"
       ]
      },
      {
       "output_type": "stream",
       "stream": "stdout",
       "text": [
        "\n",
        "Currently at item 372 of 498"
       ]
      },
      {
       "output_type": "stream",
       "stream": "stdout",
       "text": [
        "\n",
        "Currently at item 373 of 498\n",
        "Currently at item 374 of 498"
       ]
      },
      {
       "output_type": "stream",
       "stream": "stdout",
       "text": [
        "\n",
        "Currently at item 375 of 498"
       ]
      },
      {
       "output_type": "stream",
       "stream": "stdout",
       "text": [
        "\n",
        "Currently at item 376 of 498"
       ]
      },
      {
       "output_type": "stream",
       "stream": "stdout",
       "text": [
        "\n",
        "Currently at item 377 of 498"
       ]
      },
      {
       "output_type": "stream",
       "stream": "stdout",
       "text": [
        "\n",
        "Currently at item 378 of 498"
       ]
      },
      {
       "output_type": "stream",
       "stream": "stdout",
       "text": [
        "\n",
        "Currently at item 379 of 498"
       ]
      },
      {
       "output_type": "stream",
       "stream": "stdout",
       "text": [
        "\n",
        "Currently at item 380 of 498"
       ]
      },
      {
       "output_type": "stream",
       "stream": "stdout",
       "text": [
        "\n",
        "Currently at item 381 of 498"
       ]
      },
      {
       "output_type": "stream",
       "stream": "stdout",
       "text": [
        "\n",
        "Currently at item 382 of 498"
       ]
      },
      {
       "output_type": "stream",
       "stream": "stdout",
       "text": [
        "\n",
        "Currently at item 383 of 498"
       ]
      },
      {
       "output_type": "stream",
       "stream": "stdout",
       "text": [
        "\n",
        "Currently at item 384 of 498"
       ]
      },
      {
       "output_type": "stream",
       "stream": "stdout",
       "text": [
        "\n",
        "Currently at item 385 of 498"
       ]
      },
      {
       "output_type": "stream",
       "stream": "stdout",
       "text": [
        "\n",
        "Currently at item 386 of 498\n",
        "Currently at item 387 of 498"
       ]
      },
      {
       "output_type": "stream",
       "stream": "stdout",
       "text": [
        "\n",
        "Currently at item 388 of 498"
       ]
      },
      {
       "output_type": "stream",
       "stream": "stdout",
       "text": [
        "\n",
        "Currently at item 389 of 498"
       ]
      },
      {
       "output_type": "stream",
       "stream": "stdout",
       "text": [
        "\n",
        "Currently at item 390 of 498"
       ]
      },
      {
       "output_type": "stream",
       "stream": "stdout",
       "text": [
        "\n",
        "Currently at item 391 of 498"
       ]
      },
      {
       "output_type": "stream",
       "stream": "stdout",
       "text": [
        "\n",
        "Currently at item 392 of 498"
       ]
      },
      {
       "output_type": "stream",
       "stream": "stdout",
       "text": [
        "\n",
        "Currently at item 393 of 498"
       ]
      },
      {
       "output_type": "stream",
       "stream": "stdout",
       "text": [
        "\n",
        "Currently at item 394 of 498\n",
        "Currently at item 395 of 498"
       ]
      },
      {
       "output_type": "stream",
       "stream": "stdout",
       "text": [
        "\n",
        "Currently at item 396 of 498\n",
        "Currently at item 397 of 498"
       ]
      },
      {
       "output_type": "stream",
       "stream": "stdout",
       "text": [
        "\n",
        "Currently at item 398 of 498"
       ]
      },
      {
       "output_type": "stream",
       "stream": "stdout",
       "text": [
        "\n",
        "Currently at item 399 of 498"
       ]
      },
      {
       "output_type": "stream",
       "stream": "stdout",
       "text": [
        "\n",
        "Currently at item 400 of 498"
       ]
      },
      {
       "output_type": "stream",
       "stream": "stdout",
       "text": [
        "\n",
        "Currently at item 401 of 498"
       ]
      },
      {
       "output_type": "stream",
       "stream": "stdout",
       "text": [
        "\n",
        "Currently at item 402 of 498"
       ]
      },
      {
       "output_type": "stream",
       "stream": "stdout",
       "text": [
        "\n",
        "Currently at item 403 of 498"
       ]
      },
      {
       "output_type": "stream",
       "stream": "stdout",
       "text": [
        "\n",
        "Currently at item 404 of 498"
       ]
      },
      {
       "output_type": "stream",
       "stream": "stdout",
       "text": [
        "\n",
        "Currently at item 405 of 498"
       ]
      },
      {
       "output_type": "stream",
       "stream": "stdout",
       "text": [
        "\n",
        "Currently at item 406 of 498"
       ]
      },
      {
       "output_type": "stream",
       "stream": "stdout",
       "text": [
        "\n",
        "Currently at item 407 of 498"
       ]
      },
      {
       "output_type": "stream",
       "stream": "stdout",
       "text": [
        "\n",
        "Currently at item 408 of 498\n",
        "Currently at item 409 of 498"
       ]
      },
      {
       "output_type": "stream",
       "stream": "stdout",
       "text": [
        "\n",
        "Currently at item 410 of 498\n",
        "Currently at item 411 of 498"
       ]
      },
      {
       "output_type": "stream",
       "stream": "stdout",
       "text": [
        "\n",
        "Currently at item 412 of 498\n",
        "Currently at item 413 of 498"
       ]
      },
      {
       "output_type": "stream",
       "stream": "stdout",
       "text": [
        "\n",
        "Currently at item 414 of 498"
       ]
      },
      {
       "output_type": "stream",
       "stream": "stdout",
       "text": [
        "\n",
        "Currently at item 415 of 498"
       ]
      },
      {
       "output_type": "stream",
       "stream": "stdout",
       "text": [
        "\n",
        "Currently at item 416 of 498"
       ]
      },
      {
       "output_type": "stream",
       "stream": "stdout",
       "text": [
        "\n",
        "Currently at item 417 of 498"
       ]
      },
      {
       "output_type": "stream",
       "stream": "stdout",
       "text": [
        "\n",
        "Currently at item 418 of 498\n",
        "Currently at item 419 of 498"
       ]
      },
      {
       "output_type": "stream",
       "stream": "stdout",
       "text": [
        "\n",
        "Currently at item 420 of 498"
       ]
      },
      {
       "output_type": "stream",
       "stream": "stdout",
       "text": [
        "\n",
        "Currently at item 421 of 498"
       ]
      },
      {
       "output_type": "stream",
       "stream": "stdout",
       "text": [
        "\n",
        "Currently at item 422 of 498"
       ]
      },
      {
       "output_type": "stream",
       "stream": "stdout",
       "text": [
        "\n",
        "Currently at item 423 of 498"
       ]
      },
      {
       "output_type": "stream",
       "stream": "stdout",
       "text": [
        "\n",
        "Currently at item 424 of 498\n",
        "Currently at item 425 of 498\n",
        "Currently at item 426 of 498"
       ]
      },
      {
       "output_type": "stream",
       "stream": "stdout",
       "text": [
        "\n",
        "Currently at item 427 of 498\n",
        "Currently at item 428 of 498"
       ]
      },
      {
       "output_type": "stream",
       "stream": "stdout",
       "text": [
        "\n",
        "Currently at item 429 of 498"
       ]
      },
      {
       "output_type": "stream",
       "stream": "stdout",
       "text": [
        "\n",
        "Currently at item 430 of 498"
       ]
      },
      {
       "output_type": "stream",
       "stream": "stdout",
       "text": [
        "\n",
        "Currently at item 431 of 498"
       ]
      },
      {
       "output_type": "stream",
       "stream": "stdout",
       "text": [
        "\n",
        "Currently at item 432 of 498\n",
        "Currently at item 433 of 498"
       ]
      },
      {
       "output_type": "stream",
       "stream": "stdout",
       "text": [
        "\n",
        "Currently at item 434 of 498\n",
        "Currently at item 435 of 498"
       ]
      },
      {
       "output_type": "stream",
       "stream": "stdout",
       "text": [
        "\n",
        "Currently at item 436 of 498"
       ]
      },
      {
       "output_type": "stream",
       "stream": "stdout",
       "text": [
        "\n",
        "Currently at item 437 of 498"
       ]
      },
      {
       "output_type": "stream",
       "stream": "stdout",
       "text": [
        "\n",
        "Currently at item 438 of 498"
       ]
      },
      {
       "output_type": "stream",
       "stream": "stdout",
       "text": [
        "\n",
        "Currently at item 439 of 498"
       ]
      },
      {
       "output_type": "stream",
       "stream": "stdout",
       "text": [
        "\n",
        "Currently at item 440 of 498"
       ]
      },
      {
       "output_type": "stream",
       "stream": "stdout",
       "text": [
        "\n",
        "Currently at item 441 of 498"
       ]
      },
      {
       "output_type": "stream",
       "stream": "stdout",
       "text": [
        "\n",
        "Currently at item 442 of 498"
       ]
      },
      {
       "output_type": "stream",
       "stream": "stdout",
       "text": [
        "\n",
        "Currently at item 443 of 498\n",
        "Currently at item 444 of 498"
       ]
      },
      {
       "output_type": "stream",
       "stream": "stdout",
       "text": [
        "\n",
        "Currently at item 445 of 498"
       ]
      },
      {
       "output_type": "stream",
       "stream": "stdout",
       "text": [
        "\n",
        "Currently at item 446 of 498"
       ]
      },
      {
       "output_type": "stream",
       "stream": "stdout",
       "text": [
        "\n",
        "Currently at item 447 of 498"
       ]
      },
      {
       "output_type": "stream",
       "stream": "stdout",
       "text": [
        "\n",
        "Currently at item 448 of 498"
       ]
      },
      {
       "output_type": "stream",
       "stream": "stdout",
       "text": [
        "\n",
        "Currently at item 449 of 498"
       ]
      },
      {
       "output_type": "stream",
       "stream": "stdout",
       "text": [
        "\n",
        "Currently at item 450 of 498\n",
        "Currently at item 451 of 498"
       ]
      },
      {
       "output_type": "stream",
       "stream": "stdout",
       "text": [
        "\n",
        "Currently at item 452 of 498"
       ]
      },
      {
       "output_type": "stream",
       "stream": "stdout",
       "text": [
        "\n",
        "Currently at item 453 of 498\n",
        "Currently at item 454 of 498"
       ]
      },
      {
       "output_type": "stream",
       "stream": "stdout",
       "text": [
        "\n",
        "Currently at item 455 of 498"
       ]
      },
      {
       "output_type": "stream",
       "stream": "stdout",
       "text": [
        "\n",
        "Currently at item 456 of 498"
       ]
      },
      {
       "output_type": "stream",
       "stream": "stdout",
       "text": [
        "\n",
        "Currently at item 457 of 498"
       ]
      },
      {
       "output_type": "stream",
       "stream": "stdout",
       "text": [
        "\n",
        "Currently at item 458 of 498"
       ]
      },
      {
       "output_type": "stream",
       "stream": "stdout",
       "text": [
        "\n",
        "Currently at item 459 of 498"
       ]
      },
      {
       "output_type": "stream",
       "stream": "stdout",
       "text": [
        "\n",
        "Currently at item 460 of 498"
       ]
      },
      {
       "output_type": "stream",
       "stream": "stdout",
       "text": [
        "\n",
        "Currently at item 461 of 498"
       ]
      },
      {
       "output_type": "stream",
       "stream": "stdout",
       "text": [
        "\n",
        "Currently at item 462 of 498"
       ]
      },
      {
       "output_type": "stream",
       "stream": "stdout",
       "text": [
        "\n",
        "Currently at item 463 of 498"
       ]
      },
      {
       "output_type": "stream",
       "stream": "stdout",
       "text": [
        "\n",
        "Currently at item 464 of 498\n",
        "Currently at item 465 of 498"
       ]
      },
      {
       "output_type": "stream",
       "stream": "stdout",
       "text": [
        "\n",
        "Currently at item 466 of 498\n",
        "Currently at item 467 of 498\n",
        "Currently at item 468 of 498"
       ]
      },
      {
       "output_type": "stream",
       "stream": "stdout",
       "text": [
        "\n",
        "Currently at item 469 of 498"
       ]
      },
      {
       "output_type": "stream",
       "stream": "stdout",
       "text": [
        "\n",
        "Currently at item 470 of 498"
       ]
      },
      {
       "output_type": "stream",
       "stream": "stdout",
       "text": [
        "\n",
        "Currently at item 471 of 498"
       ]
      },
      {
       "output_type": "stream",
       "stream": "stdout",
       "text": [
        "\n",
        "Currently at item 472 of 498"
       ]
      },
      {
       "output_type": "stream",
       "stream": "stdout",
       "text": [
        "\n",
        "Currently at item 473 of 498\n",
        "Currently at item 474 of 498"
       ]
      },
      {
       "output_type": "stream",
       "stream": "stdout",
       "text": [
        "\n",
        "Currently at item 475 of 498"
       ]
      },
      {
       "output_type": "stream",
       "stream": "stdout",
       "text": [
        "\n",
        "Currently at item 476 of 498"
       ]
      },
      {
       "output_type": "stream",
       "stream": "stdout",
       "text": [
        "\n",
        "Currently at item 477 of 498"
       ]
      },
      {
       "output_type": "stream",
       "stream": "stdout",
       "text": [
        "\n",
        "Currently at item 478 of 498"
       ]
      },
      {
       "output_type": "stream",
       "stream": "stdout",
       "text": [
        "\n",
        "Currently at item 479 of 498"
       ]
      },
      {
       "output_type": "stream",
       "stream": "stdout",
       "text": [
        "\n",
        "Currently at item 480 of 498\n",
        "Currently at item 481 of 498"
       ]
      },
      {
       "output_type": "stream",
       "stream": "stdout",
       "text": [
        "\n",
        "Currently at item 482 of 498"
       ]
      },
      {
       "output_type": "stream",
       "stream": "stdout",
       "text": [
        "\n",
        "Currently at item 483 of 498\n",
        "Currently at item 484 of 498"
       ]
      },
      {
       "output_type": "stream",
       "stream": "stdout",
       "text": [
        "\n",
        "Currently at item 485 of 498\n",
        "Currently at item 486 of 498"
       ]
      },
      {
       "output_type": "stream",
       "stream": "stdout",
       "text": [
        "\n",
        "Currently at item 487 of 498"
       ]
      },
      {
       "output_type": "stream",
       "stream": "stdout",
       "text": [
        "\n",
        "Currently at item 488 of 498\n",
        "Currently at item 489 of 498"
       ]
      },
      {
       "output_type": "stream",
       "stream": "stdout",
       "text": [
        "\n",
        "Currently at item 490 of 498"
       ]
      },
      {
       "output_type": "stream",
       "stream": "stdout",
       "text": [
        "\n",
        "Currently at item 491 of 498\n",
        "Currently at item 492 of 498\n",
        "Currently at item 493 of 498"
       ]
      },
      {
       "output_type": "stream",
       "stream": "stdout",
       "text": [
        "\n",
        "Currently at item 494 of 498"
       ]
      },
      {
       "output_type": "stream",
       "stream": "stdout",
       "text": [
        "\n",
        "Currently at item 495 of 498"
       ]
      },
      {
       "output_type": "stream",
       "stream": "stdout",
       "text": [
        "\n",
        "Currently at item 496 of 498"
       ]
      },
      {
       "output_type": "stream",
       "stream": "stdout",
       "text": [
        "\n",
        "Currently at item 497 of 498"
       ]
      },
      {
       "output_type": "stream",
       "stream": "stdout",
       "text": [
        "\n",
        "775.300033092"
       ]
      },
      {
       "output_type": "stream",
       "stream": "stdout",
       "text": [
        "\n"
       ]
      }
     ],
     "prompt_number": 28
    },
    {
     "cell_type": "code",
     "collapsed": false,
     "input": [
      "starttime = time()\n",
      "for sink_isolate in reassortant_isolates.keys():\n",
      "    for source_pair in reassortant_isolates[sink_isolate].keys():\n",
      "        sum_weights = 0\n",
      "        for segment in reassortant_isolates[sink_isolate][source_pair].keys():\n",
      "            sum_weights += reassortant_isolates[sink_isolate][source_pair][segment][1]\n",
      "            \n",
      "        reassortant_isolates[sink_isolate][source_pair]['sum'] = sum_weights\n",
      "        \n",
      "endtime = time()\n",
      "print(endtime - starttime)"
     ],
     "language": "python",
     "metadata": {},
     "outputs": [
      {
       "output_type": "stream",
       "stream": "stdout",
       "text": [
        "4.81945109367\n"
       ]
      }
     ],
     "prompt_number": 29
    },
    {
     "cell_type": "code",
     "collapsed": false,
     "input": [
      "starttime = time()\n",
      "\n",
      "\n",
      "# Prune down to maximum parsimony - only most similar.\n",
      "for sink_isolate in reassortant_isolates.keys():\n",
      "    # First off, find max weight\n",
      "    max_weight = 0\n",
      "    for source_pair in reassortant_isolates[sink_isolate].keys():\n",
      "        if reassortant_isolates[sink_isolate][source_pair]['sum'] > max_weight: \n",
      "            max_weight = reassortant_isolates[sink_isolate][source_pair]['sum']\n",
      "            \n",
      "    # Then, compare every possible source pair, and delete it if sum < max_weight\n",
      "    for source_pair in reassortant_isolates[sink_isolate].keys():\n",
      "        if reassortant_isolates[sink_isolate][source_pair]['sum'] < max_weight:\n",
      "            del reassortant_isolates[sink_isolate][source_pair]\n",
      "            \n",
      "endtime = time()\n",
      "print(endtime - starttime)"
     ],
     "language": "python",
     "metadata": {},
     "outputs": [
      {
       "output_type": "stream",
       "stream": "stdout",
       "text": [
        "1.87030386925\n"
       ]
      }
     ],
     "prompt_number": 30
    },
    {
     "cell_type": "code",
     "collapsed": false,
     "input": [
      "# Write a report of all the reassortant viruses\n",
      "with open('Reassortants Identified.txt', 'w+') as f:\n",
      "    for sink_isolate in reassortant_isolates.keys():\n",
      "        f.write(sink_isolate + '\\n')\n",
      "#         if len(reassortant_isolates[sink_isolate].keys()) > 1:\n",
      "        for source_pair in reassortant_isolates[sink_isolate].keys():\n",
      "            f.write(str(source_pair) + '\\n')\n",
      "        \n",
      "        f.write(\"\\n\")"
     ],
     "language": "python",
     "metadata": {},
     "outputs": [],
     "prompt_number": 31
    },
    {
     "cell_type": "code",
     "collapsed": false,
     "input": [
      "# Open up the list of reassortant isolates identified by network methods\n",
      "network_reassortants = pd.read_csv('Reassortants by Network Analysis.csv', index_col=0, header=None)\n",
      "matrix_reassortants = set(reassortant_isolates)\n",
      "in_network_not_in_matrix = set(network_reassortants[1]).difference(set(matrix_reassortants))\n",
      "in_network_not_in_matrix\n",
      "# in_matrix_not_in_network = set(matrix_reassortants).difference(set(network_reassortants[1]))\n",
      "# in_matrix_not_in_network"
     ],
     "language": "python",
     "metadata": {},
     "outputs": [
      {
       "metadata": {},
       "output_type": "pyout",
       "prompt_number": 32,
       "text": [
        "{'A/American coot/Mississippi/09OS615/2009',\n",
        " 'A/common goldeneye/Wisconsin/10OS4202/2010',\n",
        " 'A/glaucous-winged gull/Southeastern Alaska/10JR01856R0/2010',\n",
        " 'A/glaucous-winged gull/Southeastern Alaska/9JR0822R0/2009',\n",
        " 'A/laughing gull/New Jersey/Sg-00485/2008',\n",
        " 'A/long-tailed duck/Wisconsin/10OS3919/2010',\n",
        " 'A/turkey/Ontario/FAV-3/2011',\n",
        " 'A/turkey/Ontario/FAV-9/2011',\n",
        " 'A/turkey/Ontario/FAV114-17/2009'}"
       ]
      }
     ],
     "prompt_number": 32
    },
    {
     "cell_type": "code",
     "collapsed": false,
     "input": [
      "# Query whether these guys are present in the matrix reassortants\n",
      "for isolate in in_network_not_in_matrix:\n",
      "    print isolate\n",
      "    print condensed_graph[isolate][condensed_graph[isolate] > 7]"
     ],
     "language": "python",
     "metadata": {},
     "outputs": [
      {
       "output_type": "stream",
       "stream": "stdout",
       "text": [
        "A/common goldeneye/Wisconsin/10OS4202/2010\n",
        "Series([], dtype: float64)\n",
        "A/turkey/Ontario/FAV-9/2011\n",
        "Series([], dtype: float64)\n",
        "A/American coot/Mississippi/09OS615/2009\n",
        "Series([], dtype: float64)\n",
        "A/glaucous-winged gull/Southeastern Alaska/9JR0822R0/2009\n",
        "Series([], dtype: float64)\n",
        "A/long-tailed duck/Wisconsin/10OS3919/2010\n",
        "Series([], dtype: float64)\n",
        "A/turkey/Ontario/FAV114-17/2009\n",
        "Series([], dtype: float64)\n",
        "A/glaucous-winged gull/Southeastern Alaska/10JR01856R0/2010\n",
        "Series([], dtype: float64)\n",
        "A/turkey/Ontario/FAV-3/2011\n",
        "Series([], dtype: float64)\n",
        "A/laughing gull/New Jersey/Sg-00485/2008\n",
        "Series([], dtype: float64)\n"
       ]
      }
     ],
     "prompt_number": 33
    },
    {
     "cell_type": "code",
     "collapsed": false,
     "input": [
      "length_of_sources_list = []\n",
      "for sink, sources_dict in reassortant_isolates.iteritems():\n",
      "    num_sources = len(sources_dict.keys())\n",
      "#     if num_sources > 0:\n",
      "    length_of_sources_list.append(num_sources)\n",
      "\n",
      "fig = plt.figure()\n",
      "ax = fig.add_subplot(111)\n",
      "plt.hist(length_of_sources_list, bins=100)\n",
      "# plt.xlim((0, 10000))\n",
      "plt.xlabel('Number of Parental Combinations')\n",
      "plt.ylabel('Number of Reassortant Isolates')\n",
      "plt.title('Distribution of Number of Parental Combinations')\n",
      "plt.savefig('Reassortant Identification - Distribution of Number of Parental Combinations.pdf')"
     ],
     "language": "python",
     "metadata": {},
     "outputs": [
      {
       "metadata": {},
       "output_type": "display_data",
       "png": "[encoded data removed]",
       "text": [
        "<matplotlib.figure.Figure at 0x18ac1a390>"
       ]
      }
     ],
     "prompt_number": 34
    },
    {
     "cell_type": "code",
     "collapsed": false,
     "input": [
      "Counter(length_of_sources_list)"
     ],
     "language": "python",
     "metadata": {},
     "outputs": [
      {
       "metadata": {},
       "output_type": "pyout",
       "prompt_number": 35,
       "text": [
        "Counter({1: 382, 0: 56, 2: 35, 3: 12, 4: 6, 5: 1, 6: 1, 7: 1, 8: 1, 11: 1, 77: 1, 14: 1})"
       ]
      }
     ],
     "prompt_number": 35
    },
    {
     "cell_type": "code",
     "collapsed": false,
     "input": [
      "reassortant_isolates.keys()"
     ],
     "language": "python",
     "metadata": {},
     "outputs": [
      {
       "metadata": {},
       "output_type": "pyout",
       "prompt_number": 36,
       "text": [
        "['A/shorebird/Delaware Bay/331/2008',\n",
        " 'A/northern pintail/Interior Alaska/9BM6248R0/2009',\n",
        " 'A/blue-winged teal/Missouri/10MO0011/2010',\n",
        " 'A/mallard/Quebec/02916-1/2009',\n",
        " 'A/northern shoveler/California/2815/2011',\n",
        " 'A/American green-winged teal/Wisconsin/2743/2009',\n",
        " 'A/shorebird/Delaware Bay/655/2009',\n",
        " 'A/northern pintail/Interior Alaska/8BM3723/2008',\n",
        " 'A/shorebird/Delaware Bay/181/2009',\n",
        " 'A/blue-winged Teal/Minnesota/AI09-2977/2009',\n",
        " 'A/northern shoveler/Mississippi/397/2010',\n",
        " 'A/mallard/California/3134/2010',\n",
        " 'A/blue-winged Teal/North Dakota/AI09-2912/2009',\n",
        " 'A/American black duck/Illinois/4119/2009',\n",
        " 'A/ruddy turnstone/New Jersey/AI09-727/2009',\n",
        " 'A/blue-winged teal/Prince Edward Island/03910/2009',\n",
        " 'A/mallard/Wisconsin/4203/2009',\n",
        " 'A/northern pintail/Interior Alaska/8BM3731/2008',\n",
        " 'A/long-tailed duck/Wisconsin/10OS3915/2010',\n",
        " 'A/mallard/Wisconsin/08OS2841/2008',\n",
        " 'A/blue-winged teal/North Dakota/Sg-00740/2008',\n",
        " 'A/mallard/Arkansas/AI09-5900/2009',\n",
        " 'A/northern pintail/Missouri/319/2009',\n",
        " 'A/mallard/Ohio/11OS1966/2011',\n",
        " 'A/green winged teal/California/AKS1305/2008',\n",
        " 'A/mallard/Minnesota/AI08-5469/2008',\n",
        " 'A/northern shoveler/California/3676/2010',\n",
        " 'A/green-winged teal/New Brunswick/00331/2010',\n",
        " 'A/ruddy turnstone/New Jersey/AI09-1071/2009',\n",
        " 'A/mallard/Minnesota/AI09-2509/2009',\n",
        " 'A/mallard/Illinois/3974/2009',\n",
        " 'A/northern pintail/Interior Alaska/9BM8415R2/2009',\n",
        " 'A/mallard/Wisconsin/11OS4362/2011',\n",
        " 'A/mallard/Alberta/551/2009',\n",
        " 'A/northern pintail/Interior Alaska/9BM11757R0/2009',\n",
        " 'A/mallard/Minnesota/AI09-3228/2009',\n",
        " 'A/lesser scaup/Illinois/4115/2009',\n",
        " 'A/mallard/Alberta/590/2010',\n",
        " 'A/shorebird/Delaware Bay/604/2008',\n",
        " 'A/ruddy turnstone/New Jersey/AI09-372/2009',\n",
        " 'A/northern pintail/Interior Alaska/10BM02549R0/2010',\n",
        " 'A/red-necked grebe/Minnesota/AI10-2528/2010',\n",
        " 'A/mallard/California/9704/2008',\n",
        " 'A/northern shoveler/California/9680/2008',\n",
        " 'A/American wigeon/Minnesota/Sg-01067/2008',\n",
        " 'A/mallard/North Dakota/Sg-00737/2008',\n",
        " 'A/mallard/Minnesota/AI09-2434/2009',\n",
        " 'A/mallard/North Dakota/Sg-00703/2008',\n",
        " 'A/mallard/Wisconsin/11OS3407/2011',\n",
        " 'A/mallard/New Jersey/AI09-5121/2009',\n",
        " 'A/American black duck/New Brunswick/03451/2009',\n",
        " 'A/mallard/Ohio/10OS1354/2010',\n",
        " 'A/blue-winged teal/Alberta/405/2008',\n",
        " 'A/mallard/Wisconsin/11OS3577/2011',\n",
        " 'A/green-winged teal/Minnesota/Sg-00820/2008',\n",
        " 'A/American green-winged teal/Wisconsin/11OS3425/2011',\n",
        " 'A/mallard/Minnesota/Sg-00768/2008',\n",
        " 'A/mallard/Ohio/11OS2095/2011',\n",
        " 'A/American green-winged teal/Interior Alaska/10BM04207R0/2010',\n",
        " 'A/mallard/Nova Scotia/00375/2010',\n",
        " 'A/blue-winged teal/North Dakota/Sg-00730/2008',\n",
        " 'A/mallard/Alberta/289/2009',\n",
        " 'A/mallard/California/11100/2008',\n",
        " 'A/mallard/Interior Alaska/8BM2312/2008',\n",
        " 'A/mallard/Wisconsin/10OS3171/2010',\n",
        " 'A/shorebird/Delaware Bay/318/2009',\n",
        " 'A/mallard/Arkansas/AI09-6032/2009',\n",
        " 'A/mallard/Minnesota/AI10-2762/2010',\n",
        " 'A/blue-winged teal/Wisconsin/2509/2009',\n",
        " 'A/northern pintail/Interior Alaska/8BM3700/2008',\n",
        " 'A/duck/SK/4612/2010',\n",
        " 'A/mallard/California/8118/2008',\n",
        " 'A/ruddy turnstone/New Jersey/Sg-00532/2008',\n",
        " 'A/northern pintail/Interior Alaska/9BM8109R0/2009',\n",
        " 'A/mallard/Wisconsin/10OS3144/2010',\n",
        " 'A/American green-winged teal/Wisconsin/08OS2270/2008',\n",
        " 'A/American green-winged teal/Illinois/3443/2009',\n",
        " 'A/mallard/Wisconsin/3165/2009',\n",
        " 'A/mallard/California/2552V/2011',\n",
        " 'A/American green-winged teal/Mississippi/11OS90/2011',\n",
        " 'A/mallard/California/6768/2009',\n",
        " 'A/blue-winged Teal/Texas/AI09-3464/2009',\n",
        " 'A/northern pintail/California/2548/2010',\n",
        " 'A/blue-winged teal/New Brunswick/00288/2010',\n",
        " 'A/green-winged teal/California/8326/2008',\n",
        " 'A/mallard/Minnesota/AI09-1870/2009',\n",
        " 'A/ruddy turnstone/New Jersey/AI09-937/2009',\n",
        " 'A/mallard/California/6957/2008',\n",
        " 'A/mallard/California/5351/2009',\n",
        " 'A/blue-winged teal/Missouri/11OS2563/2011',\n",
        " 'A/blue-winged teal/North Dakota/Sg-00706/2008',\n",
        " 'A/mallard/California/8028/2008',\n",
        " 'A/American green-winged teal/Texas/AI09-4396/2009',\n",
        " 'A/mallard/Wisconsin/08OS2261/2008',\n",
        " 'A/mallard/Ohio/11OS2216/2011',\n",
        " 'A/northern shoveler/California/3046/2010',\n",
        " 'A/northern pintail/Interior Alaska/8BM3736/2008',\n",
        " 'A/long-tailed duck/Wisconsin/11OS4520/2011',\n",
        " 'A/northern pintail/Illinois/11OS4796/2011',\n",
        " 'A/mallard/Ohio/1686/2009',\n",
        " 'A/northern shoveler/California/3628/2011',\n",
        " 'A/northern pintail/Minnesota/AI09-3254/2009',\n",
        " 'A/American black duck/New Brunswick/00867/2010',\n",
        " 'A/mallard/Wisconsin/4218/2009',\n",
        " 'A/mallard/Missouri/10MO084/2010',\n",
        " 'A/mallard/California/6744/2009',\n",
        " 'A/northern pintail/Illinois/10OS3959/2010',\n",
        " 'A/northern pintail/California/3466/2010',\n",
        " 'A/mallard/Wisconsin/10OS3066/2010',\n",
        " 'A/mallard/Mississippi/442/2010',\n",
        " 'A/mallard/Illinois/11OS5564/2011',\n",
        " 'A/shorebird/Delaware Bay/329/2008',\n",
        " 'A/long-tailed duck/Wisconsin/11OS4248/2011',\n",
        " 'A/mallard/Interior Alaska/10BM02980R0/2010',\n",
        " 'A/ruddy turnstone/New Jersey/Sg-00552/2008',\n",
        " 'A/ruddy turnstone/New Jersey/AI09-1144/2009',\n",
        " 'A/mallard/Illinois/10OS3599/2010',\n",
        " 'A/mallard/New Jersey/Sg-00884/2008',\n",
        " 'A/northern shoveler/Missouri/196/2009',\n",
        " 'A/northern pintail/Interior Alaska/9BM11911R0/2009',\n",
        " 'A/blue-winged teal/North Dakota/Sg-00719/2008',\n",
        " 'A/ruddy turnstone/New Jersey/AI09-841/2009',\n",
        " 'A/blue-winged teal/Wisconsin/2649/2009',\n",
        " 'A/ruddy turnstone/New Jersey/AI09-1292/2009',\n",
        " 'A/mallard/Wisconsin/10OS1604/2010',\n",
        " 'A/blue-winged teal/Prince Edward Island/00849/2010',\n",
        " 'A/ring-necked duck/New Brunswick/03449/2009',\n",
        " 'A/mallard/Wisconsin/2719/2009',\n",
        " 'A/mallard/Minnesota/AI09-2749/2009',\n",
        " 'A/northern pintail/Interior Alaska/9BM11787R0/2009',\n",
        " 'A/mallard/Minnesota/Sg-00692/2008',\n",
        " 'A/mallard/California/8843/2008',\n",
        " 'A/swan/BC/2045/2008',\n",
        " 'A/mallard/Minnesota/Sg-01047/2008',\n",
        " 'A/ruddy turnstone/New Jersey/Sg-00522/2008',\n",
        " 'A/northern pintail/Interior Alaska/8BM3658/2008',\n",
        " 'A/mallard/California/11353/2008',\n",
        " 'A/ruddy turnstone/New Jersey/AI09-119/2009',\n",
        " 'A/blue-winged teal/Wisconsin/2720/2009',\n",
        " 'A/northern shoveler/Missouri/10MO0294/2010',\n",
        " 'A/American green-winged teal/Wisconsin/10OS2847/2010',\n",
        " 'A/mallard/California/2559P/2011',\n",
        " 'A/northern shoveler/California/6535/2009',\n",
        " 'A/duck/SK/4628/2010',\n",
        " 'A/mallard/Wisconsin/11OS4081/2011',\n",
        " 'A/northern pintail/Interior Alaska/8BM3582/2008',\n",
        " 'A/mallard/Wisconsin/11OS4104/2011',\n",
        " 'A/blue-winged teal/Missouri/10MO013/2010',\n",
        " 'A/mallard/Alberta/507/2008',\n",
        " 'A/bufflehead/Wisconsin/11OS3570/2011',\n",
        " 'A/shorebird/Delaware Bay/321/2009',\n",
        " 'A/ruddy turnstone/Delaware/Sg-00541/2008',\n",
        " 'A/mallard/Wisconsin/1534/2009',\n",
        " 'A/mallard/Iowa/10OS2692/2010',\n",
        " 'A/mallard/Wisconsin/2560/2009',\n",
        " 'A/thick-billed murre/Canada/1871/2011',\n",
        " 'A/northern pintail/Interior Alaska/8BM2974/2008',\n",
        " 'A/ruddy turnstone/New Jersey/Sg-00557/2008',\n",
        " 'A/mallard/Ohio/11OS1961/2011',\n",
        " 'A/blue-winged teal/Minnesota/Sg-00899/2008',\n",
        " 'A/northern pintail/Interior Alaska/9BM8119R0/2009',\n",
        " 'A/mallard/Illinois/11OS5582/2011',\n",
        " 'A/northern shoveler/California/10024/2008',\n",
        " 'A/mallard/Wisconsin/10OS2889/2010',\n",
        " 'A/mallard/Illinois/3051/2009',\n",
        " 'A/American black duck/Illinois/08OS2688/2008',\n",
        " 'A/mallard/Wisconsin/1538/2009',\n",
        " 'A/ruddy turnstone/Delaware/Sg-00538/2008',\n",
        " 'A/northern shoveler/Wisconsin/10OS3226/2010',\n",
        " 'A/mallard/Alberta/35/2009',\n",
        " 'A/blue-winged teal/Texas/AI09-6182/2009',\n",
        " 'A/ruddy turnstone/New Jersey/AI09-846/2009',\n",
        " 'A/mallard/Interior Alaska/10BM05970R0/2010',\n",
        " 'A/northern pintail/Interior Alaska/9BM6902R0/2009',\n",
        " 'A/ruddy turnstone/New Jersey/AI09-294/2009',\n",
        " 'A/mallard/Ohio/1690/2009',\n",
        " 'A/gull/Delaware/428/2009',\n",
        " 'A/ruddy turnstone/New Jersey/AI09-837/2009',\n",
        " 'A/northern shoveler/Interior Alaska/9BM4787R0/2009',\n",
        " 'A/northern pintail/Interior Alaska/9BM12153R0/2009',\n",
        " 'A/mallard/Wisconsin/11OS3468/2011',\n",
        " 'A/northern pintail/Wisconsin/10OS2857/2010',\n",
        " 'A/mallard/Missouri/10MO0253/2010',\n",
        " 'A/ruddy turnstone/New Jersey/Sg-00544/2008',\n",
        " 'A/mallard/New Brunswick/00913/2010',\n",
        " 'A/mallard/California/6420/2008',\n",
        " 'A/mallard/Wisconsin/10OS3051/2010',\n",
        " 'A/American green-winged teal/Interior Alaska/9BM12318R0/2009',\n",
        " 'A/American green-winged teal/Interior Alaska/9BM5277R0/2009',\n",
        " 'A/northern shoveler/Interior Alaska/9BM2943R1/2009',\n",
        " 'A/mallard/California/6517/2008',\n",
        " 'A/ruddy turnstone/New Jersey/AI09-1164/2009',\n",
        " 'A/mallard/California/1492/2010',\n",
        " 'A/mallard/Ohio/11OS2149/2011',\n",
        " 'A/mallard/Wisconsin/4194/2009',\n",
        " 'A/northern pintail/Interior Alaska/10BM02561R0/2010',\n",
        " 'A/mallard/Minnesota/Sg-01040/2008',\n",
        " 'A/northern shoveler/Minnesota/Sg-00612/2008',\n",
        " 'A/ruddy turnstone/New Jersey/AI09-256/2009',\n",
        " 'A/blue-winged teal/Minnesota/Sg-00799/2008',\n",
        " 'A/northern shoveler/California/2696/2011',\n",
        " 'A/mallard/Missouri/11OS4987/2011',\n",
        " 'A/northern shoveler/California/3483/2010',\n",
        " 'A/northern shoveler/Illinois/08OS3331/2008',\n",
        " 'A/mallard/Ohio/11OS2240/2011',\n",
        " 'A/American black duck/Wisconsin/2542/2009',\n",
        " 'A/mallard/Mississippi/11OS34/2011',\n",
        " 'A/ruddy turnstone/Delaware/Sg-00540/2008',\n",
        " 'A/American green-winged teal/Wisconsin/10OS2767/2010',\n",
        " 'A/ruddy turnstone/New Jersey/AI09-1299/2009',\n",
        " 'A/northern pintail/Interior Alaska/10BM05034R0/2010',\n",
        " 'A/mallard/Missouri/10MO053/2010',\n",
        " 'A/mallard/Minnesota/AI08-3881/2008',\n",
        " 'A/American black duck/New Brunswick/00998/2010',\n",
        " 'A/ruddy turnstone/New Jersey/AI09-573/2009',\n",
        " 'A/northern shoveler/Illinois/3767/2009',\n",
        " 'A/northern shoveler/Missouri/10OS4632/2010',\n",
        " 'A/shorebird/Delaware Bay/379/2008',\n",
        " 'A/mallard/Missouri/10MO0551/2010',\n",
        " 'A/mallard/California/10064/2008',\n",
        " 'A/mallard/Missouri/10OS4670/2010',\n",
        " 'A/mallard/Interior Alaska/9BM1852/2009',\n",
        " 'A/ruddy turnstone/New Jersey/Sg-00561/2008',\n",
        " 'A/ruddy turnstone/Delaware/Sg-00539/2008',\n",
        " 'A/mallard/Ohio/11OS2078/2011',\n",
        " 'A/American green-winged teal/Interior Alaska/10BM08222R0/2010',\n",
        " 'A/northern shoveler/Mississippi/252/2010',\n",
        " 'A/mallard/Alberta/496/2008',\n",
        " 'A/northern pintail/Interior Alaska/10BM14807R2/2010',\n",
        " 'A/mallard/Alberta/569/2008',\n",
        " 'A/American green-winged teal/Interior Alaska/10BM05440R0/2010',\n",
        " 'A/mallard/Interior Alaska/10BM04564R1/2010',\n",
        " 'A/mallard/Mississippi/10OS4593/2010',\n",
        " 'A/blue-winged teal/North Dakota/Sg-00733/2008',\n",
        " 'A/mallard/Minnesota/Sg-00616/2008',\n",
        " 'A/blue-winged teal/Canada/3231/2011',\n",
        " 'A/mallard/Arkansas/AI09-5649/2009',\n",
        " 'A/mallard/Interior Alaska/8BM3614/2008',\n",
        " 'A/northern pintail/Interior Alaska/10BM12603R0/2010',\n",
        " 'A/mallard/Wisconsin/10OS2900/2010',\n",
        " 'A/mallard/Wisconsin/11OS3467/2011',\n",
        " 'A/mallard/Wisconsin/10OS3084/2010',\n",
        " 'A/mallard/California/2531V/2011',\n",
        " 'A/northern pintail/Interior Alaska/9BM11409R0/2009',\n",
        " 'A/blue-winged teal/Wisconsin/3060/2009',\n",
        " 'A/American wigeon/California/8352/2008',\n",
        " 'A/lesser scaup/Wisconsin/3964/2009',\n",
        " 'A/northern shoveler/Wisconsin/2508/2009',\n",
        " 'A/northern shoveler/Mississippi/11OS202/2011',\n",
        " 'A/ruddy turnstone/New Jersey/Sg-00515/2008',\n",
        " 'A/mallard/Ohio/2043/2009',\n",
        " 'A/blue-winged teal/Illinois/10OS1546/2010',\n",
        " 'A/mallard/Minnesota/AI09-3821/2009',\n",
        " 'A/mallard/Minnesota/Sg-00837/2008',\n",
        " 'A/American wigeon/California/6610/2008',\n",
        " 'A/mallard/Wisconsin/10OS2667/2010',\n",
        " 'A/American green-winged teal/Mississippi/11OS256/2011',\n",
        " 'A/northern shoveler/California/9781/2008',\n",
        " 'A/mallard/Interior Alaska/8BM2102/2008',\n",
        " 'A/blue-winged teal/New Brunswick/03756/2009',\n",
        " 'A/American green-winged teal/Wisconsin/11OS3053/2011',\n",
        " 'A/gull/Delaware/AI09-435/2009',\n",
        " 'A/mallard/Minnesota/Sg-01042/2008',\n",
        " 'A/ruddy turnstone/New Jersey/Sg-00510/2008',\n",
        " 'A/mallard/California/8035/2008',\n",
        " 'A/blue-winged Teal/North Dakota/AI09-4039/2009',\n",
        " 'A/blue-winged teal/Guatemala/CIP049-01/2008',\n",
        " 'A/green-winged teal/California/11285/2008',\n",
        " 'A/ruddy turnstone/New Jersey/Sg-00543/2008',\n",
        " 'A/mallard/California/8834/2008',\n",
        " 'A/black scoter/New Brunswick/00003/2009',\n",
        " 'A/thick-billed murre/Canada/1813/2011',\n",
        " 'A/mallard/Wisconsin/10OS2909/2010',\n",
        " 'A/American black duck/New Brunswick/00612/2010',\n",
        " 'A/green-winged teal/Minnesota/Sg-00991/2008',\n",
        " 'A/mallard/Wisconsin/11OS4368/2011',\n",
        " 'A/mallard/California/2566P/2011',\n",
        " 'A/northern pintail/Illinois/10OS3257/2010',\n",
        " 'A/mallard/Illinois/10OS4078/2010',\n",
        " 'A/ruddy turnstone/New Jersey/AI09-027/2009',\n",
        " 'A/mallard/Wisconsin/10OS4194/2010',\n",
        " 'A/mallard/Illinois/10OS3676/2010',\n",
        " 'A/mallard/Minnesota/AI09-3770/2009',\n",
        " 'A/mallard/Iowa/10OS2721/2010',\n",
        " 'A/mallard/Interior Alaska/9BM8389R0/2009',\n",
        " 'A/mallard/Mississippi/10OS4494/2010',\n",
        " 'A/mallard/Minnesota/AI09-2518/2009',\n",
        " 'A/shorebird/Delaware Bay/446/2008',\n",
        " 'A/northern shoveler/California/2810/2011',\n",
        " 'A/mallard/Missouri/132/2009',\n",
        " 'A/ruddy turnstone/New Jersey/Sg-00551/2008',\n",
        " 'A/blue-winged teal/Texas/AI09-4405/2009',\n",
        " 'A/mallard/Ohio/11OS2208/2011',\n",
        " 'A/shorebird/Delaware Bay/167/2009',\n",
        " 'A/northern shoveler/California/9140/2008',\n",
        " 'A/mallard/California/3188/2010',\n",
        " 'A/blue-winged teal/Iowa/10OS2649/2010',\n",
        " 'A/American green-winged teal/Mississippi/11OS257/2011',\n",
        " 'A/mallard/Wisconsin/4230/2009',\n",
        " 'A/green-winged teal/Minnesota/Sg-01073/2008',\n",
        " 'A/northern pintail/Interior Alaska/8MP0262R2/2008',\n",
        " 'A/mallard/Wisconsin/10OS2945/2010',\n",
        " 'A/northern shoveler/Missouri/10OS4718/2010',\n",
        " 'A/herring gull/New Jersey/AI09-335/2009',\n",
        " 'A/mallard/California/6490/2008',\n",
        " 'A/mallard/Wisconsin/11OS3079/2011',\n",
        " 'A/mallard/California/2590V/2011',\n",
        " 'A/mallard/Illinois/3048/2009',\n",
        " 'A/ruddy turnstone/New Jersey/AI11-1678/2011',\n",
        " 'A/northern shoveler/Missouri/298/2009',\n",
        " 'A/mallard/Alberta/319/2009',\n",
        " 'A/mallard/Minnesota/AI09-3302/2009',\n",
        " 'A/lesser scaup/Louisiana/AI09-5204/2009',\n",
        " 'A/mallard/Wisconsin/10OS2659/2010',\n",
        " 'A/ruddy turnstone/New Jersey/Sg-00548/2008',\n",
        " 'A/mallard/Wisconsin/10OS2672/2010',\n",
        " 'A/American green-winged teal/Wisconsin/10OS3127/2010',\n",
        " 'A/mallard/Minnesota/Sg-01005/2008',\n",
        " 'A/mallard/Minnesota/AI09-3100/2009',\n",
        " 'A/mallard/Wisconsin/11OS3009/2011',\n",
        " 'A/bufflehead/Illinois/4016/2009',\n",
        " 'A/shorebird/Delaware Bay/236/2009',\n",
        " 'A/blue-winged teal/Wisconsin/2572/2009',\n",
        " 'A/blue-winged teal/Wisconsin/11OS3052/2011',\n",
        " 'A/mallard/Wisconsin/10OS2538/2010',\n",
        " 'A/mallard/Minnesota/AI09-1829/2009',\n",
        " 'A/mallard/Minnesota/AI09-2519/2009',\n",
        " 'A/mallard/Wisconsin/08OS2844/2008',\n",
        " 'A/bufflehead/Wisconsin/10OS3204/2010',\n",
        " 'A/mallard/Wisconsin/2575/2009',\n",
        " 'A/mallard/Wisconsin/10OS3845/2010',\n",
        " 'A/northern pintail/California/3452/2010',\n",
        " 'A/northern shoveler/Mississippi/09OS025/2009',\n",
        " 'A/blue-winged teal/North Dakota/Sg-00735/2008',\n",
        " 'A/mallard/Minnesota/AI09-3066/2009',\n",
        " 'A/mallard/Wisconsin/11OS3422/2011',\n",
        " 'A/mallard/Interior Alaska/9BM10393R0/2009',\n",
        " 'A/ruddy turnstone/New Jersey/Sg-00521/2008',\n",
        " 'A/northern shoveler/Illinois/10OS3619/2010',\n",
        " 'A/gadwall/Illinois/10OS3342/2010',\n",
        " 'A/mallard/Minnesota/SG-00932/2008',\n",
        " 'A/mallard/Illinois/4179/2009',\n",
        " 'A/mallard/Minnesota/Sg-00847/2008',\n",
        " 'A/ruddy turnstone/New Jersey/AI09-474/2009',\n",
        " 'A/blue-winged teal/North Dakota/Sg-00750/2008',\n",
        " 'A/ruddy turnstone/New Jersey/AI09-827/2009',\n",
        " 'A/green-winged teal/Minnesota/Sg-01065/2008',\n",
        " 'A/mallard/Interior Alaska/10BM07575R0/2010',\n",
        " 'A/mallard/Wisconsin/2785/2009',\n",
        " 'A/mallard/New Jersey/AI09-5137/2009',\n",
        " 'A/American wigeon/Louisiana/Sg-01032/2008',\n",
        " 'A/American green-winged teal/Illinois/10OS4014/2010',\n",
        " 'A/northern pintail/Interior Alaska/9BM11564R0/2009',\n",
        " 'A/northern pintail/California/2789/2011',\n",
        " 'A/mallard/Wisconsin/2530/2009',\n",
        " 'A/mallard/Minnesota/AI09-1714/2009',\n",
        " 'A/mallard/Ohio/11OS2049/2011',\n",
        " 'A/mallard/California/1390/2010',\n",
        " 'A/mallard/Ohio/11OS2150/2011',\n",
        " 'A/mallard/California/6471/2008',\n",
        " 'A/mallard/Alberta/527/2008',\n",
        " 'A/ruddy turnstone/Delaware/AI09-1268/2009',\n",
        " 'A/American black duck/Nova Scotia/00083/2010',\n",
        " 'A/ruddy turnstone/New Jersey/AI09-1008/2009',\n",
        " 'A/mallard/Ohio/11OS2083/2011',\n",
        " 'A/shorebird/Delaware Bay/707/2009',\n",
        " 'A/green-winged teal/Minnesota/Sg-01000/2008',\n",
        " 'A/American wigeon/California/3179/2010',\n",
        " 'A/northern pintail/Interior Alaska/8MP0689/2008',\n",
        " 'A/mallard/California/6524/2008',\n",
        " 'A/northern pintail/Wisconsin/11OS3295/2011',\n",
        " 'A/blue-winged teal/Missouri/10MO021/2010',\n",
        " 'A/mallard/Wisconsin/4197/2009',\n",
        " 'A/ruddy turnstone/New Jersey/Sg-00533/2008',\n",
        " 'A/northern shoveler/Missouri/10OS4750/2010',\n",
        " 'A/blue-winged teal/Guatemala/CIP049-04/2010',\n",
        " 'A/mallard/Wisconsin/11OS3098/2011',\n",
        " 'A/American green-winged teal/Illinois/2479/2009',\n",
        " 'A/northern pintail/Interior Alaska/10CH00003R0/2010',\n",
        " 'A/American green-winged teal/Illinois/11OS4814/2011',\n",
        " 'A/American wigeon/Louisiana/Sg-01031/2008',\n",
        " 'A/northern shoveler/California/3183/2010',\n",
        " 'A/ruddy turnstone/New Jersey/AI09-549/2009',\n",
        " 'A/blue-winged teal/Iowa/44555-551/2011',\n",
        " 'A/mallard/Ohio/11OS2141/2011',\n",
        " 'A/northern shoveler/Interior Alaska/9BM12519R0/2009',\n",
        " 'A/shorebird/Delaware Bay/478/2009',\n",
        " 'A/mallard/California/8212/2008',\n",
        " 'A/mallard/Minnesota/Sg-01018/2008',\n",
        " 'A/mallard/Wisconsin/2576/2009',\n",
        " 'A/northern pintail/Wisconsin/2737/2009',\n",
        " 'A/northern pintail/Interior Alaska/10BM11380R0/2010',\n",
        " 'A/mallard/Minnesota/Sg-01035/2008',\n",
        " 'A/ring-necked duck/Minnesota/Sg-01066/2008',\n",
        " 'A/American black duck/New Brunswick/00487/2010',\n",
        " 'A/northern pintail/Interior Alaska/8BM1995R1/2008',\n",
        " 'A/mallard/Wisconsin/08OS2271/2008',\n",
        " 'A/northern pintail/Alberta/8/2009',\n",
        " 'A/ruddy turnstone/Delaware/AI09-960/2009',\n",
        " 'A/American green-winged teal/Wisconsin/11OS3580/2011',\n",
        " 'A/blue-winged teal/New Brunswick/03757/2009',\n",
        " 'A/white-rumped sandpiper/Canada/2541/2011',\n",
        " 'A/green-winged teal/California/11275/2008',\n",
        " 'A/gadwall/Illinois/3860/2009',\n",
        " 'A/blue-winged Teal/Minnesota/AI09-3786/2009',\n",
        " 'A/American green-winged teal/Wisconsin/11OS3432/2011',\n",
        " 'A/white-fronted goose/Texas/AI09-6225/2009',\n",
        " 'A/ruddy turnstone/New Jersey/Sg-00567/2008',\n",
        " 'A/mallard/Ohio/11OS2073/2011',\n",
        " 'A/blue-winged teal/Guatemala/CIP049-08/2010',\n",
        " 'A/American green-winged teal/Mississippi/300/2010',\n",
        " 'A/mallard/Illinois/11OS5576/2011',\n",
        " 'A/northern shoveler/Interior Alaska/8BM3470/2008',\n",
        " 'A/mallard/Wisconsin/10OS3067/2010',\n",
        " 'A/American green-winged teal/Illinois/10OS3343/2010',\n",
        " 'A/northern pintail/Interior Alaska/9BM11719R1/2009',\n",
        " 'A/mallard/California/6634/2008',\n",
        " 'A/mallard/California/1156/2010',\n",
        " 'A/mallard/Minnesota/AI09-4022/2009',\n",
        " 'A/mallard/New Brunswick/00992/2010',\n",
        " 'A/northern shoveler/Interior Alaska/9BM1447R2/2009',\n",
        " 'A/American green-winged teal/Missouri/10OS4622/2010',\n",
        " 'A/northern shoveler/California/9187/2008',\n",
        " 'A/mallard/Missouri/10MO0550/2010',\n",
        " 'A/ruddy turnstone/New Jersey/Sg-00529/2008',\n",
        " 'A/green-winged teal/California/7972/2008',\n",
        " 'A/gadwall/Missouri/10MO0280/2010',\n",
        " 'A/mallard/Ohio/08OS1270/2008',\n",
        " 'A/blue-winged teal/Guatemala/CIP049-09/2010',\n",
        " 'A/northern shoveler/Mississippi/09OS168/2009',\n",
        " 'A/mallard/Ohio/11OS1991/2011',\n",
        " 'A/mallard/Illinois/10OS4179/2010',\n",
        " 'A/mallard/Interior Alaska/9BM1870/2009',\n",
        " 'A/northern shoveler/California/4020/2011',\n",
        " 'A/ruddy turnstone/New Jersey/Sg-00525/2008',\n",
        " 'A/blue-winged teal/Canada/3296/2011',\n",
        " 'A/American green-winged teal/Illinois/3054/2009',\n",
        " 'A/mallard/Wisconsin/11OS3338/2011',\n",
        " 'A/American green-winged teal/Wisconsin/11OS3431/2011',\n",
        " 'A/mallard/Missouri/10MO0391/2010',\n",
        " 'A/mallard/Illinois/11OS4121/2011',\n",
        " 'A/mallard/California/9573/2008',\n",
        " 'A/mallard/Wisconsin/11OS3408/2011',\n",
        " 'A/blue-winged teal/North Dakota/Sg-00759/2008',\n",
        " 'A/green-winged teal/California/1841/2009',\n",
        " 'A/blue-winged Teal/North Dakota/AI09-3642/2009',\n",
        " 'A/mallard/California/5192/2009',\n",
        " 'A/green-winged teal/California/6990/2008',\n",
        " 'A/American black duck/Wisconsin/10OS3949/2010',\n",
        " 'A/mallard/Wisconsin/11OS3491/2011',\n",
        " 'A/mallard/Minnesota/Sg-01030/2008',\n",
        " 'A/northern shoveler/Arkansas/AI09-6012/2009',\n",
        " 'A/mallard/Minnesota/Sg-00804/2008',\n",
        " 'A/northern pintail/Wisconsin/11OS4111/2011',\n",
        " 'A/mallard/Wisconsin/10OS2524/2010',\n",
        " 'A/mallard/California/8457/2008',\n",
        " 'A/American green-winged teal/Wisconsin/10OS2955/2010',\n",
        " 'A/ruddy turnstone/New Jersey/AI09-464/2009',\n",
        " 'A/American green-winged teal/Mississippi/11OS255/2011',\n",
        " 'A/mallard/California/5495/2009',\n",
        " 'A/mallard/Minnesota/AI09-3353/2009',\n",
        " 'A/mallard/Iowa/10OS2492/2010',\n",
        " 'A/ruddy turnstone/Canada/02937/2011',\n",
        " 'A/mallard/Ohio/1688/2009',\n",
        " 'A/northern pintail/Illinois/11OS4764/2011',\n",
        " 'A/mallard/California/6695/2009',\n",
        " 'A/mallard/Minnesota/Sg-01034/2008',\n",
        " 'A/American black duck/New Brunswick/00971/2010',\n",
        " 'A/mallard/Minnesota/Sg-00630/2008',\n",
        " 'A/northern pintail/Interior Alaska/10BM06704R0/2010',\n",
        " 'A/ruddy turnstone/New Jersey/AI09-1352/2009',\n",
        " 'A/mallard/Illinois/3747/2009',\n",
        " 'A/blue-winged teal/Iowa/10OS2639/2010',\n",
        " 'A/ruddy turnstone/New Jersey/Sg-00564/2008',\n",
        " 'A/mallard/Wisconsin/11OS3192/2011',\n",
        " 'A/mallard/Iowa/10OS2426/2010',\n",
        " 'A/northern pintail/Wisconsin/11OS3299/2011',\n",
        " 'A/gadwall/Wisconsin/08OS2296/2008',\n",
        " 'A/mallard/Minnesota/Sg-00944/2008',\n",
        " 'A/northern shoveler/Minnesota/Sg-00648/2008',\n",
        " 'A/mallard/Mississippi/413/2010',\n",
        " 'A/mallard/Interior Alaska/10BM06458R0/2010',\n",
        " 'A/ruddy turnstone/Delaware/Sg-00473/2008',\n",
        " 'A/American wigeon/Iowa/10OS2748/2010',\n",
        " 'A/mallard/Minnesota/Sg-00868/2008',\n",
        " 'A/blue-winged teal/Illinois/10OS2988/2010',\n",
        " 'A/ruddy turnstone/Delaware/AI09-666/2009',\n",
        " 'A/shorebird/Delaware/274/2009',\n",
        " 'A/mallard/Illinois/10OS3659/2010',\n",
        " 'A/northern pintail/Louisiana/Sg-01033/2008',\n",
        " 'A/long-tailed duck/Wisconsin/10OS4225/2010',\n",
        " 'A/northern pintail/Interior Alaska/8BM2528R1/2008',\n",
        " 'A/northern pintail/Interior Alaska/10BM02539R0/2010',\n",
        " 'A/mallard/Minnesota/Sg-00949/2008',\n",
        " 'A/American green-winged teal/Mississippi/11OS98/2011',\n",
        " 'A/northern shoveler/Interior Alaska/9BM12350R0/2009',\n",
        " 'A/mallard/California/7766/2008',\n",
        " 'A/American wigeon/Interior Alaska/9BM2501R1/2009']"
       ]
      }
     ],
     "prompt_number": 36
    },
    {
     "cell_type": "code",
     "collapsed": false,
     "input": [
      "def get_node_id(G, label):    \n",
      "    nodes = G.nodes(data=True)    \n",
      "    node_id = [node for node in nodes if node[1]['label'] == label]    \n",
      "    return node_id[0][0]\n",
      "\n",
      "\n",
      "\n",
      "get_node_id(condensed_graph, 'A/mallard/Wisconsin/2575/2009')"
     ],
     "language": "python",
     "metadata": {},
     "outputs": [
      {
       "ename": "AttributeError",
       "evalue": "'dict' object has no attribute 'nodes'",
       "output_type": "pyerr",
       "traceback": [
        "\u001b[0;31m---------------------------------------------------------------------------\u001b[0m\n\u001b[0;31mAttributeError\u001b[0m                            Traceback (most recent call last)",
        "\u001b[0;32m<ipython-input-38-9090b0abeba6>\u001b[0m in \u001b[0;36m<module>\u001b[0;34m()\u001b[0m\n\u001b[1;32m      6\u001b[0m \u001b[0;34m\u001b[0m\u001b[0m\n\u001b[1;32m      7\u001b[0m \u001b[0;34m\u001b[0m\u001b[0m\n\u001b[0;32m----> 8\u001b[0;31m \u001b[0mget_node_id\u001b[0m\u001b[0;34m(\u001b[0m\u001b[0mcondensed_graph\u001b[0m\u001b[0;34m,\u001b[0m \u001b[0;34m'A/mallard/Wisconsin/2575/2009'\u001b[0m\u001b[0;34m)\u001b[0m\u001b[0;34m\u001b[0m\u001b[0m\n\u001b[0m",
        "\u001b[0;32m<ipython-input-38-9090b0abeba6>\u001b[0m in \u001b[0;36mget_node_id\u001b[0;34m(G, label)\u001b[0m\n\u001b[1;32m      1\u001b[0m \u001b[0;32mdef\u001b[0m \u001b[0mget_node_id\u001b[0m\u001b[0;34m(\u001b[0m\u001b[0mG\u001b[0m\u001b[0;34m,\u001b[0m \u001b[0mlabel\u001b[0m\u001b[0;34m)\u001b[0m\u001b[0;34m:\u001b[0m\u001b[0;34m\u001b[0m\u001b[0m\n\u001b[0;32m----> 2\u001b[0;31m     \u001b[0mnodes\u001b[0m \u001b[0;34m=\u001b[0m \u001b[0mG\u001b[0m\u001b[0;34m.\u001b[0m\u001b[0mnodes\u001b[0m\u001b[0;34m(\u001b[0m\u001b[0mdata\u001b[0m\u001b[0;34m=\u001b[0m\u001b[0mTrue\u001b[0m\u001b[0;34m)\u001b[0m\u001b[0;34m\u001b[0m\u001b[0m\n\u001b[0m\u001b[1;32m      3\u001b[0m     \u001b[0mnode_id\u001b[0m \u001b[0;34m=\u001b[0m \u001b[0;34m[\u001b[0m\u001b[0mnode\u001b[0m \u001b[0;32mfor\u001b[0m \u001b[0mnode\u001b[0m \u001b[0;32min\u001b[0m \u001b[0mnodes\u001b[0m \u001b[0;32mif\u001b[0m \u001b[0mnode\u001b[0m\u001b[0;34m[\u001b[0m\u001b[0;36m1\u001b[0m\u001b[0;34m]\u001b[0m\u001b[0;34m[\u001b[0m\u001b[0;34m'label'\u001b[0m\u001b[0;34m]\u001b[0m \u001b[0;34m==\u001b[0m \u001b[0mlabel\u001b[0m\u001b[0;34m]\u001b[0m\u001b[0;34m\u001b[0m\u001b[0m\n\u001b[1;32m      4\u001b[0m     \u001b[0;32mreturn\u001b[0m \u001b[0mnode_id\u001b[0m\u001b[0;34m[\u001b[0m\u001b[0;36m0\u001b[0m\u001b[0;34m]\u001b[0m\u001b[0;34m[\u001b[0m\u001b[0;36m0\u001b[0m\u001b[0;34m]\u001b[0m\u001b[0;34m\u001b[0m\u001b[0m\n\u001b[1;32m      5\u001b[0m \u001b[0;34m\u001b[0m\u001b[0m\n",
        "\u001b[0;31mAttributeError\u001b[0m: 'dict' object has no attribute 'nodes'"
       ]
      }
     ],
     "prompt_number": 38
    },
    {
     "cell_type": "code",
     "collapsed": false,
     "input": [
      "#### I THINK THIS IS TOO COMPLICATED TO CODE UP. GOING BACK TO NESTED DICTIONARY STRUCTURE. ####\n",
      "\n",
      "# # We are now going to compute the \"reassortment tree\". This is what the data structure is going to look like:\n",
      "# \"\"\"\n",
      "# node sink -> node source pair -> node source1 -> attr segment 1: PWI     \\\n",
      "#                                               -> attr segment 2: PWI     /--> node sum\n",
      "#                               -> node source2 -> attr segment 2: PWI    /\n",
      "#                                               -> attr segment 3: PWI   /\n",
      "\n",
      "# Note: The node labels will not be sink, source pair, source1, source2, but instead will simply be incrementing integers.\n",
      "# Each node will have a \"type\", with the corresponding \"label\" attached to it:\n",
      "# - sink\n",
      "# - source pair\n",
      "# - source indicator\n",
      "# \"\"\"\n",
      "\n",
      "# # The code will be split up into a few parts. Firstly, let's create the graph.\n",
      "\n",
      "# G = nx.DiGraph()\n",
      "\n",
      "# num_nodes = 0 # this is an indicator for the number of nodes currently added into the graph. This also ensures\n",
      "#               # that each node has a unique identifier and is never overwritten.\n",
      "\n",
      "# # Next, we will add \"sink\"-type nodes.\n",
      "# for isolate in reassortant_isolates.keys():\n",
      "#     G.add_node(num_nodes, type=\"sink\", label=isolate)\n",
      "#     num_nodes += 1 # increment the value of num_nodes.\n",
      "\n",
      "# # Check to make sure that they have been added correctly.    \n",
      "# G.nodes(data=True)\n",
      "\n",
      "# # Next, we add in the source pairs.\n",
      "# for isolate, source_pairs in reassortant_isolates.items():\n",
      "#     for source_pair in source_pairs:\n",
      "#         G.add_node(num_nodes, type=\"source pair\", label=source_pair)\n",
      "#         num_nodes += 1\n",
      "        \n",
      "#         G.add_edge(get_node_id(G, isolate), num_nodes-1)"
     ],
     "language": "python",
     "metadata": {},
     "outputs": []
    },
    {
     "cell_type": "code",
     "collapsed": false,
     "input": [],
     "language": "python",
     "metadata": {},
     "outputs": []
    }
   ],
   "metadata": {}
  }
 ]
}