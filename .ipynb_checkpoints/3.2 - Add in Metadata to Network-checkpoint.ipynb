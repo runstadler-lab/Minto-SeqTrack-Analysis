{
 "metadata": {
  "name": "",
  "signature": "sha256:4044309f5ef7d4b47c5c940d0acf25b889621fef8fdeeb0b68b4fd035b6d804a"
 },
 "nbformat": 3,
 "nbformat_minor": 0,
 "worksheets": [
  {
   "cells": [
    {
     "cell_type": "code",
     "collapsed": false,
     "input": [
      "import networkx as nx\n",
      "import pandas as pd\n",
      "import numpy as np\n",
      "import math"
     ],
     "language": "python",
     "metadata": {},
     "outputs": [],
     "prompt_number": 1
    },
    {
     "cell_type": "code",
     "collapsed": false,
     "input": [
      "G = nx.read_gpickle('Minto Flats.pkl')\n",
      "print(len(G.nodes()))"
     ],
     "language": "python",
     "metadata": {},
     "outputs": [
      {
       "output_type": "stream",
       "stream": "stdout",
       "text": [
        "1787\n"
       ]
      }
     ],
     "prompt_number": 128
    },
    {
     "cell_type": "code",
     "collapsed": false,
     "input": [
      "peggy_data = pd.read_csv('Raw Data/MintoExcel_Peggy_20141204.csv', parse_dates=['Collection_date'], index_col='SampleID')\n",
      "for c in peggy_data.columns:\n",
      "    print(c)"
     ],
     "language": "python",
     "metadata": {},
     "outputs": [
      {
       "output_type": "stream",
       "stream": "stdout",
       "text": [
        "Collected_by\n",
        "Collection_date\n",
        "Month\n",
        "Day\n",
        "Year\n",
        "Collection_time\n",
        "Age_detail\n",
        "Age_3G\n",
        "Age\n",
        "Sex\n",
        "Mass\n",
        "Head_BM\n",
        "Culmen_BM\n",
        "Total_tarsus_BM\n",
        "Wing_length_ESF\n",
        "Primaries_moult_BTO\n",
        "Location\n",
        "Sub_location\n",
        "Common_name\n",
        "Foraging trait\n",
        "Band\n",
        "Parent_band\n",
        "Species_code\n",
        "Host_code\n",
        "Recap\n",
        "Sample_material\n",
        "RTPCR_2_SampleID\n",
        "RTPCR_2_CT\n",
        "RTPCR_2_result\n",
        "RRTPCR_2_protocol\n",
        "Health_ird\n",
        "Behavior_ird\n",
        "Habitat_ird\n",
        "Capture_status_ird\n",
        "ModifiedBy\n",
        "ModifiedBy.1\n",
        "ModifiedDate\n",
        "ModifiedDate.1\n",
        "Notes\n",
        "sample_id_initial__c\n"
       ]
      }
     ],
     "prompt_number": 129
    },
    {
     "cell_type": "code",
     "collapsed": false,
     "input": [
      "peggy_data.loc['9BM3611']"
     ],
     "language": "python",
     "metadata": {},
     "outputs": [
      {
       "metadata": {},
       "output_type": "pyout",
       "prompt_number": 130,
       "text": [
        "Collected_by                                    10\n",
        "Collection_date                2009-07-23 00:00:00\n",
        "Month                                            7\n",
        "Day                                             23\n",
        "Year                                          2009\n",
        "Collection_time                            8:59 PM\n",
        "Age_detail                                     AHY\n",
        "Age_3G                                         AHY\n",
        "Age                                              A\n",
        "Sex                                              M\n",
        "Mass                                           317\n",
        "Head_BM                                         79\n",
        "Culmen_BM                                      NaN\n",
        "Total_tarsus_BM                                 34\n",
        "Wing_length_ESF                                NaN\n",
        "Primaries_moult_BTO                            NaN\n",
        "Location                    Minto Lakes, Y Lakes W\n",
        "Sub_location                             Y Lakes W\n",
        "Common_name             American Green-winged Teal\n",
        "Foraging trait                             Dabbler\n",
        "Band                                     934-93185\n",
        "Parent_band                                    NaN\n",
        "Species_code                                 10069\n",
        "Host_code                                     3921\n",
        "Recap                                            0\n",
        "Sample_material                                  1\n",
        "RTPCR_2_SampleID                           9BM3611\n",
        "RTPCR_2_CT                                     NaN\n",
        "RTPCR_2_result                                 neg\n",
        "RRTPCR_2_protocol                                4\n",
        "Health_ird                                 healthy\n",
        "Behavior_ird                                  wild\n",
        "Habitat_ird                              migratory\n",
        "Capture_status_ird             active surveillance\n",
        "ModifiedBy                                cgi_read\n",
        "ModifiedBy.1                              cgi_read\n",
        "ModifiedDate                            10/28/2010\n",
        "ModifiedDate.1                          10/28/2010\n",
        "Notes                                          NaN\n",
        "sample_id_initial__c                            M3\n",
        "Name: 9BM3611, dtype: object"
       ]
      }
     ],
     "prompt_number": 130
    },
    {
     "cell_type": "code",
     "collapsed": false,
     "input": [
      "nichola_data = pd.read_csv('Raw Data/Full Transmissions_20141203.csv', index_col='#')\n",
      "for c in nichola_data.columns:\n",
      "    print(c)"
     ],
     "language": "python",
     "metadata": {},
     "outputs": [
      {
       "output_type": "stream",
       "stream": "stdout",
       "text": [
        "Time Class\n",
        "Time Delta\n",
        "Weighting\n",
        "SpeciesTransmission\n",
        "ForagingTransmission\n",
        "FamilyTransmission\n",
        "OrderTransmissionType\n",
        "Subtype\n",
        "Weight\n",
        "5SeasonTransmissions\n",
        "Strain_source\n",
        "Species_Source\n",
        "Foraging_Source\n",
        "Family_Source\n",
        "Order_Source\n",
        "Location_Source\n",
        "State_Source\n",
        "Latitude_Source\n",
        "Longitude_Source\n",
        "SampleID_Source\n",
        "Age_Source\n",
        "CollectionDate_Source\n",
        "Year_Source\n",
        "Day_Source\n",
        "Month_Source\n",
        "JulianDate1900_Source\n",
        "JulianDate365_Source\n",
        "4Season_Source\n",
        "5Season_Source\n",
        "Strain_Sink\n",
        "Species_Sink\n",
        "Foraging_Sink\n",
        "Family_Sink\n",
        "Order_Sink\n",
        "Location_Sink\n",
        "State_Sink\n",
        "Latitude_Sink\n",
        "Longitude_Sink\n",
        "SampleID_Sink\n",
        "Age_sink\n",
        "CollectionDate_Sink\n",
        "JulianDate1900_Sink\n",
        "JulianDate365_Sink\n",
        "Day_Sink\n",
        "Month_Sink\n",
        "Year_Source.1\n",
        "4Season_Sink\n",
        "5Season_Sink\n"
       ]
      }
     ],
     "prompt_number": 131
    },
    {
     "cell_type": "code",
     "collapsed": false,
     "input": [
      "brandt_data = pd.read_csv('Raw Data/Minto Flats 520 Sequences.csv', index_col = 'Sample ID')\n",
      "brandt_data['Common Name'] = brandt_data['Common Name'].str.split('(').str[0]\n",
      "for c in brandt_data.columns:\n",
      "    print(c)"
     ],
     "language": "python",
     "metadata": {},
     "outputs": [
      {
       "output_type": "stream",
       "stream": "stdout",
       "text": [
        "Common Name\n",
        "Band #\n",
        "Web Tag #\n",
        "Nest ID\n",
        "HS Bird ID\n",
        "Species\n",
        "Species1\n",
        "Sex\n",
        "Capture\n",
        "Health\n",
        "Age\n",
        "Age simple\n",
        "Wild or Dom.\n",
        "Habitat\n",
        "Sample Type\n",
        "GPS N\n",
        "GPS W\n",
        "Time\n",
        "Date\n",
        "Month\n",
        "Year\n",
        "Name\n",
        "Location\n",
        "Data Sheet\n",
        "Capture #\n",
        "Banding Date\n",
        "Recap?\n",
        "Ours or Foreign?\n",
        "Category\n",
        "Mass\n",
        "Head\n",
        "Total Tarsus\n",
        "Wing Chord\n",
        "Culmen\n",
        "Grain Index\n",
        "Blood Vial\n",
        "Serum Vial\n",
        "Whole Blood\n",
        "Specific Location\n",
        "Capture Method\n",
        "Vial Notes\n",
        "Marker Notes\n",
        "Notes\n",
        "Paired?\n",
        "Date Shot\n",
        "Time Shot\n",
        "Fecal Quality\n",
        "Fecal Loc\n",
        "Brood ID\n",
        "Hen Band #\n",
        "Wet, Dry, Pipping?\n",
        "Brood Size\n",
        "HEN STATUS?\n",
        "decoy band\n",
        "Cloacal Sample ID\n",
        "Oral Sample ID\n",
        "Notes.1\n"
       ]
      }
     ],
     "prompt_number": 132
    },
    {
     "cell_type": "code",
     "collapsed": false,
     "input": [
      "def get_node(G, name_subset):\n",
      "    for node in G.nodes():\n",
      "        if name_subset in node:\n",
      "            return node\n",
      "        \n",
      "get_node(G, '9BM3379R0')"
     ],
     "language": "python",
     "metadata": {},
     "outputs": [
      {
       "metadata": {},
       "output_type": "pyout",
       "prompt_number": 133,
       "text": [
        "'A/mallard/Interior Alaska/9BM3379R0/2009'"
       ]
      }
     ],
     "prompt_number": 133
    },
    {
     "cell_type": "code",
     "collapsed": false,
     "input": [
      "# Firstly, we add stuff from Brandt's data.\n",
      "for node in G.nodes():\n",
      "    unique_id = node.split('/')[3]\n",
      "    if 'R' in unique_id:\n",
      "        unique_id = unique_id.split('R')[0]\n",
      "    data_to_add = {'Band #':'band_num', 'Web Tag #':'web_tag', 'Cloacal Sample ID':'cloacal_id', 'Oral Sample ID':'oral_id'}\n",
      "    if unique_id in brandt_data.index:\n",
      "        row = brandt_data.loc[unique_id]\n",
      "        for col, field in data_to_add.items():\n",
      "            if str(row[col]) == 'nan':\n",
      "                G.node[node][field] = None\n",
      "            else:\n",
      "                G.node[node][field] = row[col]\n",
      "    else:\n",
      "        for col, field in data_to_add.items():\n",
      "            G.node[node][field] = None"
     ],
     "language": "python",
     "metadata": {},
     "outputs": [],
     "prompt_number": 134
    },
    {
     "cell_type": "code",
     "collapsed": false,
     "input": [
      "# Next, we add stuff from Peggy's data.\n",
      "for node in G.nodes():\n",
      "    unique_id = node.split('/')[3]\n",
      "    data_to_add = {'Band':('band_num', 'web_tag')}\n",
      "    if unique_id in peggy_data.index:\n",
      "        row = peggy_data.loc[unique_id]\n",
      "        for col, field in data_to_add.items():\n",
      "            if str(row[col]) == 'nan':\n",
      "                G.node[node][field[0]] = None\n",
      "                G.node[node][field[1]] = None\n",
      "            else:\n",
      "                if '-' in row[col] and col == 'Band':\n",
      "                    G.node[node][field[0]] = row[col]\n",
      "                if '-' not in row[col] and col == 'Band':\n",
      "                    G.node[node][field[1]] = row[col]"
     ],
     "language": "python",
     "metadata": {},
     "outputs": [],
     "prompt_number": 135
    },
    {
     "cell_type": "code",
     "collapsed": false,
     "input": [
      "[(n, d) for n, d in G.nodes(data=True) if d['web_tag'] == 2118]"
     ],
     "language": "python",
     "metadata": {},
     "outputs": [
      {
       "metadata": {},
       "output_type": "pyout",
       "prompt_number": 136,
       "text": [
        "[('A/mallard/Interior Alaska/10BM02980R0/2010',\n",
        "  {'band_num': None,\n",
        "   'cloacal_id': '10BM02980',\n",
        "   'host': 'IRD:Avian',\n",
        "   'isolation_date': Timestamp('2010-07-02 00:00:00'),\n",
        "   'oral_id': '10BM02981',\n",
        "   'state': 'Interior Alaska',\n",
        "   'subtype': 'H9N2',\n",
        "   'web_tag': 2118.0})]"
       ]
      }
     ],
     "prompt_number": 136
    },
    {
     "cell_type": "code",
     "collapsed": false,
     "input": [
      "# Finally, add in Nichola's data\n",
      "node_data_to_add = {'Species_Source':'species',\n",
      "                    'Foraging_Source':'foraging_type',\n",
      "                    'Family_Source':'family',\n",
      "                    'Order_Source':'order',\n",
      "                    'Location_Source':'state',\n",
      "                    'Latitude_Source':'latitude',\n",
      "                    'Longitude_Source':'longitude',\n",
      "                    'Age_Source':'age',\n",
      "                    'SampleID_Source':'sample_id',\n",
      "                    'JulianDate1900_Source':'julian_1900',\n",
      "                    'JulianDate365_Source':'julian_365',\n",
      "                    '4Season_Source':'4season',\n",
      "                    '5Season_Source':'5season',\n",
      "                    \n",
      "                    'Species_Sink':'species',\n",
      "                    'Foraging_Sink':'foraging_type',\n",
      "                    'Family_Sink':'family',\n",
      "                    'Order_Sink':'order',\n",
      "                    'Location_Sink':'state',\n",
      "                    'Latitude_Sink':'latitude',\n",
      "                    'Longitude_Sink':'longitude',\n",
      "                    'Age_sink':'age',\n",
      "                    'SampleID_Sink':'sample_id',\n",
      "                    'JulianDate1900_Sink':'julian_1900',\n",
      "                    'JulianDate365_Sink':'julian_365',\n",
      "                    '4Season_Sink':'4season',\n",
      "                    '5Season_Sink':'5season',}\n",
      "\n",
      "# for node in G.nodes():\n",
      "#     row = "
     ],
     "language": "python",
     "metadata": {},
     "outputs": [],
     "prompt_number": 137
    },
    {
     "cell_type": "code",
     "collapsed": false,
     "input": [
      "for strain, data in nichola_data.groupby('Strain_source'):\n",
      "    for col in data.columns:\n",
      "        if '_Source' in col and col in node_data_to_add.keys():\n",
      "            G.node[strain][node_data_to_add[col]] = np.unique(data[col].values)[0]\n",
      "for strain, data in nichola_data.groupby('Strain_Sink'):\n",
      "    for col in data.columns:\n",
      "        if '_Sink' in col and col in node_data_to_add.keys():\n",
      "            G.node[strain][node_data_to_add[col]] = np.unique(data[col].values)[0]\n",
      "\n",
      "\n",
      "G.node[get_node(G, '10BM02980R0')]"
     ],
     "language": "python",
     "metadata": {},
     "outputs": [
      {
       "metadata": {},
       "output_type": "pyout",
       "prompt_number": 144,
       "text": [
        "{'4season': 'Breeding',\n",
        " '5season': 'Nesting',\n",
        " 'age': 'Nest',\n",
        " 'band_num': None,\n",
        " 'cloacal_id': '10BM02980',\n",
        " 'family': 'Anatidae',\n",
        " 'foraging_type': 'Dabbling',\n",
        " 'host': 'IRD:Avian',\n",
        " 'isolation_date': Timestamp('2010-07-02 00:00:00'),\n",
        " 'julian_1900': 38899.0,\n",
        " 'julian_365': 183,\n",
        " 'latitude': 64.926599999999993,\n",
        " 'longitude': -148.74922000000001,\n",
        " 'oral_id': '10BM02981',\n",
        " 'order': 'Anseriformes',\n",
        " 'sample_id': '10BM02980',\n",
        " 'species': 'mallard',\n",
        " 'state': 'Interior Alaska',\n",
        " 'subtype': 'H9N2',\n",
        " 'web_tag': 2118.0}"
       ]
      }
     ],
     "prompt_number": 144
    },
    {
     "cell_type": "code",
     "collapsed": false,
     "input": [
      "edge_data = {'SpeciesTransmission':'species_transmission',\n",
      "             'ForagingTransmission': 'foraging_transmission',\n",
      "             'FamilyTransmission':'family_transmission',\n",
      "             'OrderTransmissionType':'order_transmission',\n",
      "             '5SeasonTransmissions':'5season_transmission',\n",
      "             'Weighting':'weighting_timedelta'}\n",
      "\n",
      "for (source, sink), data in nichola_data.groupby(['Strain_source', 'Strain_Sink']):\n",
      "    for col in data.columns:\n",
      "        if col in edge_data.keys():\n",
      "            G.edge[source][sink][edge_data[col]] = np.unique(data[col].values)[0]"
     ],
     "language": "python",
     "metadata": {},
     "outputs": [],
     "prompt_number": 146
    },
    {
     "cell_type": "code",
     "collapsed": false,
     "input": [
      "# Add in edge data\n",
      "for sc, sk, d in G.edges(data=True):\n",
      "    for col, field in edge_data.items():\n",
      "        G.edge[sc][sk][field] = nichola_data.set_index(['Strain_source', 'Strain_Sink']).loc[(sc, sk)][col]"
     ],
     "language": "python",
     "metadata": {},
     "outputs": [],
     "prompt_number": 89
    },
    {
     "cell_type": "code",
     "collapsed": false,
     "input": [
      "G.edge['A/American green-winged teal/Interior Alaska/10BM07000R0/2010']['A/American green-winged teal/Interior Alaska/10BM07863R0/2010']"
     ],
     "language": "python",
     "metadata": {},
     "outputs": [
      {
       "metadata": {},
       "output_type": "pyout",
       "prompt_number": 147,
       "text": [
        "{'5season_transmission': 'Nesting-Fledge',\n",
        " 'family_transmission': 'Intrafamily',\n",
        " 'foraging_transmission': 'Intraforaging',\n",
        " 'order_transmission': 'Intra-Order',\n",
        " 'species_transmission': 'Intraspecies',\n",
        " 'time_delta': datetime.timedelta(3),\n",
        " 'tr_timeclass': 'Direct Transmission',\n",
        " 'trtype': 'Inter-Species',\n",
        " 'weight': 7.999414999999999,\n",
        " 'weighting_timedelta': 0.5}"
       ]
      }
     ],
     "prompt_number": 147
    },
    {
     "cell_type": "code",
     "collapsed": false,
     "input": [
      "nx.write_gpickle(G, 'Minto Flats Network with Metadata.pkl')"
     ],
     "language": "python",
     "metadata": {},
     "outputs": [],
     "prompt_number": 148
    },
    {
     "cell_type": "code",
     "collapsed": false,
     "input": [],
     "language": "python",
     "metadata": {},
     "outputs": [],
     "prompt_number": 66
    },
    {
     "cell_type": "code",
     "collapsed": false,
     "input": [],
     "language": "python",
     "metadata": {},
     "outputs": []
    }
   ],
   "metadata": {}
  }
 ]
}