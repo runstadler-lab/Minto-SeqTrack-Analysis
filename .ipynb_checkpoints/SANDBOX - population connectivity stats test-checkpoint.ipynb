{
 "metadata": {
  "name": "",
  "signature": "sha256:5d777c316006e8c204f4e21866ae7918152e6760934e76659bf006cefaf1e73b"
 },
 "nbformat": 3,
 "nbformat_minor": 0,
 "worksheets": [
  {
   "cells": [
    {
     "cell_type": "code",
     "collapsed": false,
     "input": [
      "# Given population A of size 3 and population B of size 4, what is the probability of getting n cross-population edges?\n",
      "\n",
      "from __future__ import division\n",
      "from math import log, log10\n",
      "from scipy.misc import comb\n",
      "\n",
      "import matplotlib.pyplot as plt\n",
      "import seaborn\n",
      "import numpy as np\n",
      "\n",
      "% matplotlib inline\n",
      "\n",
      "a = 500\n",
      "b = 50\n",
      "\n",
      "total_edges = np.sum([i for i in range(sum([a, b]))])\n",
      "total_edges"
     ],
     "language": "python",
     "metadata": {},
     "outputs": [
      {
       "metadata": {},
       "output_type": "pyout",
       "prompt_number": 24,
       "text": [
        "150975"
       ]
      }
     ],
     "prompt_number": 24
    },
    {
     "cell_type": "code",
     "collapsed": false,
     "input": [
      "num_cross_pop_edges = a * b\n",
      "num_cross_pop_edges"
     ],
     "language": "python",
     "metadata": {},
     "outputs": [
      {
       "metadata": {},
       "output_type": "pyout",
       "prompt_number": 25,
       "text": [
        "25000"
       ]
      }
     ],
     "prompt_number": 25
    },
    {
     "cell_type": "code",
     "collapsed": false,
     "input": [
      "# Calculate probability of getting n cross-population edges by random, where n <= num_cross_pop_edges\n",
      "\n",
      "n = 1\n",
      "\n",
      "def prob_cross_pop(a_pop, b_pop, n):\n",
      "    \"\"\"\n",
      "    a_pop = size of population A\n",
      "    b_pop = size of population B\n",
      "    n = number of cross population edges\n",
      "    \"\"\"\n",
      "    if n == 0 or n > a_pop * b_pop:\n",
      "        return 0\n",
      "    else:\n",
      "        total_edges = comb((a_pop + b_pop), 2)\n",
      "        total_cross_pop = a_pop * b_pop\n",
      "\n",
      "        total_probability = 1\n",
      "        for i in range(n):\n",
      "            total_probability = total_probability * ((total_cross_pop - i) / (total_edges - i))\n",
      "\n",
      "        return total_probability\n",
      "\n",
      "\n"
     ],
     "language": "python",
     "metadata": {},
     "outputs": [],
     "prompt_number": 26
    },
    {
     "cell_type": "code",
     "collapsed": false,
     "input": [
      "# Let's simulate \n",
      "a_values = [5, 50]\n",
      "b_values = dict()\n",
      "for a in a_values:\n",
      "    b_values[a] = [a, a * 2, a * 10]\n",
      "    \n",
      "# print(b_values)\n",
      "\n",
      "def num_cross_pop_edges(a_pop, b_pop):\n",
      "    return (a_pop * b_pop)\n",
      "\n",
      "pmfs = dict()\n",
      "for a, b_vals in b_values.items():\n",
      "    for b in b_vals:\n",
      "        pmf = []\n",
      "        for i in range(1, min(num_cross_pop_edges(a, b), 12)):\n",
      "            pmf.append(prob_cross_pop(a, b, i))\n",
      "        \n",
      "        pmfs[(a,b)] = pmf\n",
      "\n",
      "pmfs\n",
      "    "
     ],
     "language": "python",
     "metadata": {},
     "outputs": [
      {
       "metadata": {},
       "output_type": "pyout",
       "prompt_number": 56,
       "text": [
        "{(5, 5): [0.55555555555555558,\n",
        "  0.30303030303030304,\n",
        "  0.1620859760394644,\n",
        "  0.084902177925433739,\n",
        "  0.04348648137644167,\n",
        "  0.021743240688220835,\n",
        "  0.010592860848107587,\n",
        "  0.0050176709280509617,\n",
        "  0.0023054163723477392,\n",
        "  0.0010246294988212174,\n",
        "  0.00043912692806623603],\n",
        " (5, 10): [0.47619047619047616,\n",
        "  0.22435897435897434,\n",
        "  0.10455563853622106,\n",
        "  0.048177598149043037,\n",
        "  0.021942272424316633,\n",
        "  0.0098740225909424856,\n",
        "  0.0043884544848633265,\n",
        "  0.0019255463556032964,\n",
        "  0.00083374172098287067,\n",
        "  0.00035607719333643432,\n",
        "  0.00014992723929955129],\n",
        " (5, 50): [0.16835016835016836,\n",
        "  0.028247433907811269,\n",
        "  0.0047237785631403881,\n",
        "  0.00078729642719006462,\n",
        "  0.0001307730729836299,\n",
        "  2.1648245189857651e-05,\n",
        "  3.5714481584349339e-06,\n",
        "  5.8718667286853107e-07,\n",
        "  9.6207972128764071e-08,\n",
        "  1.5708754256796844e-08,\n",
        "  2.5560006926313507e-09],\n",
        " (50, 50): [0.50505050505050508,\n",
        "  0.25502550255025502,\n",
        "  0.1287497383529784,\n",
        "  0.06498647597885325,\n",
        "  0.032795439555846691,\n",
        "  0.016546940685912535,\n",
        "  0.008347101551510085,\n",
        "  0.0042098572057282296,\n",
        "  0.0021228175145031865,\n",
        "  0.0010702162373259336,\n",
        "  0.00053944097792339566],\n",
        " (50, 100): [0.44742729306487694,\n",
        "  0.20016905656267406,\n",
        "  0.089541299982121625,\n",
        "  0.040049935196085011,\n",
        "  0.017911509823618364,\n",
        "  0.0080096680008033775,\n",
        "  0.0035813664603824933,\n",
        "  0.0016011607035001602,\n",
        "  0.00071576916198377361,\n",
        "  0.00031993586669004247,\n",
        "  0.00014298969769666923],\n",
        " (50, 500): [0.16559032952475575,\n",
        "  0.027419242040280904,\n",
        "  0.0045400582390423584,\n",
        "  0.00075171446229328504,\n",
        "  0.00012446002675668144,\n",
        "  2.0605937396722873e-05,\n",
        "  3.4114606263119677e-06,\n",
        "  5.64772901763387e-07,\n",
        "  9.3495958460263289e-08,\n",
        "  1.5477375686448868e-08,\n",
        "  2.5620482787689679e-09]}"
       ]
      }
     ],
     "prompt_number": 56
    },
    {
     "cell_type": "code",
     "collapsed": false,
     "input": [
      "from itertools import cycle\n",
      "colors = cycle([\"red\", \"blue\", \"green\"])\n",
      "alphas = cycle([1, 1, 1, 0.3, 0.3, 0.3])\n",
      "\n",
      "plt.figure(figsize=(6,6))\n",
      "for (a, b), pmf in sorted(pmfs.items()):\n",
      "#     print((a,b))    \n",
      "    plt.scatter(range(1, len(pmf)+1), pmf, color=colors.next(), alpha=alphas.next(), label=str((a,b)), s=50)\n",
      "\n",
      "plt.legend(fontsize=14)\n",
      "plt.xlabel(\"Number of Cross-Population Edges\", fontsize=20)\n",
      "plt.xticks(range(1,13)[::2], fontsize=14)\n",
      "plt.ylabel(\"Probability\", fontsize=20)\n",
      "plt.yticks(np.arange(0, 0.6, 0.1), fontsize=14)\n",
      "plt.title(\"Cross-Population Edge PMF\", fontsize=20)\n",
      "plt.savefig(\"Randomly Choosing Edges.pdf\")\n"
     ],
     "language": "python",
     "metadata": {},
     "outputs": [
      {
       "metadata": {},
       "output_type": "display_data",
       "png": "[encoded data removed]",
       "text": [
        "<matplotlib.figure.Figure at 0x108a7bc90>"
       ]
      }
     ],
     "prompt_number": 119
    },
    {
     "cell_type": "code",
     "collapsed": false,
     "input": [
      "s = 0\n",
      "# This will define for us the number of edges at which it is really improbable to observe by pure random chance.\n",
      "\n",
      "def threshold_observations(a_pop, b_pop, alpha):\n",
      "    \"\"\"\n",
      "    a_pop: size of population A\n",
      "    b_pop: size of population B\n",
      "    alpha: a value between 0 and 1 depicting an alpha value.\n",
      "    \"\"\"\n",
      "    for i in range(1, a_pop * b_pop):\n",
      "        if (prob(a_pop, b_pop, i)) < alpha:\n",
      "            return i\n",
      "            break"
     ],
     "language": "python",
     "metadata": {},
     "outputs": [],
     "prompt_number": 11
    },
    {
     "cell_type": "code",
     "collapsed": false,
     "input": [
      "# a = 300\n",
      "# b = 400\n",
      "# threshold_observations(a, b, 0.0001)"
     ],
     "language": "python",
     "metadata": {},
     "outputs": [],
     "prompt_number": 12
    },
    {
     "cell_type": "code",
     "collapsed": false,
     "input": [
      "# a_pops = range(1, 51)\n",
      "# b_pops = range(1, 51)\n",
      "# alpha_vals = [10**-x for x in range(1, 10)]\n",
      "\n",
      "# values = []\n",
      "\n",
      "# for alpha_val in alpha_vals:\n",
      "#     for a in a_pops:\n",
      "#         for b in b_pops:\n",
      "#             if threshold_observations(a, b, alpha_val) != None:\n",
      "#                 values.append((alpha_val, a, b, threshold_observations(a, b, alpha_val)))"
     ],
     "language": "python",
     "metadata": {},
     "outputs": [],
     "prompt_number": 20
    },
    {
     "cell_type": "code",
     "collapsed": false,
     "input": [
      "# import matplotlib.pyplot as plt\n",
      "# from mpl_toolkits.mplot3d import Axes3D\n",
      "# %matplotlib inline"
     ],
     "language": "python",
     "metadata": {},
     "outputs": [],
     "prompt_number": 21
    },
    {
     "cell_type": "code",
     "collapsed": false,
     "input": [
      "# for alpha_val in alpha_vals:\n",
      "#     fig = plt.figure()\n",
      "#     ax = fig.add_subplot(111, projection='3d')\n",
      "#     xs = [value[1] for value in values if value[0] == alpha_val]\n",
      "#     ys = [value[2] for value in values if value[0] == alpha_val]\n",
      "#     zs = [value[3] for value in values if value[0] == alpha_val]\n",
      "#     ax.plot_wireframe(xs, ys, zs, alpha=0.5)\n",
      "#     ax.set_zlabel(\"number of edges\")\n",
      "#     ax.set_xlabel(\"size of population A\")\n",
      "#     ax.set_ylabel(\"size of population B\")\n",
      "#     ax.set_title(\"alpha = %s\" % str(alpha_val))\n",
      "#     plt.savefig(\"Alpha = %s.pdf\" % str(alpha_val))"
     ],
     "language": "python",
     "metadata": {},
     "outputs": [],
     "prompt_number": 22
    },
    {
     "cell_type": "code",
     "collapsed": false,
     "input": [
      "# a = 200\n",
      "# b = 100\n",
      "# threshold_observations(a, b, 0.0001)"
     ],
     "language": "python",
     "metadata": {},
     "outputs": [],
     "prompt_number": 23
    },
    {
     "cell_type": "code",
     "collapsed": false,
     "input": [
      "# prob(a,b, 14)"
     ],
     "language": "python",
     "metadata": {},
     "outputs": [],
     "prompt_number": 24
    },
    {
     "cell_type": "code",
     "collapsed": false,
     "input": [
      "iak = 500\n",
      "cal = 210\n",
      "minn = 105\n",
      "\n",
      "lou = 9\n",
      "ohi = 61\n",
      "ili = 68\n",
      "ark = 8\n",
      "man = 2\n",
      "\n",
      "# print(prob(iak, cal, 17))\n",
      "# print(prob(cal, minn, 14))\n",
      "prob_cross_pop(iak, cal, 4)"
     ],
     "language": "python",
     "metadata": {},
     "outputs": [
      {
       "metadata": {},
       "output_type": "pyout",
       "prompt_number": 37,
       "text": [
        "0.030286171630351161"
       ]
      }
     ],
     "prompt_number": 37
    },
    {
     "cell_type": "code",
     "collapsed": false,
     "input": [],
     "language": "python",
     "metadata": {},
     "outputs": []
    }
   ],
   "metadata": {}
  }
 ]
}