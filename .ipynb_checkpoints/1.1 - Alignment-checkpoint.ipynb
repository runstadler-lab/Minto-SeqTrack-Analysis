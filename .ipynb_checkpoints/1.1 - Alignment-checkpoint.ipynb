{
 "cells": [
  {
   "cell_type": "code",
   "execution_count": 1,
   "metadata": {
    "collapsed": false
   },
   "outputs": [],
   "source": [
    "from Bio.Align.Applications import ClustalOmegaCommandline\n",
    "from joblib import Parallel, delayed"
   ]
  },
  {
   "cell_type": "code",
   "execution_count": 2,
   "metadata": {
    "collapsed": false
   },
   "outputs": [
    {
     "data": {
      "text/plain": [
       "[8, 7, 6, 5, 4, 3, 2, 1]"
      ]
     },
     "execution_count": 2,
     "metadata": {},
     "output_type": "execute_result"
    }
   ],
   "source": [
    "segments = range(1, 9)\n",
    "segments.reverse()\n",
    "segments"
   ]
  },
  {
   "cell_type": "code",
   "execution_count": 3,
   "metadata": {
    "collapsed": false
   },
   "outputs": [],
   "source": [
    "def align(segment):\n",
    "    in_file = '1.0 - Split FASTA Files/Segment %s.fasta' % segment\n",
    "    out_file = '1.1 - Aligned FASTA Files/Segment %s Aligned.fasta' % segment\n",
    "    distmat = '1.1 - Distmats/Segment %d Distmat.txt' % segment\n",
    "    \n",
    "    cline = ClustalOmegaCommandline(infile=in_file, \n",
    "                                    outfile=out_file, \n",
    "                                    distmat_out=distmat, \n",
    "                                    distmat_full=True, \n",
    "                                    verbose=True,\n",
    "                                    force=True)\n",
    "    print cline\n",
    "    cline()"
   ]
  },
  {
   "cell_type": "code",
   "execution_count": 4,
   "metadata": {
    "collapsed": false
   },
   "outputs": [
    {
     "name": "stdout",
     "output_type": "stream",
     "text": [
      "clustalo -i \"1.0 - Split FASTA Files/Segment 8.fasta\" --distmat-out \"1.1 - Distmats/Segment 8 Distmat.txt\" --full -o \"1.1 - Aligned FASTA Files/Segment 8 Aligned.fasta\" -v --force\n",
      "clustalo -i \"1.0 - Split FASTA Files/Segment 7.fasta\" --distmat-out \"1.1 - Distmats/Segment 7 Distmat.txt\" --full -o \"1.1 - Aligned FASTA Files/Segment 7 Aligned.fasta\" -v --force\n",
      "clustalo -i \"1.0 - Split FASTA Files/Segment 6.fasta\" --distmat-out \"1.1 - Distmats/Segment 6 Distmat.txt\" --full -o \"1.1 - Aligned FASTA Files/Segment 6 Aligned.fasta\" -v --force\n",
      "clustalo -i \"1.0 - Split FASTA Files/Segment 5.fasta\" --distmat-out \"1.1 - Distmats/Segment 5 Distmat.txt\" --full -o \"1.1 - Aligned FASTA Files/Segment 5 Aligned.fasta\" -v --force\n",
      "clustalo -i \"1.0 - Split FASTA Files/Segment 4.fasta\" --distmat-out \"1.1 - Distmats/Segment 4 Distmat.txt\" --full -o \"1.1 - Aligned FASTA Files/Segment 4 Aligned.fasta\" -v --force\n",
      "clustalo -i \"1.0 - Split FASTA Files/Segment 3.fasta\" --distmat-out \"1.1 - Distmats/Segment 3 Distmat.txt\" --full -o \"1.1 - Aligned FASTA Files/Segment 3 Aligned.fasta\" -v --force\n",
      "clustalo -i \"1.0 - Split FASTA Files/Segment 2.fasta\" --distmat-out \"1.1 - Distmats/Segment 2 Distmat.txt\" --full -o \"1.1 - Aligned FASTA Files/Segment 2 Aligned.fasta\" -v --force\n",
      "clustalo -i \"1.0 - Split FASTA Files/Segment 1.fasta\" --distmat-out \"1.1 - Distmats/Segment 1 Distmat.txt\" --full -o \"1.1 - Aligned FASTA Files/Segment 1 Aligned.fasta\" -v --force\n"
     ]
    },
    {
     "data": {
      "text/plain": [
       "[None, None, None, None, None, None, None, None]"
      ]
     },
     "execution_count": 4,
     "metadata": {},
     "output_type": "execute_result"
    }
   ],
   "source": [
    "Parallel(n_jobs=8)(delayed(align)(segment) for segment in segments)"
   ]
  },
  {
   "cell_type": "code",
   "execution_count": null,
   "metadata": {
    "collapsed": false
   },
   "outputs": [],
   "source": []
  }
 ],
 "metadata": {
  "kernelspec": {
   "display_name": "Python 2",
   "language": "python",
   "name": "python2"
  },
  "language_info": {
   "codemirror_mode": {
    "name": "ipython",
    "version": 2
   },
   "file_extension": ".py",
   "mimetype": "text/x-python",
   "name": "python",
   "nbconvert_exporter": "python",
   "pygments_lexer": "ipython2",
   "version": "2.7.9"
  }
 },
 "nbformat": 4,
 "nbformat_minor": 0
}
