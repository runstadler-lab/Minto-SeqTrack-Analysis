{
 "metadata": {
  "name": "",
  "signature": "sha256:8a3b8cc757de0671df1386b7d59f3163843757f0a4ae4c9ffcd922d78f6cbd21"
 },
 "nbformat": 3,
 "nbformat_minor": 0,
 "worksheets": [
  {
   "cells": [
    {
     "cell_type": "code",
     "collapsed": false,
     "input": [
      "# Given population A of size 3 and population B of size 4, what is the probability of getting n cross-population edges?\n",
      "\n",
      "import numpy as np\n",
      "from __future__ import division\n",
      "from math import log, log10\n",
      "\n",
      "import matplotlib.pyplot as plt\n",
      "\n",
      "% matplotlib inline\n",
      "\n",
      "a = 5\n",
      "b = 5\n",
      "\n",
      "total_edges = np.sum([i for i in range(sum([a, b]))])\n",
      "total_edges"
     ],
     "language": "python",
     "metadata": {},
     "outputs": [
      {
       "metadata": {},
       "output_type": "pyout",
       "prompt_number": 1,
       "text": [
        "45"
       ]
      }
     ],
     "prompt_number": 1
    },
    {
     "cell_type": "code",
     "collapsed": false,
     "input": [
      "num_cross_pop_edges = a * b\n",
      "num_cross_pop_edges"
     ],
     "language": "python",
     "metadata": {},
     "outputs": [
      {
       "metadata": {},
       "output_type": "pyout",
       "prompt_number": 2,
       "text": [
        "25"
       ]
      }
     ],
     "prompt_number": 2
    },
    {
     "cell_type": "code",
     "collapsed": false,
     "input": [
      "# Calculate probability of getting n cross-population edges by random, where n <= num_cross_pop_edges\n",
      "\n",
      "n = 1\n",
      "\n",
      "def prob_cross_pop(a_pop, b_pop, n):\n",
      "    \"\"\"\n",
      "    a_pop = size of population A\n",
      "    b_pop = size of population B\n",
      "    n = number of cross population edges\n",
      "    \"\"\"\n",
      "    if n == 0 or n > a_pop * b_pop:\n",
      "        return 0\n",
      "    else:\n",
      "        total_edges = np.sum([i for i in range(sum([a_pop, b_pop]))])\n",
      "        total_cross_pop = a_pop * b_pop\n",
      "\n",
      "        total_probability = 1\n",
      "        for i in range(n):\n",
      "            total_probability = total_probability * ((total_cross_pop - i) / (total_edges - i))\n",
      "\n",
      "        return total_probability\n",
      "\n",
      "\n"
     ],
     "language": "python",
     "metadata": {},
     "outputs": [],
     "prompt_number": 15
    },
    {
     "cell_type": "code",
     "collapsed": false,
     "input": [
      "# pmf = []\n",
      "# for i in range(1, num_cross_pop_edges):\n",
      "#     pmf.append(prob(a, b, i))"
     ],
     "language": "python",
     "metadata": {},
     "outputs": [],
     "prompt_number": 16
    },
    {
     "cell_type": "code",
     "collapsed": false,
     "input": [
      "# plt.scatter(range(len(pmf)), pmf)"
     ],
     "language": "python",
     "metadata": {},
     "outputs": [],
     "prompt_number": 17
    },
    {
     "cell_type": "code",
     "collapsed": false,
     "input": [
      "s = 0\n",
      "# This will define for us the number of edges at which it is really improbable to observe by pure random chance.\n",
      "\n",
      "def threshold_observations(a_pop, b_pop, alpha):\n",
      "    \"\"\"\n",
      "    a_pop: size of population A\n",
      "    b_pop: size of population B\n",
      "    alpha: a value between 0 and 1 depicting an alpha value.\n",
      "    \"\"\"\n",
      "    for i in range(1, a_pop * b_pop):\n",
      "        if (prob(a_pop, b_pop, i)) < alpha:\n",
      "            return i\n",
      "            break"
     ],
     "language": "python",
     "metadata": {},
     "outputs": [],
     "prompt_number": 18
    },
    {
     "cell_type": "code",
     "collapsed": false,
     "input": [
      "# a = 300\n",
      "# b = 400\n",
      "# threshold_observations(a, b, 0.0001)"
     ],
     "language": "python",
     "metadata": {},
     "outputs": [],
     "prompt_number": 19
    },
    {
     "cell_type": "code",
     "collapsed": false,
     "input": [
      "# a_pops = range(1, 51)\n",
      "# b_pops = range(1, 51)\n",
      "# alpha_vals = [10**-x for x in range(1, 10)]\n",
      "\n",
      "# values = []\n",
      "\n",
      "# for alpha_val in alpha_vals:\n",
      "#     for a in a_pops:\n",
      "#         for b in b_pops:\n",
      "#             if threshold_observations(a, b, alpha_val) != None:\n",
      "#                 values.append((alpha_val, a, b, threshold_observations(a, b, alpha_val)))"
     ],
     "language": "python",
     "metadata": {},
     "outputs": [],
     "prompt_number": 20
    },
    {
     "cell_type": "code",
     "collapsed": false,
     "input": [
      "# import matplotlib.pyplot as plt\n",
      "# from mpl_toolkits.mplot3d import Axes3D\n",
      "# %matplotlib inline"
     ],
     "language": "python",
     "metadata": {},
     "outputs": [],
     "prompt_number": 21
    },
    {
     "cell_type": "code",
     "collapsed": false,
     "input": [
      "# for alpha_val in alpha_vals:\n",
      "#     fig = plt.figure()\n",
      "#     ax = fig.add_subplot(111, projection='3d')\n",
      "#     xs = [value[1] for value in values if value[0] == alpha_val]\n",
      "#     ys = [value[2] for value in values if value[0] == alpha_val]\n",
      "#     zs = [value[3] for value in values if value[0] == alpha_val]\n",
      "#     ax.plot_wireframe(xs, ys, zs, alpha=0.5)\n",
      "#     ax.set_zlabel(\"number of edges\")\n",
      "#     ax.set_xlabel(\"size of population A\")\n",
      "#     ax.set_ylabel(\"size of population B\")\n",
      "#     ax.set_title(\"alpha = %s\" % str(alpha_val))\n",
      "#     plt.savefig(\"Alpha = %s.pdf\" % str(alpha_val))"
     ],
     "language": "python",
     "metadata": {},
     "outputs": [],
     "prompt_number": 22
    },
    {
     "cell_type": "code",
     "collapsed": false,
     "input": [
      "# a = 200\n",
      "# b = 100\n",
      "# threshold_observations(a, b, 0.0001)"
     ],
     "language": "python",
     "metadata": {},
     "outputs": [],
     "prompt_number": 23
    },
    {
     "cell_type": "code",
     "collapsed": false,
     "input": [
      "# prob(a,b, 14)"
     ],
     "language": "python",
     "metadata": {},
     "outputs": [],
     "prompt_number": 24
    },
    {
     "cell_type": "code",
     "collapsed": false,
     "input": [
      "iak = 500\n",
      "cal = 210\n",
      "minn = 105\n",
      "\n",
      "lou = 9\n",
      "ohi = 61\n",
      "ili = 68\n",
      "ark = 8\n",
      "man = 2\n",
      "\n",
      "# print(prob(iak, cal, 17))\n",
      "# print(prob(cal, minn, 14))\n",
      "prob_cross_pop(iak, cal, 4)"
     ],
     "language": "python",
     "metadata": {},
     "outputs": [
      {
       "metadata": {},
       "output_type": "pyout",
       "prompt_number": 37,
       "text": [
        "0.030286171630351161"
       ]
      }
     ],
     "prompt_number": 37
    },
    {
     "cell_type": "code",
     "collapsed": false,
     "input": [],
     "language": "python",
     "metadata": {},
     "outputs": []
    }
   ],
   "metadata": {}
  }
 ]
}