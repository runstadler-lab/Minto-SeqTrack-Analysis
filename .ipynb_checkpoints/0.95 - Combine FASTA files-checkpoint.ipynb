{
 "metadata": {
  "name": "",
  "signature": "sha256:ad57293e6c9b00c05342144fa4fedd478222fbc83874fb31737b1d931943d6ac"
 },
 "nbformat": 3,
 "nbformat_minor": 0,
 "worksheets": [
  {
   "cells": [
    {
     "cell_type": "code",
     "collapsed": false,
     "input": [
      "from Bio import SeqIO"
     ],
     "language": "python",
     "metadata": {},
     "outputs": [],
     "prompt_number": 1
    },
    {
     "cell_type": "code",
     "collapsed": false,
     "input": [
      "america = SeqIO.to_dict(SeqIO.parse('Raw Data/20140206 Minto Plus America.fasta', 'fasta'))\n",
      "print len(america)\n",
      "minto1 = SeqIO.to_dict(SeqIO.parse('Raw Data/20140206 Minto Flats IRD Isolates.fasta', 'fasta'))\n",
      "minto2 = SeqIO.to_dict(SeqIO.parse('Raw Data/20140206 Minto Flats IRD Leftover Sequences.fasta', 'fasta'))"
     ],
     "language": "python",
     "metadata": {},
     "outputs": [
      {
       "output_type": "stream",
       "stream": "stdout",
       "text": [
        "30048\n"
       ]
      }
     ],
     "prompt_number": 2
    },
    {
     "cell_type": "code",
     "collapsed": false,
     "input": [
      "for key in minto1:\n",
      "    if key not in america.keys():\n",
      "        america[key] = minto1[key]\n",
      "        \n",
      "for key in minto2:\n",
      "    if key not in america.keys():\n",
      "        america[key] = minto2[key]"
     ],
     "language": "python",
     "metadata": {},
     "outputs": [],
     "prompt_number": 3
    },
    {
     "cell_type": "code",
     "collapsed": false,
     "input": [
      "len(america)"
     ],
     "language": "python",
     "metadata": {},
     "outputs": [
      {
       "metadata": {},
       "output_type": "pyout",
       "prompt_number": 4,
       "text": [
        "31403"
       ]
      }
     ],
     "prompt_number": 4
    },
    {
     "cell_type": "code",
     "collapsed": false,
     "input": [
      "americalist = [america[key] for key in america]\n",
      "len(americalist)"
     ],
     "language": "python",
     "metadata": {},
     "outputs": [
      {
       "metadata": {},
       "output_type": "pyout",
       "prompt_number": 5,
       "text": [
        "31403"
       ]
      }
     ],
     "prompt_number": 5
    },
    {
     "cell_type": "code",
     "collapsed": false,
     "input": [
      "SeqIO.write(americalist, 'Raw Data/20140211 Minto Plus America Combined.fasta', 'fasta')"
     ],
     "language": "python",
     "metadata": {},
     "outputs": [
      {
       "metadata": {},
       "output_type": "pyout",
       "prompt_number": 6,
       "text": [
        "31403"
       ]
      }
     ],
     "prompt_number": 6
    },
    {
     "cell_type": "code",
     "collapsed": false,
     "input": [],
     "language": "python",
     "metadata": {},
     "outputs": [],
     "prompt_number": 6
    }
   ],
   "metadata": {}
  }
 ]
}