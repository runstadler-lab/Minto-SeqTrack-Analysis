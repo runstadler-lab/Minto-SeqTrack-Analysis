{
 "metadata": {
  "name": "",
  "signature": "sha256:11ef5184e5b2c6e896cefeab793bae65fd26937af7f31898a08a817a8729f52d"
 },
 "nbformat": 3,
 "nbformat_minor": 0,
 "worksheets": [
  {
   "cells": [
    {
     "cell_type": "code",
     "collapsed": false,
     "input": [
      "from Bio import SeqIO"
     ],
     "language": "python",
     "metadata": {},
     "outputs": [],
     "prompt_number": 13
    },
    {
     "cell_type": "code",
     "collapsed": false,
     "input": [
      "america = SeqIO.to_dict(SeqIO.parse('Raw Data/20140206 Minto Plus America.fasta', 'fasta'))\n",
      "print len(america)\n",
      "minto1 = SeqIO.to_dict(SeqIO.parse('Raw Data/20140206 Minto Flats IRD Isolates.fasta', 'fasta'))\n",
      "minto2 = SeqIO.to_dict(SeqIO.parse('Raw Data/20140206 Minto Flats IRD Leftover Sequences.fasta', 'fasta'))"
     ],
     "language": "python",
     "metadata": {},
     "outputs": [
      {
       "output_type": "stream",
       "stream": "stdout",
       "text": [
        "30048\n"
       ]
      }
     ],
     "prompt_number": 14
    },
    {
     "cell_type": "code",
     "collapsed": false,
     "input": [
      "for key in minto1:\n",
      "    if key not in america.keys():\n",
      "        america[key] = minto1[key]\n",
      "        \n",
      "for key in minto2:\n",
      "    if key not in america.keys():\n",
      "        america[key] = minto2[key]"
     ],
     "language": "python",
     "metadata": {},
     "outputs": [],
     "prompt_number": 15
    },
    {
     "cell_type": "code",
     "collapsed": false,
     "input": [
      "len(america)"
     ],
     "language": "python",
     "metadata": {},
     "outputs": [
      {
       "metadata": {},
       "output_type": "pyout",
       "prompt_number": 16,
       "text": [
        "31403"
       ]
      }
     ],
     "prompt_number": 16
    },
    {
     "cell_type": "code",
     "collapsed": false,
     "input": [
      "americalist = [america[key] for key in america]\n",
      "len(americalist)"
     ],
     "language": "python",
     "metadata": {},
     "outputs": [
      {
       "metadata": {},
       "output_type": "pyout",
       "prompt_number": 17,
       "text": [
        "31403"
       ]
      }
     ],
     "prompt_number": 17
    },
    {
     "cell_type": "code",
     "collapsed": false,
     "input": [
      "SeqIO.write(americalist, 'Raw Data/20140211 Minto Plus America Combined.fasta', 'fasta')"
     ],
     "language": "python",
     "metadata": {},
     "outputs": [
      {
       "metadata": {},
       "output_type": "pyout",
       "prompt_number": 18,
       "text": [
        "31403"
       ]
      }
     ],
     "prompt_number": 18
    },
    {
     "cell_type": "code",
     "collapsed": false,
     "input": [],
     "language": "python",
     "metadata": {},
     "outputs": [],
     "prompt_number": 6
    }
   ],
   "metadata": {}
  }
 ]
}